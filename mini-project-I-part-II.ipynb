{
 "cells": [
  {
   "cell_type": "markdown",
   "metadata": {},
   "source": [
    "## Movies\n",
    "In this part of mini-project, we need to have our API-KEY ready because this API won't work without it.\n",
    "\n",
    "We encourage you to look for correct endpoints in [the documentation](https://developers.themoviedb.org/3/account). We can also play around with requests there before copying them to Python."
   ]
  },
  {
   "cell_type": "code",
   "execution_count": 1,
   "metadata": {},
   "outputs": [],
   "source": [
    "import requests\n",
    "from IPython.display import JSON\n",
    "from config import tmbd\n",
    "\n",
    "api_key = tmbd[\"api_key\"]"
   ]
  },
  {
   "cell_type": "markdown",
   "metadata": {},
   "source": [
    "## Demo"
   ]
  },
  {
   "cell_type": "code",
   "execution_count": 2,
   "metadata": {},
   "outputs": [],
   "source": [
    "base = \"https://api.themoviedb.org/3\"\n",
    "url = \"/search/movie\"\n",
    "\n",
    "query = 'titanic'\n",
    "api_key = tmbd[\"api_key\"]\n",
    "params = f'?query={query}&api_key={api_key}' "
   ]
  },
  {
   "cell_type": "code",
   "execution_count": 3,
   "metadata": {},
   "outputs": [],
   "source": [
    "res = requests.get(base+url+params)"
   ]
  },
  {
   "cell_type": "code",
   "execution_count": 4,
   "metadata": {},
   "outputs": [
    {
     "data": {
      "text/plain": [
       "200"
      ]
     },
     "execution_count": 4,
     "metadata": {},
     "output_type": "execute_result"
    }
   ],
   "source": [
    "res.status_code"
   ]
  },
  {
   "cell_type": "code",
   "execution_count": 5,
   "metadata": {},
   "outputs": [
    {
     "data": {
      "text/plain": [
       "{'page': 1,\n",
       " 'results': [{'adult': False,\n",
       "   'backdrop_path': '/6VmFqApQRyZZzmiGOQq2C92jyvH.jpg',\n",
       "   'genre_ids': [18, 10749],\n",
       "   'id': 597,\n",
       "   'original_language': 'en',\n",
       "   'original_title': 'Titanic',\n",
       "   'overview': \"101-year-old Rose DeWitt Bukater tells the story of her life aboard the Titanic, 84 years later. A young Rose boards the ship with her mother and fiancé. Meanwhile, Jack Dawson and Fabrizio De Rossi win third-class tickets aboard the ship. Rose tells the whole story from Titanic's departure through to its death—on its first and last voyage—on April 15, 1912.\",\n",
       "   'popularity': 135.798,\n",
       "   'poster_path': '/9xjZS2rlVxm8SFx8kPC3aIGCOYQ.jpg',\n",
       "   'release_date': '1997-11-18',\n",
       "   'title': 'Titanic',\n",
       "   'video': False,\n",
       "   'vote_average': 7.9,\n",
       "   'vote_count': 19629},\n",
       "  {'adult': False,\n",
       "   'backdrop_path': '/e9XRikkyth0GtG8RkU3XNm0oMsA.jpg',\n",
       "   'genre_ids': [28, 12, 53],\n",
       "   'id': 44918,\n",
       "   'original_language': 'en',\n",
       "   'original_title': 'Titanic II',\n",
       "   'overview': 'On the 100th anniversary of the original voyage, a modern luxury liner christened \"Titanic 2,\" follows the path of its namesake. But when a tsunami hurls an ice berg into the new ship\\'s path, the passengers and crew must fight to avoid a similar fate.',\n",
       "   'popularity': 67.969,\n",
       "   'poster_path': '/3bhv6sf3Q8D3tbUvtPCCh3vdYyA.jpg',\n",
       "   'release_date': '2010-08-07',\n",
       "   'title': 'Titanic II',\n",
       "   'video': False,\n",
       "   'vote_average': 4.8,\n",
       "   'vote_count': 254},\n",
       "  {'adult': False,\n",
       "   'backdrop_path': '/3oShsRvAyZiQQ5lP2hszWN9Ri0b.jpg',\n",
       "   'genre_ids': [28, 18, 10749],\n",
       "   'id': 16535,\n",
       "   'original_language': 'en',\n",
       "   'original_title': 'Titanic',\n",
       "   'overview': 'Unhappily married, Julia Sturges decides to go to America with her two children on the unsinkable Titanic. Her husband, Richard also arranges passage on the luxury liner so as to have custody of their two children. All this fades to insignificance once the ship hits an iceberg.',\n",
       "   'popularity': 22.901,\n",
       "   'poster_path': '/22Fh4UoxP6ejL2IFws76TJ8oYlj.jpg',\n",
       "   'release_date': '1953-04-11',\n",
       "   'title': 'Titanic',\n",
       "   'video': False,\n",
       "   'vote_average': 6.4,\n",
       "   'vote_count': 76},\n",
       "  {'adult': False,\n",
       "   'backdrop_path': '/82tRA7Vdf7TwdyJYILUh6FuY88L.jpg',\n",
       "   'genre_ids': [99],\n",
       "   'id': 198901,\n",
       "   'original_language': 'en',\n",
       "   'original_title': 'Titanic: 100 Years On',\n",
       "   'overview': 'The \"unsinkable\" floating palace set sail from Southampton on 10th April 1912 on her maiden voyage to New York. An iceberg ended this monumental journey 5 days later. Only 705 of the passengers and crew survived. This program features an exclusive look at the Sea City Museum Titanic Exhibit in Southampton, interviews from both survivors and the cast of the blockbuster film.',\n",
       "   'popularity': 45.099,\n",
       "   'poster_path': '/uAaXfaJpKjmsA3F1KgowcRJPKPM.jpg',\n",
       "   'release_date': '2012-06-01',\n",
       "   'title': 'Titanic: 100 Years On',\n",
       "   'video': False,\n",
       "   'vote_average': 7,\n",
       "   'vote_count': 17},\n",
       "  {'adult': False,\n",
       "   'backdrop_path': '/edHgXEtPbyVIQ7xKb1cvJJqTVhA.jpg',\n",
       "   'genre_ids': [28, 18, 36],\n",
       "   'id': 11021,\n",
       "   'original_language': 'de',\n",
       "   'original_title': 'Titanic',\n",
       "   'overview': \"This little-known German film retells the true story of the British ocean liner that met a tragic fate. Ernst Fritz Fürbringer plays the president of the White Star Line, who unwisely pressed the Titanic's captain (Otto Wernicke) to make the swiftest possible crossing to New York. Interestingly, director Herbert Selpin was arrested by the Gestapo during this film's production, and German censors banned the film for its scenes of panic and terror.\",\n",
       "   'popularity': 6.664,\n",
       "   'poster_path': '/Al7oIXQ4dZAofBTZWm6OiXS3MEa.jpg',\n",
       "   'release_date': '1943-11-10',\n",
       "   'title': 'Titanic',\n",
       "   'video': False,\n",
       "   'vote_average': 6,\n",
       "   'vote_count': 42},\n",
       "  {'adult': False,\n",
       "   'backdrop_path': '/q3b8Vi2W6j72aXKggiVoDnEyDgU.jpg',\n",
       "   'genre_ids': [12],\n",
       "   'id': 24575,\n",
       "   'original_language': 'en',\n",
       "   'original_title': 'Raise the Titanic',\n",
       "   'overview': 'To obtain a supply of a rare mineral, a ship raising operation is conducted for the only known source, the Titanic.',\n",
       "   'popularity': 12.49,\n",
       "   'poster_path': '/beYNLj44FOdV47tomXuJyPkvCKl.jpg',\n",
       "   'release_date': '1980-08-01',\n",
       "   'title': 'Raise the Titanic',\n",
       "   'video': False,\n",
       "   'vote_average': 5.6,\n",
       "   'vote_count': 56},\n",
       "  {'adult': False,\n",
       "   'backdrop_path': '/xSssW53a2s2euCdyI4aEpzyZfb1.jpg',\n",
       "   'genre_ids': [878, 28, 12, 35],\n",
       "   'id': 467839,\n",
       "   'original_language': 'en',\n",
       "   'original_title': 'Aliens vs. Titanic',\n",
       "   'overview': 'Offering only the finest amenities, the ‘TITAN 1C’ space-cruiser is considered the most luxurious star-liner ever built. Future spring-breakers on board are excited to be touring through space with some of the world’s elite. However, a sudden meteor storm smashes into the hull, and a deadly biological alien life form is let loose on the ship.  Seeking a suitable host, the retrovirus successfully merges with some the passengers, transforming them into seemingly invincible predators with the “touch of death”. As the ship is destroyed, the surviving passengers crash on a remote planet, and they learn that one of them is “infected”. They must quickly band together before it has a chance to slaughter them all.',\n",
       "   'popularity': 8.869,\n",
       "   'poster_path': '/blREOd05hyvbiA3Qc6BqCJ7unvC.jpg',\n",
       "   'release_date': '2017-09-18',\n",
       "   'title': 'Aliens vs. Titanic',\n",
       "   'video': False,\n",
       "   'vote_average': 4.9,\n",
       "   'vote_count': 12},\n",
       "  {'adult': False,\n",
       "   'backdrop_path': None,\n",
       "   'genre_ids': [35, 27],\n",
       "   'id': 4240,\n",
       "   'original_language': 'en',\n",
       "   'original_title': 'Titanic 2000',\n",
       "   'overview': 'The luxury liner Titanic 2000 has set sail on its maiden voyage, and one of the passengers is the vampire Vladamina. Vladamina is searching for a woman she can turn into a vampire queen, and frustrated rock groupie Shari looks to be a perfect target. As various people get seduced and/or killed as the liner continues on its doomed voyage, Shari must chose between eternity as a living dead sex slave or a frigid grave at the bottom of the ocean.',\n",
       "   'popularity': 6.987,\n",
       "   'poster_path': '/w8KzGphSGIDcUhHmdRbqxYXI8ke.jpg',\n",
       "   'release_date': '1999-01-01',\n",
       "   'title': 'Titanic 2000',\n",
       "   'video': False,\n",
       "   'vote_average': 3.4,\n",
       "   'vote_count': 8},\n",
       "  {'adult': False,\n",
       "   'backdrop_path': '/sdtfwZulErbQ7y9RVbaOuWVouD6.jpg',\n",
       "   'genre_ids': [36, 18, 53],\n",
       "   'id': 86938,\n",
       "   'original_language': 'en',\n",
       "   'original_title': 'S.O.S. Titanic',\n",
       "   'overview': 'The Titanic disaster is depicted as seen through the eyes of one couple in each of the three classes on board.',\n",
       "   'popularity': 6.401,\n",
       "   'poster_path': '/wy5ut2GVpPaNxxXFRdkIywjRpeO.jpg',\n",
       "   'release_date': '1979-09-23',\n",
       "   'title': 'S.O.S. Titanic',\n",
       "   'video': False,\n",
       "   'vote_average': 6.2,\n",
       "   'vote_count': 24},\n",
       "  {'adult': False,\n",
       "   'backdrop_path': None,\n",
       "   'genre_ids': [99, 36],\n",
       "   'id': 530108,\n",
       "   'original_language': 'en',\n",
       "   'original_title': 'The Unsinkable Titanic',\n",
       "   'overview': 'On April 10, 1912, the RMS Titanic embarked on its maiden voyage, sailing from Southampton, England, to New York City. One of the largest and most luxurious passenger liners at the time, the Titanic was also equipped with watertight compartments, which led many to consider the ship unsinkable; an anonymous deckhand famously claimed that “God himself could not sink this ship.” On April 14, however, the ship struck an iceberg, and early the next day it sank. Some 1,500 people perished.',\n",
       "   'popularity': 6.48,\n",
       "   'poster_path': '/m3py1JoOPM3s3RTRv965tMC8Fqy.jpg',\n",
       "   'release_date': '2008-11-03',\n",
       "   'title': 'The Unsinkable Titanic',\n",
       "   'video': False,\n",
       "   'vote_average': 9,\n",
       "   'vote_count': 1},\n",
       "  {'adult': False,\n",
       "   'backdrop_path': '/hDfaa3Nj3K3SkXBr8eALYfPT5pF.jpg',\n",
       "   'genre_ids': [99],\n",
       "   'id': 428950,\n",
       "   'original_language': 'en',\n",
       "   'original_title': 'Drain the Titanic',\n",
       "   'overview': \"Computer-generated imagery and other visualization techniques reveal how it would look if all the water was removed from RMS Titanic's final resting place.\",\n",
       "   'popularity': 4.535,\n",
       "   'poster_path': '/68Fppsnpc3OmQK8kIustffrxHbq.jpg',\n",
       "   'release_date': '2016-05-05',\n",
       "   'title': 'Drain the Titanic',\n",
       "   'video': False,\n",
       "   'vote_average': 7.3,\n",
       "   'vote_count': 10},\n",
       "  {'adult': False,\n",
       "   'backdrop_path': '/4Sddw1BFQFHOIQZ3DY7QS0mGnVe.jpg',\n",
       "   'genre_ids': [16, 10751],\n",
       "   'id': 71235,\n",
       "   'original_language': 'it',\n",
       "   'original_title': 'Titanic: La leggenda continua',\n",
       "   'overview': 'An animated retelling of the worst passenger ship disaster in history. In this version, love blossoms between the upper-class Sir William and the blue-collar Angelica, who is hoping to find romance in America. At the same time, there are also a number of animal passengers, including talking dogs, cats and mice, who are also looking forward to arriving in the New World.',\n",
       "   'popularity': 5.229,\n",
       "   'poster_path': '/s1PHRSlos2hIFrtA8Ze0JybJTGb.jpg',\n",
       "   'release_date': '2000-09-15',\n",
       "   'title': 'Titanic: The Legend Goes On...',\n",
       "   'video': False,\n",
       "   'vote_average': 2.1,\n",
       "   'vote_count': 44},\n",
       "  {'adult': False,\n",
       "   'backdrop_path': None,\n",
       "   'genre_ids': [16, 10751],\n",
       "   'id': 44310,\n",
       "   'original_language': 'it',\n",
       "   'original_title': 'La leggenda del Titanic',\n",
       "   'overview': 'Old Grandpa mouse tells to his grandchildren the \"real\" story of the Titanic disaster, including evil sharks, a giant octopus, and an evil whaling scheme.',\n",
       "   'popularity': 2.701,\n",
       "   'poster_path': '/72ITKkdanAMTeXczHPSPTT2lvf6.jpg',\n",
       "   'release_date': '1999-01-01',\n",
       "   'title': 'The Legend of the Titanic',\n",
       "   'video': False,\n",
       "   'vote_average': 3.2,\n",
       "   'vote_count': 30},\n",
       "  {'adult': False,\n",
       "   'backdrop_path': None,\n",
       "   'genre_ids': [99],\n",
       "   'id': 421657,\n",
       "   'original_language': 'en',\n",
       "   'original_title': 'Inside the Titanic',\n",
       "   'overview': 'An ambitious factual drama that reveals moment by moment exactly how the Titanic sank, telling the untold stories of the engineers and stokers who battled the icy water.',\n",
       "   'popularity': 4.058,\n",
       "   'poster_path': '/jDHeorRWLuzyXSUGVX47OSdWvVM.jpg',\n",
       "   'release_date': '2012-03-22',\n",
       "   'title': 'Inside the Titanic',\n",
       "   'video': False,\n",
       "   'vote_average': 7.5,\n",
       "   'vote_count': 2},\n",
       "  {'adult': False,\n",
       "   'backdrop_path': None,\n",
       "   'genre_ids': [],\n",
       "   'id': 760524,\n",
       "   'original_language': 'en',\n",
       "   'original_title': 'Titanic',\n",
       "   'overview': '\"Titanic\" is a Punjabi feature film. It is family movie. \"Titanic\" is based on a young boy\\'s life whose dreams are so high. He wants to join Indian Navy. Unfortunately his life completely changed due to week financial conditions at home. He starts his work at low level driving of Autoriksha. He works so hard and he faces many obstacles in this work. At the end he accepted that his vehicle is submarine for him.',\n",
       "   'popularity': 2.116,\n",
       "   'poster_path': None,\n",
       "   'release_date': '2018-12-21',\n",
       "   'title': 'Titanic',\n",
       "   'video': False,\n",
       "   'vote_average': 0,\n",
       "   'vote_count': 0},\n",
       "  {'adult': False,\n",
       "   'backdrop_path': '/v6kUC2dsDwSfhwCWdAgldXB7Knu.jpg',\n",
       "   'genre_ids': [99, 18, 10770],\n",
       "   'id': 102370,\n",
       "   'original_language': 'en',\n",
       "   'original_title': 'Saving the Titanic',\n",
       "   'overview': \"In the hours after the Titanic struck an iceberg 100 years ago, a team of shipbuilders and engineers raced against time to save the stricken vessel.  Based on eye-witness accounts, this film reveals what went on below decks in the hours before the Titanic sank, telling the previously relatively unheralded stories of engineers who fought courageously to hold back the power of the sea and keep the power systems running, even when they learned that all was lost.  Most of these men died but their actions bought enough time to save many lives.  This drama-documentary tells a poignant story of self-sacrifice by the Titanic's engineers, stokers and firemen in the face of impending death.\",\n",
       "   'popularity': 1.824,\n",
       "   'poster_path': '/gei8kg0KouyPJKUmxDwTNSnBUTV.jpg',\n",
       "   'release_date': '2012-04-15',\n",
       "   'title': 'Saving the Titanic',\n",
       "   'video': False,\n",
       "   'vote_average': 7.3,\n",
       "   'vote_count': 6},\n",
       "  {'adult': False,\n",
       "   'backdrop_path': None,\n",
       "   'genre_ids': [10770, 99],\n",
       "   'id': 463397,\n",
       "   'original_language': 'en',\n",
       "   'original_title': 'Nazi Titanic',\n",
       "   'overview': 'During a bizarre chapter of WWII, Nazi propaganda minister Joseph Goebbels decided to make a movie based on the sinking of the Titanic. This epic film was so large in scale that the Nazis were forced to divert men, material and ships from the war effort in order to complete it. Titanic was filmed aboard cruise ship SS Cap Arcona in the Baltic Sea. The movie’s director Herbert Selpin was arrested by the Gestapo over comments he made about the ship’s crew and he was questioned by Goebbels. Selpin was found dead the next day in his cell. The Gestapo’s verdict was suicide. Titanic never received the impressive premiere that Goebbels intended, being first shown in Nazi-occupied Paris in 1943. We reveal this little known but fascinating story by looking at the making of the film, as well as the fate of the German ship Cap Arcona.',\n",
       "   'popularity': 1.984,\n",
       "   'poster_path': '/pmCnVAP0dQumyDMgCnzEgnpMt1g.jpg',\n",
       "   'release_date': '2012-04-14',\n",
       "   'title': 'Nazi Titanic',\n",
       "   'video': False,\n",
       "   'vote_average': 7,\n",
       "   'vote_count': 3},\n",
       "  {'adult': False,\n",
       "   'backdrop_path': '/djFWCethTNYz5WPqIso6IVXTtFU.jpg',\n",
       "   'genre_ids': [10749, 18],\n",
       "   'id': 115872,\n",
       "   'original_language': 'fr',\n",
       "   'original_title': 'La femme de chambre du Titanic',\n",
       "   'overview': 'Horty, a French foundry worker, wins a contest and is sent to see the sailing of the Titanic. In England, Marie, saying she is a chambermaid on the Titanic and cannot get a room, asks to share his room. They do, chastely; when he awakens, she is gone, but he sees her at the sailing and gets a photo of her. When he returns home, he suspects that his wife Zoe has been sleeping with Simeon, the foundry owner. Horty goes to the bar, where his friends get him drunk and he starts telling an erotic fantasy of what happened with him and Marie, drawing a larger audience each night.',\n",
       "   'popularity': 3.899,\n",
       "   'poster_path': '/mMPED3zn786jkID7TWtLPt3WMyR.jpg',\n",
       "   'release_date': '1997-10-10',\n",
       "   'title': 'The Chambermaid on the Titanic',\n",
       "   'video': False,\n",
       "   'vote_average': 6.1,\n",
       "   'vote_count': 16},\n",
       "  {'adult': False,\n",
       "   'backdrop_path': None,\n",
       "   'genre_ids': [35],\n",
       "   'id': 428615,\n",
       "   'original_language': 'ro',\n",
       "   'original_title': 'Titanic vals',\n",
       "   'overview': 'Based on a play by Tudor Mușatescu, Titanic Vals is the essence of Romanian genius in comedy, with amazing performances and the beautiful absurd of the quotidian.',\n",
       "   'popularity': 0.992,\n",
       "   'poster_path': '/ezr00Sm1H6Qlq7hRrUZQ9IP7PF3.jpg',\n",
       "   'release_date': '1964-12-02',\n",
       "   'title': 'Titanic Waltz',\n",
       "   'video': True,\n",
       "   'vote_average': 7,\n",
       "   'vote_count': 4},\n",
       "  {'adult': False,\n",
       "   'backdrop_path': '/mEoU71g0SjTDEiMTyRj1bV2EfIp.jpg',\n",
       "   'genre_ids': [99],\n",
       "   'id': 213362,\n",
       "   'original_language': 'en',\n",
       "   'original_title': 'Reflections on Titanic',\n",
       "   'overview': \"An enthralling and fast-paced four-part documentary feature that covers the making of one of the last major Hollywood epics; Titanic. Cast and crew speak on setting the sinking of the ship against a classic romance. The feature also examines casting and the young couple headlining the film, DiCaprio's and Winslet's on-set friendship and their differing acting styles, the expansive sets and filming locations, the authenticity of the recreated ship, James Cameron's work and dedication, and budgeting. And many more aspects of the film are overviewed.\",\n",
       "   'popularity': 2.698,\n",
       "   'poster_path': None,\n",
       "   'release_date': '2012-09-10',\n",
       "   'title': 'Reflections on Titanic',\n",
       "   'video': False,\n",
       "   'vote_average': 7.3,\n",
       "   'vote_count': 18}],\n",
       " 'total_pages': 7,\n",
       " 'total_results': 134}"
      ]
     },
     "execution_count": 5,
     "metadata": {},
     "output_type": "execute_result"
    }
   ],
   "source": [
    "res.json()"
   ]
  },
  {
   "cell_type": "code",
   "execution_count": null,
   "metadata": {},
   "outputs": [],
   "source": []
  },
  {
   "cell_type": "code",
   "execution_count": null,
   "metadata": {},
   "outputs": [],
   "source": []
  },
  {
   "cell_type": "markdown",
   "metadata": {},
   "source": [
    "## Task\n",
    "Search for you favorite movie and return the information about the movie:\n",
    "- name\n",
    "- release date\n",
    "- runtime\n",
    "- revenue\n",
    "- length of the overview\n",
    "- number of votes\n",
    "- voting average"
   ]
  },
  {
   "cell_type": "code",
   "execution_count": 6,
   "metadata": {},
   "outputs": [],
   "source": [
    "def get_data_tmbd(url, query, api_key):\n",
    "    base = \"https://api.themoviedb.org/3\"\n",
    "    endpoint = base + url\n",
    "    params = f'?query={query}&api_key={api_key}'\n",
    "    response = requests.get(endpoint+params)\n",
    "    \n",
    "    status_code, result = response.status_code, response.json()\n",
    "    \n",
    "    print(f\"Status code:{status_code}\")\n",
    "        \n",
    "    return result"
   ]
  },
  {
   "cell_type": "code",
   "execution_count": 36,
   "metadata": {},
   "outputs": [
    {
     "name": "stdout",
     "output_type": "stream",
     "text": [
      "Status code:200\n"
     ]
    },
    {
     "data": {
      "application/json": {
       "page": 1,
       "results": [
        {
         "adult": false,
         "backdrop_path": "/ci4tD8gRkDOkswR4RDznTSmdVaJ.jpg",
         "genre_ids": [
          35,
          10749
         ],
         "id": 11846,
         "original_language": "en",
         "original_title": "Father of the Bride",
         "overview": "George Banks is an ordinary, middle-class man whose 22 year-old daughter Annie has decided to marry a man from an upper-class family, but George can't think of what life would be like without his daughter. His wife tries to make him happy for Annie, but when the wedding takes place at their home and a foreign wedding planner takes over the ceremony, he becomes slightly insane.",
         "popularity": 14.173,
         "poster_path": "/g6OTK7l6EX2JP5r00O5fG6BZJlh.jpg",
         "release_date": "1991-12-20",
         "title": "Father of the Bride",
         "video": false,
         "vote_average": 6.4,
         "vote_count": 926
        },
        {
         "adult": false,
         "backdrop_path": "/pY8P0lPDGXoLM3s2noYPAhLmbgm.jpg",
         "genre_ids": [
          35,
          10751,
          10749
         ],
         "id": 20758,
         "original_language": "en",
         "original_title": "Father of the Bride",
         "overview": "Proud father Stanley Banks remembers the day his daughter, Kay, got married. Starting when she announces her engagement through to the wedding itself, we learn of all the surprises and disasters along the way.",
         "popularity": 7.548,
         "poster_path": "/sygyqqXq41SBZiYjY8nuQRAcuUv.jpg",
         "release_date": "1950-05-18",
         "title": "Father of the Bride",
         "video": false,
         "vote_average": 7.1,
         "vote_count": 133
        },
        {
         "adult": false,
         "backdrop_path": "/1XUPR3Ki1fvZDCtetcepMoz7oqu.jpg",
         "genre_ids": [
          35
         ],
         "id": 11862,
         "original_language": "en",
         "original_title": "Father of the Bride Part II",
         "overview": "Just when George Banks has recovered from his daughter's wedding, he receives the news that she's pregnant ... and that George's wife is expecting too. He was planning on selling their home, but that's a plan that—like George—will have to change with the arrival of both a grandchild and a kid of his own.",
         "popularity": 11.005,
         "poster_path": "/rj4LBtwQ0uGrpBnCELr716Qo3mw.jpg",
         "release_date": "1995-12-08",
         "title": "Father of the Bride Part II",
         "video": false,
         "vote_average": 6.2,
         "vote_count": 491
        },
        {
         "adult": false,
         "backdrop_path": null,
         "genre_ids": [
          18
         ],
         "id": 689408,
         "original_language": "en",
         "original_title": "Father Of The Bride",
         "overview": "At his brother's wedding, the best man attempts to deliver his speech after an encounter in the hotel bathroom with the father of the bride.",
         "popularity": 0.723,
         "poster_path": "/eb2Mc7WSwLwtYLdeTlbis9oTDcz.jpg",
         "release_date": "2020-10-05",
         "title": "Father Of The Bride",
         "video": false,
         "vote_average": 0,
         "vote_count": 0
        },
        {
         "adult": false,
         "backdrop_path": null,
         "genre_ids": [
          10749,
          35
         ],
         "id": 746419,
         "original_language": "en",
         "original_title": "Father Of The Bride",
         "overview": "A father coming to grips with his daughter’s upcoming wedding through the prism of multiple relationships within a big, sprawling Cuban-American family",
         "popularity": 0.6,
         "poster_path": null,
         "release_date": "",
         "title": "Father Of The Bride",
         "video": false,
         "vote_average": 0,
         "vote_count": 0
        },
        {
         "adult": false,
         "backdrop_path": "/3X54gFYaa8lw5ARRCWtbrm6I9EN.jpg",
         "genre_ids": [
          35
         ],
         "id": 746358,
         "original_language": "en",
         "original_title": "Father of the Bride Part 3 (ish)",
         "overview": "The Banks Family reunites 25 years later for a very special event to benefit World Central Kitchen.",
         "popularity": 1.406,
         "poster_path": "/6dm25OOikORviIcnUAa8W6LITLV.jpg",
         "release_date": "2020-09-25",
         "title": "Father of the Bride Part 3 (ish)",
         "video": false,
         "vote_average": 8.4,
         "vote_count": 10
        },
        {
         "adult": false,
         "backdrop_path": null,
         "genre_ids": [],
         "id": 444482,
         "original_language": "ja",
         "original_title": "花嫁の父",
         "overview": "The story is set against the beautiful scenery of Yamakoshi, Niigata, which is also known for bullfighting. Yanagiba plays a man named Satoshi who raises fighting bulls, while Kanjiya plays his deaf and mute daughter Mio. Osamu plays her fiance Maru, a charming young man from the lower part of town.",
         "popularity": 0.834,
         "poster_path": "/45o9xxGC38zrFMFJziiwuPM5qDu.jpg",
         "release_date": "2012-01-08",
         "title": "Father of the Bride",
         "video": false,
         "vote_average": 3,
         "vote_count": 8
        },
        {
         "adult": false,
         "backdrop_path": "/vgPGZjV0D0Rqi0aXwQ2um9CdCEy.jpg",
         "genre_ids": [
          18,
          35,
          10751
         ],
         "id": 588409,
         "original_language": "ja",
         "original_title": "おいしい家族",
         "overview": "Toka returns to the island she grew up to attend her mother’s second memorial service. She finds out that her father Seiji is wearing her mother’s clothes. As if that doesn’t come as enough of a shock, Seiji even tells Toka that he is getting married again to a man named Kazuo. The film explores the particular incident and the life of the island people with a humorous touch.",
         "popularity": 0.6,
         "poster_path": "/eeqbZQbTjmRIyJlrluOA3DWK1tX.jpg",
         "release_date": "2019-05-03",
         "title": "My Father, the Bride",
         "video": false,
         "vote_average": 5,
         "vote_count": 1
        }
       ],
       "total_pages": 1,
       "total_results": 8
      },
      "text/plain": [
       "<IPython.core.display.JSON object>"
      ]
     },
     "execution_count": 36,
     "metadata": {
      "application/json": {
       "expanded": false,
       "root": "root"
      }
     },
     "output_type": "execute_result"
    }
   ],
   "source": [
    "# Get Movie ID\n",
    "movie = get_data_tmbd(\"/search/movie\", 'Father of the Bride', api_key)\n",
    "JSON(movie)"
   ]
  },
  {
   "cell_type": "code",
   "execution_count": 11,
   "metadata": {},
   "outputs": [
    {
     "data": {
      "text/plain": [
       "10681"
      ]
     },
     "execution_count": 11,
     "metadata": {},
     "output_type": "execute_result"
    }
   ],
   "source": [
    "movie['results'][0]['id']"
   ]
  },
  {
   "cell_type": "code",
   "execution_count": 19,
   "metadata": {},
   "outputs": [
    {
     "data": {
      "application/json": {
       "status_code": 34,
       "status_message": "The resource you requested could not be found.",
       "success": false
      },
      "text/plain": [
       "<IPython.core.display.JSON object>"
      ]
     },
     "execution_count": 19,
     "metadata": {
      "application/json": {
       "expanded": false,
       "root": "root"
      }
     },
     "output_type": "execute_result"
    }
   ],
   "source": [
    "# verify we get correct Id\n",
    "JSON(movie_details)"
   ]
  },
  {
   "cell_type": "code",
   "execution_count": 37,
   "metadata": {},
   "outputs": [
    {
     "name": "stdout",
     "output_type": "stream",
     "text": [
      "Status code:200\n"
     ]
    }
   ],
   "source": [
    "# get Movie details\n",
    "movie_details = get_data_tmbd(f\"/movie/{ movie['results'][0]['id']}\", 'language=en-US', api_key)"
   ]
  },
  {
   "cell_type": "code",
   "execution_count": 22,
   "metadata": {},
   "outputs": [
    {
     "data": {
      "application/json": {
       "adult": false,
       "backdrop_path": "/ai2FicMUxLCurVkjtYdSvVDWRmS.jpg",
       "belongs_to_collection": null,
       "budget": 180000000,
       "genres": [
        {
         "id": 16,
         "name": "Animation"
        },
        {
         "id": 10751,
         "name": "Family"
        },
        {
         "id": 878,
         "name": "Science Fiction"
        }
       ],
       "homepage": "https://www.pixar.com/feature-films/walle/",
       "id": 10681,
       "imdb_id": "tt0910970",
       "original_language": "en",
       "original_title": "WALL·E",
       "overview": "WALL·E is the last robot left on an Earth that has been overrun with garbage and all humans have fled to outer space. For 700 years he has continued to try and clean up the mess, but has developed some rather interesting human-like qualities. When a ship arrives with a sleek new type of robot, WALL·E thinks he's finally found a friend and stows away on the ship when it leaves.",
       "popularity": 45.622,
       "poster_path": "/3g8vyePqVatTaUSnrNnrrwguhxM.jpg",
       "production_companies": [
        {
         "id": 3,
         "logo_path": "/1TjvGVDMYsj6JBxOAkUHpPEwLf7.png",
         "name": "Pixar",
         "origin_country": "US"
        },
        {
         "id": 2,
         "logo_path": "/wdrCwmRnLFJhEoH8GSfymY85KHT.png",
         "name": "Walt Disney Pictures",
         "origin_country": "US"
        }
       ],
       "production_countries": [
        {
         "iso_3166_1": "US",
         "name": "United States of America"
        }
       ],
       "release_date": "2008-06-22",
       "revenue": 521311860,
       "runtime": 98,
       "spoken_languages": [
        {
         "english_name": "English",
         "iso_639_1": "en",
         "name": "English"
        }
       ],
       "status": "Released",
       "tagline": "After 700 years of doing what he was built for, he'll discover what he was meant for.",
       "title": "WALL·E",
       "video": false,
       "vote_average": 8,
       "vote_count": 14366
      },
      "text/plain": [
       "<IPython.core.display.JSON object>"
      ]
     },
     "execution_count": 22,
     "metadata": {
      "application/json": {
       "expanded": false,
       "root": "root"
      }
     },
     "output_type": "execute_result"
    }
   ],
   "source": [
    "# Analyze data\n",
    "JSON(movie_details)"
   ]
  },
  {
   "cell_type": "code",
   "execution_count": 38,
   "metadata": {},
   "outputs": [
    {
     "name": "stdout",
     "output_type": "stream",
     "text": [
      "Movie name: Father of the Bride\n",
      "Release date: 1991-12-20\n",
      "Runtime: 105\n",
      "Revenue: $ 89,325,780.00\n",
      "Overview length: 379\n",
      "Votes: 926\n",
      "Voting Average: 6.4\n"
     ]
    }
   ],
   "source": [
    "# name\n",
    "print(f\"Movie name: {movie_details['original_title']}\")\n",
    "# release date\n",
    "print(f\"Release date: {movie_details['release_date']}\")\n",
    "# runtime\n",
    "print(f\"Runtime: {movie_details['runtime']}\")\n",
    "# revenue\n",
    "print(\"Revenue: $ {:,.2f}\".format(movie_details['revenue']))\n",
    "# length of the overview\n",
    "print(f\"Overview length: {len(movie_details['overview'])}\")\n",
    "# number of votes\n",
    "print(\"Votes: {:,}\".format(movie_details['vote_count']))\n",
    "# voting average\n",
    "print(\"Voting Average: {:,}\".format(movie_details['vote_average']))"
   ]
  },
  {
   "cell_type": "code",
   "execution_count": null,
   "metadata": {},
   "outputs": [],
   "source": []
  },
  {
   "cell_type": "code",
   "execution_count": null,
   "metadata": {},
   "outputs": [],
   "source": []
  },
  {
   "cell_type": "markdown",
   "metadata": {},
   "source": [
    "## Task\n",
    "Search for you favorite actor/actress and return the information about him/her:\n",
    "- name\n",
    "- date of birth\n",
    "- place of birth\n",
    "- length of the biography"
   ]
  },
  {
   "cell_type": "code",
   "execution_count": 39,
   "metadata": {},
   "outputs": [
    {
     "name": "stdout",
     "output_type": "stream",
     "text": [
      "Status code:200\n"
     ]
    }
   ],
   "source": [
    "# Search for person\n",
    "person = get_data_tmbd(\"/search/person\", 'leonardo dicaprio', api_key)"
   ]
  },
  {
   "cell_type": "code",
   "execution_count": 41,
   "metadata": {},
   "outputs": [
    {
     "data": {
      "application/json": {
       "page": 1,
       "results": [
        {
         "adult": false,
         "gender": 2,
         "id": 6193,
         "known_for": [
          {
           "adult": false,
           "backdrop_path": "/s3TBrRGB1iav7gFOCNx3H31MoES.jpg",
           "genre_ids": [
            28,
            878,
            12
           ],
           "id": 27205,
           "media_type": "movie",
           "original_language": "en",
           "original_title": "Inception",
           "overview": "Cobb, a skilled thief who commits corporate espionage by infiltrating the subconscious of his targets is offered a chance to regain his old life as payment for a task considered to be impossible: \"inception\", the implantation of another person's idea into a target's subconscious.",
           "poster_path": "/9gk7adHYeDvHkCSEqAvQNLV5Uge.jpg",
           "release_date": "2010-07-15",
           "title": "Inception",
           "video": false,
           "vote_average": 8.3,
           "vote_count": 29111
          },
          {
           "adult": false,
           "backdrop_path": "/lVcI3MOtumvEbOdS1Og7QoV6Lfc.jpg",
           "genre_ids": [
            18,
            37
           ],
           "id": 68718,
           "media_type": "movie",
           "original_language": "en",
           "original_title": "Django Unchained",
           "overview": "With the help of a German bounty hunter, a freed slave sets out to rescue his wife from a brutal Mississippi plantation owner.",
           "poster_path": "/4E4TTsCXVFyhBtYu9fKy0gIT3Ih.jpg",
           "release_date": "2012-12-25",
           "title": "Django Unchained",
           "video": false,
           "vote_average": 8.1,
           "vote_count": 20647
          },
          {
           "adult": false,
           "backdrop_path": "/6VmFqApQRyZZzmiGOQq2C92jyvH.jpg",
           "genre_ids": [
            18,
            10749
           ],
           "id": 597,
           "media_type": "movie",
           "original_language": "en",
           "original_title": "Titanic",
           "overview": "101-year-old Rose DeWitt Bukater tells the story of her life aboard the Titanic, 84 years later. A young Rose boards the ship with her mother and fiancé. Meanwhile, Jack Dawson and Fabrizio De Rossi win third-class tickets aboard the ship. Rose tells the whole story from Titanic's departure through to its death—on its first and last voyage—on April 15, 1912.",
           "poster_path": "/9xjZS2rlVxm8SFx8kPC3aIGCOYQ.jpg",
           "release_date": "1997-11-18",
           "title": "Titanic",
           "video": false,
           "vote_average": 7.9,
           "vote_count": 19221
          }
         ],
         "known_for_department": "Acting",
         "name": "Leonardo DiCaprio",
         "popularity": 16.209,
         "profile_path": "/wo2hJpn04vbtmh0B9utCFdsQhxM.jpg"
        }
       ],
       "total_pages": 1,
       "total_results": 1
      },
      "text/plain": [
       "<IPython.core.display.JSON object>"
      ]
     },
     "execution_count": 41,
     "metadata": {
      "application/json": {
       "expanded": false,
       "root": "root"
      }
     },
     "output_type": "execute_result"
    }
   ],
   "source": [
    "JSON(person)"
   ]
  },
  {
   "cell_type": "code",
   "execution_count": 43,
   "metadata": {},
   "outputs": [
    {
     "name": "stdout",
     "output_type": "stream",
     "text": [
      "Status code:200\n"
     ]
    }
   ],
   "source": [
    "# get Movie details\n",
    "person_id= person['results'][0]['id']\n",
    "person_details = get_data_tmbd(f\"/person/{person_id}\", 'language=en-US', api_key)"
   ]
  },
  {
   "cell_type": "code",
   "execution_count": 44,
   "metadata": {},
   "outputs": [
    {
     "data": {
      "application/json": {
       "adult": false,
       "also_known_as": [
        "Леонардо ДиКаприо",
        "ليوناردو دي كابريو",
        "레오나르도 디카프리오",
        "レオナルド・ディカプリオ",
        "ลีโอนาร์โด ดิแคพรีโอ",
        "莱昂纳多·迪卡普里奥",
        "Leo DiCaprio",
        "Leonardo Wilhelm DiCaprio",
        "Λεονάρντο Ντι Κάπριο",
        "Ντι Κάπριο",
        "Леонардо Ді Капріо",
        "Леонардо ДіКапріо",
        "לאונרדו דיקפריו",
        "ലിയനാർഡോ ഡികാപ്രിയോ"
       ],
       "biography": "Leonardo DiCaprio (born November 11, 1974) is an American actor, film producer, and environmental activist.\n\nHe began his film career by starring as Josh in Critters 3 before starring in the film adaptation of the memoir This Boy's Life (1993) alongside Robert De Niro. DiCaprio was praised for his supporting role in the drama What's Eating Gilbert Grape (1993), and gained public recognition with leading roles in the drama The Basketball Diaries (1995) and the romantic drama Romeo + Juliet (1996), before achieving international fame with James Cameron's epic romance Titanic (1997) He has been nominated for six Academy Awards—five for acting and one for producing—and in 2016, he won the Academy Award for Best Actor for The Revenant.\n\nDiCaprio is the founder of his own production company, named Appian Way Productions. He is also a committed environmentalist.",
       "birthday": "1974-11-11",
       "deathday": null,
       "gender": 2,
       "homepage": "http://leonardodicaprio.com",
       "id": 6193,
       "imdb_id": "nm0000138",
       "known_for_department": "Acting",
       "name": "Leonardo DiCaprio",
       "place_of_birth": "Los Angeles, California, USA",
       "popularity": 16.209,
       "profile_path": "/wo2hJpn04vbtmh0B9utCFdsQhxM.jpg"
      },
      "text/plain": [
       "<IPython.core.display.JSON object>"
      ]
     },
     "execution_count": 44,
     "metadata": {
      "application/json": {
       "expanded": false,
       "root": "root"
      }
     },
     "output_type": "execute_result"
    }
   ],
   "source": [
    "# Analyze data\n",
    "JSON(person_details)"
   ]
  },
  {
   "cell_type": "code",
   "execution_count": 45,
   "metadata": {},
   "outputs": [
    {
     "name": "stdout",
     "output_type": "stream",
     "text": [
      "Name: Leonardo DiCaprio\n",
      "Date of birth: 1974-11-11\n",
      "Place of birth: Los Angeles, California, USA\n",
      "Biography length 867\n"
     ]
    }
   ],
   "source": [
    "# name\n",
    "print(f\"Name: {person_details['name']}\")\n",
    "# date of birth\n",
    "print(f\"Date of birth: {person_details['birthday']}\")\n",
    "# place of birth\n",
    "print(f\"Place of birth: {person_details['place_of_birth']}\")\n",
    "# length of the biography\n",
    "print(f\"Biography length {len(person_details['biography'])}\")"
   ]
  },
  {
   "cell_type": "markdown",
   "metadata": {},
   "source": [
    "## Task\n",
    "Search for you favorite tv-show and return the information about it:\n",
    "- name\n",
    "- first air date\n",
    "- number of seasons\n",
    "- number of episodes\n",
    "- genres"
   ]
  },
  {
   "cell_type": "code",
   "execution_count": 72,
   "metadata": {},
   "outputs": [
    {
     "name": "stdout",
     "output_type": "stream",
     "text": [
      "Status code:200\n"
     ]
    }
   ],
   "source": [
    "# Search for person\n",
    "tvShow = get_data_tmbd(\"/search/tv\", 'modern family', api_key)"
   ]
  },
  {
   "cell_type": "code",
   "execution_count": 47,
   "metadata": {},
   "outputs": [
    {
     "data": {
      "application/json": {
       "page": 1,
       "results": [
        {
         "backdrop_path": "/rcA17r3hfHtRrk3Xs3hXrgGeSGT.jpg",
         "first_air_date": "2016-07-15",
         "genre_ids": [
          10765,
          9648,
          18
         ],
         "id": 66732,
         "name": "Stranger Things",
         "origin_country": [
          "US"
         ],
         "original_language": "en",
         "original_name": "Stranger Things",
         "overview": "When a young boy vanishes, a small town uncovers a mystery involving secret experiments, terrifying supernatural forces, and one strange little girl.",
         "popularity": 203.597,
         "poster_path": "/x2LSRK2Cm7MZhjluni1msVJ3wDF.jpg",
         "vote_average": 8.6,
         "vote_count": 8273
        },
        {
         "backdrop_path": "/qevaCqIekzc7Bp5f2kGAi92kO39.jpg",
         "first_air_date": "2017-10-27",
         "genre_ids": [
          10767
         ],
         "id": 74851,
         "name": "Beyond Stranger Things",
         "origin_country": [
          "US"
         ],
         "original_language": "en",
         "original_name": "Beyond Stranger Things",
         "overview": "Secrets from the \"Stranger Things 2\" universe are revealed as cast and guests discuss the latest episodes with host Jim Rash. Caution: spoilers ahead!",
         "popularity": 17.748,
         "poster_path": "/rHCFO8RJ3Hg6a8KjWAsvAsa38hp.jpg",
         "vote_average": 7.4,
         "vote_count": 38
        }
       ],
       "total_pages": 1,
       "total_results": 2
      },
      "text/plain": [
       "<IPython.core.display.JSON object>"
      ]
     },
     "execution_count": 47,
     "metadata": {
      "application/json": {
       "expanded": false,
       "root": "root"
      }
     },
     "output_type": "execute_result"
    }
   ],
   "source": [
    "JSON(tvShow)"
   ]
  },
  {
   "cell_type": "code",
   "execution_count": 73,
   "metadata": {},
   "outputs": [
    {
     "name": "stdout",
     "output_type": "stream",
     "text": [
      "Status code:200\n"
     ]
    }
   ],
   "source": [
    "# get Movie details\n",
    "tv_id= tvShow['results'][0]['id']\n",
    "tvShow_details = get_data_tmbd(f\"/tv/{tv_id}\", 'language=en-US', api_key)"
   ]
  },
  {
   "cell_type": "code",
   "execution_count": 55,
   "metadata": {},
   "outputs": [
    {
     "data": {
      "application/json": {
       "backdrop_path": "/rcA17r3hfHtRrk3Xs3hXrgGeSGT.jpg",
       "created_by": [
        {
         "credit_id": "57599b0e925141378a002c87",
         "gender": 2,
         "id": 1179419,
         "name": "Matt Duffer",
         "profile_path": "/kXO5CnSxC0znMAICGxnPeuGP73U.jpg"
        },
        {
         "credit_id": "57599b039251410a99001cce",
         "gender": 2,
         "id": 1179422,
         "name": "Ross Duffer",
         "profile_path": "/kN1HdFViQkcJOQlNcvvFJIx9Uju.jpg"
        }
       ],
       "episode_run_time": [
        50
       ],
       "first_air_date": "2016-07-15",
       "genres": [
        {
         "id": 10765,
         "name": "Sci-Fi & Fantasy"
        },
        {
         "id": 9648,
         "name": "Mystery"
        },
        {
         "id": 18,
         "name": "Drama"
        }
       ],
       "homepage": "https://www.netflix.com/title/80057281",
       "id": 66732,
       "in_production": true,
       "languages": [
        "en"
       ],
       "last_air_date": "2019-07-04",
       "last_episode_to_air": {
        "air_date": "2019-07-04",
        "episode_number": 8,
        "id": 1657335,
        "name": "Chapter Eight: The Battle of Starcourt",
        "overview": "Terror reigns in the food court when the Mind Flayer comes to collect. But down below, in the dark, the future of the world is at stake.",
        "production_code": "",
        "season_number": 3,
        "still_path": "/sT0fd7pEJ2AbKsXF511Xf3nrOk6.jpg",
        "vote_average": 8.227,
        "vote_count": 44
       },
       "name": "Stranger Things",
       "networks": [
        {
         "id": 213,
         "logo_path": "/wwemzKWzjKYJFfCeiB57q3r4Bcm.png",
         "name": "Netflix",
         "origin_country": ""
        }
       ],
       "next_episode_to_air": null,
       "number_of_episodes": 26,
       "number_of_seasons": 4,
       "origin_country": [
        "US"
       ],
       "original_language": "en",
       "original_name": "Stranger Things",
       "overview": "When a young boy vanishes, a small town uncovers a mystery involving secret experiments, terrifying supernatural forces, and one strange little girl.",
       "popularity": 203.597,
       "poster_path": "/x2LSRK2Cm7MZhjluni1msVJ3wDF.jpg",
       "production_companies": [
        {
         "id": 2575,
         "logo_path": "/9YJrHYlcfHtwtulkFMAies3aFEl.png",
         "name": "21 Laps Entertainment",
         "origin_country": "US"
        }
       ],
       "production_countries": [
        {
         "iso_3166_1": "US",
         "name": "United States of America"
        }
       ],
       "seasons": [
        {
         "air_date": "2016-07-15",
         "episode_count": 8,
         "id": 77680,
         "name": "Stranger Things",
         "overview": "Strange things are afoot in Hawkins, Indiana, where a young boy's sudden disappearance unearths a young girl with otherworldly powers.",
         "poster_path": "/zka9GTG4QQhLmN4NR18KEjxICtt.jpg",
         "season_number": 1
        },
        {
         "air_date": "2017-10-27",
         "episode_count": 9,
         "id": 83248,
         "name": "Stranger Things 2",
         "overview": "It's been nearly a year since Will's strange disappearance. But life's hardly back to normal in Hawkins. Not even close.",
         "poster_path": "/lXS60geme1LlEob5Wgvj3KilClA.jpg",
         "season_number": 2
        },
        {
         "air_date": "2019-07-04",
         "episode_count": 8,
         "id": 115216,
         "name": "Stranger Things 3",
         "overview": "Budding romance. A brand-new mall. And rabid rats running toward danger. It's the summer of 1985 in Hawkins ... and one summer can change everything.",
         "poster_path": "/x2LSRK2Cm7MZhjluni1msVJ3wDF.jpg",
         "season_number": 3
        },
        {
         "air_date": null,
         "episode_count": 1,
         "id": 163313,
         "name": "Stranger Things 4",
         "overview": "",
         "poster_path": null,
         "season_number": 4
        }
       ],
       "spoken_languages": [
        {
         "english_name": "English",
         "iso_639_1": "en",
         "name": "English"
        }
       ],
       "status": "Returning Series",
       "tagline": "It only gets stranger…",
       "type": "Scripted",
       "vote_average": 8.6,
       "vote_count": 8277
      },
      "text/plain": [
       "<IPython.core.display.JSON object>"
      ]
     },
     "execution_count": 55,
     "metadata": {
      "application/json": {
       "expanded": false,
       "root": "root"
      }
     },
     "output_type": "execute_result"
    }
   ],
   "source": [
    "# Analyze data\n",
    "JSON(tvShow_details)"
   ]
  },
  {
   "cell_type": "code",
   "execution_count": 74,
   "metadata": {},
   "outputs": [
    {
     "name": "stdout",
     "output_type": "stream",
     "text": [
      "Name: Modern Family\n",
      "First air date: 2009-09-23\n",
      "Number of seasons: 11\n",
      "Number of episodes: 250\n",
      "Genres: ['Comedy']\n"
     ]
    }
   ],
   "source": [
    "# name\n",
    "print(f\"Name: {tvShow_details['name']}\")\n",
    "# first air date\n",
    "print(f\"First air date: {tvShow_details['first_air_date']}\")\n",
    "# number of seasons\n",
    "print(f\"Number of seasons: {tvShow_details['number_of_seasons']}\")\n",
    "# number of episodes\n",
    "print(f\"Number of episodes: {tvShow_details['number_of_episodes']}\")\n",
    "# genres\n",
    "genres= [genre['name'] for genre in tvShow_details['genres']]\n",
    "print(f\"Genres: {genres}\")\n"
   ]
  },
  {
   "cell_type": "markdown",
   "metadata": {},
   "source": [
    "## Task \n",
    "Find top 5 trending:\n",
    "- movies\n",
    "- tv-shows\n",
    "- people"
   ]
  },
  {
   "cell_type": "code",
   "execution_count": 98,
   "metadata": {},
   "outputs": [
    {
     "name": "stdout",
     "output_type": "stream",
     "text": [
      "Status code:200\n",
      "Status code:200\n",
      "Status code:200\n"
     ]
    }
   ],
   "source": [
    "time_window=\"day\"  # day or week\n",
    "movie_trending = get_data_tmbd(f\"/trending/movie/{time_window}\", '', api_key)\n",
    "tv_trending = get_data_tmbd(f\"/trending/tv/{time_window}\", '', api_key)\n",
    "person_trending = get_data_tmbd(f\"/trending/person/{time_window}\", '', api_key)"
   ]
  },
  {
   "cell_type": "code",
   "execution_count": 85,
   "metadata": {},
   "outputs": [
    {
     "data": {
      "application/json": {
       "page": 1,
       "results": [
        {
         "adult": false,
         "backdrop_path": "/8ChCpCYxh9YXusmHwcE9YzP0TSG.jpg",
         "genre_ids": [
          35,
          80
         ],
         "id": 337404,
         "media_type": "movie",
         "original_language": "en",
         "original_title": "Cruella",
         "overview": "In 1970s London amidst the punk rock revolution, a young grifter named Estella is determined to make a name for herself with her designs. She befriends a pair of young thieves who appreciate her appetite for mischief, and together they are able to build a life for themselves on the London streets. One day, Estella’s flair for fashion catches the eye of the Baroness von Hellman, a fashion legend who is devastatingly chic and terrifyingly haute. But their relationship sets in motion a course of events and revelations that will cause Estella to embrace her wicked side and become the raucous, fashionable and revenge-bent Cruella.",
         "popularity": 1589.921,
         "poster_path": "/A0knvX7rlwTyZSKj8H5NiARb45.jpg",
         "release_date": "2021-05-26",
         "title": "Cruella",
         "video": false,
         "vote_average": 8.8,
         "vote_count": 574
        },
        {
         "adult": false,
         "backdrop_path": "/c0izdYdnTe4uMRifHgvTA85wPz0.jpg",
         "genre_ids": [
          28,
          27,
          53
         ],
         "id": 503736,
         "media_type": "movie",
         "original_language": "en",
         "original_title": "Army of the Dead",
         "overview": "Following a zombie outbreak in Las Vegas, a group of mercenaries take the ultimate gamble: venturing into the quarantine zone to pull off the greatest heist ever attempted.",
         "popularity": 3995.794,
         "poster_path": "/z8CExJekGrEThbpMXAmCFvvgoJR.jpg",
         "release_date": "2021-05-14",
         "title": "Army of the Dead",
         "video": false,
         "vote_average": 6.6,
         "vote_count": 1078
        },
        {
         "adult": false,
         "backdrop_path": "/sF19W36JtRIhAm3VciggSkzBtt.jpg",
         "genre_ids": [
          35,
          99,
          10770
         ],
         "id": 691179,
         "media_type": "movie",
         "original_language": "en",
         "original_title": "Friends: The Reunion",
         "overview": "The cast of Friends reunites for a once-in-a-lifetime celebration of the hit series, an unforgettable evening filled with iconic memories, uncontrollable laughter, happy tears, and special guests.",
         "popularity": 304.129,
         "poster_path": "/bT3c4TSOP8vBmMoXZRDPTII6eDa.jpg",
         "release_date": "2021-05-27",
         "title": "Friends: The Reunion",
         "video": false,
         "vote_average": 8.6,
         "vote_count": 189
        },
        {
         "adult": false,
         "backdrop_path": "/70AV2Xx5FQYj20labp0EGdbjI6E.jpg",
         "genre_ids": [
          28,
          80
         ],
         "id": 637649,
         "media_type": "movie",
         "original_language": "en",
         "original_title": "Wrath of Man",
         "overview": "A cold and mysterious new security guard for a Los Angeles cash truck company surprises his co-workers when he unleashes precision skills during a heist. The crew is left wondering who he is and where he came from. Soon, the marksman's ultimate motive becomes clear as he takes dramatic and irrevocable steps to settle a score.",
         "popularity": 899.688,
         "poster_path": "/YxopfHpsCV1oF8CZaL4M3Eodqa.jpg",
         "release_date": "2021-04-22",
         "title": "Wrath of Man",
         "video": false,
         "vote_average": 8,
         "vote_count": 367
        },
        {
         "adult": false,
         "backdrop_path": "/iDdpiUnCeXvBmrkBFpL6lKsZt33.jpg",
         "genre_ids": [
          53,
          18,
          28,
          9648
         ],
         "id": 578701,
         "media_type": "movie",
         "original_language": "en",
         "original_title": "Those Who Wish Me Dead",
         "overview": "A young boy finds himself pursued by two assassins in the Montana wilderness with a survival expert determined to protecting him - and a forest fire threatening to consume them all.",
         "popularity": 1758.24,
         "poster_path": "/xCEg6KowNISWvMh8GvPSxtdf9TO.jpg",
         "release_date": "2021-05-05",
         "title": "Those Who Wish Me Dead",
         "video": false,
         "vote_average": 7.1,
         "vote_count": 327
        },
        {
         "adult": false,
         "backdrop_path": "/wwFBRyekDcKXJwP0mImRJjAnudL.jpg",
         "genre_ids": [
          27
         ],
         "id": 632357,
         "media_type": "movie",
         "original_language": "en",
         "original_title": "The Unholy",
         "overview": "Alice, a young hearing-impaired girl who, after a supposed visitation from the Virgin Mary, is inexplicably able to hear, speak and heal the sick. As word spreads and people from near and far flock to witness her miracles, a disgraced journalist hoping to revive his career visits the small New England town to investigate. When terrifying events begin to happen all around, he starts to question if these phenomena are the works of the Virgin Mary or something much more sinister.",
         "popularity": 5972.409,
         "poster_path": "/6wxfWZxQcuv2QgxIQKj0eYTdKTv.jpg",
         "release_date": "2021-03-31",
         "title": "The Unholy",
         "video": false,
         "vote_average": 7.2,
         "vote_count": 596
        },
        {
         "adult": false,
         "backdrop_path": "/6ELCZlTA5lGUops70hKdB83WJxH.jpg",
         "genre_ids": [
          28,
          14,
          12
         ],
         "id": 460465,
         "media_type": "movie",
         "original_language": "en",
         "original_title": "Mortal Kombat",
         "overview": "Washed-up MMA fighter Cole Young, unaware of his heritage, and hunted by Emperor Shang Tsung's best warrior, Sub-Zero, seeks out and trains with Earth's greatest champions as he prepares to stand against the enemies of Outworld in a high stakes battle for the universe.",
         "popularity": 2039.76,
         "poster_path": "/nkayOAUBUu4mMvyNf9iHSUiPjF1.jpg",
         "release_date": "2021-04-07",
         "title": "Mortal Kombat",
         "video": false,
         "vote_average": 7.6,
         "vote_count": 2720
        },
        {
         "adult": false,
         "backdrop_path": "/pcDc2WJAYGJTTvRSEIpRZwM3Ola.jpg",
         "genre_ids": [
          28,
          12,
          14,
          878
         ],
         "id": 791373,
         "media_type": "movie",
         "original_language": "en",
         "original_title": "Zack Snyder's Justice League",
         "overview": "Determined to ensure Superman's ultimate sacrifice was not in vain, Bruce Wayne aligns forces with Diana Prince with plans to recruit a team of metahumans to protect the world from an approaching threat of catastrophic proportions.",
         "popularity": 1024.336,
         "poster_path": "/tnAuB8q5vv7Ax9UAEje5Xi4BXik.jpg",
         "release_date": "2021-03-18",
         "title": "Zack Snyder's Justice League",
         "video": false,
         "vote_average": 8.5,
         "vote_count": 5595
        },
        {
         "adult": false,
         "backdrop_path": "/xXHZeb1yhJvnSHPzZDqee0zfMb6.jpg",
         "genre_ids": [
          28,
          53,
          80
         ],
         "id": 385128,
         "media_type": "movie",
         "original_language": "en",
         "original_title": "F9",
         "overview": "Dominic Toretto and his crew join forces to battle the most skilled assassin and high-performance driver they've ever encountered: his forsaken brother.",
         "popularity": 511.888,
         "poster_path": "/bOFaAXmWWXC3Rbv4u4uM9ZSzRXP.jpg",
         "release_date": "2021-05-19",
         "title": "F9",
         "video": false,
         "vote_average": 8.3,
         "vote_count": 66
        },
        {
         "adult": false,
         "backdrop_path": "/inJjDhCjfhh3RtrJWBmmDqeuSYC.jpg",
         "genre_ids": [
          28,
          878
         ],
         "id": 399566,
         "media_type": "movie",
         "original_language": "en",
         "original_title": "Godzilla vs. Kong",
         "overview": "In a time when monsters walk the Earth, humanity’s fight for its future sets Godzilla and Kong on a collision course that will see the two most powerful forces of nature on the planet collide in a spectacular battle for the ages.",
         "popularity": 1637.178,
         "poster_path": "/pgqgaUx1cJb5oZQQ5v0tNARCeBp.jpg",
         "release_date": "2021-03-24",
         "title": "Godzilla vs. Kong",
         "video": false,
         "vote_average": 8.1,
         "vote_count": 5710
        },
        {
         "adult": false,
         "backdrop_path": "/gUttUEqsrvaMlK5oL5TSQ54iE96.jpg",
         "genre_ids": [
          80,
          18,
          9648,
          53
         ],
         "id": 520663,
         "media_type": "movie",
         "original_language": "en",
         "original_title": "The Woman in the Window",
         "overview": "An agoraphobic woman living alone in New York begins spying on her new neighbors only to witness a disturbing act of violence.",
         "popularity": 218.177,
         "poster_path": "/wcrjc1uwQaqoqtqi67Su4VCOYo0.jpg",
         "release_date": "2021-05-14",
         "title": "The Woman in the Window",
         "video": false,
         "vote_average": 6.2,
         "vote_count": 734
        },
        {
         "adult": false,
         "backdrop_path": "/jedggylU3FyIN7XRAl9WY8mrT6H.jpg",
         "genre_ids": [
          878,
          53,
          18
         ],
         "id": 471498,
         "media_type": "movie",
         "original_language": "fr",
         "original_title": "Oxygène",
         "overview": "A woman wakes in a cryogenic chamber with no recollection of how she got there, and must find a way out before running out of air.",
         "popularity": 309.748,
         "poster_path": "/u74DFoZGTcZ8cuHO8nvQkCqXEVP.jpg",
         "release_date": "2021-05-12",
         "title": "Oxygen",
         "video": false,
         "vote_average": 6.8,
         "vote_count": 487
        },
        {
         "adult": false,
         "backdrop_path": "/hJuDvwzS0SPlsE6MNFOpznQltDZ.jpg",
         "genre_ids": [
          16,
          12,
          14,
          10751,
          28
         ],
         "id": 527774,
         "media_type": "movie",
         "original_language": "en",
         "original_title": "Raya and the Last Dragon",
         "overview": "Long ago, in the fantasy world of Kumandra, humans and dragons lived together in harmony. But when an evil force threatened the land, the dragons sacrificed themselves to save humanity. Now, 500 years later, that same evil has returned and it’s up to a lone warrior, Raya, to track down the legendary last dragon to restore the fractured land and its divided people.",
         "popularity": 1048.54,
         "poster_path": "/lPsD10PP4rgUGiGR4CCXA6iY0QQ.jpg",
         "release_date": "2021-03-03",
         "title": "Raya and the Last Dragon",
         "video": false,
         "vote_average": 8.2,
         "vote_count": 2945
        },
        {
         "adult": false,
         "backdrop_path": "/fPGeS6jgdLovQAKunNHX8l0avCy.jpg",
         "genre_ids": [
          28,
          53,
          10752
         ],
         "id": 567189,
         "media_type": "movie",
         "original_language": "en",
         "original_title": "Tom Clancy's Without Remorse",
         "overview": "An elite Navy SEAL uncovers an international conspiracy while seeking justice for the murder of his pregnant wife.",
         "popularity": 1827.665,
         "poster_path": "/rEm96ib0sPiZBADNKBHKBv5bve9.jpg",
         "release_date": "2021-04-29",
         "title": "Tom Clancy's Without Remorse",
         "video": false,
         "vote_average": 7.2,
         "vote_count": 1037
        },
        {
         "adult": false,
         "backdrop_path": "/z2UtGA1WggESspi6KOXeo66lvLx.jpg",
         "genre_ids": [
          18,
          878,
          53
         ],
         "id": 520763,
         "media_type": "movie",
         "original_language": "en",
         "original_title": "A Quiet Place Part II",
         "overview": "Following the events at home, the Abbott family now face the terrors of the outside world. Forced to venture into the unknown, they realize that the creatures that hunt by sound are not the only threats that lurk beyond the sand path.",
         "popularity": 690.813,
         "poster_path": "/4q2hz2m8hubgvijz8Ez0T2Os2Yv.jpg",
         "release_date": "2021-05-21",
         "title": "A Quiet Place Part II",
         "video": false,
         "vote_average": 7.5,
         "vote_count": 58
        },
        {
         "adult": false,
         "backdrop_path": "/7piVB6weeJdWB6xL0wzJJeHNo6O.jpg",
         "genre_ids": [
          12,
          18,
          10751
         ],
         "id": 671295,
         "media_type": "movie",
         "original_language": "en",
         "original_title": "Blue Miracle",
         "overview": "To save their cash-strapped orphanage, a guardian and his kids partner with a washed-up boat captain for a chance to win a lucrative fishing competition.",
         "popularity": 71.83,
         "poster_path": "/xBdP9Z0oVAx25tM2gUOtq298jxR.jpg",
         "release_date": "2021-05-27",
         "title": "Blue Miracle",
         "video": false,
         "vote_average": 6.8,
         "vote_count": 13
        },
        {
         "adult": false,
         "backdrop_path": "/qXMXmhsJeW28DYp5iOar9BGepVS.jpg",
         "genre_ids": [
          16,
          12,
          35,
          10751,
          878
         ],
         "id": 501929,
         "media_type": "movie",
         "original_language": "en",
         "original_title": "The Mitchells vs. The Machines",
         "overview": "A quirky, dysfunctional family's road trip is upended when they find themselves in the middle of the robot apocalypse and suddenly become humanity's unlikeliest last hope.",
         "popularity": 134.022,
         "poster_path": "/mI2Di7HmskQQ34kz0iau6J1vr70.jpg",
         "release_date": "2021-04-22",
         "title": "The Mitchells vs. The Machines",
         "video": false,
         "vote_average": 8,
         "vote_count": 801
        },
        {
         "adult": false,
         "backdrop_path": "/9ns9463dwOeo1CK1JU2wirL5Yi1.jpg",
         "genre_ids": [
          35,
          10751,
          16
         ],
         "id": 587807,
         "media_type": "movie",
         "original_language": "en",
         "original_title": "Tom & Jerry",
         "overview": "Tom the cat and Jerry the mouse get kicked out of their home and relocate to a fancy New York hotel, where a scrappy employee named Kayla will lose her job if she can’t evict Jerry before a high-class wedding at the hotel. Her solution? Hiring Tom to get rid of the pesky mouse.",
         "popularity": 578.077,
         "poster_path": "/8XZI9QZ7Pm3fVkigWJPbrXCMzjq.jpg",
         "release_date": "2021-02-11",
         "title": "Tom & Jerry",
         "video": false,
         "vote_average": 7.3,
         "vote_count": 1404
        },
        {
         "adult": false,
         "backdrop_path": "/6zbKgwgaaCyyBXE4Sun4oWQfQmi.jpg",
         "genre_ids": [
          28,
          53,
          80,
          35
         ],
         "id": 615457,
         "media_type": "movie",
         "original_language": "en",
         "original_title": "Nobody",
         "overview": "Hutch Mansell, a suburban dad, overlooked husband, nothing neighbor — a \"nobody.\" When two thieves break into his home one night, Hutch's unknown long-simmering rage is ignited and propels him on a brutal path that will uncover dark secrets he fought to leave behind.",
         "popularity": 1367.836,
         "poster_path": "/oBgWY00bEFeZ9N25wWVyuQddbAo.jpg",
         "release_date": "2021-03-26",
         "title": "Nobody",
         "video": false,
         "vote_average": 8.5,
         "vote_count": 1726
        },
        {
         "adult": false,
         "backdrop_path": "/xPpXYnCWfjkt3zzE0dpCNME1pXF.jpg",
         "genre_ids": [
          16,
          28,
          12,
          14,
          18
         ],
         "id": 635302,
         "media_type": "movie",
         "original_language": "ja",
         "original_title": "劇場版「鬼滅の刃」無限列車編",
         "overview": "Tanjirō Kamado, joined with Inosuke Hashibira, a boy raised by boars who wears a boar's head, and Zenitsu Agatsuma, a scared boy who reveals his true power when he sleeps, boards the Infinity Train on a new mission with the Fire Hashira, Kyōjurō Rengoku, to defeat a demon who has been tormenting the people and killing the demon slayers who oppose it!",
         "popularity": 1193.1,
         "poster_path": "/h8Rb9gBr48ODIwYUttZNYeMWeUU.jpg",
         "release_date": "2020-10-16",
         "title": "Demon Slayer -Kimetsu no Yaiba- The Movie: Mugen Train",
         "video": false,
         "vote_average": 8.4,
         "vote_count": 1066
        }
       ],
       "total_pages": 1000,
       "total_results": 20000
      },
      "text/plain": [
       "<IPython.core.display.JSON object>"
      ]
     },
     "execution_count": 85,
     "metadata": {
      "application/json": {
       "expanded": false,
       "root": "root"
      }
     },
     "output_type": "execute_result"
    }
   ],
   "source": [
    "JSON(movie_trending)"
   ]
  },
  {
   "cell_type": "code",
   "execution_count": 86,
   "metadata": {},
   "outputs": [
    {
     "data": {
      "application/json": {
       "page": 1,
       "results": [
        {
         "backdrop_path": "/l0qVZIpXtIo7km9u5Yqh0nKPOr5.jpg",
         "first_air_date": "1994-09-22",
         "genre_ids": [
          35,
          18
         ],
         "id": 1668,
         "media_type": "tv",
         "name": "Friends",
         "origin_country": [
          "US"
         ],
         "original_language": "en",
         "original_name": "Friends",
         "overview": "The misadventures of a group of friends as they navigate the pitfalls of work, life and love in Manhattan.",
         "popularity": 369.127,
         "poster_path": "/f496cm9enuEsZkSPzCwnTESEK5s.jpg",
         "vote_average": 8.4,
         "vote_count": 4537
        },
        {
         "backdrop_path": "/h48Dpb7ljv8WQvVdyFWVLz64h4G.jpg",
         "first_air_date": "2016-01-25",
         "genre_ids": [
          80,
          10765
         ],
         "id": 63174,
         "media_type": "tv",
         "name": "Lucifer",
         "origin_country": [
          "US"
         ],
         "original_language": "en",
         "original_name": "Lucifer",
         "overview": "Bored and unhappy as the Lord of Hell, Lucifer Morningstar abandoned his throne and retired to Los Angeles, where he has teamed up with LAPD detective Chloe Decker to take down criminals. But the longer he's away from the underworld, the greater the threat that the worst of humanity could escape.",
         "popularity": 1461.071,
         "poster_path": "/4EYPN5mVIhKLfxGruy7Dy41dTVn.jpg",
         "vote_average": 8.5,
         "vote_count": 8839
        },
        {
         "backdrop_path": "/nBrkOZyI75artyizuBFeya48KbO.jpg",
         "first_air_date": "2019-03-15",
         "genre_ids": [
          16,
          10765
         ],
         "id": 86831,
         "media_type": "tv",
         "name": "Love, Death & Robots",
         "origin_country": [
          "US"
         ],
         "original_language": "en",
         "original_name": "Love, Death & Robots",
         "overview": "Terrifying creatures, wicked surprises and dark comedy converge in this NSFW anthology of animated stories presented by Tim Miller and David Fincher.",
         "popularity": 439.24,
         "poster_path": "/asDqvkE66EegtKJJXIRhBJPxscr.jpg",
         "vote_average": 8.2,
         "vote_count": 1106
        },
        {
         "backdrop_path": "/sjxtIUCWR74yPPcZFfTsToepfWm.jpg",
         "first_air_date": "2021-05-04",
         "genre_ids": [
          10765,
          10759,
          16
         ],
         "id": 105971,
         "media_type": "tv",
         "name": "The Bad Batch",
         "origin_country": [
          "US"
         ],
         "original_language": "en",
         "original_name": "The Bad Batch",
         "overview": "Follow the elite and experimental Clones of the Bad Batch as they find their way in a rapidly changing galaxy in the aftermath of the Clone Wars.",
         "popularity": 515.266,
         "poster_path": "/WjQmEWFrOf98nT5aEfUfVYz9N2.jpg",
         "vote_average": 8.8,
         "vote_count": 226
        },
        {
         "backdrop_path": "/wu444tM9YBllq9UcBv5TeidO3j3.jpg",
         "first_air_date": "2020-01-31",
         "genre_ids": [
          18,
          10765,
          9648
         ],
         "id": 91557,
         "media_type": "tv",
         "name": "Ragnarok",
         "origin_country": [
          "NO"
         ],
         "original_language": "no",
         "original_name": "Ragnarok",
         "overview": "A small Norwegian town experiencing warm winters and violent downpours seems to be headed for another Ragnarök -- unless someone intervenes in time.",
         "popularity": 282.082,
         "poster_path": "/xUtOM1QO4r8w8yeE00QvBdq58N5.jpg",
         "vote_average": 8,
         "vote_count": 401
        },
        {
         "backdrop_path": "/n9JoMVu8exHVQFzKvpeysyhIN4H.jpg",
         "first_air_date": "2021-05-27",
         "genre_ids": [
          10759,
          18,
          80
         ],
         "id": 122530,
         "media_type": "tv",
         "name": "Panic",
         "origin_country": [
          "US"
         ],
         "original_language": "en",
         "original_name": "Panic",
         "overview": "In the forgotten town of Carp, Texas, Panic is the only way out. Every summer the graduating seniors risk their lives competing in a series of challenges for the chance to win life-changing money. After the death of two players the stakes—and danger—have never been higher.",
         "popularity": 56.595,
         "poster_path": "/jIWO8GKclxOJgtC0jXAyJgMMla8.jpg",
         "vote_average": 7.8,
         "vote_count": 5
        },
        {
         "backdrop_path": "/4YKkS95v9o9c0tBVA46xIn6M1tx.jpg",
         "first_air_date": "2021-05-07",
         "genre_ids": [
          10765,
          10759,
          18,
          9648
         ],
         "id": 93484,
         "media_type": "tv",
         "name": "Jupiter's Legacy",
         "origin_country": [
          "US"
         ],
         "original_language": "en",
         "original_name": "Jupiter's Legacy",
         "overview": "As the world's first generation of superheroes (who received their powers in the 1930s) become the revered elder guard in the present, their superpowered children struggle to live up to the legendary feats of their parents.",
         "popularity": 485.39,
         "poster_path": "/9yxep7oJdkj3Pla9TD9gKflRApY.jpg",
         "vote_average": 7.4,
         "vote_count": 271
        },
        {
         "backdrop_path": "/suopoADq0k8YZr4dQXcU6pToj6s.jpg",
         "first_air_date": "2011-04-17",
         "genre_ids": [
          10765,
          18,
          10759
         ],
         "id": 1399,
         "media_type": "tv",
         "name": "Game of Thrones",
         "origin_country": [
          "US"
         ],
         "original_language": "en",
         "original_name": "Game of Thrones",
         "overview": "Seven noble families fight for control of the mythical land of Westeros. Friction between the houses leads to full-scale war. All while a very ancient evil awakens in the farthest north. Amidst the war, a neglected military order of misfits, the Night's Watch, is all that stands between the realms of men and icy horrors beyond.",
         "popularity": 499.507,
         "poster_path": "/u3bZgnGQ9T01sWNhyveQz0wH0Hl.jpg",
         "vote_average": 8.4,
         "vote_count": 14540
        },
        {
         "backdrop_path": "/b0WmHGc8LHTdGCVzxRb3IBMur57.jpg",
         "first_air_date": "2021-03-19",
         "genre_ids": [
          10765,
          10759,
          18,
          10768
         ],
         "id": 88396,
         "media_type": "tv",
         "name": "The Falcon and the Winter Soldier",
         "origin_country": [
          "US"
         ],
         "original_language": "en",
         "original_name": "The Falcon and the Winter Soldier",
         "overview": "Following the events of “Avengers: Endgame”, the Falcon, Sam Wilson and the Winter Soldier, Bucky Barnes team up in a global adventure that tests their abilities, and their patience.",
         "popularity": 783.407,
         "poster_path": "/6kbAMLteGO8yyewYau6bJ683sw7.jpg",
         "vote_average": 7.9,
         "vote_count": 5658
        },
        {
         "backdrop_path": "/whWHhs6p1YVMKDsH9yuvF2KR64d.jpg",
         "first_air_date": "2021-04-18",
         "genre_ids": [
          18,
          9648,
          80
         ],
         "id": 115004,
         "media_type": "tv",
         "name": "Mare of Easttown",
         "origin_country": [
          "US"
         ],
         "original_language": "en",
         "original_name": "Mare of Easttown",
         "overview": "A detective in a small Pennsylvania town investigates a local murder while trying to keep her life from falling apart.",
         "popularity": 85.636,
         "poster_path": "/78aK4Msbr22A5PGa6PZV0pAvdwf.jpg",
         "vote_average": 7.9,
         "vote_count": 141
        },
        {
         "backdrop_path": "/hNiGqLsiD30C194lci7VYDmciHD.jpg",
         "first_air_date": "2017-04-26",
         "genre_ids": [
          10765,
          18
         ],
         "id": 69478,
         "media_type": "tv",
         "name": "The Handmaid's Tale",
         "origin_country": [
          "US"
         ],
         "original_language": "en",
         "original_name": "The Handmaid's Tale",
         "overview": "Set in a dystopian future, a woman is forced to live as a concubine under a fundamentalist theocratic dictatorship. A TV adaptation of Margaret Atwood's novel.",
         "popularity": 427.024,
         "poster_path": "/oIkxqt6ug5zT5ZSUUyc1Iqopf02.jpg",
         "vote_average": 8.2,
         "vote_count": 1387
        },
        {
         "backdrop_path": "/9Jmd1OumCjaXDkpllbSGi2EpJvl.jpg",
         "first_air_date": "2014-10-07",
         "genre_ids": [
          18,
          10765
         ],
         "id": 60735,
         "media_type": "tv",
         "name": "The Flash",
         "origin_country": [
          "US"
         ],
         "original_language": "en",
         "original_name": "The Flash",
         "overview": "After a particle accelerator causes a freak storm, CSI Investigator Barry Allen is struck by lightning and falls into a coma. Months later he awakens with the power of super speed, granting him the ability to move through Central City like an unseen guardian angel. Though initially excited by his newfound powers, Barry is shocked to discover he is not the only \"meta-human\" who was created in the wake of the accelerator explosion -- and not everyone is using their new powers for good. Barry partners with S.T.A.R. Labs and dedicates his life to protect the innocent. For now, only a few close friends and associates know that Barry is literally the fastest man alive, but it won't be long before the world learns what Barry Allen has become...The Flash.",
         "popularity": 1031.174,
         "poster_path": "/lJA2RCMfsWoskqlQhXPSLFQGXEJ.jpg",
         "vote_average": 7.7,
         "vote_count": 7707
        },
        {
         "backdrop_path": "/xGexTKCJDkl12dTW4YCBDXWb1AD.jpg",
         "first_air_date": "2017-05-02",
         "genre_ids": [
          80,
          18
         ],
         "id": 71446,
         "media_type": "tv",
         "name": "Money Heist",
         "origin_country": [
          "ES"
         ],
         "original_language": "es",
         "original_name": "La casa de papel",
         "overview": "To carry out the biggest heist in history, a mysterious man called The Professor recruits a band of eight robbers who have a single characteristic: none of them has anything to lose. Five months of seclusion - memorizing every step, every detail, every probability - culminate in eleven days locked up in the National Coinage and Stamp Factory of Spain, surrounded by police forces and with dozens of hostages in their power, to find out whether their suicide wager will lead to everything or nothing.",
         "popularity": 225.333,
         "poster_path": "/MoEKaPFHABtA1xKoOteirGaHl1.jpg",
         "vote_average": 8.3,
         "vote_count": 13018
        },
        {
         "backdrop_path": "/vjYN0WyuRRFs7gg1GjSgtR3S091.jpg",
         "first_air_date": "2021-05-21",
         "genre_ids": [
          16,
          35
         ],
         "id": 111312,
         "media_type": "tv",
         "name": "Marvel's M.O.D.O.K.",
         "origin_country": [
          "US"
         ],
         "original_language": "en",
         "original_name": "Marvel's M.O.D.O.K.",
         "overview": "The megalomaniacal supervillain M.O.D.O.K. has long pursued his dream of one day conquering the world. But after years of setbacks and failures fighting the Earth’s mightiest heroes, M.O.D.O.K. has run his evil organization A.I.M. into the ground. Ousted as A.I.M.’s leader, while also dealing with his crumbling marriage and family life, the Mental Organism Designed Only for Killing is set to confront his greatest challenge yet: a midlife crisis!",
         "popularity": 235.846,
         "poster_path": "/2kXRzRjQZs9kAIm3K9MkQgsZR9C.jpg",
         "vote_average": 7.5,
         "vote_count": 13
        },
        {
         "backdrop_path": "/dYvIUzdh6TUv4IFRq8UBkX7bNNu.jpg",
         "first_air_date": "2021-03-24",
         "genre_ids": [
          18,
          80,
          9648
         ],
         "id": 120168,
         "media_type": "tv",
         "name": "Who Killed Sara?",
         "origin_country": [
          "MX"
         ],
         "original_language": "es",
         "original_name": "¿Quién mató a Sara?",
         "overview": "Hell-bent on exacting revenge and proving he was framed for his sister's murder, Álex sets out to unearth much more than the crime's real culprit.",
         "popularity": 873.891,
         "poster_path": "/o7uk5ChRt3quPIv8PcvPfzyXdMw.jpg",
         "vote_average": 7.8,
         "vote_count": 736
        },
        {
         "backdrop_path": "/4Mt7WHox67uJ1yErwTBFcV8KWgG.jpg",
         "first_air_date": "1999-10-20",
         "genre_ids": [
          10759,
          35,
          16
         ],
         "id": 37854,
         "media_type": "tv",
         "name": "One Piece",
         "origin_country": [
          "JP"
         ],
         "original_language": "ja",
         "original_name": "ワンピース",
         "overview": "Years ago, the fearsome pirate king Gol D. Roger was executed, leaving a huge pile of treasure and the famous \"One Piece\" behind. Whoever claims the \"One Piece\" will be named the new pirate king. Monkey D. Luffy, a boy who consumed one of the \"Devil's Fruits\", has it in his head that he'll follow in the footsteps of his idol, the pirate Shanks, and find the One Piece. It helps, of course, that his body has the properties of rubber and he's surrounded by a bevy of skilled fighters and thieves to help him along the way. Monkey D. Luffy brings a bunch of his crew followed by, Roronoa Zoro, Nami, Usopp, Sanji, Tony-Tony Chopper, Nico Robin, Franky, and Brook. They will do anything to get the One Piece and become King of the Pirates!..",
         "popularity": 59.88,
         "poster_path": "/1j4vxmpsjCTIOCUAzevHF8M8aZx.jpg",
         "vote_average": 8.7,
         "vote_count": 2061
        },
        {
         "backdrop_path": "/edmk8xjGBsYVIf4QtLY9WMaMcXZ.jpg",
         "first_air_date": "2005-03-27",
         "genre_ids": [
          18
         ],
         "id": 1416,
         "media_type": "tv",
         "name": "Grey's Anatomy",
         "origin_country": [
          "US"
         ],
         "original_language": "en",
         "original_name": "Grey's Anatomy",
         "overview": "Follows the personal and professional lives of a group of doctors at Seattle’s Grey Sloan Memorial Hospital.",
         "popularity": 765.239,
         "poster_path": "/clnyhPqj1SNgpAdeSS6a6fwE6Bo.jpg",
         "vote_average": 8.2,
         "vote_count": 6130
        },
        {
         "backdrop_path": "/6x8vW5utEZahp6V3sSWxCTW0mHW.jpg",
         "first_air_date": "2021-04-11",
         "genre_ids": [
          10765,
          18
         ],
         "id": 80828,
         "media_type": "tv",
         "name": "The Nevers",
         "origin_country": [
          "US"
         ],
         "original_language": "en",
         "original_name": "The Nevers",
         "overview": "In the last years of Victoria's reign, London is beset by the \"Touched\": people — mostly women — who suddenly manifest abnormal abilities, some charming, some very disturbing. Among them are Amalia True, a mysterious, quick-fisted widow, and Penance Adair, a brilliant young inventor. They are the champions of this new underclass, making a home for the Touched, while fighting the forces of… well, pretty much all the forces — to make room for those whom history as we know it has no place.",
         "popularity": 71.083,
         "poster_path": "/v6Xmj8Fy7ZruVTz3y2Po7O0TQh4.jpg",
         "vote_average": 8.4,
         "vote_count": 312
        },
        {
         "backdrop_path": "/8z9qQkx7wA6FXpLV8Tiw9mfsRFK.jpg",
         "first_air_date": "2021-04-23",
         "genre_ids": [
          10765
         ],
         "id": 85720,
         "media_type": "tv",
         "name": "Shadow and Bone",
         "origin_country": [
          "US"
         ],
         "original_language": "en",
         "original_name": "Shadow and Bone",
         "overview": "In a world cleaved in two by a massive barrier of perpetual darkness, a young soldier uncovers a power that might finally unite her country. But as she struggles to hone her power, dangerous forces plot against her. Thugs, thieves, assassins and saints are at war now, and it will take more than magic to survive.",
         "popularity": 81.176,
         "poster_path": "/mrVoyDFiDSqfH4mkoRtccOv2vwh.jpg",
         "vote_average": 8.3,
         "vote_count": 419
        },
        {
         "backdrop_path": "/vVJUOPi13perEscPewGPAUXMujN.jpg",
         "first_air_date": "2021-05-21",
         "genre_ids": [
          18,
          10765
         ],
         "id": 119279,
         "media_type": "tv",
         "name": "Solos",
         "origin_country": [
          "US"
         ],
         "original_language": "en",
         "original_name": "Solos",
         "overview": "Anthology series telling character-driven stories set at different moments in time, aiming to showcase that during people's most isolated moments, and in disparate circumstances, the human experience connects everyone.",
         "popularity": 26.883,
         "poster_path": "/szoC8f6wAXGmgn0aiSDroRx7Ngs.jpg",
         "vote_average": 8.5,
         "vote_count": 8
        }
       ],
       "total_pages": 1000,
       "total_results": 20000
      },
      "text/plain": [
       "<IPython.core.display.JSON object>"
      ]
     },
     "execution_count": 86,
     "metadata": {
      "application/json": {
       "expanded": false,
       "root": "root"
      }
     },
     "output_type": "execute_result"
    }
   ],
   "source": [
    "JSON(tv_trending)"
   ]
  },
  {
   "cell_type": "code",
   "execution_count": 87,
   "metadata": {},
   "outputs": [
    {
     "data": {
      "application/json": {
       "page": 1,
       "results": [
        {
         "adult": false,
         "gender": 2,
         "id": 976,
         "known_for": [
          {
           "adult": false,
           "backdrop_path": "/mRfI3y2oAd7ejur2di09xC9niqp.jpg",
           "genre_ids": [
            28,
            53,
            80
           ],
           "id": 82992,
           "media_type": "movie",
           "original_language": "en",
           "original_title": "Fast & Furious 6",
           "overview": "Hobbs has Dominic and Brian reassemble their crew to take down a team of mercenaries: Dominic unexpectedly gets convoluted also facing his presumed deceased girlfriend, Letty.",
           "popularity": 9.611,
           "poster_path": "/n31VRDodbaZxkrZmmzyYSFNVpW5.jpg",
           "release_date": "2013-05-21",
           "title": "Fast & Furious 6",
           "video": false,
           "vote_average": 6.8,
           "vote_count": 8640
          },
          {
           "adult": false,
           "backdrop_path": "/vkQvqH8WQkUiNklDcbUtHEUgSNQ.jpg",
           "genre_ids": [
            28,
            53
           ],
           "id": 168259,
           "media_type": "movie",
           "original_language": "en",
           "original_title": "Furious 7",
           "overview": "Deckard Shaw seeks revenge against Dominic Toretto and his family for his comatose brother.",
           "popularity": 93.085,
           "poster_path": "/wurKlC3VKUgcfsn0K51MJYEleS2.jpg",
           "release_date": "2015-04-01",
           "title": "Furious 7",
           "video": false,
           "vote_average": 7.3,
           "vote_count": 8366
          },
          {
           "adult": false,
           "backdrop_path": "/jzdnhRhG0dsuYorwvSqPqqnM1cV.jpg",
           "genre_ids": [
            28,
            80,
            53
           ],
           "id": 337339,
           "media_type": "movie",
           "original_language": "en",
           "original_title": "The Fate of the Furious",
           "overview": "When a mysterious woman seduces Dom into the world of crime and a betrayal of those closest to him, the crew face trials that will test them as never before.",
           "popularity": 147.204,
           "poster_path": "/dImWM7GJqryWJO9LHa3XQ8DD5NH.jpg",
           "release_date": "2017-04-12",
           "title": "The Fate of the Furious",
           "video": false,
           "vote_average": 6.9,
           "vote_count": 8219
          }
         ],
         "known_for_department": "Acting",
         "media_type": "person",
         "name": "Jason Statham",
         "popularity": 51.39,
         "profile_path": "/lldeQ91GwIVff43JBrpdbAAeYWj.jpg"
        },
        {
         "adult": false,
         "gender": 2,
         "id": 287,
         "known_for": [
          {
           "adult": false,
           "backdrop_path": "/rr7E0NoGKxvbkb89eR1GwfoYjpA.jpg",
           "genre_ids": [
            18
           ],
           "id": 550,
           "media_type": "movie",
           "original_language": "en",
           "original_title": "Fight Club",
           "overview": "A ticking-time-bomb insomniac and a slippery soap salesman channel primal male aggression into a shocking new form of therapy. Their concept catches on, with underground \"fight clubs\" forming in every town, until an eccentric gets in the way and ignites an out-of-control spiral toward oblivion.",
           "popularity": 44.911,
           "poster_path": "/pB8BM7pdSp6B6Ih7QZ4DrQ3PmJK.jpg",
           "release_date": "1999-10-15",
           "title": "Fight Club",
           "video": false,
           "vote_average": 8.4,
           "vote_count": 21762
          },
          {
           "adult": false,
           "backdrop_path": "/8pEnePgGyfUqj8Qa6d91OZQ6Aih.jpg",
           "genre_ids": [
            18,
            28,
            53,
            10752
           ],
           "id": 16869,
           "media_type": "movie",
           "original_language": "en",
           "original_title": "Inglourious Basterds",
           "overview": "In Nazi-occupied France during World War II, a group of Jewish-American soldiers known as \"The Basterds\" are chosen specifically to spread fear throughout the Third Reich by scalping and brutally killing Nazis. The Basterds, lead by Lt. Aldo Raine soon cross paths with a French-Jewish teenage girl who runs a movie theater in Paris which is targeted by the soldiers.",
           "popularity": 40.171,
           "poster_path": "/7sfbEnaARXDDhKm0CZ7D7uc2sbo.jpg",
           "release_date": "2009-08-19",
           "title": "Inglourious Basterds",
           "video": false,
           "vote_average": 8.2,
           "vote_count": 16873
          },
          {
           "adult": false,
           "backdrop_path": "/4U4q1zjIwCZTNkp6RKWkWPuC7uI.jpg",
           "genre_ids": [
            80,
            9648,
            53
           ],
           "id": 807,
           "media_type": "movie",
           "original_language": "en",
           "original_title": "Se7en",
           "overview": "Two homicide detectives are on a desperate hunt for a serial killer whose crimes are based on the \"seven deadly sins\" in this dark and haunting film that takes viewers from the tortured remains of one victim to the next. The seasoned Det. Sommerset researches each sin in an effort to get inside the killer's mind, while his novice partner, Mills, scoffs at his efforts to unravel the case.",
           "popularity": 36.482,
           "poster_path": "/69Sns8WoET6CfaYlIkHbla4l7nC.jpg",
           "release_date": "1995-09-22",
           "title": "Se7en",
           "video": false,
           "vote_average": 8.3,
           "vote_count": 15170
          }
         ],
         "known_for_department": "Acting",
         "media_type": "person",
         "name": "Brad Pitt",
         "popularity": 17.049,
         "profile_path": "/oTB9vGIBacH5aQNS0pUM74QSWuf.jpg"
        },
        {
         "adult": false,
         "gender": 2,
         "id": 6384,
         "known_for": [
          {
           "adult": false,
           "backdrop_path": "/fNG7i7RqMErkcqhohV2a6cV1Ehy.jpg",
           "genre_ids": [
            28,
            878
           ],
           "id": 603,
           "media_type": "movie",
           "original_language": "en",
           "original_title": "The Matrix",
           "overview": "Set in the 22nd century, The Matrix tells the story of a computer hacker who joins a group of underground insurgents fighting the vast and powerful computers who now rule the earth.",
           "popularity": 51.365,
           "poster_path": "/f89U3ADr1oiB1s9GkdPOEpXUk5H.jpg",
           "release_date": "1999-03-30",
           "title": "The Matrix",
           "video": false,
           "vote_average": 8.2,
           "vote_count": 19218
          },
          {
           "adult": false,
           "backdrop_path": "/7dzngS8pLkGJpyeskCFcjPO9qLF.jpg",
           "genre_ids": [
            28,
            53
           ],
           "id": 245891,
           "media_type": "movie",
           "original_language": "en",
           "original_title": "John Wick",
           "overview": "Ex-hitman John Wick comes out of retirement to track down the gangsters that took everything from him.",
           "popularity": 43.501,
           "poster_path": "/fZPSd91yGE9fCcCe6OoQr6E3Bev.jpg",
           "release_date": "2014-10-22",
           "title": "John Wick",
           "video": false,
           "vote_average": 7.3,
           "vote_count": 14343
          },
          {
           "adult": false,
           "backdrop_path": "/r17jFHAemzcWPPtoO0UxjIX0xas.jpg",
           "genre_ids": [
            53,
            28,
            80
           ],
           "id": 324552,
           "media_type": "movie",
           "original_language": "en",
           "original_title": "John Wick: Chapter 2",
           "overview": "John Wick is forced out of retirement by a former associate looking to seize control of a shadowy international assassins’ guild. Bound by a blood oath to aid him, Wick travels to Rome and does battle against some of the world’s most dangerous killers.",
           "popularity": 87.456,
           "poster_path": "/hXWBc0ioZP3cN4zCu6SN3YHXZVO.jpg",
           "release_date": "2017-02-08",
           "title": "John Wick: Chapter 2",
           "video": false,
           "vote_average": 7.2,
           "vote_count": 9113
          }
         ],
         "known_for_department": "Acting",
         "media_type": "person",
         "name": "Keanu Reeves",
         "popularity": 26.363,
         "profile_path": "/rRdru6REr9i3WIHv2mntpcgxnoY.jpg"
        },
        {
         "adult": false,
         "gender": 2,
         "id": 18897,
         "known_for": [
          {
           "adult": false,
           "backdrop_path": "/qdthf9WrRDSaIkGVQGhhJ9pz1hn.jpg",
           "genre_ids": [
            28,
            12,
            16,
            10751,
            35
           ],
           "id": 9502,
           "media_type": "movie",
           "original_language": "en",
           "original_title": "Kung Fu Panda",
           "overview": "When the Valley of Peace is threatened, lazy Po the panda discovers his destiny as the \"chosen one\" and trains to become a kung fu hero, but transforming the unsleek slacker into a brave warrior won't be easy. It's up to Master Shifu and the Furious Five -- Tigress, Crane, Mantis, Viper and Monkey -- to give it a try.",
           "popularity": 64.636,
           "poster_path": "/wWt4JYXTg5Wr3xBW2phBrMKgp3x.jpg",
           "release_date": "2008-06-04",
           "title": "Kung Fu Panda",
           "video": false,
           "vote_average": 7.2,
           "vote_count": 8438
          },
          {
           "adult": false,
           "backdrop_path": "/iKJNE3QV0wEc9VMFuHYSZVhmSN9.jpg",
           "genre_ids": [
            16,
            10751
           ],
           "id": 49444,
           "media_type": "movie",
           "original_language": "en",
           "original_title": "Kung Fu Panda 2",
           "overview": "Po is now living his dream as The Dragon Warrior, protecting the Valley of Peace alongside his friends and fellow kung fu masters, The Furious Five - Tigress, Crane, Mantis, Viper and Monkey. But Po’s new life of awesomeness is threatened by the emergence of a formidable villain, who plans to use a secret, unstoppable weapon to conquer China and destroy kung fu. It is up to Po and The Furious Five to journey across China to face this threat and vanquish it. But how can Po stop a weapon that can stop kung fu? He must look to his past and uncover the secrets of his mysterious origins; only then will he be able to unlock the strength he needs to succeed.",
           "popularity": 47.756,
           "poster_path": "/mtqqD00vB4PGRt20gWtGqFhrkd0.jpg",
           "release_date": "2011-05-25",
           "title": "Kung Fu Panda 2",
           "video": false,
           "vote_average": 6.9,
           "vote_count": 5016
          },
          {
           "adult": false,
           "backdrop_path": "/y2Cl2LBYaabgtSLlOa4VqnOiNin.jpg",
           "genre_ids": [
            28,
            12,
            18,
            10751
           ],
           "id": 38575,
           "media_type": "movie",
           "original_language": "en",
           "original_title": "The Karate Kid",
           "overview": "Twelve-year-old Dre Parker could have been the most popular kid in Detroit, but his mother's latest career move has landed him in China. Dre immediately falls for his classmate Mei Ying but the cultural differences make such a friendship impossible. Even worse, Dre's feelings make him an enemy of the class bully, Cheng. With no friends in a strange land, Dre has nowhere to turn but maintenance man Mr. Han, who is a kung fu master. As Han teaches Dre that kung fu is not about punches and parries, but maturity and calm, Dre realizes that facing down the bullies will be the fight of his life.",
           "popularity": 38.651,
           "poster_path": "/tAMQREOoztvluqrfHiGHFVfB04B.jpg",
           "release_date": "2010-06-10",
           "title": "The Karate Kid",
           "video": false,
           "vote_average": 6.5,
           "vote_count": 4419
          }
         ],
         "known_for_department": "Acting",
         "media_type": "person",
         "name": "Jackie Chan",
         "popularity": 26.353,
         "profile_path": "/nraZoTzwJQPHspAVsKfgl3RXKKa.jpg"
        },
        {
         "adult": false,
         "gender": 2,
         "id": 138,
         "known_for": [
          {
           "adult": false,
           "backdrop_path": "/suaEOtk1N1sgg2MTM7oZd2cfVp3.jpg",
           "genre_ids": [
            53,
            80
           ],
           "id": 680,
           "media_type": "movie",
           "original_language": "en",
           "original_title": "Pulp Fiction",
           "overview": "A burger-loving hit man, his philosophical partner, a drug-addled gangster's moll and a washed-up boxer converge in this sprawling, comedic crime caper. Their adventures unfurl in three stories that ingeniously trip back and forth in time.",
           "popularity": 47.944,
           "poster_path": "/d5iIlFn5s0ImszYzBPb8JPIfbXD.jpg",
           "release_date": "1994-09-10",
           "title": "Pulp Fiction",
           "video": false,
           "vote_average": 8.5,
           "vote_count": 21143
          },
          {
           "adult": false,
           "backdrop_path": "/lVcI3MOtumvEbOdS1Og7QoV6Lfc.jpg",
           "genre_ids": [
            18,
            37
           ],
           "id": 68718,
           "media_type": "movie",
           "original_language": "en",
           "original_title": "Django Unchained",
           "overview": "With the help of a German bounty hunter, a freed slave sets out to rescue his wife from a brutal Mississippi plantation owner.",
           "popularity": 37.849,
           "poster_path": "/4E4TTsCXVFyhBtYu9fKy0gIT3Ih.jpg",
           "release_date": "2012-12-25",
           "title": "Django Unchained",
           "video": false,
           "vote_average": 8.1,
           "vote_count": 20648
          },
          {
           "adult": false,
           "backdrop_path": "/8pEnePgGyfUqj8Qa6d91OZQ6Aih.jpg",
           "genre_ids": [
            18,
            28,
            53,
            10752
           ],
           "id": 16869,
           "media_type": "movie",
           "original_language": "en",
           "original_title": "Inglourious Basterds",
           "overview": "In Nazi-occupied France during World War II, a group of Jewish-American soldiers known as \"The Basterds\" are chosen specifically to spread fear throughout the Third Reich by scalping and brutally killing Nazis. The Basterds, lead by Lt. Aldo Raine soon cross paths with a French-Jewish teenage girl who runs a movie theater in Paris which is targeted by the soldiers.",
           "popularity": 40.171,
           "poster_path": "/7sfbEnaARXDDhKm0CZ7D7uc2sbo.jpg",
           "release_date": "2009-08-19",
           "title": "Inglourious Basterds",
           "video": false,
           "vote_average": 8.2,
           "vote_count": 16873
          }
         ],
         "known_for_department": "Directing",
         "media_type": "person",
         "name": "Quentin Tarantino",
         "popularity": 13.718,
         "profile_path": "/1gjcpAa99FAOWGnrUvHEXXsRs7o.jpg"
        },
        {
         "adult": false,
         "gender": 2,
         "id": 62,
         "known_for": [
          {
           "adult": false,
           "backdrop_path": "/suaEOtk1N1sgg2MTM7oZd2cfVp3.jpg",
           "genre_ids": [
            53,
            80
           ],
           "id": 680,
           "media_type": "movie",
           "original_language": "en",
           "original_title": "Pulp Fiction",
           "overview": "A burger-loving hit man, his philosophical partner, a drug-addled gangster's moll and a washed-up boxer converge in this sprawling, comedic crime caper. Their adventures unfurl in three stories that ingeniously trip back and forth in time.",
           "popularity": 47.944,
           "poster_path": "/d5iIlFn5s0ImszYzBPb8JPIfbXD.jpg",
           "release_date": "1994-09-10",
           "title": "Pulp Fiction",
           "video": false,
           "vote_average": 8.5,
           "vote_count": 21143
          },
          {
           "adult": false,
           "backdrop_path": "/9pkZesKMnblFfKxEhQx45YQ2kIe.jpg",
           "genre_ids": [
            27,
            53
           ],
           "id": 381288,
           "media_type": "movie",
           "original_language": "en",
           "original_title": "Split",
           "overview": "Though Kevin has evidenced 23 personalities to his trusted psychiatrist, Dr. Fletcher, there remains one still submerged who is set to materialize and dominate all the others. Compelled to abduct three teenage girls led by the willful, observant Casey, Kevin reaches a war for survival among all of those contained within him — as well as everyone around him — as the walls between his compartments shatter apart.",
           "popularity": 64.708,
           "poster_path": "/bqb9WsmZmDIKxqYmBJ9lj7J6hzn.jpg",
           "release_date": "2016-11-15",
           "title": "Split",
           "video": false,
           "vote_average": 7.3,
           "vote_count": 13853
          },
          {
           "adult": false,
           "backdrop_path": "/6TjllWT3cGrPFyqDXurVZ3L8bBi.jpg",
           "genre_ids": [
            9648,
            53,
            18
           ],
           "id": 745,
           "media_type": "movie",
           "original_language": "en",
           "original_title": "The Sixth Sense",
           "overview": "Following an unexpected tragedy, a child psychologist named Malcolm Crowe meets an eight year old boy named Cole Sear, who is hiding a dark secret.",
           "popularity": 30.817,
           "poster_path": "/fIssD3w3SvIhPPmVo4WMgZDVLID.jpg",
           "release_date": "1999-08-06",
           "title": "The Sixth Sense",
           "video": false,
           "vote_average": 7.9,
           "vote_count": 8557
          }
         ],
         "known_for_department": "Acting",
         "media_type": "person",
         "name": "Bruce Willis",
         "popularity": 23.176,
         "profile_path": "/caX3KtMU42EP3VLRFFBwqIIrch5.jpg"
        },
        {
         "adult": false,
         "gender": 1,
         "id": 11701,
         "known_for": [
          {
           "adult": false,
           "backdrop_path": "/xjotE7aFdZ0D8aGriYjFOtDayct.jpg",
           "genre_ids": [
            14,
            12,
            28,
            10751,
            10749
           ],
           "id": 102651,
           "media_type": "movie",
           "original_language": "en",
           "original_title": "Maleficent",
           "overview": "A beautiful, pure-hearted young woman, Maleficent has an idyllic life growing up in a peaceable forest kingdom, until one day when an invading army threatens the harmony of the land.  Maleficent rises to be the land's fiercest protector, but she ultimately suffers a ruthless betrayal – an act that begins to turn her heart into stone. Bent on revenge, Maleficent faces an epic battle with the invading King's successor and, as a result, places a curse upon his newborn infant Aurora. As the child grows, Maleficent realizes that Aurora holds the key to peace in the kingdom – and to Maleficent's true happiness as well.",
           "popularity": 66.896,
           "poster_path": "/ik8PugpL41s137RAWEGTAWu0dPo.jpg",
           "release_date": "2014-05-28",
           "title": "Maleficent",
           "video": false,
           "vote_average": 7.1,
           "vote_count": 10900
          },
          {
           "adult": false,
           "backdrop_path": "/qdthf9WrRDSaIkGVQGhhJ9pz1hn.jpg",
           "genre_ids": [
            28,
            12,
            16,
            10751,
            35
           ],
           "id": 9502,
           "media_type": "movie",
           "original_language": "en",
           "original_title": "Kung Fu Panda",
           "overview": "When the Valley of Peace is threatened, lazy Po the panda discovers his destiny as the \"chosen one\" and trains to become a kung fu hero, but transforming the unsleek slacker into a brave warrior won't be easy. It's up to Master Shifu and the Furious Five -- Tigress, Crane, Mantis, Viper and Monkey -- to give it a try.",
           "popularity": 69.797,
           "poster_path": "/wWt4JYXTg5Wr3xBW2phBrMKgp3x.jpg",
           "release_date": "2008-06-04",
           "title": "Kung Fu Panda",
           "video": false,
           "vote_average": 7.2,
           "vote_count": 8441
          },
          {
           "adult": false,
           "backdrop_path": "/iFaWUETEE2umP1WY0LUAmjSpzm7.jpg",
           "genre_ids": [
            28,
            35,
            18,
            53
           ],
           "id": 787,
           "media_type": "movie",
           "original_language": "en",
           "original_title": "Mr. & Mrs. Smith",
           "overview": "After five (or six) years of vanilla-wedded bliss, ordinary suburbanites John and Jane Smith are stuck in a huge rut. Unbeknownst to each other, they are both coolly lethal, highly-paid assassins working for rival organisations. When they discover they're each other's next target, their secret lives collide in a spicy, explosive mix of wicked comedy, pent-up passion, nonstop action and high-tech weaponry.",
           "popularity": 29.887,
           "poster_path": "/wzIO3ytxeSNt1wRpXLIdkNbGoDm.jpg",
           "release_date": "2005-06-07",
           "title": "Mr. & Mrs. Smith",
           "video": false,
           "vote_average": 6.7,
           "vote_count": 7789
          }
         ],
         "known_for_department": "Acting",
         "media_type": "person",
         "name": "Angelina Jolie",
         "popularity": 27.286,
         "profile_path": "/uLdam4e9CagaM8zqGls9c6MDbWo.jpg"
        },
        {
         "adult": false,
         "gender": 2,
         "id": 500,
         "known_for": [
          {
           "adult": false,
           "backdrop_path": "/auZIuHEUec5tBTns3tCRXfayxZq.jpg",
           "genre_ids": [
            28,
            878
           ],
           "id": 137113,
           "media_type": "movie",
           "original_language": "en",
           "original_title": "Edge of Tomorrow",
           "overview": "Major Bill Cage is an officer who has never seen a day of combat when he is unceremoniously demoted and dropped into combat. Cage is killed within minutes, managing to take an alpha alien down with him. He awakens back at the beginning of the same day and is forced to fight and die again... and again - as physical contact with the alien has thrown him into a time loop.",
           "popularity": 35.945,
           "poster_path": "/uUHvlkLavotfGsNtosDy8ShsIYF.jpg",
           "release_date": "2014-05-27",
           "title": "Edge of Tomorrow",
           "video": false,
           "vote_average": 7.6,
           "vote_count": 10608
          },
          {
           "adult": false,
           "backdrop_path": "/yvFtIWMvRS8PUbJOGpkSZk07CB3.jpg",
           "genre_ids": [
            28,
            878,
            12,
            9648
           ],
           "id": 75612,
           "media_type": "movie",
           "original_language": "en",
           "original_title": "Oblivion",
           "overview": "Jack Harper is one of the last few drone repairmen stationed on Earth.  Part of a massive operation to extract vital resources after decades of war with a terrifying threat known as the Scavs, Jack’s mission is nearly complete.  His existence is brought crashing down when he rescues a beautiful  stranger from a downed spacecraft.  Her arrival triggers a chain of events that  forces him to question everything he knows and puts the fate of humanity in his hands.",
           "popularity": 23.867,
           "poster_path": "/2ncs7hqBsEjFMqt6Y7ShBCO9tWs.jpg",
           "release_date": "2013-04-10",
           "title": "Oblivion",
           "video": false,
           "vote_average": 6.6,
           "vote_count": 8621
          },
          {
           "adult": false,
           "backdrop_path": "/hqyjzDRCs1N5gEsh2gklzPdsEFD.jpg",
           "genre_ids": [
            28,
            53,
            12
           ],
           "id": 56292,
           "media_type": "movie",
           "original_language": "en",
           "original_title": "Mission: Impossible - Ghost Protocol",
           "overview": "Ethan Hunt and his team are racing against time to track down a dangerous terrorist named Hendricks, who has gained access to Russian nuclear launch codes and is planning a strike on the United States. An attempt to stop him ends in an explosion causing severe destruction to the Kremlin and the IMF to be implicated in the bombing, forcing the President to disavow them. No longer being aided by the government, Ethan and his team chase Hendricks around the globe, although they might still be too late to stop a disaster.",
           "popularity": 27.689,
           "poster_path": "/7GCKNRbzcA4rJXAKoE8KS9IDnZP.jpg",
           "release_date": "2011-12-07",
           "title": "Mission: Impossible - Ghost Protocol",
           "video": false,
           "vote_average": 7,
           "vote_count": 7679
          }
         ],
         "known_for_department": "Acting",
         "media_type": "person",
         "name": "Tom Cruise",
         "popularity": 16.326,
         "profile_path": "/gThaIXgpCm3PCiXwFNDBJCme85y.jpg"
        },
        {
         "adult": false,
         "gender": 2,
         "id": 31,
         "known_for": [
          {
           "adult": false,
           "backdrop_path": "/tlEFuIlaxRPXIYVHXbOSAMCfWqk.jpg",
           "genre_ids": [
            35,
            18,
            10749
           ],
           "id": 13,
           "media_type": "movie",
           "original_language": "en",
           "original_title": "Forrest Gump",
           "overview": "A man with a low IQ has accomplished great things in his life and been present during significant historic events—in each case, far exceeding what anyone imagined he could do. But despite all he has achieved, his one true love eludes him.",
           "popularity": 45.664,
           "poster_path": "/h5J4W4veyxMXDMjeNxZI46TsHOb.jpg",
           "release_date": "1994-07-06",
           "title": "Forrest Gump",
           "video": false,
           "vote_average": 8.5,
           "vote_count": 20598
          },
          {
           "adult": false,
           "backdrop_path": "/3Rfvhy1Nl6sSGJwyjb0QiZzZYlB.jpg",
           "genre_ids": [
            16,
            12,
            10751,
            35
           ],
           "id": 862,
           "media_type": "movie",
           "original_language": "en",
           "original_title": "Toy Story",
           "overview": "Led by Woody, Andy's toys live happily in his room until Andy's birthday brings Buzz Lightyear onto the scene. Afraid of losing his place in Andy's heart, Woody plots against Buzz. But when circumstances separate Buzz and Woody from their owner, the duo eventually learns to put aside their differences.",
           "popularity": 107.685,
           "poster_path": "/uXDfjJbdP4ijW5hWSBrPrlKpxab.jpg",
           "release_date": "1995-10-30",
           "title": "Toy Story",
           "video": false,
           "vote_average": 7.9,
           "vote_count": 14022
          },
          {
           "adult": false,
           "backdrop_path": "/xMIyotorUv2Yz7zpQz2QYc8wkWB.jpg",
           "genre_ids": [
            14,
            18,
            80
           ],
           "id": 497,
           "media_type": "movie",
           "original_language": "en",
           "original_title": "The Green Mile",
           "overview": "A supernatural tale set on death row in a Southern prison, where gentle giant John Coffey possesses the mysterious power to heal people's ailments. When the cell block's head guard, Paul Edgecomb, recognizes Coffey's miraculous gift, he tries desperately to help stave off the condemned man's execution.",
           "popularity": 45.002,
           "poster_path": "/velWPhVMQeQKcxggNEU8YmIo52R.jpg",
           "release_date": "1999-12-10",
           "title": "The Green Mile",
           "video": false,
           "vote_average": 8.5,
           "vote_count": 12290
          }
         ],
         "known_for_department": "Acting",
         "media_type": "person",
         "name": "Tom Hanks",
         "popularity": 22.084,
         "profile_path": "/xndWFsBlClOJFRdhSt4NBwiPq2o.jpg"
        },
        {
         "adult": false,
         "gender": 2,
         "id": 6193,
         "known_for": [
          {
           "adult": false,
           "backdrop_path": "/s3TBrRGB1iav7gFOCNx3H31MoES.jpg",
           "genre_ids": [
            28,
            878,
            12
           ],
           "id": 27205,
           "media_type": "movie",
           "original_language": "en",
           "original_title": "Inception",
           "overview": "Cobb, a skilled thief who commits corporate espionage by infiltrating the subconscious of his targets is offered a chance to regain his old life as payment for a task considered to be impossible: \"inception\", the implantation of another person's idea into a target's subconscious.",
           "popularity": 64.281,
           "poster_path": "/9gk7adHYeDvHkCSEqAvQNLV5Uge.jpg",
           "release_date": "2010-07-15",
           "title": "Inception",
           "video": false,
           "vote_average": 8.3,
           "vote_count": 29111
          },
          {
           "adult": false,
           "backdrop_path": "/lVcI3MOtumvEbOdS1Og7QoV6Lfc.jpg",
           "genre_ids": [
            18,
            37
           ],
           "id": 68718,
           "media_type": "movie",
           "original_language": "en",
           "original_title": "Django Unchained",
           "overview": "With the help of a German bounty hunter, a freed slave sets out to rescue his wife from a brutal Mississippi plantation owner.",
           "popularity": 32.625,
           "poster_path": "/4E4TTsCXVFyhBtYu9fKy0gIT3Ih.jpg",
           "release_date": "2012-12-25",
           "title": "Django Unchained",
           "video": false,
           "vote_average": 8.1,
           "vote_count": 20647
          },
          {
           "adult": false,
           "backdrop_path": "/6VmFqApQRyZZzmiGOQq2C92jyvH.jpg",
           "genre_ids": [
            18,
            10749
           ],
           "id": 597,
           "media_type": "movie",
           "original_language": "en",
           "original_title": "Titanic",
           "overview": "101-year-old Rose DeWitt Bukater tells the story of her life aboard the Titanic, 84 years later. A young Rose boards the ship with her mother and fiancé. Meanwhile, Jack Dawson and Fabrizio De Rossi win third-class tickets aboard the ship. Rose tells the whole story from Titanic's departure through to its death—on its first and last voyage—on April 15, 1912.",
           "popularity": 69.071,
           "poster_path": "/9xjZS2rlVxm8SFx8kPC3aIGCOYQ.jpg",
           "release_date": "1997-11-18",
           "title": "Titanic",
           "video": false,
           "vote_average": 7.9,
           "vote_count": 19221
          }
         ],
         "known_for_department": "Acting",
         "media_type": "person",
         "name": "Leonardo DiCaprio",
         "popularity": 16.209,
         "profile_path": "/wo2hJpn04vbtmh0B9utCFdsQhxM.jpg"
        },
        {
         "adult": false,
         "gender": 2,
         "id": 2888,
         "known_for": [
          {
           "adult": false,
           "backdrop_path": "/dpoIQ9MN54cxuLZxDABEUOSFGY3.jpg",
           "genre_ids": [
            28,
            12,
            80,
            14,
            878
           ],
           "id": 297761,
           "media_type": "movie",
           "original_language": "en",
           "original_title": "Suicide Squad",
           "overview": "From DC Comics comes the Suicide Squad, an antihero team of incarcerated supervillains who act as deniable assets for the United States government, undertaking high-risk black ops missions in exchange for commuted prison sentences.",
           "popularity": 56.396,
           "poster_path": "/rbsm0i2q2uqlUSFgUAHq3xCUO4j.jpg",
           "release_date": "2016-08-03",
           "title": "Suicide Squad",
           "video": false,
           "vote_average": 5.9,
           "vote_count": 17380
          },
          {
           "adult": false,
           "backdrop_path": "/xHWB9SdYRFV3nw1O0iL6GTedQQY.jpg",
           "genre_ids": [
            18,
            878,
            53
           ],
           "id": 6479,
           "media_type": "movie",
           "original_language": "en",
           "original_title": "I Am Legend",
           "overview": "Robert Neville is a scientist who was unable to stop the spread of the terrible virus that was incurable and man-made. Immune, Neville is now the last human survivor in what is left of New York City and perhaps the world. For three years, Neville has faithfully sent out daily radio messages, desperate to find any other survivors who might be out there. But he is not alone.",
           "popularity": 52.832,
           "poster_path": "/iPDkaSdKk2jRLTM65UOEoKtsIZ8.jpg",
           "release_date": "2007-12-12",
           "title": "I Am Legend",
           "video": false,
           "vote_average": 7.2,
           "vote_count": 12173
          },
          {
           "adult": false,
           "backdrop_path": "/1GJvBE7UWU1WOVi0XREl4JQc7f8.jpg",
           "genre_ids": [
            28,
            12,
            35,
            878
           ],
           "id": 607,
           "media_type": "movie",
           "original_language": "en",
           "original_title": "Men in Black",
           "overview": "After a police chase with an otherworldly being, a New York City cop is recruited as an agent in a top-secret organization established to monitor and police alien activity on Earth: the Men in Black. Agent Kay and new recruit Agent Jay find themselves in the middle of a deadly plot by an intergalactic terrorist who has arrived on Earth to assassinate two ambassadors from opposing galaxies.",
           "popularity": 31.398,
           "poster_path": "/uLOmOF5IzWoyrgIF5MfUnh5pa1X.jpg",
           "release_date": "1997-07-02",
           "title": "Men in Black",
           "video": false,
           "vote_average": 7.1,
           "vote_count": 10664
          }
         ],
         "known_for_department": "Acting",
         "media_type": "person",
         "name": "Will Smith",
         "popularity": 11.465,
         "profile_path": "/eze9FO9VuryXLP0aF2cRqPCcibN.jpg"
        },
        {
         "adult": false,
         "gender": 2,
         "id": 15217,
         "known_for": [
          {
           "adult": false,
           "backdrop_path": "/mX3WOJPBzzl4kj4xU5lL7qfD6C3.jpg",
           "genre_ids": [
            28,
            12,
            14
           ],
           "id": 209112,
           "media_type": "movie",
           "original_language": "en",
           "original_title": "Batman v Superman: Dawn of Justice",
           "overview": "Fearing the actions of a god-like Super Hero left unchecked, Gotham City’s own formidable, forceful vigilante takes on Metropolis’s most revered, modern-day savior, while the world wrestles with what sort of hero it really needs. And with Batman and Superman at war with one another, a new threat quickly arises, putting mankind in greater danger than it’s ever known before.",
           "popularity": 70.371,
           "poster_path": "/5UsK3grJvtQrtzEgqNlDljJW96w.jpg",
           "release_date": "2016-03-23",
           "title": "Batman v Superman: Dawn of Justice",
           "video": false,
           "vote_average": 5.9,
           "vote_count": 14766
          },
          {
           "adult": false,
           "backdrop_path": "/69EFgWWPFWbRNHmQgYdSnyJ94Ge.jpg",
           "genre_ids": [
            28,
            12,
            14,
            878
           ],
           "id": 49521,
           "media_type": "movie",
           "original_language": "en",
           "original_title": "Man of Steel",
           "overview": "A young boy learns that he has extraordinary powers and is not of this earth. As a young man, he journeys to discover where he came from and what he was sent here to do. But the hero in him must emerge if he is to save the world from annihilation and become the symbol of hope for all mankind.",
           "popularity": 50.108,
           "poster_path": "/4qgXzVAYNihFeudrys6WU4I01Q7.jpg",
           "release_date": "2013-06-12",
           "title": "Man of Steel",
           "video": false,
           "vote_average": 6.6,
           "vote_count": 12125
          },
          {
           "adult": false,
           "backdrop_path": "/eGhjeUbzttA3E4flxdAm8gHz4h4.jpg",
           "genre_ids": [
            28,
            12,
            10752
           ],
           "id": 1271,
           "media_type": "movie",
           "original_language": "en",
           "original_title": "300",
           "overview": "Based on Frank Miller's graphic novel, \"300\" is very loosely based the 480 B.C. Battle of Thermopylae, where the King of Sparta led his army against the advancing Persians; the battle is said to have inspired all of Greece to band together against the Persians, and helped usher in the world's first democracy.",
           "popularity": 25.312,
           "poster_path": "/9W49fy5G7v9Ed3CXtvMi41YqZtt.jpg",
           "release_date": "2007-03-07",
           "title": "300",
           "video": false,
           "vote_average": 7.1,
           "vote_count": 10705
          }
         ],
         "known_for_department": "Directing",
         "media_type": "person",
         "name": "Zack Snyder",
         "popularity": 13.146,
         "profile_path": "/iD0GDqkvJXDXiNEZej198hjt3Tt.jpg"
        },
        {
         "adult": false,
         "gender": 2,
         "id": 190,
         "known_for": [
          {
           "adult": false,
           "backdrop_path": "/dcqI4l0vvGAyLsGGxobNsCVQdNK.jpg",
           "genre_ids": [
            10752,
            28
           ],
           "id": 190859,
           "media_type": "movie",
           "original_language": "en",
           "original_title": "American Sniper",
           "overview": "U.S. Navy SEAL Chris Kyle takes his sole mission—protect his comrades—to heart and becomes one of the most lethal snipers in American history. His pinpoint accuracy not only saves countless lives but also makes him a prime target of insurgents. Despite grave danger and his struggle to be a good husband and father to his family back in the States, Kyle serves four tours of duty in Iraq. However, when he finally returns home, he finds that he cannot leave the war behind.",
           "popularity": 51.94,
           "poster_path": "/i1U46OwMc6vlm7OoSUKfqUH615e.jpg",
           "release_date": "2014-12-11",
           "title": "American Sniper",
           "video": false,
           "vote_average": 7.4,
           "vote_count": 10226
          },
          {
           "adult": false,
           "backdrop_path": "/2t82UwR1OtqBrDkbMMQRiRpTyi8.jpg",
           "genre_ids": [
            18
           ],
           "id": 13223,
           "media_type": "movie",
           "original_language": "en",
           "original_title": "Gran Torino",
           "overview": "Widower Walt Kowalski is a grumpy, prejudiced, tough-minded, unhappy, old, Korean War veteran who can't get along with either his kids or his neighbours. His prize possession is a 1972 Gran Torino he keeps in mint condition. When his neighbour, Thao—a young Hmong teenager under pressure from his gang member cousin—tries to steal his Gran Torino, Walt sets out to reform the youth and takes steps to protect Thao and his family from the gangs that infest their neighborhood.",
           "popularity": 22.061,
           "poster_path": "/89eFUED55UqZA3JqYEofA22fWlQ.jpg",
           "release_date": "2008-12-09",
           "title": "Gran Torino",
           "video": false,
           "vote_average": 8,
           "vote_count": 8149
          },
          {
           "adult": false,
           "backdrop_path": "/oGMomeS7bE43eN8SGJUaKvQnmud.jpg",
           "genre_ids": [
            18
           ],
           "id": 70,
           "media_type": "movie",
           "original_language": "en",
           "original_title": "Million Dollar Baby",
           "overview": "Despondent over a painful estrangement from his daughter, trainer Frankie Dunn isn't prepared for boxer Maggie Fitzgerald to enter his life. But Maggie's determined to go pro and to convince Dunn and his cohort to help her.",
           "popularity": 18.867,
           "poster_path": "/jcfEqKdWF1zeyvECPqp3mkWLct2.jpg",
           "release_date": "2004-12-15",
           "title": "Million Dollar Baby",
           "video": false,
           "vote_average": 8,
           "vote_count": 7047
          }
         ],
         "known_for_department": "Acting",
         "media_type": "person",
         "name": "Clint Eastwood",
         "popularity": 11.957,
         "profile_path": "/dU35NnjZ4aGw5abIJe3WXVf3Eey.jpg"
        },
        {
         "adult": false,
         "gender": 2,
         "id": 525,
         "known_for": [
          {
           "adult": false,
           "backdrop_path": "/s3TBrRGB1iav7gFOCNx3H31MoES.jpg",
           "genre_ids": [
            28,
            878,
            12
           ],
           "id": 27205,
           "media_type": "movie",
           "original_language": "en",
           "original_title": "Inception",
           "overview": "Cobb, a skilled thief who commits corporate espionage by infiltrating the subconscious of his targets is offered a chance to regain his old life as payment for a task considered to be impossible: \"inception\", the implantation of another person's idea into a target's subconscious.",
           "popularity": 64.281,
           "poster_path": "/9gk7adHYeDvHkCSEqAvQNLV5Uge.jpg",
           "release_date": "2010-07-15",
           "title": "Inception",
           "video": false,
           "vote_average": 8.3,
           "vote_count": 29111
          },
          {
           "adult": false,
           "backdrop_path": "/rAiYTfKGqDCRIIqo664sY9XZIvQ.jpg",
           "genre_ids": [
            12,
            18,
            878
           ],
           "id": 157336,
           "media_type": "movie",
           "original_language": "en",
           "original_title": "Interstellar",
           "overview": "The adventures of a group of explorers who make use of a newly discovered wormhole to surpass the limitations on human space travel and conquer the vast distances involved in an interstellar voyage.",
           "popularity": 91.02,
           "poster_path": "/gEU2QniE6E77NI6lCU6MxlNBvIx.jpg",
           "release_date": "2014-11-05",
           "title": "Interstellar",
           "video": false,
           "vote_average": 8.3,
           "vote_count": 25858
          },
          {
           "adult": false,
           "backdrop_path": "/nMKdUUepR0i5zn0y1T4CsSB5chy.jpg",
           "genre_ids": [
            18,
            28,
            80,
            53
           ],
           "id": 155,
           "media_type": "movie",
           "original_language": "en",
           "original_title": "The Dark Knight",
           "overview": "Batman raises the stakes in his war on crime. With the help of Lt. Jim Gordon and District Attorney Harvey Dent, Batman sets out to dismantle the remaining criminal organizations that plague the streets. The partnership proves to be effective, but they soon find themselves prey to a reign of chaos unleashed by a rising criminal mastermind known to the terrified citizens of Gotham as the Joker.",
           "popularity": 56.255,
           "poster_path": "/qJ2tW6WMUDux911r6m7haRef0WH.jpg",
           "release_date": "2008-07-16",
           "title": "The Dark Knight",
           "video": false,
           "vote_average": 8.5,
           "vote_count": 25135
          }
         ],
         "known_for_department": "Directing",
         "media_type": "person",
         "name": "Christopher Nolan",
         "popularity": 7.639,
         "profile_path": "/xuAIuYSmsUzKlUMBFGVZaWsY3DZ.jpg"
        },
        {
         "adult": false,
         "gender": 0,
         "id": 2578611,
         "known_for": [
          {
           "adult": false,
           "backdrop_path": null,
           "genre_ids": [],
           "id": 686404,
           "media_type": "movie",
           "original_language": "en",
           "original_title": "Generations",
           "overview": "A tragedy at work and family secrets revealed at home provoke a 70-year-old surgeon to discover the truth about himself and his lineage.",
           "popularity": 0.6,
           "poster_path": "/b9o3ufLyMVe1J9oOJngrmXWh6GR.jpg",
           "release_date": "",
           "title": "Generations",
           "video": false,
           "vote_average": 0,
           "vote_count": 0
          },
          {
           "adult": false,
           "backdrop_path": "/8ngU7WVjQbzWwxQktii0TlIndB6.jpg",
           "genre_ids": [
            27,
            53,
            18,
            9648
           ],
           "id": 746781,
           "media_type": "movie",
           "original_language": "fa",
           "original_title": "آن شب",
           "overview": "An Iranian couple living in the US become trapped inside a hotel when insidious events force them to face the secrets that have come between them, in a night that never ends.",
           "popularity": 8.018,
           "poster_path": "/vHoeIopknC6fCUTJfagDGwr6qmf.jpg",
           "release_date": "2021-04-29",
           "title": "The Night",
           "video": false,
           "vote_average": 5.5,
           "vote_count": 6
          }
         ],
         "known_for_department": "Directing",
         "media_type": "person",
         "name": "Kourosh Ahari",
         "popularity": 1.397,
         "profile_path": null
        },
        {
         "adult": false,
         "gender": 2,
         "id": 73968,
         "known_for": [
          {
           "adult": false,
           "backdrop_path": "/mX3WOJPBzzl4kj4xU5lL7qfD6C3.jpg",
           "genre_ids": [
            28,
            12,
            14
           ],
           "id": 209112,
           "media_type": "movie",
           "original_language": "en",
           "original_title": "Batman v Superman: Dawn of Justice",
           "overview": "Fearing the actions of a god-like Super Hero left unchecked, Gotham City’s own formidable, forceful vigilante takes on Metropolis’s most revered, modern-day savior, while the world wrestles with what sort of hero it really needs. And with Batman and Superman at war with one another, a new threat quickly arises, putting mankind in greater danger than it’s ever known before.",
           "popularity": 70.371,
           "poster_path": "/5UsK3grJvtQrtzEgqNlDljJW96w.jpg",
           "release_date": "2016-03-23",
           "title": "Batman v Superman: Dawn of Justice",
           "video": false,
           "vote_average": 5.9,
           "vote_count": 14766
          },
          {
           "adult": false,
           "backdrop_path": "/69EFgWWPFWbRNHmQgYdSnyJ94Ge.jpg",
           "genre_ids": [
            28,
            12,
            14,
            878
           ],
           "id": 49521,
           "media_type": "movie",
           "original_language": "en",
           "original_title": "Man of Steel",
           "overview": "A young boy learns that he has extraordinary powers and is not of this earth. As a young man, he journeys to discover where he came from and what he was sent here to do. But the hero in him must emerge if he is to save the world from annihilation and become the symbol of hope for all mankind.",
           "popularity": 50.108,
           "poster_path": "/4qgXzVAYNihFeudrys6WU4I01Q7.jpg",
           "release_date": "2013-06-12",
           "title": "Man of Steel",
           "video": false,
           "vote_average": 6.6,
           "vote_count": 12125
          },
          {
           "adult": false,
           "backdrop_path": "/jorgjEk6a0bed6jdR5wu4S6ZvRm.jpg",
           "genre_ids": [
            28,
            12,
            14,
            878
           ],
           "id": 141052,
           "media_type": "movie",
           "original_language": "en",
           "original_title": "Justice League",
           "overview": "Fuelled by his restored faith in humanity and inspired by Superman's selfless act, Bruce Wayne and Diana Prince assemble a team of metahumans consisting of Barry Allen, Arthur Curry and Victor Stone to face the catastrophic threat of Steppenwolf and the Parademons who are on the hunt for three Mother Boxes on Earth.",
           "popularity": 69.579,
           "poster_path": "/eifGNCSDuxJeS1loAXil5bIGgvC.jpg",
           "release_date": "2017-11-15",
           "title": "Justice League",
           "video": false,
           "vote_average": 6.2,
           "vote_count": 10537
          }
         ],
         "known_for_department": "Acting",
         "media_type": "person",
         "name": "Henry Cavill",
         "popularity": 22.764,
         "profile_path": "/hErUwonrQgY5Y7RfxOfv8Fq11MB.jpg"
        },
        {
         "adult": false,
         "gender": 2,
         "id": 1019,
         "known_for": [
          {
           "adult": false,
           "backdrop_path": "/aL53oMdZKZRJRH8txH07DLuleF9.jpg",
           "genre_ids": [
            28,
            12,
            14,
            878
           ],
           "id": 284052,
           "media_type": "movie",
           "original_language": "en",
           "original_title": "Doctor Strange",
           "overview": "After his career is destroyed, a brilliant but arrogant surgeon gets a new lease on life when a sorcerer takes him under her wing and trains him to defend the world against evil.",
           "popularity": 88.17,
           "poster_path": "/xf8PbyQcR5ucXErmZNzdKR0s8ya.jpg",
           "release_date": "2016-10-25",
           "title": "Doctor Strange",
           "video": false,
           "vote_average": 7.4,
           "vote_count": 16961
          },
          {
           "adult": false,
           "backdrop_path": "/6t8ES1d12OzWyCGxBeDYLHoaDrT.jpg",
           "genre_ids": [
            28,
            12,
            878
           ],
           "id": 330459,
           "media_type": "movie",
           "original_language": "en",
           "original_title": "Rogue One: A Star Wars Story",
           "overview": "A rogue band of resistance fighters unite for a mission to steal the Death Star plans and bring a new hope to the galaxy.",
           "popularity": 39.172,
           "poster_path": "/5jX3p0apUG5bkMHtnKZch0xpkBS.jpg",
           "release_date": "2016-12-14",
           "title": "Rogue One: A Star Wars Story",
           "video": false,
           "vote_average": 7.5,
           "vote_count": 12099
          },
          {
           "adult": false,
           "backdrop_path": "/kjC48HRQpojr3FHx5pZF7Ro9xFg.jpg",
           "genre_ids": [
            12,
            28,
            53
           ],
           "id": 36557,
           "media_type": "movie",
           "original_language": "en",
           "original_title": "Casino Royale",
           "overview": "Le Chiffre, a banker to the world's terrorists, is scheduled to participate in a high-stakes poker game in Montenegro, where he intends to use his winnings to establish his financial grip on the terrorist market. M sends Bond—on his maiden mission as a 00 Agent—to attend this game and prevent Le Chiffre from winning. With the help of Vesper Lynd and Felix Leiter, Bond enters the most important poker game in his already dangerous career.",
           "popularity": 37.654,
           "poster_path": "/8Gv1dylImVuoj3bZtEWoL1TLl2q.jpg",
           "release_date": "2006-11-14",
           "title": "Casino Royale",
           "video": false,
           "vote_average": 7.5,
           "vote_count": 7986
          }
         ],
         "known_for_department": "Acting",
         "media_type": "person",
         "name": "Mads Mikkelsen",
         "popularity": 14.355,
         "profile_path": "/oQBzMxGTMOIVrFGUqHnWK5lB61G.jpg"
        },
        {
         "adult": false,
         "gender": 2,
         "id": 5026,
         "known_for": [
          {
           "adult": false,
           "backdrop_path": "/sJNNMCc6B7KZIY3LH3JMYJJNH5j.jpg",
           "genre_ids": [
            28,
            18
           ],
           "id": 346,
           "media_type": "movie",
           "original_language": "ja",
           "original_title": "七人の侍",
           "overview": "A samurai answers a village's request for protection after he falls on hard times. The town needs protection from bandits, so the samurai gathers six others to help him teach the people how to defend themselves, and the villagers provide the soldiers with food. A giant battle occurs when 40 bandits attack the village.",
           "popularity": 23.256,
           "poster_path": "/8OKmBV5BUFzmozIC3pPWKHy17kx.jpg",
           "release_date": "1954-04-26",
           "title": "Seven Samurai",
           "video": false,
           "vote_average": 8.4,
           "vote_count": 2275
          },
          {
           "adult": false,
           "backdrop_path": "/zyO6j74DKMWfp5snWg6Hwo0T3Mz.jpg",
           "genre_ids": [
            80,
            18,
            9648
           ],
           "id": 548,
           "media_type": "movie",
           "original_language": "ja",
           "original_title": "羅生門",
           "overview": "Brimming with action while incisively examining the nature of truth, \"Rashomon\" is perhaps the finest film ever to investigate the philosophy of justice. Through an ingenious use of camera and flashbacks, Kurosawa reveals the complexities of human nature as four people recount different versions of the story of a man's murder and the rape of his wife.",
           "popularity": 10.867,
           "poster_path": "/mwNCpjejHwq9KlpNB2gKII2yvbr.jpg",
           "release_date": "1950-08-26",
           "title": "Rashomon",
           "video": false,
           "vote_average": 8.2,
           "vote_count": 1377
          },
          {
           "adult": false,
           "backdrop_path": "/vxEfLEdPbUJW8ZD9ymGQ6ZJzuyf.jpg",
           "genre_ids": [
            28,
            18,
            36
           ],
           "id": 11645,
           "media_type": "movie",
           "original_language": "ja",
           "original_title": "乱",
           "overview": "With Ran, legendary director Akira Kurosawa reimagines Shakespeare's King Lear as a singular historical epic set in sixteenth-century Japan. Majestic in scope, the film is Kurosawa's late-life masterpiece, a profound examination of the folly of war and the crumbling of one family under the weight of betrayal, greed, and the insatiable thirst for power.",
           "popularity": 11.361,
           "poster_path": "/jK7aLEh1StwcLBK22NCHuDmCq90.jpg",
           "release_date": "1985-06-01",
           "title": "Ran",
           "video": false,
           "vote_average": 8.1,
           "vote_count": 956
          }
         ],
         "known_for_department": "Directing",
         "media_type": "person",
         "name": "Akira Kurosawa",
         "popularity": 5.997,
         "profile_path": "/uCFWmYXu0EqF5Bd6zWaOS4FxvEB.jpg"
        },
        {
         "adult": false,
         "gender": 2,
         "id": 1100,
         "known_for": [
          {
           "adult": false,
           "backdrop_path": "/wh4ze6klUbeichAj603OKZwY1W5.jpg",
           "genre_ids": [
            28,
            53,
            878
           ],
           "id": 218,
           "media_type": "movie",
           "original_language": "en",
           "original_title": "The Terminator",
           "overview": "In the post-apocalyptic future, reigning tyrannical supercomputers teleport a cyborg assassin known as the \"Terminator\" back to 1984 to kill Sarah Connor, whose unborn son is destined to lead insurgents against 21st century mechanical hegemony. Meanwhile, the human-resistance movement dispatches a lone warrior to safeguard Sarah. Can he stop the virtually indestructible killing machine?",
           "popularity": 63.724,
           "poster_path": "/qvktm0BHcnmDpul4Hz01GIazWPr.jpg",
           "release_date": "1984-10-26",
           "title": "The Terminator",
           "video": false,
           "vote_average": 7.6,
           "vote_count": 9421
          },
          {
           "adult": false,
           "backdrop_path": "/xKb6mtdfI5Qsggc44Hr9CCUDvaj.jpg",
           "genre_ids": [
            28,
            53,
            878
           ],
           "id": 280,
           "media_type": "movie",
           "original_language": "en",
           "original_title": "Terminator 2: Judgment Day",
           "overview": "Nearly 10 years have passed since Sarah Connor was targeted for termination by a cyborg from the future. Now her son, John, the future leader of the resistance, is the target for a newer, more deadly terminator. Once again, the resistance has managed to send a protector back to attempt to save John and his mother Sarah.",
           "popularity": 48.593,
           "poster_path": "/weVXMD5QBGeQil4HEATZqAkXeEc.jpg",
           "release_date": "1991-07-03",
           "title": "Terminator 2: Judgment Day",
           "video": false,
           "vote_average": 8,
           "vote_count": 9342
          },
          {
           "adult": false,
           "backdrop_path": "/g4a5YLWwi6OCp8TcvxsUNrXMbN5.jpg",
           "genre_ids": [
            878,
            28,
            53,
            12
           ],
           "id": 87101,
           "media_type": "movie",
           "original_language": "en",
           "original_title": "Terminator Genisys",
           "overview": "The year is 2029. John Connor, leader of the resistance continues the war against the machines. At the Los Angeles offensive, John's fears of the unknown future begin to emerge when TECOM spies reveal a new plot by SkyNet that will attack him from both fronts; past and future, and will ultimately change warfare forever.",
           "popularity": 66.863,
           "poster_path": "/oZRVDpNtmHk8M1VYy1aeOWUXgbC.jpg",
           "release_date": "2015-06-23",
           "title": "Terminator Genisys",
           "video": false,
           "vote_average": 5.9,
           "vote_count": 6659
          }
         ],
         "known_for_department": "Acting",
         "media_type": "person",
         "name": "Arnold Schwarzenegger",
         "popularity": 20.912,
         "profile_path": "/s1FmIoen313b1emEzfGRK6x6EF7.jpg"
        },
        {
         "adult": false,
         "gender": 1,
         "id": 54693,
         "known_for": [
          {
           "adult": false,
           "backdrop_path": "/ik2D3KqxFD0O0Bc3Wv1CZm8sOg8.jpg",
           "genre_ids": [
            35,
            18,
            10749,
            10402
           ],
           "id": 313369,
           "media_type": "movie",
           "original_language": "en",
           "original_title": "La La Land",
           "overview": "Mia, an aspiring actress, serves lattes to movie stars in between auditions and Sebastian, a jazz musician, scrapes by playing cocktail party gigs in dingy bars, but as success mounts they are faced with decisions that begin to fray the fragile fabric of their love affair, and the dreams they worked so hard to maintain in each other threaten to rip them apart.",
           "popularity": 28.181,
           "poster_path": "/uDO8zWDhfWwoFdKS4fzkUJt0Rf0.jpg",
           "release_date": "2016-11-29",
           "title": "La La Land",
           "video": false,
           "vote_average": 7.9,
           "vote_count": 13271
          },
          {
           "adult": false,
           "backdrop_path": "/xYz4u1jWCKyXGzddMJeOL845DTr.jpg",
           "genre_ids": [
            28,
            12,
            14
           ],
           "id": 1930,
           "media_type": "movie",
           "original_language": "en",
           "original_title": "The Amazing Spider-Man",
           "overview": "Peter Parker is an outcast high schooler abandoned by his parents as a boy, leaving him to be raised by his Uncle Ben and Aunt May. Like most teenagers, Peter is trying to figure out who he is and how he got to be the person he is today. As Peter discovers a mysterious briefcase that belonged to his father, he begins a quest to understand his parents' disappearance – leading him directly to Oscorp and the lab of Dr. Curt Connors, his father's former partner. As Spider-Man is set on a collision course with Connors' alter ego, The Lizard, Peter will make life-altering choices to use his powers and shape his destiny to become a hero.",
           "popularity": 61.171,
           "poster_path": "/dQ8TOCYgP9pzQvSb1cmaalYqdb5.jpg",
           "release_date": "2012-06-23",
           "title": "The Amazing Spider-Man",
           "video": false,
           "vote_average": 6.6,
           "vote_count": 12881
          },
          {
           "adult": false,
           "backdrop_path": "/gXboplsdDKprKA46IptKwDgY6Nr.jpg",
           "genre_ids": [
            18,
            35
           ],
           "id": 194662,
           "media_type": "movie",
           "original_language": "en",
           "original_title": "Birdman or (The Unexpected Virtue of Ignorance)",
           "overview": "A fading actor best known for his portrayal of a popular superhero attempts to mount a comeback by appearing in a Broadway play. As opening night approaches, his attempts to become more altruistic, rebuild his career, and reconnect with friends and family prove more difficult than expected.",
           "popularity": 36.487,
           "poster_path": "/lvWL5ZRlYFh7M7fOvYswcRqyprI.jpg",
           "release_date": "2014-08-27",
           "title": "Birdman or (The Unexpected Virtue of Ignorance)",
           "video": false,
           "vote_average": 7.5,
           "vote_count": 10470
          }
         ],
         "known_for_department": "Acting",
         "media_type": "person",
         "name": "Emma Stone",
         "popularity": 39.931,
         "profile_path": "/2hwXbPW2ffnXUe1Um0WXHG0cTwb.jpg"
        }
       ],
       "total_pages": 1000,
       "total_results": 20000
      },
      "text/plain": [
       "<IPython.core.display.JSON object>"
      ]
     },
     "execution_count": 87,
     "metadata": {
      "application/json": {
       "expanded": false,
       "root": "root"
      }
     },
     "output_type": "execute_result"
    }
   ],
   "source": [
    "JSON(person_trending)"
   ]
  },
  {
   "cell_type": "code",
   "execution_count": 99,
   "metadata": {},
   "outputs": [
    {
     "name": "stdout",
     "output_type": "stream",
     "text": [
      "Top five Movies: \n",
      "1 - Cruella\n",
      "2 - Friends: The Reunion\n",
      "3 - Wrath of Man\n",
      "4 - Army of the Dead\n",
      "5 - The Unholy\n",
      "Top five TV shows: \n",
      "1 - Lucifer\n",
      "2 - Friends\n",
      "3 - Panic\n",
      "4 - Ragnarok\n",
      "5 - The Bad Batch\n",
      "Top five Persons: \n",
      "1 - Jason Statham\n",
      "2 - Jackie Chan\n",
      "3 - Joan Van Ark\n",
      "4 - Bruce Willis\n",
      "5 - Emma Stone\n"
     ]
    }
   ],
   "source": [
    "# Trending Movie\n",
    "def print_top_5_trending(top_list, name, media):\n",
    "    print(f\"Top five {media}: \")\n",
    "    for i, l in enumerate(top_list['results']):\n",
    "        rank = i + 1\n",
    "        print(f\"{rank} - {l[name]}\")\n",
    "        if i == 4:\n",
    "            break\n",
    "# Trending\n",
    "\n",
    "print_top_5_trending(movie_trending, 'title', 'Movies')\n",
    "print_top_5_trending(tv_trending, 'name', 'TV shows')\n",
    "print_top_5_trending(person_trending, 'name', 'Persons')"
   ]
  }
 ],
 "metadata": {
  "kernelspec": {
   "display_name": "ds_bootcamp_one",
   "language": "python",
   "name": "ds_bootcamp_one"
  },
  "language_info": {
   "codemirror_mode": {
    "name": "ipython",
    "version": 3
   },
   "file_extension": ".py",
   "mimetype": "text/x-python",
   "name": "python",
   "nbconvert_exporter": "python",
   "pygments_lexer": "ipython3",
   "version": "3.8.5"
  }
 },
 "nbformat": 4,
 "nbformat_minor": 4
}
