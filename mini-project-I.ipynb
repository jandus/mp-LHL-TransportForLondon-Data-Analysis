{
 "cells": [
  {
   "cell_type": "markdown",
   "metadata": {},
   "source": [
    "# Mini-Project I\n",
    "During this project, we will practice handling of complex lists and dictionaries in Python. Plus, we will learn how to work with API documentation. Don't be afraid to search for the information in the [**documentation**](https://api.tfl.gov.uk/swagger/ui/index.html?url=/swagger/docs/v1#!/AccidentStats/AccidentStats_Get).\n",
    "\n",
    "Let's go to the tasks, we have some parsing to do :)!!"
   ]
  },
  {
   "cell_type": "code",
   "execution_count": 4,
   "metadata": {},
   "outputs": [],
   "source": [
    "# import packages we need (remember what packages we used yesterday during the API session)\n",
    "# IMPORT HERE\n",
    "\n",
    "from IPython.display import JSON\n",
    "import requests\n",
    "import config as cfg\n",
    "import os\n",
    "\n",
    "# API variables\n",
    "root_url = \"https://api.tfl.gov.uk/\""
   ]
  },
  {
   "cell_type": "code",
   "execution_count": 5,
   "metadata": {},
   "outputs": [],
   "source": [
    "def get_data_from_url(url):\n",
    "    endpoint = root_url + url\n",
    "    response = requests.get(url)\n",
    "    \n",
    "    status_code, result = response.status_code, response.json()\n",
    "    \n",
    "    print(f\"Status code:{status_code}\")\n",
    "        \n",
    "    return result"
   ]
  },
  {
   "cell_type": "markdown",
   "metadata": {},
   "source": [
    "# Transport for London"
   ]
  },
  {
   "cell_type": "code",
   "execution_count": 8,
   "metadata": {},
   "outputs": [],
   "source": [
    "# URL\n",
    "url = \"https://api.tfl.gov.uk/AirQuality\""
   ]
  },
  {
   "cell_type": "code",
   "execution_count": 12,
   "metadata": {},
   "outputs": [],
   "source": [
    "# We send the request to the API\n",
    "# NOTE: if you don't have your APP_KEY, run this without the url_append\n",
    "#res = requests.get(url+url_append)\n",
    "res = requests.get(url)"
   ]
  },
  {
   "cell_type": "code",
   "execution_count": 13,
   "metadata": {},
   "outputs": [
    {
     "data": {
      "text/plain": [
       "200"
      ]
     },
     "execution_count": 13,
     "metadata": {},
     "output_type": "execute_result"
    }
   ],
   "source": [
    "# We can check if the request was successful\n",
    "res.status_code"
   ]
  },
  {
   "cell_type": "code",
   "execution_count": 14,
   "metadata": {
    "collapsed": true,
    "jupyter": {
     "outputs_hidden": true
    }
   },
   "outputs": [
    {
     "data": {
      "text/plain": [
       "{'$id': '1',\n",
       " '$type': 'Tfl.Api.Presentation.Entities.LondonAirForecast, Tfl.Api.Presentation.Entities',\n",
       " 'updatePeriod': 'hourly',\n",
       " 'updateFrequency': '1',\n",
       " 'forecastURL': 'http://londonair.org.uk/forecast',\n",
       " 'disclaimerText': 'This forecast is intended to provide information on expected pollution levels in areas of significant public exposure. It may not apply in very specific locations close to unusually strong or short-lived local sources of pollution.',\n",
       " 'currentForecast': [{'$id': '2',\n",
       "   '$type': 'Tfl.Api.Presentation.Entities.CurrentForecast, Tfl.Api.Presentation.Entities',\n",
       "   'forecastType': 'Current',\n",
       "   'forecastID': '33070',\n",
       "   'forecastBand': 'Low',\n",
       "   'forecastSummary': 'Low air pollution forecast valid from Friday 20 August to end of Saturday 21 August GMT',\n",
       "   'nO2Band': 'Low',\n",
       "   'o3Band': 'Low',\n",
       "   'pM10Band': 'Low',\n",
       "   'pM25Band': 'Low',\n",
       "   'sO2Band': 'Low',\n",
       "   'forecastText': 'Generally cloudy but mostly dry, as any patchy light rain and drizzle gradually dies away. Some bright spells may develop. Feeling slightly warmer with lighter winds than of late. &lt;br/&gt;&lt;br/&gt;A westerly breeze will continue to bring a relatively &#39;clean&#39; feed of maritime air. With this breeze local emissions should be dispersed. &lt;br/&gt;&lt;br/&gt;Air pollution is expected to remain &#39;Low&#39; for the following pollutants during the forecast period:&lt;br/&gt;&lt;br/&gt;Nitrogen Dioxide&lt;br/&gt;Ozone&lt;br/&gt;Sulphur Dioxide&lt;br/&gt;PM10 Particulates&lt;br/&gt;PM2.5 Particulates'},\n",
       "  {'$id': '3',\n",
       "   '$type': 'Tfl.Api.Presentation.Entities.CurrentForecast, Tfl.Api.Presentation.Entities',\n",
       "   'forecastType': 'Future',\n",
       "   'forecastID': '33085',\n",
       "   'forecastBand': 'Low',\n",
       "   'forecastSummary': 'Low air pollution forecast valid from Sunday 22 August to end of Monday 23 August GMT',\n",
       "   'nO2Band': 'Low',\n",
       "   'o3Band': 'Low',\n",
       "   'pM10Band': 'Low',\n",
       "   'pM25Band': 'Low',\n",
       "   'sO2Band': 'Low',\n",
       "   'forecastText': 'A rather unsettled day on Sunday, with a mixture of cloud, rain showers and some sunshine. &lt;br/&gt;&lt;br/&gt;A fair breeze should give good local dispersion while a maritime air feed will bear little by way of imported pollution.&lt;br/&gt;&lt;br/&gt;Broadly similar conditions are then expected during Monday.&lt;br/&gt;&lt;br/&gt;Air pollution is expected to remain &#39;Low&#39; for the following pollutants during the forecast period:&lt;br/&gt;&lt;br/&gt;Nitrogen Dioxide&lt;br/&gt;Ozone&lt;br/&gt;Sulphur Dioxide&lt;br/&gt;PM10 Particulates&lt;br/&gt;PM2.5 Particulates'}]}"
      ]
     },
     "execution_count": 14,
     "metadata": {},
     "output_type": "execute_result"
    }
   ],
   "source": [
    "# We can export the information that was returned using method .json()\n",
    "res.json()"
   ]
  },
  {
   "cell_type": "markdown",
   "metadata": {},
   "source": [
    "## Task\n",
    "Parse the dictionary and print the AirQuality predictions for tomorrow"
   ]
  },
  {
   "cell_type": "code",
   "execution_count": null,
   "metadata": {},
   "outputs": [],
   "source": [
    "#dict_keys(['$id', '$type', 'updatePeriod', 'updateFrequency', 'forecastURL', 'disclaimerText', 'currentForecast'])\n",
    "#id - String\n",
    "#type - String\n",
    "#updatePeriod - String Hourly\n",
    "#updateFrequency - String\n",
    "#forecastURL - string\n",
    "#disclaimerText - string\n",
    "#currentForecast list - 2\n",
    "    # Dictionary\n",
    "    # Dictionary 12 keys"
   ]
  },
  {
   "cell_type": "code",
   "execution_count": 15,
   "metadata": {},
   "outputs": [
    {
     "name": "stdout",
     "output_type": "stream",
     "text": [
      "Status code:200\n"
     ]
    }
   ],
   "source": [
    "AirQuality = get_data_from_url(\"https://api.tfl.gov.uk/AirQuality\")"
   ]
  },
  {
   "cell_type": "code",
   "execution_count": 16,
   "metadata": {
    "collapsed": true,
    "jupyter": {
     "outputs_hidden": true
    }
   },
   "outputs": [
    {
     "name": "stdout",
     "output_type": "stream",
     "text": [
      "Tomorrow's Forecast: A rather unsettled day on Sunday, with a mixture of cloud, rain showers and some sunshine. &lt;br/&gt;&lt;br/&gt;A fair breeze should give good local dispersion while a maritime air feed will bear little by way of imported pollution.&lt;br/&gt;&lt;br/&gt;Broadly similar conditions are then expected during Monday.&lt;br/&gt;&lt;br/&gt;Air pollution is expected to remain &#39;Low&#39; for the following pollutants during the forecast period:&lt;br/&gt;&lt;br/&gt;Nitrogen Dioxide&lt;br/&gt;Ozone&lt;br/&gt;Sulphur Dioxide&lt;br/&gt;PM10 Particulates&lt;br/&gt;PM2.5 Particulates\n"
     ]
    }
   ],
   "source": [
    "tomorrows_forecast = AirQuality['currentForecast'][1]['forecastText']\n",
    "\n",
    "print(\"Tomorrow's Forecast:\", tomorrows_forecast)"
   ]
  },
  {
   "cell_type": "markdown",
   "metadata": {},
   "source": [
    "## Task\n",
    "What are the different modes of transport which are operated by Transfer for London? How many of modes do they have?\n",
    "\n",
    "Print the list with different modes of transport, plus their count. Example output:\n",
    "```\n",
    "[bus, cable-car,.....]\n",
    "Number of different modes of transport is: xyz\n",
    "```\n",
    "\n",
    "We need to search the documentation for correct request."
   ]
  },
  {
   "cell_type": "code",
   "execution_count": 17,
   "metadata": {},
   "outputs": [
    {
     "name": "stdout",
     "output_type": "stream",
     "text": [
      "Status code:200\n"
     ]
    }
   ],
   "source": [
    "# URL\n",
    "modes = get_data_from_url(\"https://api.tfl.gov.uk/Line/Meta/Modes\")"
   ]
  },
  {
   "cell_type": "code",
   "execution_count": 18,
   "metadata": {},
   "outputs": [
    {
     "name": "stdout",
     "output_type": "stream",
     "text": [
      "['bus', 'cable-car', 'coach', 'cycle', 'cycle-hire', 'dlr', 'interchange-keep-sitting', 'interchange-secure', 'national-rail', 'overground', 'replacement-bus', 'river-bus', 'river-tour', 'taxi', 'tflrail', 'tram', 'tube', 'walking']\n",
      "Number of different modes of transport is: 18\n"
     ]
    }
   ],
   "source": [
    "modes_transport = [ elem['modeName'] for elem in modes]\n",
    "print(modes_transport)\n",
    "print(f\"Number of different modes of transport is: {len(modes_transport)}\")"
   ]
  },
  {
   "cell_type": "code",
   "execution_count": 182,
   "metadata": {},
   "outputs": [],
   "source": [
    "#JSON(modes)"
   ]
  },
  {
   "cell_type": "markdown",
   "metadata": {},
   "source": [
    "## Task\n",
    "How many BikePoints in London are operated by Transfor for London? How many docks are in **all** BikePoints? There is the information for empty and full docks for each BikePoint."
   ]
  },
  {
   "cell_type": "code",
   "execution_count": 19,
   "metadata": {},
   "outputs": [
    {
     "name": "stdout",
     "output_type": "stream",
     "text": [
      "Status code:200\n"
     ]
    }
   ],
   "source": [
    "bike_points = get_data_from_url(\"https://api.tfl.gov.uk/BikePoint/\")"
   ]
  },
  {
   "cell_type": "code",
   "execution_count": 20,
   "metadata": {},
   "outputs": [
    {
     "name": "stdout",
     "output_type": "stream",
     "text": [
      "784 are operated by Transport of London\n",
      "There are 20831 docks in total\n"
     ]
    }
   ],
   "source": [
    "total_bike_points = len(bike_points)\n",
    "all_docks = [ int(elem['additionalProperties'][8]['value']) for elem in bike_points]\n",
    "\n",
    "print(f\"{total_bike_points} are operated by Transport of London\")\n",
    "print(f\"There are {sum(all_docks)} docks in total\")"
   ]
  },
  {
   "cell_type": "code",
   "execution_count": 181,
   "metadata": {},
   "outputs": [],
   "source": [
    "#JSON(bike_points)"
   ]
  },
  {
   "cell_type": "markdown",
   "metadata": {},
   "source": [
    "## Task\n",
    "How many tube and bus lines are in London? Print names of all tube lines."
   ]
  },
  {
   "cell_type": "code",
   "execution_count": 21,
   "metadata": {},
   "outputs": [
    {
     "name": "stdout",
     "output_type": "stream",
     "text": [
      "Status code:200\n"
     ]
    }
   ],
   "source": [
    "# Gets lines that serve the given modes    https://api.tfl.gov.uk/Line/Mode/tube%2Cbus\n",
    "tb_lines = get_data_from_url(\"https://api.tfl.gov.uk/Line/Mode/tube%2Cbus\")\n",
    "# bus_lines = get_data_from_url(\"https://api.tfl.gov.uk/Line/Mode/bus\")\n",
    "# tube_lines = get_data_from_url(\"https://api.tfl.gov.uk/Line/Mode/tube\")"
   ]
  },
  {
   "cell_type": "code",
   "execution_count": 22,
   "metadata": {},
   "outputs": [
    {
     "name": "stdout",
     "output_type": "stream",
     "text": [
      "There are 659 bus lines\n",
      "There are 11 tube lines\n",
      "Tube lines are ['Bakerloo', 'Central', 'Circle', 'District', 'Hammersmith & City', 'Jubilee', 'Metropolitan', 'Northern', 'Piccadilly', 'Victoria', 'Waterloo & City']\n"
     ]
    }
   ],
   "source": [
    "list_a = set([line['modeName'] for line in tb_lines])\n",
    "\n",
    "total_tube_lines = 0\n",
    "total_bus_lines = 0\n",
    "\n",
    "tube_lines = []\n",
    "for line in tb_lines:\n",
    "    if line['modeName'] == \"tube\":\n",
    "        total_tube_lines += 1\n",
    "        tube_lines.append(line['name'])\n",
    "    if line['modeName'] == \"bus\":\n",
    "        total_bus_lines += 1\n",
    "\n",
    "print(f\"There are {total_bus_lines} bus lines\")    \n",
    "print(f\"There are {total_tube_lines} tube lines\")\n",
    "print(f\"Tube lines are {tube_lines}\")"
   ]
  },
  {
   "cell_type": "code",
   "execution_count": 197,
   "metadata": {},
   "outputs": [],
   "source": [
    "#JSON(tb_lines)"
   ]
  },
  {
   "cell_type": "markdown",
   "metadata": {},
   "source": [
    "## Task\n",
    "How many station has `victoria` line?"
   ]
  },
  {
   "cell_type": "code",
   "execution_count": 23,
   "metadata": {},
   "outputs": [
    {
     "name": "stdout",
     "output_type": "stream",
     "text": [
      "Status code:200\n"
     ]
    }
   ],
   "source": [
    "victoria_stations = get_data_from_url(\"https://api.tfl.gov.uk/Line/victoria/StopPoints\")"
   ]
  },
  {
   "cell_type": "code",
   "execution_count": 24,
   "metadata": {},
   "outputs": [
    {
     "name": "stdout",
     "output_type": "stream",
     "text": [
      "Victoria Line has 16 stations:\n",
      "['Blackhorse Road Underground Station', 'Brixton Underground Station', 'Euston Underground Station', 'Finsbury Park Underground Station', 'Green Park Underground Station', 'Highbury & Islington Underground Station', \"King's Cross St. Pancras Underground Station\", 'Oxford Circus Underground Station', 'Pimlico Underground Station', 'Stockwell Underground Station', 'Seven Sisters Underground Station', 'Tottenham Hale Underground Station', 'Victoria Underground Station', 'Vauxhall Underground Station', 'Warren Street Underground Station', 'Walthamstow Central Underground Station']\n"
     ]
    }
   ],
   "source": [
    "stations_names = [station['commonName'] for station in victoria_stations]\n",
    "print(f\"Victoria Line has {len(victoria_stations)} stations:\")\n",
    "print(stations_names)"
   ]
  },
  {
   "cell_type": "code",
   "execution_count": 205,
   "metadata": {},
   "outputs": [],
   "source": [
    "#JSON(victoria_stations)"
   ]
  },
  {
   "cell_type": "raw",
   "metadata": {},
   "source": [
    "JSON(res)"
   ]
  },
  {
   "cell_type": "markdown",
   "metadata": {},
   "source": [
    "## Task\n",
    "Plan the journey from Heathrow Airport to Tower Bridge using Bus and Tube? Which way is faster? Example output:\n",
    "```\n",
    "Planned duration:\n",
    "Bus: x minutes\n",
    "Tube: y minutes\n",
    "```\n",
    "\n",
    "We need to search the documentation for correct requests and parameters we need."
   ]
  },
  {
   "cell_type": "code",
   "execution_count": null,
   "metadata": {},
   "outputs": [],
   "source": [
    "# \"https://api.tfl.gov.uk/Journey/Meta/Modes\"\n",
    "# /JourneyResults/{from}/to/{to}\n",
    "#journey_results = get_data_from_url(\"https://api.tfl.gov.uk/Journey/Meta/Modes\")"
   ]
  },
  {
   "cell_type": "code",
   "execution_count": 27,
   "metadata": {},
   "outputs": [
    {
     "name": "stdout",
     "output_type": "stream",
     "text": [
      "Status code:300\n"
     ]
    },
    {
     "data": {
      "application/json": {
       "$type": "Tfl.Api.Presentation.Entities.JourneyPlanner.DisambiguationResult, Tfl.Api.Presentation.Entities",
       "fromLocationDisambiguation": {
        "$type": "Tfl.Api.Presentation.Entities.JourneyPlanner.Disambiguation, Tfl.Api.Presentation.Entities",
        "disambiguationOptions": [
         {
          "$type": "Tfl.Api.Presentation.Entities.JourneyPlanner.DisambiguationOption, Tfl.Api.Presentation.Entities",
          "matchQuality": 791,
          "parameterValue": "51.46046306549,-0.44636767138",
          "place": {
           "$type": "Tfl.Api.Presentation.Entities.Place, Tfl.Api.Presentation.Entities",
           "additionalProperties": [],
           "commonName": "Hillingdon, Heathrow Airport Terminal 4 Arrivals",
           "lat": 51.46046306549,
           "lon": -0.44636767138,
           "placeType": "PointOfInterest",
           "url": "/Place/"
          },
          "uri": "/journey/journeyresults/51.46046306549,-0.44636767138/to/city%20of%20london,%20tower%20bridge?mode=bus"
         },
         {
          "$type": "Tfl.Api.Presentation.Entities.JourneyPlanner.DisambiguationOption, Tfl.Api.Presentation.Entities",
          "matchQuality": 791,
          "parameterValue": "51.47154455027,-0.45886341771",
          "place": {
           "$type": "Tfl.Api.Presentation.Entities.Place, Tfl.Api.Presentation.Entities",
           "additionalProperties": [],
           "commonName": "Hillingdon, Heathrow Airport Terminal 3 Arrivals",
           "lat": 51.471544550269996,
           "lon": -0.45886341771,
           "placeType": "PointOfInterest",
           "url": "/Place/"
          },
          "uri": "/journey/journeyresults/51.47154455027,-0.45886341771/to/city%20of%20london,%20tower%20bridge?mode=bus"
         },
         {
          "$type": "Tfl.Api.Presentation.Entities.JourneyPlanner.DisambiguationOption, Tfl.Api.Presentation.Entities",
          "matchQuality": 791,
          "parameterValue": "51.47212537413,-0.48689215164",
          "place": {
           "$type": "Tfl.Api.Presentation.Entities.Place, Tfl.Api.Presentation.Entities",
           "additionalProperties": [],
           "commonName": "Hillingdon, Heathrow Airport Terminal 5 Arrivals",
           "lat": 51.47212537413,
           "lon": -0.48689215164,
           "placeType": "PointOfInterest",
           "url": "/Place/"
          },
          "uri": "/journey/journeyresults/51.47212537413,-0.48689215164/to/city%20of%20london,%20tower%20bridge?mode=bus"
         }
        ],
        "matchStatus": "list"
       },
       "journeyVector": {
        "$type": "Tfl.Api.Presentation.Entities.JourneyPlanner.JourneyVector, Tfl.Api.Presentation.Entities",
        "from": "Heathrow Airport, Heathrow, Terminal 2 Arrivals",
        "to": "City of London, Tower Bridge",
        "uri": "/journey/journeyresults/heathrow%20airport,%20heathrow,%20terminal%202%20arrivals/to/city%20of%20london,%20tower%20bridge?mode=bus",
        "via": ""
       },
       "recommendedMaxAgeMinutes": 1440,
       "searchCriteria": {
        "$type": "Tfl.Api.Presentation.Entities.JourneyPlanner.SearchCriteria, Tfl.Api.Presentation.Entities",
        "dateTime": "2021-08-21T01:43:00",
        "dateTimeType": "Departing"
       },
       "toLocationDisambiguation": {
        "$type": "Tfl.Api.Presentation.Entities.JourneyPlanner.Disambiguation, Tfl.Api.Presentation.Entities",
        "matchStatus": "identified"
       },
       "viaLocationDisambiguation": {
        "$type": "Tfl.Api.Presentation.Entities.JourneyPlanner.Disambiguation, Tfl.Api.Presentation.Entities",
        "matchStatus": "empty"
       }
      },
      "text/plain": [
       "<IPython.core.display.JSON object>"
      ]
     },
     "execution_count": 27,
     "metadata": {
      "application/json": {
       "expanded": false,
       "root": "root"
      }
     },
     "output_type": "execute_result"
    }
   ],
   "source": [
    "# Plan_tube\n",
    "plan_tube_via = get_data_from_url(\"https://api.tfl.gov.uk/Journey/JourneyResults/Heathrow%20Airport%2C%20Heathrow%2C%20Terminal%202%20Arrivals/to/City%20of%20London%2C%20Tower%20Bridge?mode=bus\")\n",
    "\n",
    "JSON(plan_tube_via)"
   ]
  },
  {
   "cell_type": "code",
   "execution_count": 28,
   "metadata": {},
   "outputs": [
    {
     "name": "stdout",
     "output_type": "stream",
     "text": [
      "Status code:200\n",
      "Status code:200\n",
      "Planned duration:\n",
      "Bus 130 minutes.\n",
      "Tube 89 minutes.\n"
     ]
    }
   ],
   "source": [
    "plan_tube = get_data_from_url(\"https://api.tfl.gov.uk/Journey/JourneyResults/Hillingdon%2C%20Heathrow%20Airport%20Terminal%203%20Arrivals/to/City%20of%20London%2C%20Tower%20Bridge?mode=tube\")\n",
    "plan_bus = get_data_from_url(\"https://api.tfl.gov.uk/Journey/JourneyResults/Hillingdon%2C%20Heathrow%20Airport%20Terminal%203%20Arrivals/to/City%20of%20London%2C%20Tower%20Bridge?mode=bus\")\n",
    "\n",
    "tube_time = [ journey['duration'] for journey in plan_tube['journeys']]\n",
    "bus_time = [ journey['duration'] for journey in plan_bus['journeys']]\n",
    "\n",
    "print(\"Planned duration:\")\n",
    "print(f\"Bus {min(bus_time)} minutes.\")\n",
    "print(f\"Tube {min(tube_time)} minutes.\")"
   ]
  },
  {
   "cell_type": "code",
   "execution_count": 29,
   "metadata": {},
   "outputs": [
    {
     "data": {
      "application/json": {
       "$type": "Tfl.Api.Presentation.Entities.JourneyPlanner.ItineraryResult, Tfl.Api.Presentation.Entities",
       "journeyVector": {
        "$type": "Tfl.Api.Presentation.Entities.JourneyPlanner.JourneyVector, Tfl.Api.Presentation.Entities",
        "from": "Hillingdon, Heathrow Airport Terminal 3 Arrivals",
        "to": "City of London, Tower Bridge",
        "uri": "/journey/journeyresults/hillingdon,%20heathrow%20airport%20terminal%203%20arrivals/to/city%20of%20london,%20tower%20bridge?mode=tube",
        "via": ""
       },
       "journeys": [
        {
         "$type": "Tfl.Api.Presentation.Entities.JourneyPlanner.Journey, Tfl.Api.Presentation.Entities",
         "arrivalDateTime": "2021-08-21T05:35:00",
         "duration": 326,
         "legs": [
          {
           "$type": "Tfl.Api.Presentation.Entities.JourneyPlanner.Leg, Tfl.Api.Presentation.Entities",
           "arrivalPoint": {
            "$type": "Tfl.Api.Presentation.Entities.StopPoint, Tfl.Api.Presentation.Entities",
            "additionalProperties": [],
            "commonName": "Heathrow Terminals 2 & 3 Underground Station",
            "icsCode": "1000105",
            "lat": 51.471637629,
            "lon": -0.45295694328,
            "naptanId": "940GZZLUHRC",
            "placeType": "StopPoint",
            "platformName": ""
           },
           "arrivalTime": "2021-08-21T00:21:00",
           "departurePoint": {
            "$type": "Tfl.Api.Presentation.Entities.StopPoint, Tfl.Api.Presentation.Entities",
            "additionalProperties": [],
            "commonName": "Hillingdon, Heathrow Airport Terminal 3 Arrivals",
            "icsCode": "99999997",
            "lat": 51.471544550269996,
            "lon": -0.45886341771,
            "placeType": "StopPoint",
            "platformName": ""
           },
           "departureTime": "2021-08-21T00:09:00",
           "disruptions": [],
           "distance": 340,
           "duration": 12,
           "hasFixedLocations": true,
           "instruction": {
            "$type": "Tfl.Api.Presentation.Entities.Instruction, Tfl.Api.Presentation.Entities",
            "detailed": "Walk to Heathrow Terminals 2 & 3 Underground Station",
            "steps": [
             {
              "$type": "Tfl.Api.Presentation.Entities.InstructionStep, Tfl.Api.Presentation.Entities",
              "cumulativeDistance": 340,
              "cumulativeTravelTime": 306,
              "description": " for 340 metres",
              "descriptionHeading": "Continue along ",
              "distance": 340,
              "latitude": 51.47155334938,
              "longitude": -0.45884872287,
              "pathAttribute": {
               "$type": "Tfl.Api.Presentation.Entities.PathAttribute, Tfl.Api.Presentation.Entities"
              },
              "skyDirection": 498,
              "skyDirectionDescription": "North",
              "streetName": "",
              "trackType": "None",
              "turnDirection": "STRAIGHT"
             }
            ],
            "summary": "Walk to Heathrow Terminals 2 & 3 Underground Station"
           },
           "isDisrupted": false,
           "mode": {
            "$type": "Tfl.Api.Presentation.Entities.Identifier, Tfl.Api.Presentation.Entities",
            "id": "walking",
            "name": "walking",
            "routeType": "Unknown",
            "status": "Unknown",
            "type": "Mode"
           },
           "obstacles": [
            {
             "$type": "Tfl.Api.Presentation.Entities.JourneyPlanner.Obstacle, Tfl.Api.Presentation.Entities",
             "incline": "DOWN",
             "position": "IDEST",
             "stopId": 1000105,
             "type": "RAMP"
            },
            {
             "$type": "Tfl.Api.Presentation.Entities.JourneyPlanner.Obstacle, Tfl.Api.Presentation.Entities",
             "incline": "DOWN",
             "position": "IDEST",
             "stopId": 1000105,
             "type": "ESCALATOR"
            }
           ],
           "path": {
            "$type": "Tfl.Api.Presentation.Entities.JourneyPlanner.Path, Tfl.Api.Presentation.Entities",
            "elevation": [],
            "lineString": "[[51.47154455027, -0.45886341771],[51.47155334938, -0.45884872287],[51.47077496803, -0.45778069358],[51.47149019312, -0.45473292627],[51.47145386087, -0.4547053571],[51.4714450785, -0.45267548951],[51.471637629, -0.45295694328],[51.47133397351, -0.45296249441]]",
            "stopPoints": []
           },
           "plannedWorks": [],
           "routeOptions": [
            {
             "$type": "Tfl.Api.Presentation.Entities.JourneyPlanner.RouteOption, Tfl.Api.Presentation.Entities",
             "directions": [
              ""
             ],
             "name": ""
            }
           ]
          },
          {
           "$type": "Tfl.Api.Presentation.Entities.JourneyPlanner.Leg, Tfl.Api.Presentation.Entities",
           "arrivalPoint": {
            "$type": "Tfl.Api.Presentation.Entities.StopPoint, Tfl.Api.Presentation.Entities",
            "additionalProperties": [],
            "commonName": "Acton Town Underground Station",
            "icsCode": "1000002",
            "lat": 51.502776640040004,
            "lon": -0.27985270577,
            "naptanId": "940GZZLUACT",
            "placeType": "StopPoint",
            "platformName": ""
           },
           "arrivalTime": "2021-08-21T00:44:00",
           "departurePoint": {
            "$type": "Tfl.Api.Presentation.Entities.StopPoint, Tfl.Api.Presentation.Entities",
            "additionalProperties": [],
            "commonName": "Heathrow Terminals 2 & 3 Underground Station",
            "icsCode": "1000105",
            "lat": 51.471637629,
            "lon": -0.45295694328,
            "naptanId": "940GZZLUHRC",
            "placeType": "StopPoint",
            "platformName": ""
           },
           "departureTime": "2021-08-21T00:21:00",
           "disruptions": [],
           "duration": 23,
           "hasFixedLocations": true,
           "instruction": {
            "$type": "Tfl.Api.Presentation.Entities.Instruction, Tfl.Api.Presentation.Entities",
            "detailed": "Piccadilly line towards Acton Town",
            "steps": [],
            "summary": "Piccadilly line to Acton Town"
           },
           "isDisrupted": false,
           "mode": {
            "$type": "Tfl.Api.Presentation.Entities.Identifier, Tfl.Api.Presentation.Entities",
            "id": "tube",
            "name": "tube",
            "routeType": "Unknown",
            "status": "Unknown",
            "type": "Mode"
           },
           "obstacles": [
            {
             "$type": "Tfl.Api.Presentation.Entities.JourneyPlanner.Obstacle, Tfl.Api.Presentation.Entities",
             "incline": "UP",
             "position": "AFTER",
             "stopId": 1000002,
             "type": "STAIRS"
            },
            {
             "$type": "Tfl.Api.Presentation.Entities.JourneyPlanner.Obstacle, Tfl.Api.Presentation.Entities",
             "incline": "DOWN",
             "position": "AFTER",
             "stopId": 1000002,
             "type": "STAIRS"
            }
           ],
           "path": {
            "$type": "Tfl.Api.Presentation.Entities.JourneyPlanner.Path, Tfl.Api.Presentation.Entities",
            "elevation": [],
            "lineString": "[[51.47133414008, -0.45297143671],[51.47129625217, -0.45093833188],[51.47119705219, -0.45023617707],[51.46562304245, -0.42736179058],[51.46551394189, -0.42660252651],[51.46550583066, -0.42599815248],[51.46559697209, -0.42541915544],[51.46638638497, -0.42360158321],[51.46638638497, -0.42360158321],[51.46680937918, -0.42262761335],[51.46718153783, -0.42154940001],[51.46922027601, -0.41469773922],[51.46967581535, -0.41314138278],[51.47188053313, -0.40662874577],[51.47266595611, -0.40421118384],[51.4731883564, -0.40229229392],[51.47494220963, -0.39704719586],[51.47507814629, -0.39646644862],[51.47513338514, -0.39590292812],[51.47512038717, -0.39495301203],[51.47498856672, -0.39386327385],[51.47478680503, -0.39291999464],[51.47423550195, -0.39075067401],[51.47358430283, -0.38851292937],[51.47345075673, -0.38795607167],[51.47337113566, -0.38739731574],[51.47335965335, -0.38656257661],[51.4733866923, -0.3859136657],[51.47341926289, -0.385734712],[51.47341926289, -0.385734712],[51.47387990381, -0.38320360757],[51.47400981566, -0.38219106752],[51.47403106901, -0.38112477083],[51.47390051231, -0.38013584652],[51.47368006827, -0.37915011351],[51.47336774641, -0.3780236576],[51.47223737126, -0.37496802597],[51.47157888271, -0.37287484377],[51.47133340786, -0.37138614109],[51.47123772117, -0.37032406734],[51.47125106032, -0.36869657304],[51.47133422543, -0.36620170922],[51.47133422543, -0.36620170922],[51.4713462021, -0.36584229009],[51.471437203, -0.36462956768],[51.47170628789, -0.36264734459],[51.47193784297, -0.36119919215],[51.47212169283, -0.36019909501],[51.47247924827, -0.35876079367],[51.4728923255, -0.35743566677],[51.47309198812, -0.35692453078],[51.47355472319, -0.35612620222],[51.47355472319, -0.35612620222],[51.47425972115, -0.35490986263],[51.47481464229, -0.35408352575],[51.47528513595, -0.35364900059],[51.47574088603, -0.35344539471],[51.47624258518, -0.35331212994],[51.47762670379, -0.35326228544],[51.47850114607, -0.35341800242],[51.47920219297, -0.35339275658],[51.4798650653, -0.35321047201],[51.48028385213, -0.35293616543],[51.48149076439, -0.35181184571],[51.48149076439, -0.35181184571],[51.48165077802, -0.35166277698],[51.48209207177, -0.35107079292],[51.48236279739, -0.35049935335],[51.48257878341, -0.34987227464],[51.48300527151, -0.34822943966],[51.48345936458, -0.34599508165],[51.48368842655, -0.34502183634],[51.48392951692, -0.34426418194],[51.48425966623, -0.34344568222],[51.48476834345, -0.34253428178],[51.49278966746, -0.32986928129],[51.49298247444, -0.32951650763],[51.49354004044, -0.32825725451],[51.4938018695, -0.3277002646],[51.49405676184, -0.32728757871],[51.49505998532, -0.32575263528],[51.49573468815, -0.32481625777],[51.49573468815, -0.32481625777],[51.49669122554, -0.3234886738],[51.49709621533, -0.32288314316],[51.49733208505, -0.32239906485],[51.49831750614, -0.31962555272],[51.49858208852, -0.31863613968],[51.49971676663, -0.31353113831],[51.49971676663, -0.31353113831],[51.50036424411, -0.31061752396],[51.50108944725, -0.30739114955],[51.50108944725, -0.30739114955],[51.50118391718, -0.30697082307],[51.50132127291, -0.30651908558],[51.50231360067, -0.30424901532],[51.502829938, -0.30264491839],[51.50303125403, -0.30164325011],[51.50329277414, -0.29983245096],[51.50433859847, -0.29320863743],[51.50460043866, -0.29204613102],[51.50562103371, -0.28865058866],[51.50578964306, -0.28788057234],[51.50587715008, -0.28709918206],[51.50585659227, -0.28630743346],[51.50570999464, -0.28550600685],[51.50538968178, -0.28450937827],[51.50364425624, -0.28137618171],[51.50277167788, -0.27986003801]]",
            "stopPoints": [
             {
              "$type": "Tfl.Api.Presentation.Entities.Identifier, Tfl.Api.Presentation.Entities",
              "id": "940GZZLUHNX",
              "name": "Hatton Cross Underground Station",
              "routeType": "Unknown",
              "status": "Unknown",
              "type": "StopPoint",
              "uri": "/StopPoint/940GZZLUHNX"
             },
             {
              "$type": "Tfl.Api.Presentation.Entities.Identifier, Tfl.Api.Presentation.Entities",
              "id": "940GZZLUHWT",
              "name": "Hounslow West Underground Station",
              "routeType": "Unknown",
              "status": "Unknown",
              "type": "StopPoint",
              "uri": "/StopPoint/940GZZLUHWT"
             },
             {
              "$type": "Tfl.Api.Presentation.Entities.Identifier, Tfl.Api.Presentation.Entities",
              "id": "940GZZLUHWC",
              "name": "Hounslow Central Underground Station",
              "routeType": "Unknown",
              "status": "Unknown",
              "type": "StopPoint",
              "uri": "/StopPoint/940GZZLUHWC"
             },
             {
              "$type": "Tfl.Api.Presentation.Entities.Identifier, Tfl.Api.Presentation.Entities",
              "id": "940GZZLUHWE",
              "name": "Hounslow East Underground Station",
              "routeType": "Unknown",
              "status": "Unknown",
              "type": "StopPoint",
              "uri": "/StopPoint/940GZZLUHWE"
             },
             {
              "$type": "Tfl.Api.Presentation.Entities.Identifier, Tfl.Api.Presentation.Entities",
              "id": "940GZZLUOSY",
              "name": "Osterley Underground Station",
              "routeType": "Unknown",
              "status": "Unknown",
              "type": "StopPoint",
              "uri": "/StopPoint/940GZZLUOSY"
             },
             {
              "$type": "Tfl.Api.Presentation.Entities.Identifier, Tfl.Api.Presentation.Entities",
              "id": "940GZZLUBOS",
              "name": "Boston Manor Underground Station",
              "routeType": "Unknown",
              "status": "Unknown",
              "type": "StopPoint",
              "uri": "/StopPoint/940GZZLUBOS"
             },
             {
              "$type": "Tfl.Api.Presentation.Entities.Identifier, Tfl.Api.Presentation.Entities",
              "id": "940GZZLUNFD",
              "name": "Northfields Underground Station",
              "routeType": "Unknown",
              "status": "Unknown",
              "type": "StopPoint",
              "uri": "/StopPoint/940GZZLUNFD"
             },
             {
              "$type": "Tfl.Api.Presentation.Entities.Identifier, Tfl.Api.Presentation.Entities",
              "id": "940GZZLUSEA",
              "name": "South Ealing Underground Station",
              "routeType": "Unknown",
              "status": "Unknown",
              "type": "StopPoint",
              "uri": "/StopPoint/940GZZLUSEA"
             },
             {
              "$type": "Tfl.Api.Presentation.Entities.Identifier, Tfl.Api.Presentation.Entities",
              "id": "940GZZLUACT",
              "name": "Acton Town Underground Station",
              "routeType": "Unknown",
              "status": "Unknown",
              "type": "StopPoint",
              "uri": "/StopPoint/940GZZLUACT"
             }
            ]
           },
           "plannedWorks": [],
           "routeOptions": [
            {
             "$type": "Tfl.Api.Presentation.Entities.JourneyPlanner.RouteOption, Tfl.Api.Presentation.Entities",
             "directions": [
              "Acton Town Underground Station"
             ],
             "lineIdentifier": {
              "$type": "Tfl.Api.Presentation.Entities.Identifier, Tfl.Api.Presentation.Entities",
              "crowding": {
               "$type": "Tfl.Api.Presentation.Entities.Crowding, Tfl.Api.Presentation.Entities"
              },
              "id": "piccadilly",
              "name": "Piccadilly",
              "routeType": "Unknown",
              "status": "Unknown",
              "type": "Line",
              "uri": "/Line/piccadilly"
             },
             "name": "Piccadilly"
            }
           ]
          },
          {
           "$type": "Tfl.Api.Presentation.Entities.JourneyPlanner.Leg, Tfl.Api.Presentation.Entities",
           "arrivalPoint": {
            "$type": "Tfl.Api.Presentation.Entities.StopPoint, Tfl.Api.Presentation.Entities",
            "additionalProperties": [],
            "commonName": "Ealing Broadway Underground Station",
            "icsCode": "1000062",
            "lat": 51.515198654260004,
            "lon": -0.30107544683,
            "naptanId": "940GZZLUEBY",
            "placeType": "StopPoint",
            "platformName": ""
           },
           "arrivalTime": "2021-08-21T00:54:00",
           "departurePoint": {
            "$type": "Tfl.Api.Presentation.Entities.StopPoint, Tfl.Api.Presentation.Entities",
            "additionalProperties": [],
            "commonName": "Acton Town Underground Station",
            "icsCode": "1000002",
            "lat": 51.502887867919995,
            "lon": -0.28007905392,
            "naptanId": "940GZZLUACT",
            "placeType": "StopPoint",
            "platformName": ""
           },
           "departureTime": "2021-08-21T00:48:00",
           "disruptions": [],
           "duration": 6,
           "hasFixedLocations": true,
           "instruction": {
            "$type": "Tfl.Api.Presentation.Entities.Instruction, Tfl.Api.Presentation.Entities",
            "detailed": "District line towards Ealing Broadway",
            "steps": [],
            "summary": "District line to Ealing Broadway"
           },
           "isDisrupted": false,
           "mode": {
            "$type": "Tfl.Api.Presentation.Entities.Identifier, Tfl.Api.Presentation.Entities",
            "id": "tube",
            "name": "tube",
            "routeType": "Unknown",
            "status": "Unknown",
            "type": "Mode"
           },
           "obstacles": [
            {
             "$type": "Tfl.Api.Presentation.Entities.JourneyPlanner.Obstacle, Tfl.Api.Presentation.Entities",
             "incline": "LEVEL",
             "position": "AFTER",
             "stopId": 1000062,
             "type": "WALKWAY"
            }
           ],
           "path": {
            "$type": "Tfl.Api.Presentation.Entities.JourneyPlanner.Path, Tfl.Api.Presentation.Entities",
            "elevation": [],
            "lineString": "[[51.50289319766, -0.28007117856],[51.50364425624, -0.28137618171],[51.50538968178, -0.28450937827],[51.50602209238, -0.28594098697],[51.50639920459, -0.28651763007],[51.50673762993, -0.28690840696],[51.50712829613, -0.28718195194],[51.50763579834, -0.2874511209],[51.50825135939, -0.2877306549],[51.50891958304, -0.28792175979],[51.50993997786, -0.28819875263],[51.50993997786, -0.28819875263],[51.51003906981, -0.28822565243],[51.51038038204, -0.28819844899],[51.51205977025, -0.28804903199],[51.51313447714, -0.28774933211],[51.51367330211, -0.28770030484],[51.51413397365, -0.28784156363],[51.51453299444, -0.28807160963],[51.51483399388, -0.288362983],[51.5150260927, -0.2885863798],[51.51507438402, -0.29189941031],[51.51521182831, -0.29516588096],[51.51520242295, -0.30107546248]]",
            "stopPoints": [
             {
              "$type": "Tfl.Api.Presentation.Entities.Identifier, Tfl.Api.Presentation.Entities",
              "id": "940GZZLUECM",
              "name": "Ealing Common Underground Station",
              "routeType": "Unknown",
              "status": "Unknown",
              "type": "StopPoint",
              "uri": "/StopPoint/940GZZLUECM"
             },
             {
              "$type": "Tfl.Api.Presentation.Entities.Identifier, Tfl.Api.Presentation.Entities",
              "id": "940GZZLUEBY",
              "name": "Ealing Broadway Underground Station",
              "routeType": "Unknown",
              "status": "Unknown",
              "type": "StopPoint",
              "uri": "/StopPoint/940GZZLUEBY"
             }
            ]
           },
           "plannedWorks": [],
           "routeOptions": [
            {
             "$type": "Tfl.Api.Presentation.Entities.JourneyPlanner.RouteOption, Tfl.Api.Presentation.Entities",
             "directions": [
              "Ealing Broadway Underground Station"
             ],
             "lineIdentifier": {
              "$type": "Tfl.Api.Presentation.Entities.Identifier, Tfl.Api.Presentation.Entities",
              "crowding": {
               "$type": "Tfl.Api.Presentation.Entities.Crowding, Tfl.Api.Presentation.Entities"
              },
              "id": "district",
              "name": "District",
              "routeType": "Unknown",
              "status": "Unknown",
              "type": "Line",
              "uri": "/Line/district"
             },
             "name": "District"
            }
           ]
          },
          {
           "$type": "Tfl.Api.Presentation.Entities.JourneyPlanner.Leg, Tfl.Api.Presentation.Entities",
           "arrivalPoint": {
            "$type": "Tfl.Api.Presentation.Entities.StopPoint, Tfl.Api.Presentation.Entities",
            "additionalProperties": [],
            "commonName": "White City Underground Station",
            "icsCode": "1000269",
            "lat": 51.51200238775,
            "lon": -0.22430939357,
            "naptanId": "940GZZLUWCY",
            "placeType": "StopPoint",
            "platformName": ""
           },
           "arrivalTime": "2021-08-21T01:17:00",
           "departurePoint": {
            "$type": "Tfl.Api.Presentation.Entities.StopPoint, Tfl.Api.Presentation.Entities",
            "additionalProperties": [],
            "commonName": "Ealing Broadway Underground Station",
            "icsCode": "1000062",
            "lat": 51.515204078100005,
            "lon": -0.3014499667,
            "naptanId": "940GZZLUEBY",
            "placeType": "StopPoint",
            "platformName": ""
           },
           "departureTime": "2021-08-21T01:08:00",
           "disruptions": [],
           "duration": 9,
           "hasFixedLocations": true,
           "instruction": {
            "$type": "Tfl.Api.Presentation.Entities.Instruction, Tfl.Api.Presentation.Entities",
            "detailed": "Central line towards White City",
            "steps": [],
            "summary": "Central line to White City"
           },
           "isDisrupted": false,
           "mode": {
            "$type": "Tfl.Api.Presentation.Entities.Identifier, Tfl.Api.Presentation.Entities",
            "id": "tube",
            "name": "tube",
            "routeType": "Unknown",
            "status": "Unknown",
            "type": "Mode"
           },
           "obstacles": [],
           "path": {
            "$type": "Tfl.Api.Presentation.Entities.JourneyPlanner.Path, Tfl.Api.Presentation.Entities",
            "elevation": [],
            "lineString": "[[51.51520181689, -0.3014499573],[51.51521182831, -0.29516588096],[51.51507438402, -0.29189941031],[51.5150260927, -0.2885863798],[51.51507801835, -0.28721525997],[51.51516383582, -0.28631847323],[51.51534871847, -0.28543237569],[51.51562388975, -0.28457170394],[51.51592019071, -0.28392641689],[51.51781304001, -0.28116000174],[51.51819013421, -0.28063760282],[51.51819013421, -0.28063760282],[51.51971671151, -0.27852267072],[51.52263331871, -0.27444862894],[51.52419163228, -0.27218418879],[51.52446259902, -0.27165497989],[51.52481062689, -0.27086336771],[51.52504096419, -0.27001854147],[51.52508228848, -0.26977191102],[51.52515764864, -0.26939424967],[51.52522253202, -0.2689160752],[51.52522322618, -0.26835384078],[51.52518047028, -0.26789416423],[51.52498864193, -0.26647430682],[51.52488147676, -0.26591617259],[51.52457108449, -0.26438551709],[51.52447417613, -0.26391349478],[51.52397056394, -0.26148206307],[51.52361749055, -0.2597087199],[51.52361749055, -0.2597087199],[51.52326127212, -0.25791974413],[51.52293173117, -0.25631785261],[51.52257007747, -0.2549766776],[51.52237019843, -0.25423475294],[51.52211767819, -0.25358133646],[51.52179368551, -0.25295949144],[51.52103100332, -0.2518643629],[51.51973419697, -0.25053028517],[51.51729676551, -0.24808697043],[51.51711074932, -0.24785435522],[51.51711074932, -0.24785435522],[51.5166369885, -0.24726192337],[51.51626824235, -0.24665632781],[51.51595147789, -0.24591903085],[51.51547841164, -0.24435182264],[51.51537157395, -0.24382266711],[51.51527601991, -0.24284629259],[51.51526112671, -0.24185240386],[51.51532667783, -0.24082659147],[51.51603788428, -0.23310278488],[51.51611104305, -0.23199017013],[51.51612323639, -0.23100962884],[51.51608215073, -0.23007439051],[51.51595734613, -0.22895503511],[51.5157895538, -0.22796706824],[51.51555797235, -0.22692393499],[51.51521744684, -0.22581298249],[51.51502370565, -0.22548902404],[51.51470414386, -0.22516995878],[51.51434972264, -0.22492431423],[51.51358870024, -0.22455036123],[51.51310099726, -0.22441079283],[51.51200243291, -0.22430815205]]",
            "stopPoints": [
             {
              "$type": "Tfl.Api.Presentation.Entities.Identifier, Tfl.Api.Presentation.Entities",
              "id": "940GZZLUWTA",
              "name": "West Acton Underground Station",
              "routeType": "Unknown",
              "status": "Unknown",
              "type": "StopPoint",
              "uri": "/StopPoint/940GZZLUWTA"
             },
             {
              "$type": "Tfl.Api.Presentation.Entities.Identifier, Tfl.Api.Presentation.Entities",
              "id": "940GZZLUNAN",
              "name": "North Acton Underground Station",
              "routeType": "Unknown",
              "status": "Unknown",
              "type": "StopPoint",
              "uri": "/StopPoint/940GZZLUNAN"
             },
             {
              "$type": "Tfl.Api.Presentation.Entities.Identifier, Tfl.Api.Presentation.Entities",
              "id": "940GZZLUWCY",
              "name": "White City Underground Station",
              "routeType": "Unknown",
              "status": "Unknown",
              "type": "StopPoint",
              "uri": "/StopPoint/940GZZLUWCY"
             }
            ]
           },
           "plannedWorks": [],
           "routeOptions": [
            {
             "$type": "Tfl.Api.Presentation.Entities.JourneyPlanner.RouteOption, Tfl.Api.Presentation.Entities",
             "directions": [
              "White City Underground Station"
             ],
             "lineIdentifier": {
              "$type": "Tfl.Api.Presentation.Entities.Identifier, Tfl.Api.Presentation.Entities",
              "crowding": {
               "$type": "Tfl.Api.Presentation.Entities.Crowding, Tfl.Api.Presentation.Entities"
              },
              "id": "central",
              "name": "Central",
              "routeType": "Unknown",
              "status": "Unknown",
              "type": "Line",
              "uri": "/Line/central"
             },
             "name": "Central"
            }
           ]
          },
          {
           "$type": "Tfl.Api.Presentation.Entities.JourneyPlanner.Leg, Tfl.Api.Presentation.Entities",
           "arrivalPoint": {
            "$type": "Tfl.Api.Presentation.Entities.StopPoint, Tfl.Api.Presentation.Entities",
            "additionalProperties": [],
            "commonName": "Wood Lane Underground Station",
            "icsCode": "1000278",
            "lat": 51.50969051594,
            "lon": -0.22425517359,
            "naptanId": "940GZZLUWLA",
            "placeType": "StopPoint",
            "platformName": ""
           },
           "arrivalTime": "2021-08-21T01:28:00",
           "departurePoint": {
            "$type": "Tfl.Api.Presentation.Entities.StopPoint, Tfl.Api.Presentation.Entities",
            "additionalProperties": [],
            "commonName": "White City Underground Station",
            "icsCode": "1000269",
            "lat": 51.51200238775,
            "lon": -0.22430939357,
            "naptanId": "940GZZLUWCY",
            "placeType": "StopPoint",
            "platformName": ""
           },
           "departureTime": "2021-08-21T01:17:00",
           "disruptions": [],
           "duration": 11,
           "hasFixedLocations": true,
           "instruction": {
            "$type": "Tfl.Api.Presentation.Entities.Instruction, Tfl.Api.Presentation.Entities",
            "detailed": "Walk to Wood Lane",
            "steps": [
             {
              "$type": "Tfl.Api.Presentation.Entities.InstructionStep, Tfl.Api.Presentation.Entities",
              "cumulativeDistance": 23,
              "cumulativeTravelTime": 21,
              "description": "Wood Lane for 23 metres",
              "descriptionHeading": "Continue along ",
              "distance": 23,
              "latitude": 51.51196399278,
              "longitude": -0.22474323091,
              "pathAttribute": {
               "$type": "Tfl.Api.Presentation.Entities.PathAttribute, Tfl.Api.Presentation.Entities"
              },
              "skyDirection": 529,
              "skyDirectionDescription": "North",
              "streetName": "Wood Lane",
              "trackType": "None",
              "turnDirection": "STRAIGHT"
             }
            ],
            "summary": "Walk to Wood Lane"
           },
           "isDisrupted": false,
           "mode": {
            "$type": "Tfl.Api.Presentation.Entities.Identifier, Tfl.Api.Presentation.Entities",
            "id": "walking",
            "name": "walking",
            "routeType": "Unknown",
            "status": "Unknown",
            "type": "Mode"
           },
           "obstacles": [
            {
             "$type": "Tfl.Api.Presentation.Entities.JourneyPlanner.Obstacle, Tfl.Api.Presentation.Entities",
             "incline": "UP",
             "position": "IDEST",
             "stopId": 1000269,
             "type": "STAIRS"
            },
            {
             "$type": "Tfl.Api.Presentation.Entities.JourneyPlanner.Obstacle, Tfl.Api.Presentation.Entities",
             "incline": "DOWN",
             "position": "IDEST",
             "stopId": 1000269,
             "type": "STAIRS"
            },
            {
             "$type": "Tfl.Api.Presentation.Entities.JourneyPlanner.Obstacle, Tfl.Api.Presentation.Entities",
             "incline": "LEVEL",
             "position": "IDEST",
             "stopId": 1000269,
             "type": "WALKWAY"
            },
            {
             "$type": "Tfl.Api.Presentation.Entities.JourneyPlanner.Obstacle, Tfl.Api.Presentation.Entities",
             "incline": "LEVEL",
             "position": "IDEST",
             "stopId": 1000269,
             "type": "WALKWAY"
            },
            {
             "$type": "Tfl.Api.Presentation.Entities.JourneyPlanner.Obstacle, Tfl.Api.Presentation.Entities",
             "incline": "UP",
             "position": "IDEST",
             "stopId": 1000278,
             "type": "STAIRS"
            }
           ],
           "path": {
            "$type": "Tfl.Api.Presentation.Entities.JourneyPlanner.Path, Tfl.Api.Presentation.Entities",
            "elevation": [],
            "lineString": "[[51.51200238775, -0.22430939357],[51.51205565634, -0.22426408776],[51.51196399278, -0.22474323091],[51.51196399278, -0.22474323091],[51.51194423282, -0.22488664324],[51.51173871726, -0.22483375089],[51.51187564743, -0.2248475454],[51.50967559418, -0.22445750438],[51.50969051594, -0.22425517359]]",
            "stopPoints": [
             {
              "$type": "Tfl.Api.Presentation.Entities.Identifier, Tfl.Api.Presentation.Entities",
              "name": "Wood Lane",
              "routeType": "Unknown",
              "status": "Unknown",
              "type": "StopPoint",
              "uri": "/StopPoint/"
             }
            ]
           },
           "plannedWorks": [],
           "routeOptions": [
            {
             "$type": "Tfl.Api.Presentation.Entities.JourneyPlanner.RouteOption, Tfl.Api.Presentation.Entities",
             "directions": [
              ""
             ],
             "name": ""
            }
           ]
          },
          {
           "$type": "Tfl.Api.Presentation.Entities.JourneyPlanner.Leg, Tfl.Api.Presentation.Entities",
           "arrivalPoint": {
            "$type": "Tfl.Api.Presentation.Entities.StopPoint, Tfl.Api.Presentation.Entities",
            "additionalProperties": [],
            "commonName": "Aldgate Underground Station",
            "icsCode": "1000003",
            "lat": 51.514142438840004,
            "lon": -0.07550562182,
            "naptanId": "940GZZLUALD",
            "placeType": "StopPoint",
            "platformName": ""
           },
           "arrivalTime": "2021-08-21T05:12:00",
           "departurePoint": {
            "$type": "Tfl.Api.Presentation.Entities.StopPoint, Tfl.Api.Presentation.Entities",
            "additionalProperties": [],
            "commonName": "Wood Lane Underground Station",
            "icsCode": "1000278",
            "lat": 51.50969051594,
            "lon": -0.22425517359,
            "naptanId": "940GZZLUWLA",
            "placeType": "StopPoint",
            "platformName": ""
           },
           "departureTime": "2021-08-21T04:41:00",
           "disruptions": [
            {
             "$type": "Tfl.Api.Presentation.Entities.Disruption, Tfl.Api.Presentation.Entities",
             "additionalInfo": "Replacement buses operate&nbsp;<br /><br />Service DL6:&nbsp;Tower Hill - Aldgate and Aldgate East - Whitechapel - Stepney Green - Mile End - Bow Road - Bromley-by-Bow - Canning Town (for Jubilee line and DLR connections to/from West Ham) - Barking.<br /><br />Service DL7: Canning Town (for Jubilee line and DLR connections to/from West Ham) - Plaistow - Upton Park - East Ham - Barking - Upney - Becontree - Dagenham Heathway - Dagenham East<br /><br />",
             "category": "PlannedWork",
             "categoryDescription": "PlannedWork",
             "created": "2021-06-23T11:46:00",
             "description": "HAMMERSMITH & CITY LINE: Saturday 21 and Sunday 22 August, no service on the whole line. Replacement buses operate between Tower Hill and Barking.",
             "lastUpdate": "2021-06-23T11:46:00",
             "summary": "",
             "type": "routeBlocking"
            }
           ],
           "duration": 31,
           "hasFixedLocations": true,
           "instruction": {
            "$type": "Tfl.Api.Presentation.Entities.Instruction, Tfl.Api.Presentation.Entities",
            "detailed": "Circle line towards Paddington and Baker Street",
            "steps": [],
            "summary": "Circle line to Aldgate"
           },
           "isDisrupted": true,
           "mode": {
            "$type": "Tfl.Api.Presentation.Entities.Identifier, Tfl.Api.Presentation.Entities",
            "id": "tube",
            "name": "tube",
            "routeType": "Unknown",
            "status": "Unknown",
            "type": "Mode"
           },
           "obstacles": [],
           "path": {
            "$type": "Tfl.Api.Presentation.Entities.JourneyPlanner.Path, Tfl.Api.Presentation.Entities",
            "elevation": [],
            "lineString": "[[51.50968301009, -0.22424226511],[51.51020897901, -0.2234568246],[51.51061082215, -0.22267740689],[51.5112614931, -0.22111007887],[51.51164600159, -0.22037453178],[51.51350452502, -0.21778388977],[51.51350452502, -0.21778388977],[51.51353929977, -0.21773541357],[51.51609428864, -0.21426309051],[51.51654012627, -0.213424116],[51.51690265954, -0.21242984237],[51.51718430073, -0.21143872154],[51.51735107887, -0.21075301625],[51.51735107887, -0.21075301625],[51.51792044875, -0.20841189933],[51.51840545487, -0.20719654313],[51.51876379333, -0.20651944358],[51.52041963261, -0.20424902398],[51.52067187422, -0.20369135983],[51.52089295893, -0.20286104335],[51.52097355763, -0.20225246716],[51.52098203628, -0.20163231542],[51.52098203628, -0.20163231542],[51.52082079093, -0.20049993614],[51.52055080628, -0.19931419666],[51.52000181443, -0.1969431155],[51.51983419592, -0.19598399644],[51.51970408319, -0.19395676707],[51.51963141362, -0.19332542775],[51.51930875278, -0.19106080695],[51.51911386746, -0.18892087259],[51.51907754187, -0.18823032626],[51.51907754187, -0.18823032626],[51.51868080221, -0.18069343121],[51.51861794246, -0.18011938969],[51.51851957946, -0.17957559261],[51.51820555647, -0.17858816995],[51.51820555647, -0.17858816995],[51.51777270416, -0.1772271618],[51.51759322206, -0.17667220697],[51.51748406447, -0.17601355398],[51.51750094353, -0.17536428045],[51.51832131831, -0.17087769803],[51.51851813044, -0.17023561253],[51.51950689036, -0.16848072256],[51.51991875165, -0.16752169977],[51.51991875165, -0.16752169977],[51.52035721818, -0.16650068694],[51.52062116971, -0.16555315517],[51.52094148363, -0.16418532797],[51.52218288716, -0.15733160822],[51.52226700329, -0.15683475944],[51.52226700329, -0.15683475944],[51.52253671206, -0.15524157388],[51.52302385185, -0.152483018],[51.52331869053, -0.14893936086],[51.52388780596, -0.14568723551],[51.52392965361, -0.14492151917],[51.52386593493, -0.14430424725],[51.52383984407, -0.14364205716],[51.52383984407, -0.14364205716],[51.5238358799, -0.14354145423],[51.52385235005, -0.14287767682],[51.52400530137, -0.14174705022],[51.52496215061, -0.13744103657],[51.5253885995, -0.13598204663],[51.52564614629, -0.13530186722],[51.52564614629, -0.13530186722],[51.52630338608, -0.13356601838],[51.5276703022, -0.12961763388],[51.52852618865, -0.12746327497],[51.52928571468, -0.125471381],[51.5297269887, -0.12438637723],[51.52990258571, -0.1239923675],[51.52990258571, -0.1239923675],[51.53055167348, -0.1225358727],[51.53064913358, -0.12188307245],[51.53060255943, -0.12065949701],[51.53053249675, -0.12021543878],[51.53036219443, -0.11968900705],[51.52840314755, -0.1158483344],[51.52782032832, -0.11483439414],[51.52750575432, -0.11428514092],[51.52687891607, -0.11333072536],[51.52427170691, -0.10945979548],[51.52378380948, -0.10875923219],[51.5233777161, -0.10811295423],[51.52298037334, -0.10745190966],[51.5224940918, -0.10685222524],[51.52135263716, -0.10577522016],[51.52094932018, -0.10530186156],[51.52064140985, -0.10504955105],[51.52064140985, -0.10504955105],[51.52022937874, -0.10471192692],[51.51999959493, -0.10440435359],[51.51981241446, -0.10395087222],[51.51970634371, -0.10350843915],[51.51964473789, -0.10303533224],[51.51963648036, -0.1019690301],[51.51968014151, -0.10133299265],[51.5200825659, -0.09952888607],[51.52030272291, -0.09798206726],[51.52030272291, -0.09798206726],[51.52035704894, -0.09760034925],[51.52038411554, -0.0970514752],[51.52031139335, -0.09644910396],[51.52018498315, -0.09586338829],[51.51852361145, -0.08939385129],[51.51852361145, -0.08939385129],[51.51813042367, -0.08786301218],[51.51761119202, -0.08469937193],[51.51727769164, -0.08245045646],[51.51726066329, -0.08236792657],[51.51726066329, -0.08236792657],[51.51696515615, -0.08093577104],[51.5166871068, -0.07988087888],[51.51589993069, -0.07793940407],[51.51523213444, -0.07669919123],[51.51470786395, -0.07598623153],[51.51414424881, -0.07550023006]]",
            "stopPoints": [
             {
              "$type": "Tfl.Api.Presentation.Entities.Identifier, Tfl.Api.Presentation.Entities",
              "id": "940GZZLULRD",
              "name": "Latimer Road Underground Station",
              "routeType": "Unknown",
              "status": "Unknown",
              "type": "StopPoint",
              "uri": "/StopPoint/940GZZLULRD"
             },
             {
              "$type": "Tfl.Api.Presentation.Entities.Identifier, Tfl.Api.Presentation.Entities",
              "id": "940GZZLULAD",
              "name": "Ladbroke Grove Underground Station",
              "routeType": "Unknown",
              "status": "Unknown",
              "type": "StopPoint",
              "uri": "/StopPoint/940GZZLULAD"
             },
             {
              "$type": "Tfl.Api.Presentation.Entities.Identifier, Tfl.Api.Presentation.Entities",
              "id": "940GZZLUWSP",
              "name": "Westbourne Park Underground Station",
              "routeType": "Unknown",
              "status": "Unknown",
              "type": "StopPoint",
              "uri": "/StopPoint/940GZZLUWSP"
             },
             {
              "$type": "Tfl.Api.Presentation.Entities.Identifier, Tfl.Api.Presentation.Entities",
              "id": "940GZZLURYO",
              "name": "Royal Oak Underground Station",
              "routeType": "Unknown",
              "status": "Unknown",
              "type": "StopPoint",
              "uri": "/StopPoint/940GZZLURYO"
             },
             {
              "$type": "Tfl.Api.Presentation.Entities.Identifier, Tfl.Api.Presentation.Entities",
              "id": "940GZZLUPAH",
              "name": "Paddington (H&C Line)-Underground",
              "routeType": "Unknown",
              "status": "Unknown",
              "type": "StopPoint",
              "uri": "/StopPoint/940GZZLUPAH"
             },
             {
              "$type": "Tfl.Api.Presentation.Entities.Identifier, Tfl.Api.Presentation.Entities",
              "id": "940GZZLUERC",
              "name": "Edgware Road (Circle Line) Underground Station",
              "routeType": "Unknown",
              "status": "Unknown",
              "type": "StopPoint",
              "uri": "/StopPoint/940GZZLUERC"
             },
             {
              "$type": "Tfl.Api.Presentation.Entities.Identifier, Tfl.Api.Presentation.Entities",
              "id": "940GZZLUBST",
              "name": "Baker Street Underground Station",
              "routeType": "Unknown",
              "status": "Unknown",
              "type": "StopPoint",
              "uri": "/StopPoint/940GZZLUBST"
             },
             {
              "$type": "Tfl.Api.Presentation.Entities.Identifier, Tfl.Api.Presentation.Entities",
              "id": "940GZZLUGPS",
              "name": "Great Portland Street Underground Station",
              "routeType": "Unknown",
              "status": "Unknown",
              "type": "StopPoint",
              "uri": "/StopPoint/940GZZLUGPS"
             },
             {
              "$type": "Tfl.Api.Presentation.Entities.Identifier, Tfl.Api.Presentation.Entities",
              "id": "940GZZLUESQ",
              "name": "Euston Square Underground Station",
              "routeType": "Unknown",
              "status": "Unknown",
              "type": "StopPoint",
              "uri": "/StopPoint/940GZZLUESQ"
             },
             {
              "$type": "Tfl.Api.Presentation.Entities.Identifier, Tfl.Api.Presentation.Entities",
              "id": "940GZZLUKSX",
              "name": "King's Cross St. Pancras Underground Station",
              "routeType": "Unknown",
              "status": "Unknown",
              "type": "StopPoint",
              "uri": "/StopPoint/940GZZLUKSX"
             },
             {
              "$type": "Tfl.Api.Presentation.Entities.Identifier, Tfl.Api.Presentation.Entities",
              "id": "940GZZLUFCN",
              "name": "Farringdon Underground Station",
              "routeType": "Unknown",
              "status": "Unknown",
              "type": "StopPoint",
              "uri": "/StopPoint/940GZZLUFCN"
             },
             {
              "$type": "Tfl.Api.Presentation.Entities.Identifier, Tfl.Api.Presentation.Entities",
              "id": "940GZZLUBBN",
              "name": "Barbican Underground Station",
              "routeType": "Unknown",
              "status": "Unknown",
              "type": "StopPoint",
              "uri": "/StopPoint/940GZZLUBBN"
             },
             {
              "$type": "Tfl.Api.Presentation.Entities.Identifier, Tfl.Api.Presentation.Entities",
              "id": "940GZZLUMGT",
              "name": "Moorgate Underground Station",
              "routeType": "Unknown",
              "status": "Unknown",
              "type": "StopPoint",
              "uri": "/StopPoint/940GZZLUMGT"
             },
             {
              "$type": "Tfl.Api.Presentation.Entities.Identifier, Tfl.Api.Presentation.Entities",
              "id": "940GZZLULVT",
              "name": "Liverpool Street Underground Station",
              "routeType": "Unknown",
              "status": "Unknown",
              "type": "StopPoint",
              "uri": "/StopPoint/940GZZLULVT"
             },
             {
              "$type": "Tfl.Api.Presentation.Entities.Identifier, Tfl.Api.Presentation.Entities",
              "id": "940GZZLUALD",
              "name": "Aldgate Underground Station",
              "routeType": "Unknown",
              "status": "Unknown",
              "type": "StopPoint",
              "uri": "/StopPoint/940GZZLUALD"
             }
            ]
           },
           "plannedWorks": [],
           "routeOptions": [
            {
             "$type": "Tfl.Api.Presentation.Entities.JourneyPlanner.RouteOption, Tfl.Api.Presentation.Entities",
             "directions": [
              "Paddington and Baker Street"
             ],
             "lineIdentifier": {
              "$type": "Tfl.Api.Presentation.Entities.Identifier, Tfl.Api.Presentation.Entities",
              "crowding": {
               "$type": "Tfl.Api.Presentation.Entities.Crowding, Tfl.Api.Presentation.Entities"
              },
              "id": "circle",
              "name": "Circle",
              "routeType": "Unknown",
              "status": "Unknown",
              "type": "Line",
              "uri": "/Line/circle"
             },
             "name": "Circle"
            }
           ]
          },
          {
           "$type": "Tfl.Api.Presentation.Entities.JourneyPlanner.Leg, Tfl.Api.Presentation.Entities",
           "arrivalPoint": {
            "$type": "Tfl.Api.Presentation.Entities.StopPoint, Tfl.Api.Presentation.Entities",
            "additionalProperties": [],
            "commonName": "Tower Bridge / City Hall",
            "icsCode": "1013744",
            "lat": 51.50354961675,
            "lon": -0.07662917924,
            "placeType": "StopPoint",
            "platformName": ""
           },
           "arrivalTime": "2021-08-21T05:35:00",
           "departurePoint": {
            "$type": "Tfl.Api.Presentation.Entities.StopPoint, Tfl.Api.Presentation.Entities",
            "additionalProperties": [],
            "commonName": "Aldgate Underground Station",
            "icsCode": "1000003",
            "lat": 51.514142438840004,
            "lon": -0.07550562182,
            "naptanId": "940GZZLUALD",
            "placeType": "StopPoint",
            "platformName": ""
           },
           "departureTime": "2021-08-21T05:12:00",
           "disruptions": [
            {
             "$type": "Tfl.Api.Presentation.Entities.Disruption, Tfl.Api.Presentation.Entities",
             "additionalInfo": "Replacement buses operate&nbsp;<br /><br />Service DL6:&nbsp;Tower Hill - Aldgate and Aldgate East - Whitechapel - Stepney Green - Mile End - Bow Road - Bromley-by-Bow - Canning Town (for Jubilee line and DLR connections to/from West Ham) - Barking.<br /><br />Service DL7: Canning Town (for Jubilee line and DLR connections to/from West Ham) - Plaistow - Upton Park - East Ham - Barking - Upney - Becontree - Dagenham Heathway - Dagenham East<br /><br />",
             "category": "PlannedWork",
             "categoryDescription": "PlannedWork",
             "created": "2021-06-23T11:46:00",
             "description": "HAMMERSMITH & CITY LINE: Saturday 21 and Sunday 22 August, no service on the whole line. Replacement buses operate between Tower Hill and Barking.",
             "lastUpdate": "2021-06-23T11:46:00",
             "summary": "",
             "type": "routeBlocking"
            }
           ],
           "distance": 1237,
           "duration": 23,
           "hasFixedLocations": true,
           "instruction": {
            "$type": "Tfl.Api.Presentation.Entities.Instruction, Tfl.Api.Presentation.Entities",
            "detailed": "Walk to Tower Bridge / City Hall",
            "steps": [
             {
              "$type": "Tfl.Api.Presentation.Entities.InstructionStep, Tfl.Api.Presentation.Entities",
              "cumulativeDistance": 69,
              "cumulativeTravelTime": 77,
              "description": "Tower Bridge Road for 69 metres",
              "descriptionHeading": "Continue along ",
              "distance": 69,
              "latitude": 51.50369269049,
              "longitude": -0.07657992733,
              "pathAttribute": {
               "$type": "Tfl.Api.Presentation.Entities.PathAttribute, Tfl.Api.Presentation.Entities"
              },
              "skyDirection": 381,
              "skyDirectionDescription": "North",
              "streetName": "Tower Bridge Road",
              "trackType": "None",
              "turnDirection": "STRAIGHT"
             },
             {
              "$type": "Tfl.Api.Presentation.Entities.InstructionStep, Tfl.Api.Presentation.Entities",
              "cumulativeDistance": 73,
              "cumulativeTravelTime": 82,
              "description": "for 4 metres",
              "descriptionHeading": "Continue along ",
              "distance": 4,
              "latitude": 51.50427090104,
              "longitude": -0.0761953462,
              "pathAttribute": {
               "$type": "Tfl.Api.Presentation.Entities.PathAttribute, Tfl.Api.Presentation.Entities"
              },
              "skyDirection": 387,
              "skyDirectionDescription": "North",
              "streetName": "",
              "trackType": "None",
              "turnDirection": "STRAIGHT"
             },
             {
              "$type": "Tfl.Api.Presentation.Entities.InstructionStep, Tfl.Api.Presentation.Entities",
              "cumulativeDistance": 339,
              "cumulativeTravelTime": 321,
              "description": "on to Tower Bridge, continue for 266 metres",
              "descriptionHeading": "Continue along ",
              "distance": 266,
              "latitude": 51.50430637416,
              "longitude": -0.07616503346999999,
              "pathAttribute": {
               "$type": "Tfl.Api.Presentation.Entities.PathAttribute, Tfl.Api.Presentation.Entities"
              },
              "skyDirection": 381,
              "skyDirectionDescription": "North",
              "streetName": "Tower Bridge",
              "trackType": "None",
              "turnDirection": "STRAIGHT"
             },
             {
              "$type": "Tfl.Api.Presentation.Entities.InstructionStep, Tfl.Api.Presentation.Entities",
              "cumulativeDistance": 655,
              "cumulativeTravelTime": 605,
              "description": "on to Tower Bridge Approach, continue for 316 metres",
              "descriptionHeading": "Continue along ",
              "distance": 316,
              "latitude": 51.50651207448,
              "longitude": -0.07467435327000001,
              "pathAttribute": {
               "$type": "Tfl.Api.Presentation.Entities.PathAttribute, Tfl.Api.Presentation.Entities"
              },
              "skyDirection": 381,
              "skyDirectionDescription": "North",
              "streetName": "Tower Bridge Approach",
              "trackType": "None",
              "turnDirection": "STRAIGHT"
             },
             {
              "$type": "Tfl.Api.Presentation.Entities.InstructionStep, Tfl.Api.Presentation.Entities",
              "cumulativeDistance": 745,
              "cumulativeTravelTime": 686,
              "description": "on to Tower Hill, continue for 90 metres",
              "descriptionHeading": "Take a slight left",
              "distance": 90,
              "latitude": 51.509285553039994,
              "longitude": -0.07380806143,
              "pathAttribute": {
               "$type": "Tfl.Api.Presentation.Entities.PathAttribute, Tfl.Api.Presentation.Entities"
              },
              "skyDirection": 321,
              "skyDirectionDescription": "North",
              "streetName": "Tower Hill",
              "trackType": "None",
              "turnDirection": "SLIGHT_LEFT"
             },
             {
              "$type": "Tfl.Api.Presentation.Entities.InstructionStep, Tfl.Api.Presentation.Entities",
              "cumulativeDistance": 1198,
              "cumulativeTravelTime": 1097,
              "description": "on to Minories, continue for 453 metres",
              "descriptionHeading": "Continue along ",
              "distance": 453,
              "latitude": 51.509919091069996,
              "longitude": -0.07460277288,
              "pathAttribute": {
               "$type": "Tfl.Api.Presentation.Entities.PathAttribute, Tfl.Api.Presentation.Entities"
              },
              "skyDirection": 324,
              "skyDirectionDescription": "North",
              "streetName": "Minories",
              "trackType": "None",
              "turnDirection": "STRAIGHT"
             },
             {
              "$type": "Tfl.Api.Presentation.Entities.InstructionStep, Tfl.Api.Presentation.Entities",
              "cumulativeDistance": 1237,
              "cumulativeTravelTime": 1146,
              "description": "on to Aldgate High Street, continue for 39 metres",
              "descriptionHeading": "Take a slight right",
              "distance": 39,
              "latitude": 51.51378108665,
              "longitude": -0.07595322173,
              "pathAttribute": {
               "$type": "Tfl.Api.Presentation.Entities.PathAttribute, Tfl.Api.Presentation.Entities"
              },
              "skyDirection": 421,
              "skyDirectionDescription": "North",
              "streetName": "Aldgate High Street",
              "trackType": "None",
              "turnDirection": "SLIGHT_RIGHT"
             }
            ],
            "summary": "Walk to Tower Bridge / City Hall"
           },
           "isDisrupted": true,
           "mode": {
            "$type": "Tfl.Api.Presentation.Entities.Identifier, Tfl.Api.Presentation.Entities",
            "id": "walking",
            "name": "walking",
            "routeType": "Unknown",
            "status": "Unknown",
            "type": "Mode"
           },
           "obstacles": [
            {
             "$type": "Tfl.Api.Presentation.Entities.JourneyPlanner.Obstacle, Tfl.Api.Presentation.Entities",
             "incline": "UP",
             "position": "BEFORE",
             "stopId": 1000003,
             "type": "STAIRS"
            },
            {
             "$type": "Tfl.Api.Presentation.Entities.JourneyPlanner.Obstacle, Tfl.Api.Presentation.Entities",
             "incline": "LEVEL",
             "position": "BEFORE",
             "stopId": 1000003,
             "type": "WALKWAY"
            }
           ],
           "path": {
            "$type": "Tfl.Api.Presentation.Entities.JourneyPlanner.Path, Tfl.Api.Presentation.Entities",
            "elevation": [],
            "lineString": "[[51.51414243884, -0.07550562182],[51.51399014325, -0.07554086554],[51.51404879377, -0.07527897019],[51.50369269049, -0.07657992733],[51.50419096839, -0.07625634998],[51.50427090104, -0.0761953462],[51.50430637416, -0.07616503347],[51.50495576545, -0.07573421435],[51.50548951361, -0.07538030437],[51.50651207448, -0.07467435327],[51.50688571945, -0.07442803979],[51.50694815118, -0.07439658728],[51.50715365551, -0.07431587169],[51.50782550511, -0.07415784955],[51.50844390916, -0.07403089771],[51.50857823169, -0.0739964117],[51.50877593176, -0.07398807411],[51.50908879906, -0.07387400345],[51.50928555304, -0.07380806143],[51.5094690644, -0.07403089675],[51.50968024384, -0.07429580021],[51.50991909107, -0.07460277288],[51.51004726435, -0.07474148037],[51.51018418746, -0.07486540859],[51.51029273305, -0.0749040664],[51.51056374241, -0.07497910967],[51.51063610611, -0.0750048819],[51.51072644255, -0.0750298966],[51.5108983654, -0.07509470653],[51.51099745182, -0.07510494126],[51.51114738359, -0.07492568336],[51.51138693829, -0.07527587384],[51.51161254289, -0.07532401136],[51.51195638823, -0.07545363626],[51.51209165641, -0.07547675883],[51.51257881087, -0.07557152271],[51.5126963426, -0.07560980536],[51.51296711518, -0.07567045429],[51.51357392762, -0.07593312636],[51.51378108665, -0.07595322173],[51.51382389201, -0.07582170696],[51.51390122485, -0.07560226264],[51.51395254351, -0.07544156359],[51.50354961675, -0.07662917924]]",
            "stopPoints": []
           },
           "plannedWorks": [],
           "routeOptions": [
            {
             "$type": "Tfl.Api.Presentation.Entities.JourneyPlanner.RouteOption, Tfl.Api.Presentation.Entities",
             "directions": [
              ""
             ],
             "name": ""
            }
           ]
          }
         ],
         "startDateTime": "2021-08-21T00:09:00"
        },
        {
         "$type": "Tfl.Api.Presentation.Entities.JourneyPlanner.Journey, Tfl.Api.Presentation.Entities",
         "arrivalDateTime": "2021-08-21T06:29:00",
         "duration": 89,
         "legs": [
          {
           "$type": "Tfl.Api.Presentation.Entities.JourneyPlanner.Leg, Tfl.Api.Presentation.Entities",
           "arrivalPoint": {
            "$type": "Tfl.Api.Presentation.Entities.StopPoint, Tfl.Api.Presentation.Entities",
            "additionalProperties": [],
            "commonName": "Heathrow Terminals 2 & 3 Underground Station",
            "icsCode": "1000105",
            "lat": 51.471637629,
            "lon": -0.45295694328,
            "naptanId": "940GZZLUHRC",
            "placeType": "StopPoint",
            "platformName": ""
           },
           "arrivalTime": "2021-08-21T05:12:00",
           "departurePoint": {
            "$type": "Tfl.Api.Presentation.Entities.StopPoint, Tfl.Api.Presentation.Entities",
            "additionalProperties": [],
            "commonName": "Hillingdon, Heathrow Airport Terminal 3 Arrivals",
            "icsCode": "99999997",
            "lat": 51.471544550269996,
            "lon": -0.45886341771,
            "placeType": "StopPoint",
            "platformName": ""
           },
           "departureTime": "2021-08-21T05:00:00",
           "disruptions": [],
           "distance": 340,
           "duration": 12,
           "hasFixedLocations": true,
           "instruction": {
            "$type": "Tfl.Api.Presentation.Entities.Instruction, Tfl.Api.Presentation.Entities",
            "detailed": "Walk to Heathrow Terminals 2 & 3 Underground Station",
            "steps": [
             {
              "$type": "Tfl.Api.Presentation.Entities.InstructionStep, Tfl.Api.Presentation.Entities",
              "cumulativeDistance": 340,
              "cumulativeTravelTime": 306,
              "description": " for 340 metres",
              "descriptionHeading": "Continue along ",
              "distance": 340,
              "latitude": 51.47155334938,
              "longitude": -0.45884872287,
              "pathAttribute": {
               "$type": "Tfl.Api.Presentation.Entities.PathAttribute, Tfl.Api.Presentation.Entities"
              },
              "skyDirection": 498,
              "skyDirectionDescription": "North",
              "streetName": "",
              "trackType": "None",
              "turnDirection": "STRAIGHT"
             }
            ],
            "summary": "Walk to Heathrow Terminals 2 & 3 Underground Station"
           },
           "isDisrupted": false,
           "mode": {
            "$type": "Tfl.Api.Presentation.Entities.Identifier, Tfl.Api.Presentation.Entities",
            "id": "walking",
            "name": "walking",
            "routeType": "Unknown",
            "status": "Unknown",
            "type": "Mode"
           },
           "obstacles": [
            {
             "$type": "Tfl.Api.Presentation.Entities.JourneyPlanner.Obstacle, Tfl.Api.Presentation.Entities",
             "incline": "DOWN",
             "position": "IDEST",
             "stopId": 1000105,
             "type": "RAMP"
            },
            {
             "$type": "Tfl.Api.Presentation.Entities.JourneyPlanner.Obstacle, Tfl.Api.Presentation.Entities",
             "incline": "DOWN",
             "position": "IDEST",
             "stopId": 1000105,
             "type": "ESCALATOR"
            }
           ],
           "path": {
            "$type": "Tfl.Api.Presentation.Entities.JourneyPlanner.Path, Tfl.Api.Presentation.Entities",
            "elevation": [],
            "lineString": "[[51.47154455027, -0.45886341771],[51.47155334938, -0.45884872287],[51.47077496803, -0.45778069358],[51.47149019312, -0.45473292627],[51.47145386087, -0.4547053571],[51.4714450785, -0.45267548951],[51.471637629, -0.45295694328],[51.47133397351, -0.45296249441]]",
            "stopPoints": []
           },
           "plannedWorks": [],
           "routeOptions": [
            {
             "$type": "Tfl.Api.Presentation.Entities.JourneyPlanner.RouteOption, Tfl.Api.Presentation.Entities",
             "directions": [
              ""
             ],
             "name": ""
            }
           ]
          },
          {
           "$type": "Tfl.Api.Presentation.Entities.JourneyPlanner.Leg, Tfl.Api.Presentation.Entities",
           "arrivalPoint": {
            "$type": "Tfl.Api.Presentation.Entities.StopPoint, Tfl.Api.Presentation.Entities",
            "additionalProperties": [],
            "commonName": "Green Park Underground Station",
            "icsCode": "1000093",
            "lat": 51.507120049280005,
            "lon": -0.14191535794,
            "naptanId": "940GZZLUGPK",
            "placeType": "StopPoint",
            "platformName": ""
           },
           "arrivalTime": "2021-08-21T05:58:00",
           "departurePoint": {
            "$type": "Tfl.Api.Presentation.Entities.StopPoint, Tfl.Api.Presentation.Entities",
            "additionalProperties": [],
            "commonName": "Heathrow Terminals 2 & 3 Underground Station",
            "icsCode": "1000105",
            "lat": 51.471637629,
            "lon": -0.45295694328,
            "naptanId": "940GZZLUHRC",
            "placeType": "StopPoint",
            "platformName": ""
           },
           "departureTime": "2021-08-21T05:12:00",
           "disruptions": [
            {
             "$type": "Tfl.Api.Presentation.Entities.Disruption, Tfl.Api.Presentation.Entities",
             "additionalInfo": "Check our&nbsp;<a href=\"https://tfl.gov.uk/status-updates/busiest-times-to-travel\">quieter times webpage</a> for more information",
             "category": "Crowding",
             "categoryDescription": "Crowding",
             "created": "2021-07-02T15:49:00",
             "description": "Green Park is one of our busier stations, especially in the morning and evening peaks/ in the evenings and at weekends. If you can make a small change to the time you travel, you could have more space.",
             "lastUpdate": "2021-07-02T15:50:00",
             "summary": "",
             "type": "stopInfo"
            }
           ],
           "duration": 46,
           "hasFixedLocations": true,
           "instruction": {
            "$type": "Tfl.Api.Presentation.Entities.Instruction, Tfl.Api.Presentation.Entities",
            "detailed": "Piccadilly line towards Cockfosters",
            "steps": [],
            "summary": "Piccadilly line to Green Park"
           },
           "isDisrupted": true,
           "mode": {
            "$type": "Tfl.Api.Presentation.Entities.Identifier, Tfl.Api.Presentation.Entities",
            "id": "tube",
            "name": "tube",
            "routeType": "Unknown",
            "status": "Unknown",
            "type": "Mode"
           },
           "obstacles": [
            {
             "$type": "Tfl.Api.Presentation.Entities.JourneyPlanner.Obstacle, Tfl.Api.Presentation.Entities",
             "incline": "UP",
             "position": "AFTER",
             "stopId": 1000093,
             "type": "STAIRS"
            },
            {
             "$type": "Tfl.Api.Presentation.Entities.JourneyPlanner.Obstacle, Tfl.Api.Presentation.Entities",
             "incline": "DOWN",
             "position": "AFTER",
             "stopId": 1000093,
             "type": "STAIRS"
            },
            {
             "$type": "Tfl.Api.Presentation.Entities.JourneyPlanner.Obstacle, Tfl.Api.Presentation.Entities",
             "incline": "LEVEL",
             "position": "AFTER",
             "stopId": 1000093,
             "type": "WALKWAY"
            }
           ],
           "path": {
            "$type": "Tfl.Api.Presentation.Entities.JourneyPlanner.Path, Tfl.Api.Presentation.Entities",
            "elevation": [],
            "lineString": "[[51.47133414008, -0.45297143671],[51.47129625217, -0.45093833188],[51.47119705219, -0.45023617707],[51.46562304245, -0.42736179058],[51.46551394189, -0.42660252651],[51.46550583066, -0.42599815248],[51.46559697209, -0.42541915544],[51.46638638497, -0.42360158321],[51.46638638497, -0.42360158321],[51.46680937918, -0.42262761335],[51.46718153783, -0.42154940001],[51.46922027601, -0.41469773922],[51.46967581535, -0.41314138278],[51.47188053313, -0.40662874577],[51.47266595611, -0.40421118384],[51.4731883564, -0.40229229392],[51.47494220963, -0.39704719586],[51.47507814629, -0.39646644862],[51.47513338514, -0.39590292812],[51.47512038717, -0.39495301203],[51.47498856672, -0.39386327385],[51.47478680503, -0.39291999464],[51.47423550195, -0.39075067401],[51.47358430283, -0.38851292937],[51.47345075673, -0.38795607167],[51.47337113566, -0.38739731574],[51.47335965335, -0.38656257661],[51.4733866923, -0.3859136657],[51.47341926289, -0.385734712],[51.47341926289, -0.385734712],[51.47387990381, -0.38320360757],[51.47400981566, -0.38219106752],[51.47403106901, -0.38112477083],[51.47390051231, -0.38013584652],[51.47368006827, -0.37915011351],[51.47336774641, -0.3780236576],[51.47223737126, -0.37496802597],[51.47157888271, -0.37287484377],[51.47133340786, -0.37138614109],[51.47123772117, -0.37032406734],[51.47125106032, -0.36869657304],[51.47133422543, -0.36620170922],[51.47133422543, -0.36620170922],[51.4713462021, -0.36584229009],[51.471437203, -0.36462956768],[51.47170628789, -0.36264734459],[51.47193784297, -0.36119919215],[51.47212169283, -0.36019909501],[51.47247924827, -0.35876079367],[51.4728923255, -0.35743566677],[51.47309198812, -0.35692453078],[51.47355472319, -0.35612620222],[51.47355472319, -0.35612620222],[51.47425972115, -0.35490986263],[51.47481464229, -0.35408352575],[51.47528513595, -0.35364900059],[51.47574088603, -0.35344539471],[51.47624258518, -0.35331212994],[51.47762670379, -0.35326228544],[51.47850114607, -0.35341800242],[51.47920219297, -0.35339275658],[51.4798650653, -0.35321047201],[51.48028385213, -0.35293616543],[51.48149076439, -0.35181184571],[51.48149076439, -0.35181184571],[51.48165077802, -0.35166277698],[51.48209207177, -0.35107079292],[51.48236279739, -0.35049935335],[51.48257878341, -0.34987227464],[51.48300527151, -0.34822943966],[51.48345936458, -0.34599508165],[51.48368842655, -0.34502183634],[51.48392951692, -0.34426418194],[51.48425966623, -0.34344568222],[51.48476834345, -0.34253428178],[51.49278966746, -0.32986928129],[51.49298247444, -0.32951650763],[51.49354004044, -0.32825725451],[51.4938018695, -0.3277002646],[51.49405676184, -0.32728757871],[51.49505998532, -0.32575263528],[51.49573468815, -0.32481625777],[51.49573468815, -0.32481625777],[51.49669122554, -0.3234886738],[51.49709621533, -0.32288314316],[51.49733208505, -0.32239906485],[51.49831750614, -0.31962555272],[51.49858208852, -0.31863613968],[51.49971676663, -0.31353113831],[51.49971676663, -0.31353113831],[51.50036424411, -0.31061752396],[51.50108944725, -0.30739114955],[51.50108944725, -0.30739114955],[51.50118391718, -0.30697082307],[51.50132127291, -0.30651908558],[51.50231360067, -0.30424901532],[51.502829938, -0.30264491839],[51.50303125403, -0.30164325011],[51.50329277414, -0.29983245096],[51.50433859847, -0.29320863743],[51.50460043866, -0.29204613102],[51.50562103371, -0.28865058866],[51.50578964306, -0.28788057234],[51.50587715008, -0.28709918206],[51.50585659227, -0.28630743346],[51.50570999464, -0.28550600685],[51.50538968178, -0.28450937827],[51.50364425624, -0.28137618171],[51.50277167788, -0.27986003801],[51.50277167788, -0.27986003801],[51.50276765264, -0.27985304418],[51.50209223387, -0.27917247055],[51.50052843591, -0.2780067116],[51.49987182754, -0.27738311875],[51.49874479649, -0.27595607466],[51.49570540839, -0.27107177814],[51.4952880256, -0.27020879586],[51.49492158603, -0.26914221544],[51.49461741054, -0.26803007429],[51.49447542257, -0.26694060845],[51.49450009304, -0.2661761603],[51.49460760363, -0.26493317096],[51.49470011041, -0.26389242917],[51.49510405624, -0.26020352799],[51.49529069168, -0.25642200817],[51.49529539136, -0.25552864659],[51.49526890491, -0.25462221712],[51.49526890491, -0.25462221712],[51.49490995737, -0.24236181984],[51.49482848299, -0.24112603403],[51.49463612357, -0.23969283971],[51.49416765347, -0.23664244205],[51.49413246427, -0.23609637831],[51.4938625608, -0.22952336733],[51.49389162508, -0.22847062012],[51.49387241422, -0.22779429393],[51.4937344074, -0.22699292561],[51.49354399647, -0.22629443585],[51.49330755644, -0.22552571115],[51.49310068802, -0.22492871185],[51.4928333043, -0.22449252917],[51.4920959202, -0.2235783194],[51.4920959202, -0.2235783194],[51.4910645424, -0.22229967955],[51.49062992288, -0.22150991913],[51.49034895321, -0.22077181035],[51.49018503026, -0.22004355659],[51.49011471448, -0.21896595054],[51.4901460911, -0.21807164222],[51.49041793613, -0.21643331258],[51.49047428308, -0.21540837889],[51.4904158226, -0.2139846506],[51.4904158226, -0.2139846506],[51.49040282633, -0.21366820117],[51.49016057498, -0.21134412118],[51.49011999668, -0.21045262339],[51.49019621778, -0.20896596118],[51.4903360229, -0.20811060601],[51.49088403769, -0.20513612287],[51.49092368436, -0.20478884879],[51.49094601713, -0.20448546898],[51.49083894854, -0.20336609718],[51.49056458459, -0.20189319214],[51.49044024696, -0.20140832334],[51.49016268591, -0.20090067952],[51.48978471879, -0.20029616374],[51.48962354255, -0.19975514055],[51.48955945267, -0.19909506012],[51.48954618492, -0.19823131581],[51.48964274665, -0.19749288036],[51.48993635411, -0.19670345334],[51.49050390242, -0.19560070223],[51.49171829011, -0.19376940871],[51.49171829011, -0.19376940871],[51.49244613635, -0.1926717502],[51.49403160383, -0.19052019112],[51.49444266042, -0.18976920715],[51.49471646166, -0.18886518215],[51.49482261759, -0.18816948014],[51.49490709594, -0.18665348339],[51.49482971321, -0.18572015513],[51.49425552631, -0.18320517722],[51.49425552631, -0.18320517722],[51.49387466921, -0.18153716156],[51.49378691891, -0.18051784029],[51.49378142925, -0.17900544763],[51.49407418278, -0.17527705428],[51.49401755653, -0.17336332487],[51.49401755653, -0.17336332487],[51.49394129639, -0.17078772496],[51.49399432205, -0.17015174248],[51.49410486084, -0.16974394965],[51.49426976895, -0.16936278863],[51.49441108677, -0.16919866068],[51.49473169233, -0.16899853537],[51.49510037907, -0.1689981679],[51.49536189764, -0.16904531378],[51.49584157367, -0.16924218993],[51.49640684781, -0.16916191401],[51.49657557542, -0.16902549263],[51.49682158759, -0.16865546415],[51.49754725513, -0.16732974508],[51.49787189295, -0.16681247356],[51.49821225073, -0.16615049125],[51.49849935922, -0.16553385907],[51.49976729498, -0.16323533984],[51.50015414521, -0.16267228786],[51.50074611019, -0.16200011802],[51.50112690177, -0.16162459327],[51.50140565956, -0.16125444556],[51.50140565956, -0.16125444556],[51.50154093013, -0.16107482473],[51.50161932788, -0.16091317727],[51.50179025681, -0.16034436908],[51.50203528527, -0.15934031773],[51.50217721135, -0.15864299072],[51.50225554705, -0.15790499789],[51.50234454305, -0.15612915575],[51.50243049075, -0.15530439673],[51.50268829722, -0.15367476289],[51.50268829722, -0.15367476289],[51.50318288971, -0.15054791446],[51.5033436452, -0.14990741464],[51.50355831772, -0.14926472576],[51.50382713453, -0.14863424531],[51.50439308278, -0.14745856884],[51.50584117644, -0.14463317644],[51.50620563109, -0.14379701293],[51.50714109072, -0.14194261337]]",
            "stopPoints": [
             {
              "$type": "Tfl.Api.Presentation.Entities.Identifier, Tfl.Api.Presentation.Entities",
              "id": "940GZZLUHNX",
              "name": "Hatton Cross Underground Station",
              "routeType": "Unknown",
              "status": "Unknown",
              "type": "StopPoint",
              "uri": "/StopPoint/940GZZLUHNX"
             },
             {
              "$type": "Tfl.Api.Presentation.Entities.Identifier, Tfl.Api.Presentation.Entities",
              "id": "940GZZLUHWT",
              "name": "Hounslow West Underground Station",
              "routeType": "Unknown",
              "status": "Unknown",
              "type": "StopPoint",
              "uri": "/StopPoint/940GZZLUHWT"
             },
             {
              "$type": "Tfl.Api.Presentation.Entities.Identifier, Tfl.Api.Presentation.Entities",
              "id": "940GZZLUHWC",
              "name": "Hounslow Central Underground Station",
              "routeType": "Unknown",
              "status": "Unknown",
              "type": "StopPoint",
              "uri": "/StopPoint/940GZZLUHWC"
             },
             {
              "$type": "Tfl.Api.Presentation.Entities.Identifier, Tfl.Api.Presentation.Entities",
              "id": "940GZZLUHWE",
              "name": "Hounslow East Underground Station",
              "routeType": "Unknown",
              "status": "Unknown",
              "type": "StopPoint",
              "uri": "/StopPoint/940GZZLUHWE"
             },
             {
              "$type": "Tfl.Api.Presentation.Entities.Identifier, Tfl.Api.Presentation.Entities",
              "id": "940GZZLUOSY",
              "name": "Osterley Underground Station",
              "routeType": "Unknown",
              "status": "Unknown",
              "type": "StopPoint",
              "uri": "/StopPoint/940GZZLUOSY"
             },
             {
              "$type": "Tfl.Api.Presentation.Entities.Identifier, Tfl.Api.Presentation.Entities",
              "id": "940GZZLUBOS",
              "name": "Boston Manor Underground Station",
              "routeType": "Unknown",
              "status": "Unknown",
              "type": "StopPoint",
              "uri": "/StopPoint/940GZZLUBOS"
             },
             {
              "$type": "Tfl.Api.Presentation.Entities.Identifier, Tfl.Api.Presentation.Entities",
              "id": "940GZZLUNFD",
              "name": "Northfields Underground Station",
              "routeType": "Unknown",
              "status": "Unknown",
              "type": "StopPoint",
              "uri": "/StopPoint/940GZZLUNFD"
             },
             {
              "$type": "Tfl.Api.Presentation.Entities.Identifier, Tfl.Api.Presentation.Entities",
              "id": "940GZZLUSEA",
              "name": "South Ealing Underground Station",
              "routeType": "Unknown",
              "status": "Unknown",
              "type": "StopPoint",
              "uri": "/StopPoint/940GZZLUSEA"
             },
             {
              "$type": "Tfl.Api.Presentation.Entities.Identifier, Tfl.Api.Presentation.Entities",
              "id": "940GZZLUACT",
              "name": "Acton Town Underground Station",
              "routeType": "Unknown",
              "status": "Unknown",
              "type": "StopPoint",
              "uri": "/StopPoint/940GZZLUACT"
             },
             {
              "$type": "Tfl.Api.Presentation.Entities.Identifier, Tfl.Api.Presentation.Entities",
              "id": "940GZZLUTNG",
              "name": "Turnham Green Underground Station",
              "routeType": "Unknown",
              "status": "Unknown",
              "type": "StopPoint",
              "uri": "/StopPoint/940GZZLUTNG"
             },
             {
              "$type": "Tfl.Api.Presentation.Entities.Identifier, Tfl.Api.Presentation.Entities",
              "id": "940GZZLUHSD",
              "name": "Hammersmith (Dist&Picc Line) Underground Station",
              "routeType": "Unknown",
              "status": "Unknown",
              "type": "StopPoint",
              "uri": "/StopPoint/940GZZLUHSD"
             },
             {
              "$type": "Tfl.Api.Presentation.Entities.Identifier, Tfl.Api.Presentation.Entities",
              "id": "940GZZLUBSC",
              "name": "Barons Court Underground Station",
              "routeType": "Unknown",
              "status": "Unknown",
              "type": "StopPoint",
              "uri": "/StopPoint/940GZZLUBSC"
             },
             {
              "$type": "Tfl.Api.Presentation.Entities.Identifier, Tfl.Api.Presentation.Entities",
              "id": "940GZZLUECT",
              "name": "Earl's Court Underground Station",
              "routeType": "Unknown",
              "status": "Unknown",
              "type": "StopPoint",
              "uri": "/StopPoint/940GZZLUECT"
             },
             {
              "$type": "Tfl.Api.Presentation.Entities.Identifier, Tfl.Api.Presentation.Entities",
              "id": "940GZZLUGTR",
              "name": "Gloucester Road Underground Station",
              "routeType": "Unknown",
              "status": "Unknown",
              "type": "StopPoint",
              "uri": "/StopPoint/940GZZLUGTR"
             },
             {
              "$type": "Tfl.Api.Presentation.Entities.Identifier, Tfl.Api.Presentation.Entities",
              "id": "940GZZLUKNB",
              "name": "Knightsbridge Underground Station",
              "routeType": "Unknown",
              "status": "Unknown",
              "type": "StopPoint",
              "uri": "/StopPoint/940GZZLUKNB"
             },
             {
              "$type": "Tfl.Api.Presentation.Entities.Identifier, Tfl.Api.Presentation.Entities",
              "id": "940GZZLUHPC",
              "name": "Hyde Park Corner Underground Station",
              "routeType": "Unknown",
              "status": "Unknown",
              "type": "StopPoint",
              "uri": "/StopPoint/940GZZLUHPC"
             },
             {
              "$type": "Tfl.Api.Presentation.Entities.Identifier, Tfl.Api.Presentation.Entities",
              "id": "940GZZLUGPK",
              "name": "Green Park Underground Station",
              "routeType": "Unknown",
              "status": "Unknown",
              "type": "StopPoint",
              "uri": "/StopPoint/940GZZLUGPK"
             }
            ]
           },
           "plannedWorks": [],
           "routeOptions": [
            {
             "$type": "Tfl.Api.Presentation.Entities.JourneyPlanner.RouteOption, Tfl.Api.Presentation.Entities",
             "directions": [
              "Cockfosters Underground Station"
             ],
             "lineIdentifier": {
              "$type": "Tfl.Api.Presentation.Entities.Identifier, Tfl.Api.Presentation.Entities",
              "crowding": {
               "$type": "Tfl.Api.Presentation.Entities.Crowding, Tfl.Api.Presentation.Entities"
              },
              "id": "piccadilly",
              "name": "Piccadilly",
              "routeType": "Unknown",
              "status": "Unknown",
              "type": "Line",
              "uri": "/Line/piccadilly"
             },
             "name": "Piccadilly"
            }
           ]
          },
          {
           "$type": "Tfl.Api.Presentation.Entities.JourneyPlanner.Leg, Tfl.Api.Presentation.Entities",
           "arrivalPoint": {
            "$type": "Tfl.Api.Presentation.Entities.StopPoint, Tfl.Api.Presentation.Entities",
            "additionalProperties": [],
            "commonName": "London Bridge Underground Station",
            "icsCode": "1000139",
            "lat": 51.50583751486,
            "lon": -0.08785894256,
            "naptanId": "940GZZLULNB",
            "placeType": "StopPoint",
            "platformName": ""
           },
           "arrivalTime": "2021-08-21T06:12:00",
           "departurePoint": {
            "$type": "Tfl.Api.Presentation.Entities.StopPoint, Tfl.Api.Presentation.Entities",
            "additionalProperties": [],
            "commonName": "Green Park Underground Station",
            "icsCode": "1000093",
            "lat": 51.506161524460005,
            "lon": -0.14157969695,
            "naptanId": "940GZZLUGPK",
            "placeType": "StopPoint",
            "platformName": ""
           },
           "departureTime": "2021-08-21T06:05:00",
           "disruptions": [
            {
             "$type": "Tfl.Api.Presentation.Entities.Disruption, Tfl.Api.Presentation.Entities",
             "additionalInfo": "Check our&nbsp;<a href=\"https://tfl.gov.uk/status-updates/busiest-times-to-travel\">quieter times webpage</a> for more information",
             "category": "Crowding",
             "categoryDescription": "Crowding",
             "created": "2021-07-02T15:49:00",
             "description": "Green Park is one of our busier stations, especially in the morning and evening peaks/ in the evenings and at weekends. If you can make a small change to the time you travel, you could have more space.",
             "lastUpdate": "2021-07-02T15:50:00",
             "summary": "",
             "type": "stopInfo"
            },
            {
             "$type": "Tfl.Api.Presentation.Entities.Disruption, Tfl.Api.Presentation.Entities",
             "additionalInfo": "",
             "category": "PlannedWork",
             "categoryDescription": "PlannedWork",
             "created": "2018-01-22T11:40:00",
             "description": "LONDON BRIDGE STATION: Please note that step free interchange between the Jubilee and Northern lines is partly at street level, in both directions. Lifts are available between Northern line and Borough High Street entrance then via Borough High Street, St Thomas Street and Joiner Street to the main Underground ticket hall from where lifts are available to/from the Jubilee line.",
             "lastUpdate": "2018-03-05T15:29:00",
             "summary": "",
             "type": "stopInfo"
            }
           ],
           "duration": 7,
           "hasFixedLocations": true,
           "instruction": {
            "$type": "Tfl.Api.Presentation.Entities.Instruction, Tfl.Api.Presentation.Entities",
            "detailed": "Jubilee line towards Stratford",
            "steps": [],
            "summary": "Jubilee line to London Bridge"
           },
           "isDisrupted": true,
           "mode": {
            "$type": "Tfl.Api.Presentation.Entities.Identifier, Tfl.Api.Presentation.Entities",
            "id": "tube",
            "name": "tube",
            "routeType": "Unknown",
            "status": "Unknown",
            "type": "Mode"
           },
           "obstacles": [],
           "path": {
            "$type": "Tfl.Api.Presentation.Entities.JourneyPlanner.Path, Tfl.Api.Presentation.Entities",
            "elevation": [],
            "lineString": "[[51.50616302255, -0.14157907788],[51.50591197371, -0.14001919115],[51.50578760902, -0.13954873597],[51.50560033551, -0.13908084636],[51.5020131521, -0.1312158545],[51.50169268756, -0.13029241786],[51.50143374446, -0.12928002483],[51.50123402222, -0.12803468442],[51.50108659683, -0.12668635271],[51.50099956538, -0.12485966609],[51.50099956538, -0.12485966609],[51.5009783417, -0.12441429778],[51.50106337511, -0.12298439272],[51.50170090818, -0.11955780858],[51.50333888904, -0.11302583748],[51.50333888904, -0.11302583748],[51.50398263824, -0.11045815313],[51.50426792153, -0.10863078519],[51.50435392304, -0.10727275095],[51.50429122782, -0.10537666705],[51.50429122782, -0.10537666705],[51.50407248611, -0.0987685702],[51.50422182972, -0.09577963576],[51.50438856048, -0.09441820849],[51.50474305469, -0.09299129429],[51.50495952019, -0.09247792387],[51.50527608892, -0.09148484967],[51.50575025934, -0.08967822594],[51.50586159146, -0.08823258945],[51.50583318936, -0.08785978875]]",
            "stopPoints": [
             {
              "$type": "Tfl.Api.Presentation.Entities.Identifier, Tfl.Api.Presentation.Entities",
              "id": "940GZZLUWSM",
              "name": "Westminster Underground Station",
              "routeType": "Unknown",
              "status": "Unknown",
              "type": "StopPoint",
              "uri": "/StopPoint/940GZZLUWSM"
             },
             {
              "$type": "Tfl.Api.Presentation.Entities.Identifier, Tfl.Api.Presentation.Entities",
              "id": "940GZZLUWLO",
              "name": "Waterloo Underground Station",
              "routeType": "Unknown",
              "status": "Unknown",
              "type": "StopPoint",
              "uri": "/StopPoint/940GZZLUWLO"
             },
             {
              "$type": "Tfl.Api.Presentation.Entities.Identifier, Tfl.Api.Presentation.Entities",
              "id": "940GZZLUSWK",
              "name": "Southwark Underground Station",
              "routeType": "Unknown",
              "status": "Unknown",
              "type": "StopPoint",
              "uri": "/StopPoint/940GZZLUSWK"
             },
             {
              "$type": "Tfl.Api.Presentation.Entities.Identifier, Tfl.Api.Presentation.Entities",
              "id": "940GZZLULNB",
              "name": "London Bridge Underground Station",
              "routeType": "Unknown",
              "status": "Unknown",
              "type": "StopPoint",
              "uri": "/StopPoint/940GZZLULNB"
             }
            ]
           },
           "plannedWorks": [],
           "routeOptions": [
            {
             "$type": "Tfl.Api.Presentation.Entities.JourneyPlanner.RouteOption, Tfl.Api.Presentation.Entities",
             "directions": [
              "Stratford Underground Station"
             ],
             "lineIdentifier": {
              "$type": "Tfl.Api.Presentation.Entities.Identifier, Tfl.Api.Presentation.Entities",
              "crowding": {
               "$type": "Tfl.Api.Presentation.Entities.Crowding, Tfl.Api.Presentation.Entities"
              },
              "id": "jubilee",
              "name": "Jubilee",
              "routeType": "Unknown",
              "status": "Unknown",
              "type": "Line",
              "uri": "/Line/jubilee"
             },
             "name": "Jubilee"
            }
           ]
          },
          {
           "$type": "Tfl.Api.Presentation.Entities.JourneyPlanner.Leg, Tfl.Api.Presentation.Entities",
           "arrivalPoint": {
            "$type": "Tfl.Api.Presentation.Entities.StopPoint, Tfl.Api.Presentation.Entities",
            "additionalProperties": [],
            "commonName": "Tower Bridge / City Hall",
            "icsCode": "1013744",
            "lat": 51.50354961675,
            "lon": -0.07662917924,
            "placeType": "StopPoint",
            "platformName": ""
           },
           "arrivalTime": "2021-08-21T06:29:00",
           "departurePoint": {
            "$type": "Tfl.Api.Presentation.Entities.StopPoint, Tfl.Api.Presentation.Entities",
            "additionalProperties": [],
            "commonName": "London Bridge Underground Station",
            "icsCode": "1000139",
            "lat": 51.50583751486,
            "lon": -0.08785894256,
            "naptanId": "940GZZLULNB",
            "placeType": "StopPoint",
            "platformName": ""
           },
           "departureTime": "2021-08-21T06:12:00",
           "disruptions": [],
           "distance": 832,
           "duration": 17,
           "hasFixedLocations": true,
           "instruction": {
            "$type": "Tfl.Api.Presentation.Entities.Instruction, Tfl.Api.Presentation.Entities",
            "detailed": "Walk to Tower Bridge / City Hall",
            "steps": [
             {
              "$type": "Tfl.Api.Presentation.Entities.InstructionStep, Tfl.Api.Presentation.Entities",
              "cumulativeDistance": 88,
              "cumulativeTravelTime": 86,
              "description": "Tower Bridge Road for 88 metres",
              "descriptionHeading": "Continue along ",
              "distance": 88,
              "latitude": 51.5034971153,
              "longitude": -0.0767178444,
              "pathAttribute": {
               "$type": "Tfl.Api.Presentation.Entities.PathAttribute, Tfl.Api.Presentation.Entities"
              },
              "skyDirection": 201,
              "skyDirectionDescription": "South",
              "streetName": "Tower Bridge Road",
              "trackType": "None",
              "turnDirection": "STRAIGHT"
             },
             {
              "$type": "Tfl.Api.Presentation.Entities.InstructionStep, Tfl.Api.Presentation.Entities",
              "cumulativeDistance": 180,
              "cumulativeTravelTime": 169,
              "description": "on to Queen Elizabeth Street, continue for 92 metres",
              "descriptionHeading": "Turn right",
              "distance": 92,
              "latitude": 51.50277653706,
              "longitude": -0.07719485829,
              "pathAttribute": {
               "$type": "Tfl.Api.Presentation.Entities.PathAttribute, Tfl.Api.Presentation.Entities"
              },
              "skyDirection": 291,
              "skyDirectionDescription": "North",
              "streetName": "Queen Elizabeth Street",
              "trackType": "None",
              "turnDirection": "RIGHT"
             },
             {
              "$type": "Tfl.Api.Presentation.Entities.InstructionStep, Tfl.Api.Presentation.Entities",
              "cumulativeDistance": 796,
              "cumulativeTravelTime": 723,
              "description": "on to Tooley Street, continue for 616 metres",
              "descriptionHeading": "Continue along ",
              "distance": 616,
              "latitude": 51.503003992459995,
              "longitude": -0.07845326866,
              "pathAttribute": {
               "$type": "Tfl.Api.Presentation.Entities.PathAttribute, Tfl.Api.Presentation.Entities"
              },
              "skyDirection": 295,
              "skyDirectionDescription": "North",
              "streetName": "Tooley Street",
              "trackType": "None",
              "turnDirection": "STRAIGHT"
             },
             {
              "$type": "Tfl.Api.Presentation.Entities.InstructionStep, Tfl.Api.Presentation.Entities",
              "cumulativeDistance": 825,
              "cumulativeTravelTime": 749,
              "description": "on to Duke Street Hill, continue for 29 metres",
              "descriptionHeading": "Continue along ",
              "distance": 29,
              "latitude": 51.50573626196,
              "longitude": -0.08606196091,
              "pathAttribute": {
               "$type": "Tfl.Api.Presentation.Entities.PathAttribute, Tfl.Api.Presentation.Entities"
              },
              "skyDirection": 288,
              "skyDirectionDescription": "North",
              "streetName": "Duke Street Hill",
              "trackType": "None",
              "turnDirection": "STRAIGHT"
             },
             {
              "$type": "Tfl.Api.Presentation.Entities.InstructionStep, Tfl.Api.Presentation.Entities",
              "cumulativeDistance": 832,
              "cumulativeTravelTime": 762,
              "description": "for 7 metres",
              "descriptionHeading": "Take a slight left",
              "distance": 7,
              "latitude": 51.50582371923,
              "longitude": -0.08646177031,
              "pathAttribute": {
               "$type": "Tfl.Api.Presentation.Entities.PathAttribute, Tfl.Api.Presentation.Entities"
              },
              "skyDirection": 223,
              "skyDirectionDescription": "North",
              "streetName": "",
              "trackType": "None",
              "turnDirection": "SLIGHT_LEFT"
             }
            ],
            "summary": "Walk to Tower Bridge / City Hall"
           },
           "isDisrupted": false,
           "mode": {
            "$type": "Tfl.Api.Presentation.Entities.Identifier, Tfl.Api.Presentation.Entities",
            "id": "walking",
            "name": "walking",
            "routeType": "Unknown",
            "status": "Unknown",
            "type": "Mode"
           },
           "obstacles": [
            {
             "$type": "Tfl.Api.Presentation.Entities.JourneyPlanner.Obstacle, Tfl.Api.Presentation.Entities",
             "incline": "UP",
             "position": "BEFORE",
             "stopId": 1000139,
             "type": "ESCALATOR"
            },
            {
             "$type": "Tfl.Api.Presentation.Entities.JourneyPlanner.Obstacle, Tfl.Api.Presentation.Entities",
             "incline": "LEVEL",
             "position": "BEFORE",
             "stopId": 1000139,
             "type": "WALKWAY"
            }
           ],
           "path": {
            "$type": "Tfl.Api.Presentation.Entities.JourneyPlanner.Path, Tfl.Api.Presentation.Entities",
            "elevation": [],
            "lineString": "[[51.50583751486, -0.08785894256],[51.50586018302, -0.08814618959],[51.50572698292, -0.08659551096],[51.5034971153, -0.0767178444],[51.50346140588, -0.07673375702],[51.50317691104, -0.07693305225],[51.50289241583, -0.07713234495],[51.50277653706, -0.07719485829],[51.5028725385, -0.07756544806],[51.50297846911, -0.07799325721],[51.50300399246, -0.07845326866],[51.50312742092, -0.07885152722],[51.5032127799, -0.07912170785],[51.50329790245, -0.07937749042],[51.50336387271, -0.07956203396],[51.50345774497, -0.0798030413],[51.50351567111, -0.08004556052],[51.50361307774, -0.08050255769],[51.50370859758, -0.08084436295],[51.50383060448, -0.08115623862],[51.50398051203, -0.08152458092],[51.50408289568, -0.08173641951],[51.50422334406, -0.08207634429],[51.50439286966, -0.08254473456],[51.50450682725, -0.08291459471],[51.504741843, -0.08353874691],[51.50492910045, -0.08399199446],[51.50506907198, -0.0843031332],[51.50510666415, -0.08440242352],[51.50528422644, -0.08481285579],[51.50533080462, -0.08491177021],[51.50550742478, -0.08526460714],[51.50564833323, -0.0856333533],[51.50573626196, -0.08606196091],[51.5057556448, -0.08614760733],[51.50578401402, -0.08623287728],[51.50582371923, -0.08646177031],[51.50577996179, -0.08653565244],[51.50354961675, -0.07662917924]]",
            "stopPoints": []
           },
           "plannedWorks": [],
           "routeOptions": [
            {
             "$type": "Tfl.Api.Presentation.Entities.JourneyPlanner.RouteOption, Tfl.Api.Presentation.Entities",
             "directions": [
              ""
             ],
             "name": ""
            }
           ]
          }
         ],
         "startDateTime": "2021-08-21T05:00:00"
        },
        {
         "$type": "Tfl.Api.Presentation.Entities.JourneyPlanner.Journey, Tfl.Api.Presentation.Entities",
         "arrivalDateTime": "2021-08-21T06:44:00",
         "duration": 89,
         "legs": [
          {
           "$type": "Tfl.Api.Presentation.Entities.JourneyPlanner.Leg, Tfl.Api.Presentation.Entities",
           "arrivalPoint": {
            "$type": "Tfl.Api.Presentation.Entities.StopPoint, Tfl.Api.Presentation.Entities",
            "additionalProperties": [],
            "commonName": "Heathrow Terminals 2 & 3 Underground Station",
            "icsCode": "1000105",
            "lat": 51.471637629,
            "lon": -0.45295694328,
            "naptanId": "940GZZLUHRC",
            "placeType": "StopPoint",
            "platformName": ""
           },
           "arrivalTime": "2021-08-21T05:27:00",
           "departurePoint": {
            "$type": "Tfl.Api.Presentation.Entities.StopPoint, Tfl.Api.Presentation.Entities",
            "additionalProperties": [],
            "commonName": "Hillingdon, Heathrow Airport Terminal 3 Arrivals",
            "icsCode": "99999997",
            "lat": 51.471544550269996,
            "lon": -0.45886341771,
            "placeType": "StopPoint",
            "platformName": ""
           },
           "departureTime": "2021-08-21T05:15:00",
           "disruptions": [],
           "distance": 340,
           "duration": 12,
           "hasFixedLocations": true,
           "instruction": {
            "$type": "Tfl.Api.Presentation.Entities.Instruction, Tfl.Api.Presentation.Entities",
            "detailed": "Walk to Heathrow Terminals 2 & 3 Underground Station",
            "steps": [
             {
              "$type": "Tfl.Api.Presentation.Entities.InstructionStep, Tfl.Api.Presentation.Entities",
              "cumulativeDistance": 340,
              "cumulativeTravelTime": 306,
              "description": " for 340 metres",
              "descriptionHeading": "Continue along ",
              "distance": 340,
              "latitude": 51.47155334938,
              "longitude": -0.45884872287,
              "pathAttribute": {
               "$type": "Tfl.Api.Presentation.Entities.PathAttribute, Tfl.Api.Presentation.Entities"
              },
              "skyDirection": 498,
              "skyDirectionDescription": "North",
              "streetName": "",
              "trackType": "None",
              "turnDirection": "STRAIGHT"
             }
            ],
            "summary": "Walk to Heathrow Terminals 2 & 3 Underground Station"
           },
           "isDisrupted": false,
           "mode": {
            "$type": "Tfl.Api.Presentation.Entities.Identifier, Tfl.Api.Presentation.Entities",
            "id": "walking",
            "name": "walking",
            "routeType": "Unknown",
            "status": "Unknown",
            "type": "Mode"
           },
           "obstacles": [
            {
             "$type": "Tfl.Api.Presentation.Entities.JourneyPlanner.Obstacle, Tfl.Api.Presentation.Entities",
             "incline": "DOWN",
             "position": "IDEST",
             "stopId": 1000105,
             "type": "RAMP"
            },
            {
             "$type": "Tfl.Api.Presentation.Entities.JourneyPlanner.Obstacle, Tfl.Api.Presentation.Entities",
             "incline": "DOWN",
             "position": "IDEST",
             "stopId": 1000105,
             "type": "ESCALATOR"
            }
           ],
           "path": {
            "$type": "Tfl.Api.Presentation.Entities.JourneyPlanner.Path, Tfl.Api.Presentation.Entities",
            "elevation": [],
            "lineString": "[[51.47154455027, -0.45886341771],[51.47155334938, -0.45884872287],[51.47077496803, -0.45778069358],[51.47149019312, -0.45473292627],[51.47145386087, -0.4547053571],[51.4714450785, -0.45267548951],[51.471637629, -0.45295694328],[51.47133397351, -0.45296249441]]",
            "stopPoints": []
           },
           "plannedWorks": [],
           "routeOptions": [
            {
             "$type": "Tfl.Api.Presentation.Entities.JourneyPlanner.RouteOption, Tfl.Api.Presentation.Entities",
             "directions": [
              ""
             ],
             "name": ""
            }
           ]
          },
          {
           "$type": "Tfl.Api.Presentation.Entities.JourneyPlanner.Leg, Tfl.Api.Presentation.Entities",
           "arrivalPoint": {
            "$type": "Tfl.Api.Presentation.Entities.StopPoint, Tfl.Api.Presentation.Entities",
            "additionalProperties": [],
            "commonName": "Green Park Underground Station",
            "icsCode": "1000093",
            "lat": 51.507120049280005,
            "lon": -0.14191535794,
            "naptanId": "940GZZLUGPK",
            "placeType": "StopPoint",
            "platformName": ""
           },
           "arrivalTime": "2021-08-21T06:13:00",
           "departurePoint": {
            "$type": "Tfl.Api.Presentation.Entities.StopPoint, Tfl.Api.Presentation.Entities",
            "additionalProperties": [],
            "commonName": "Heathrow Terminals 2 & 3 Underground Station",
            "icsCode": "1000105",
            "lat": 51.471637629,
            "lon": -0.45295694328,
            "naptanId": "940GZZLUHRC",
            "placeType": "StopPoint",
            "platformName": ""
           },
           "departureTime": "2021-08-21T05:27:00",
           "disruptions": [
            {
             "$type": "Tfl.Api.Presentation.Entities.Disruption, Tfl.Api.Presentation.Entities",
             "additionalInfo": "Check our&nbsp;<a href=\"https://tfl.gov.uk/status-updates/busiest-times-to-travel\">quieter times webpage</a> for more information",
             "category": "Crowding",
             "categoryDescription": "Crowding",
             "created": "2021-07-02T15:49:00",
             "description": "Green Park is one of our busier stations, especially in the morning and evening peaks/ in the evenings and at weekends. If you can make a small change to the time you travel, you could have more space.",
             "lastUpdate": "2021-07-02T15:50:00",
             "summary": "",
             "type": "stopInfo"
            }
           ],
           "duration": 46,
           "hasFixedLocations": true,
           "instruction": {
            "$type": "Tfl.Api.Presentation.Entities.Instruction, Tfl.Api.Presentation.Entities",
            "detailed": "Piccadilly line towards Cockfosters",
            "steps": [],
            "summary": "Piccadilly line to Green Park"
           },
           "isDisrupted": true,
           "mode": {
            "$type": "Tfl.Api.Presentation.Entities.Identifier, Tfl.Api.Presentation.Entities",
            "id": "tube",
            "name": "tube",
            "routeType": "Unknown",
            "status": "Unknown",
            "type": "Mode"
           },
           "obstacles": [
            {
             "$type": "Tfl.Api.Presentation.Entities.JourneyPlanner.Obstacle, Tfl.Api.Presentation.Entities",
             "incline": "UP",
             "position": "AFTER",
             "stopId": 1000093,
             "type": "STAIRS"
            },
            {
             "$type": "Tfl.Api.Presentation.Entities.JourneyPlanner.Obstacle, Tfl.Api.Presentation.Entities",
             "incline": "DOWN",
             "position": "AFTER",
             "stopId": 1000093,
             "type": "STAIRS"
            },
            {
             "$type": "Tfl.Api.Presentation.Entities.JourneyPlanner.Obstacle, Tfl.Api.Presentation.Entities",
             "incline": "LEVEL",
             "position": "AFTER",
             "stopId": 1000093,
             "type": "WALKWAY"
            }
           ],
           "path": {
            "$type": "Tfl.Api.Presentation.Entities.JourneyPlanner.Path, Tfl.Api.Presentation.Entities",
            "elevation": [],
            "lineString": "[[51.47133414008, -0.45297143671],[51.47129625217, -0.45093833188],[51.47119705219, -0.45023617707],[51.46562304245, -0.42736179058],[51.46551394189, -0.42660252651],[51.46550583066, -0.42599815248],[51.46559697209, -0.42541915544],[51.46638638497, -0.42360158321],[51.46638638497, -0.42360158321],[51.46680937918, -0.42262761335],[51.46718153783, -0.42154940001],[51.46922027601, -0.41469773922],[51.46967581535, -0.41314138278],[51.47188053313, -0.40662874577],[51.47266595611, -0.40421118384],[51.4731883564, -0.40229229392],[51.47494220963, -0.39704719586],[51.47507814629, -0.39646644862],[51.47513338514, -0.39590292812],[51.47512038717, -0.39495301203],[51.47498856672, -0.39386327385],[51.47478680503, -0.39291999464],[51.47423550195, -0.39075067401],[51.47358430283, -0.38851292937],[51.47345075673, -0.38795607167],[51.47337113566, -0.38739731574],[51.47335965335, -0.38656257661],[51.4733866923, -0.3859136657],[51.47341926289, -0.385734712],[51.47341926289, -0.385734712],[51.47387990381, -0.38320360757],[51.47400981566, -0.38219106752],[51.47403106901, -0.38112477083],[51.47390051231, -0.38013584652],[51.47368006827, -0.37915011351],[51.47336774641, -0.3780236576],[51.47223737126, -0.37496802597],[51.47157888271, -0.37287484377],[51.47133340786, -0.37138614109],[51.47123772117, -0.37032406734],[51.47125106032, -0.36869657304],[51.47133422543, -0.36620170922],[51.47133422543, -0.36620170922],[51.4713462021, -0.36584229009],[51.471437203, -0.36462956768],[51.47170628789, -0.36264734459],[51.47193784297, -0.36119919215],[51.47212169283, -0.36019909501],[51.47247924827, -0.35876079367],[51.4728923255, -0.35743566677],[51.47309198812, -0.35692453078],[51.47355472319, -0.35612620222],[51.47355472319, -0.35612620222],[51.47425972115, -0.35490986263],[51.47481464229, -0.35408352575],[51.47528513595, -0.35364900059],[51.47574088603, -0.35344539471],[51.47624258518, -0.35331212994],[51.47762670379, -0.35326228544],[51.47850114607, -0.35341800242],[51.47920219297, -0.35339275658],[51.4798650653, -0.35321047201],[51.48028385213, -0.35293616543],[51.48149076439, -0.35181184571],[51.48149076439, -0.35181184571],[51.48165077802, -0.35166277698],[51.48209207177, -0.35107079292],[51.48236279739, -0.35049935335],[51.48257878341, -0.34987227464],[51.48300527151, -0.34822943966],[51.48345936458, -0.34599508165],[51.48368842655, -0.34502183634],[51.48392951692, -0.34426418194],[51.48425966623, -0.34344568222],[51.48476834345, -0.34253428178],[51.49278966746, -0.32986928129],[51.49298247444, -0.32951650763],[51.49354004044, -0.32825725451],[51.4938018695, -0.3277002646],[51.49405676184, -0.32728757871],[51.49505998532, -0.32575263528],[51.49573468815, -0.32481625777],[51.49573468815, -0.32481625777],[51.49669122554, -0.3234886738],[51.49709621533, -0.32288314316],[51.49733208505, -0.32239906485],[51.49831750614, -0.31962555272],[51.49858208852, -0.31863613968],[51.49971676663, -0.31353113831],[51.49971676663, -0.31353113831],[51.50036424411, -0.31061752396],[51.50108944725, -0.30739114955],[51.50108944725, -0.30739114955],[51.50118391718, -0.30697082307],[51.50132127291, -0.30651908558],[51.50231360067, -0.30424901532],[51.502829938, -0.30264491839],[51.50303125403, -0.30164325011],[51.50329277414, -0.29983245096],[51.50433859847, -0.29320863743],[51.50460043866, -0.29204613102],[51.50562103371, -0.28865058866],[51.50578964306, -0.28788057234],[51.50587715008, -0.28709918206],[51.50585659227, -0.28630743346],[51.50570999464, -0.28550600685],[51.50538968178, -0.28450937827],[51.50364425624, -0.28137618171],[51.50277167788, -0.27986003801],[51.50277167788, -0.27986003801],[51.50276765264, -0.27985304418],[51.50209223387, -0.27917247055],[51.50052843591, -0.2780067116],[51.49987182754, -0.27738311875],[51.49874479649, -0.27595607466],[51.49570540839, -0.27107177814],[51.4952880256, -0.27020879586],[51.49492158603, -0.26914221544],[51.49461741054, -0.26803007429],[51.49447542257, -0.26694060845],[51.49450009304, -0.2661761603],[51.49460760363, -0.26493317096],[51.49470011041, -0.26389242917],[51.49510405624, -0.26020352799],[51.49529069168, -0.25642200817],[51.49529539136, -0.25552864659],[51.49526890491, -0.25462221712],[51.49526890491, -0.25462221712],[51.49490995737, -0.24236181984],[51.49482848299, -0.24112603403],[51.49463612357, -0.23969283971],[51.49416765347, -0.23664244205],[51.49413246427, -0.23609637831],[51.4938625608, -0.22952336733],[51.49389162508, -0.22847062012],[51.49387241422, -0.22779429393],[51.4937344074, -0.22699292561],[51.49354399647, -0.22629443585],[51.49330755644, -0.22552571115],[51.49310068802, -0.22492871185],[51.4928333043, -0.22449252917],[51.4920959202, -0.2235783194],[51.4920959202, -0.2235783194],[51.4910645424, -0.22229967955],[51.49062992288, -0.22150991913],[51.49034895321, -0.22077181035],[51.49018503026, -0.22004355659],[51.49011471448, -0.21896595054],[51.4901460911, -0.21807164222],[51.49041793613, -0.21643331258],[51.49047428308, -0.21540837889],[51.4904158226, -0.2139846506],[51.4904158226, -0.2139846506],[51.49040282633, -0.21366820117],[51.49016057498, -0.21134412118],[51.49011999668, -0.21045262339],[51.49019621778, -0.20896596118],[51.4903360229, -0.20811060601],[51.49088403769, -0.20513612287],[51.49092368436, -0.20478884879],[51.49094601713, -0.20448546898],[51.49083894854, -0.20336609718],[51.49056458459, -0.20189319214],[51.49044024696, -0.20140832334],[51.49016268591, -0.20090067952],[51.48978471879, -0.20029616374],[51.48962354255, -0.19975514055],[51.48955945267, -0.19909506012],[51.48954618492, -0.19823131581],[51.48964274665, -0.19749288036],[51.48993635411, -0.19670345334],[51.49050390242, -0.19560070223],[51.49171829011, -0.19376940871],[51.49171829011, -0.19376940871],[51.49244613635, -0.1926717502],[51.49403160383, -0.19052019112],[51.49444266042, -0.18976920715],[51.49471646166, -0.18886518215],[51.49482261759, -0.18816948014],[51.49490709594, -0.18665348339],[51.49482971321, -0.18572015513],[51.49425552631, -0.18320517722],[51.49425552631, -0.18320517722],[51.49387466921, -0.18153716156],[51.49378691891, -0.18051784029],[51.49378142925, -0.17900544763],[51.49407418278, -0.17527705428],[51.49401755653, -0.17336332487],[51.49401755653, -0.17336332487],[51.49394129639, -0.17078772496],[51.49399432205, -0.17015174248],[51.49410486084, -0.16974394965],[51.49426976895, -0.16936278863],[51.49441108677, -0.16919866068],[51.49473169233, -0.16899853537],[51.49510037907, -0.1689981679],[51.49536189764, -0.16904531378],[51.49584157367, -0.16924218993],[51.49640684781, -0.16916191401],[51.49657557542, -0.16902549263],[51.49682158759, -0.16865546415],[51.49754725513, -0.16732974508],[51.49787189295, -0.16681247356],[51.49821225073, -0.16615049125],[51.49849935922, -0.16553385907],[51.49976729498, -0.16323533984],[51.50015414521, -0.16267228786],[51.50074611019, -0.16200011802],[51.50112690177, -0.16162459327],[51.50140565956, -0.16125444556],[51.50140565956, -0.16125444556],[51.50154093013, -0.16107482473],[51.50161932788, -0.16091317727],[51.50179025681, -0.16034436908],[51.50203528527, -0.15934031773],[51.50217721135, -0.15864299072],[51.50225554705, -0.15790499789],[51.50234454305, -0.15612915575],[51.50243049075, -0.15530439673],[51.50268829722, -0.15367476289],[51.50268829722, -0.15367476289],[51.50318288971, -0.15054791446],[51.5033436452, -0.14990741464],[51.50355831772, -0.14926472576],[51.50382713453, -0.14863424531],[51.50439308278, -0.14745856884],[51.50584117644, -0.14463317644],[51.50620563109, -0.14379701293],[51.50714109072, -0.14194261337]]",
            "stopPoints": [
             {
              "$type": "Tfl.Api.Presentation.Entities.Identifier, Tfl.Api.Presentation.Entities",
              "id": "940GZZLUHNX",
              "name": "Hatton Cross Underground Station",
              "routeType": "Unknown",
              "status": "Unknown",
              "type": "StopPoint",
              "uri": "/StopPoint/940GZZLUHNX"
             },
             {
              "$type": "Tfl.Api.Presentation.Entities.Identifier, Tfl.Api.Presentation.Entities",
              "id": "940GZZLUHWT",
              "name": "Hounslow West Underground Station",
              "routeType": "Unknown",
              "status": "Unknown",
              "type": "StopPoint",
              "uri": "/StopPoint/940GZZLUHWT"
             },
             {
              "$type": "Tfl.Api.Presentation.Entities.Identifier, Tfl.Api.Presentation.Entities",
              "id": "940GZZLUHWC",
              "name": "Hounslow Central Underground Station",
              "routeType": "Unknown",
              "status": "Unknown",
              "type": "StopPoint",
              "uri": "/StopPoint/940GZZLUHWC"
             },
             {
              "$type": "Tfl.Api.Presentation.Entities.Identifier, Tfl.Api.Presentation.Entities",
              "id": "940GZZLUHWE",
              "name": "Hounslow East Underground Station",
              "routeType": "Unknown",
              "status": "Unknown",
              "type": "StopPoint",
              "uri": "/StopPoint/940GZZLUHWE"
             },
             {
              "$type": "Tfl.Api.Presentation.Entities.Identifier, Tfl.Api.Presentation.Entities",
              "id": "940GZZLUOSY",
              "name": "Osterley Underground Station",
              "routeType": "Unknown",
              "status": "Unknown",
              "type": "StopPoint",
              "uri": "/StopPoint/940GZZLUOSY"
             },
             {
              "$type": "Tfl.Api.Presentation.Entities.Identifier, Tfl.Api.Presentation.Entities",
              "id": "940GZZLUBOS",
              "name": "Boston Manor Underground Station",
              "routeType": "Unknown",
              "status": "Unknown",
              "type": "StopPoint",
              "uri": "/StopPoint/940GZZLUBOS"
             },
             {
              "$type": "Tfl.Api.Presentation.Entities.Identifier, Tfl.Api.Presentation.Entities",
              "id": "940GZZLUNFD",
              "name": "Northfields Underground Station",
              "routeType": "Unknown",
              "status": "Unknown",
              "type": "StopPoint",
              "uri": "/StopPoint/940GZZLUNFD"
             },
             {
              "$type": "Tfl.Api.Presentation.Entities.Identifier, Tfl.Api.Presentation.Entities",
              "id": "940GZZLUSEA",
              "name": "South Ealing Underground Station",
              "routeType": "Unknown",
              "status": "Unknown",
              "type": "StopPoint",
              "uri": "/StopPoint/940GZZLUSEA"
             },
             {
              "$type": "Tfl.Api.Presentation.Entities.Identifier, Tfl.Api.Presentation.Entities",
              "id": "940GZZLUACT",
              "name": "Acton Town Underground Station",
              "routeType": "Unknown",
              "status": "Unknown",
              "type": "StopPoint",
              "uri": "/StopPoint/940GZZLUACT"
             },
             {
              "$type": "Tfl.Api.Presentation.Entities.Identifier, Tfl.Api.Presentation.Entities",
              "id": "940GZZLUTNG",
              "name": "Turnham Green Underground Station",
              "routeType": "Unknown",
              "status": "Unknown",
              "type": "StopPoint",
              "uri": "/StopPoint/940GZZLUTNG"
             },
             {
              "$type": "Tfl.Api.Presentation.Entities.Identifier, Tfl.Api.Presentation.Entities",
              "id": "940GZZLUHSD",
              "name": "Hammersmith (Dist&Picc Line) Underground Station",
              "routeType": "Unknown",
              "status": "Unknown",
              "type": "StopPoint",
              "uri": "/StopPoint/940GZZLUHSD"
             },
             {
              "$type": "Tfl.Api.Presentation.Entities.Identifier, Tfl.Api.Presentation.Entities",
              "id": "940GZZLUBSC",
              "name": "Barons Court Underground Station",
              "routeType": "Unknown",
              "status": "Unknown",
              "type": "StopPoint",
              "uri": "/StopPoint/940GZZLUBSC"
             },
             {
              "$type": "Tfl.Api.Presentation.Entities.Identifier, Tfl.Api.Presentation.Entities",
              "id": "940GZZLUECT",
              "name": "Earl's Court Underground Station",
              "routeType": "Unknown",
              "status": "Unknown",
              "type": "StopPoint",
              "uri": "/StopPoint/940GZZLUECT"
             },
             {
              "$type": "Tfl.Api.Presentation.Entities.Identifier, Tfl.Api.Presentation.Entities",
              "id": "940GZZLUGTR",
              "name": "Gloucester Road Underground Station",
              "routeType": "Unknown",
              "status": "Unknown",
              "type": "StopPoint",
              "uri": "/StopPoint/940GZZLUGTR"
             },
             {
              "$type": "Tfl.Api.Presentation.Entities.Identifier, Tfl.Api.Presentation.Entities",
              "id": "940GZZLUKNB",
              "name": "Knightsbridge Underground Station",
              "routeType": "Unknown",
              "status": "Unknown",
              "type": "StopPoint",
              "uri": "/StopPoint/940GZZLUKNB"
             },
             {
              "$type": "Tfl.Api.Presentation.Entities.Identifier, Tfl.Api.Presentation.Entities",
              "id": "940GZZLUHPC",
              "name": "Hyde Park Corner Underground Station",
              "routeType": "Unknown",
              "status": "Unknown",
              "type": "StopPoint",
              "uri": "/StopPoint/940GZZLUHPC"
             },
             {
              "$type": "Tfl.Api.Presentation.Entities.Identifier, Tfl.Api.Presentation.Entities",
              "id": "940GZZLUGPK",
              "name": "Green Park Underground Station",
              "routeType": "Unknown",
              "status": "Unknown",
              "type": "StopPoint",
              "uri": "/StopPoint/940GZZLUGPK"
             }
            ]
           },
           "plannedWorks": [],
           "routeOptions": [
            {
             "$type": "Tfl.Api.Presentation.Entities.JourneyPlanner.RouteOption, Tfl.Api.Presentation.Entities",
             "directions": [
              "Cockfosters Underground Station"
             ],
             "lineIdentifier": {
              "$type": "Tfl.Api.Presentation.Entities.Identifier, Tfl.Api.Presentation.Entities",
              "crowding": {
               "$type": "Tfl.Api.Presentation.Entities.Crowding, Tfl.Api.Presentation.Entities"
              },
              "id": "piccadilly",
              "name": "Piccadilly",
              "routeType": "Unknown",
              "status": "Unknown",
              "type": "Line",
              "uri": "/Line/piccadilly"
             },
             "name": "Piccadilly"
            }
           ]
          },
          {
           "$type": "Tfl.Api.Presentation.Entities.JourneyPlanner.Leg, Tfl.Api.Presentation.Entities",
           "arrivalPoint": {
            "$type": "Tfl.Api.Presentation.Entities.StopPoint, Tfl.Api.Presentation.Entities",
            "additionalProperties": [],
            "commonName": "London Bridge Underground Station",
            "icsCode": "1000139",
            "lat": 51.50583751486,
            "lon": -0.08785894256,
            "naptanId": "940GZZLULNB",
            "placeType": "StopPoint",
            "platformName": ""
           },
           "arrivalTime": "2021-08-21T06:27:00",
           "departurePoint": {
            "$type": "Tfl.Api.Presentation.Entities.StopPoint, Tfl.Api.Presentation.Entities",
            "additionalProperties": [],
            "commonName": "Green Park Underground Station",
            "icsCode": "1000093",
            "lat": 51.506161524460005,
            "lon": -0.14157969695,
            "naptanId": "940GZZLUGPK",
            "placeType": "StopPoint",
            "platformName": ""
           },
           "departureTime": "2021-08-21T06:20:00",
           "disruptions": [
            {
             "$type": "Tfl.Api.Presentation.Entities.Disruption, Tfl.Api.Presentation.Entities",
             "additionalInfo": "Check our&nbsp;<a href=\"https://tfl.gov.uk/status-updates/busiest-times-to-travel\">quieter times webpage</a> for more information",
             "category": "Crowding",
             "categoryDescription": "Crowding",
             "created": "2021-07-02T15:49:00",
             "description": "Green Park is one of our busier stations, especially in the morning and evening peaks/ in the evenings and at weekends. If you can make a small change to the time you travel, you could have more space.",
             "lastUpdate": "2021-07-02T15:50:00",
             "summary": "",
             "type": "stopInfo"
            },
            {
             "$type": "Tfl.Api.Presentation.Entities.Disruption, Tfl.Api.Presentation.Entities",
             "additionalInfo": "",
             "category": "PlannedWork",
             "categoryDescription": "PlannedWork",
             "created": "2018-01-22T11:40:00",
             "description": "LONDON BRIDGE STATION: Please note that step free interchange between the Jubilee and Northern lines is partly at street level, in both directions. Lifts are available between Northern line and Borough High Street entrance then via Borough High Street, St Thomas Street and Joiner Street to the main Underground ticket hall from where lifts are available to/from the Jubilee line.",
             "lastUpdate": "2018-03-05T15:29:00",
             "summary": "",
             "type": "stopInfo"
            }
           ],
           "duration": 7,
           "hasFixedLocations": true,
           "instruction": {
            "$type": "Tfl.Api.Presentation.Entities.Instruction, Tfl.Api.Presentation.Entities",
            "detailed": "Jubilee line towards Stratford",
            "steps": [],
            "summary": "Jubilee line to London Bridge"
           },
           "isDisrupted": true,
           "mode": {
            "$type": "Tfl.Api.Presentation.Entities.Identifier, Tfl.Api.Presentation.Entities",
            "id": "tube",
            "name": "tube",
            "routeType": "Unknown",
            "status": "Unknown",
            "type": "Mode"
           },
           "obstacles": [],
           "path": {
            "$type": "Tfl.Api.Presentation.Entities.JourneyPlanner.Path, Tfl.Api.Presentation.Entities",
            "elevation": [],
            "lineString": "[[51.50616302255, -0.14157907788],[51.50591197371, -0.14001919115],[51.50578760902, -0.13954873597],[51.50560033551, -0.13908084636],[51.5020131521, -0.1312158545],[51.50169268756, -0.13029241786],[51.50143374446, -0.12928002483],[51.50123402222, -0.12803468442],[51.50108659683, -0.12668635271],[51.50099956538, -0.12485966609],[51.50099956538, -0.12485966609],[51.5009783417, -0.12441429778],[51.50106337511, -0.12298439272],[51.50170090818, -0.11955780858],[51.50333888904, -0.11302583748],[51.50333888904, -0.11302583748],[51.50398263824, -0.11045815313],[51.50426792153, -0.10863078519],[51.50435392304, -0.10727275095],[51.50429122782, -0.10537666705],[51.50429122782, -0.10537666705],[51.50407248611, -0.0987685702],[51.50422182972, -0.09577963576],[51.50438856048, -0.09441820849],[51.50474305469, -0.09299129429],[51.50495952019, -0.09247792387],[51.50527608892, -0.09148484967],[51.50575025934, -0.08967822594],[51.50586159146, -0.08823258945],[51.50583318936, -0.08785978875]]",
            "stopPoints": [
             {
              "$type": "Tfl.Api.Presentation.Entities.Identifier, Tfl.Api.Presentation.Entities",
              "id": "940GZZLUWSM",
              "name": "Westminster Underground Station",
              "routeType": "Unknown",
              "status": "Unknown",
              "type": "StopPoint",
              "uri": "/StopPoint/940GZZLUWSM"
             },
             {
              "$type": "Tfl.Api.Presentation.Entities.Identifier, Tfl.Api.Presentation.Entities",
              "id": "940GZZLUWLO",
              "name": "Waterloo Underground Station",
              "routeType": "Unknown",
              "status": "Unknown",
              "type": "StopPoint",
              "uri": "/StopPoint/940GZZLUWLO"
             },
             {
              "$type": "Tfl.Api.Presentation.Entities.Identifier, Tfl.Api.Presentation.Entities",
              "id": "940GZZLUSWK",
              "name": "Southwark Underground Station",
              "routeType": "Unknown",
              "status": "Unknown",
              "type": "StopPoint",
              "uri": "/StopPoint/940GZZLUSWK"
             },
             {
              "$type": "Tfl.Api.Presentation.Entities.Identifier, Tfl.Api.Presentation.Entities",
              "id": "940GZZLULNB",
              "name": "London Bridge Underground Station",
              "routeType": "Unknown",
              "status": "Unknown",
              "type": "StopPoint",
              "uri": "/StopPoint/940GZZLULNB"
             }
            ]
           },
           "plannedWorks": [],
           "routeOptions": [
            {
             "$type": "Tfl.Api.Presentation.Entities.JourneyPlanner.RouteOption, Tfl.Api.Presentation.Entities",
             "directions": [
              "Stratford Underground Station"
             ],
             "lineIdentifier": {
              "$type": "Tfl.Api.Presentation.Entities.Identifier, Tfl.Api.Presentation.Entities",
              "crowding": {
               "$type": "Tfl.Api.Presentation.Entities.Crowding, Tfl.Api.Presentation.Entities"
              },
              "id": "jubilee",
              "name": "Jubilee",
              "routeType": "Unknown",
              "status": "Unknown",
              "type": "Line",
              "uri": "/Line/jubilee"
             },
             "name": "Jubilee"
            }
           ]
          },
          {
           "$type": "Tfl.Api.Presentation.Entities.JourneyPlanner.Leg, Tfl.Api.Presentation.Entities",
           "arrivalPoint": {
            "$type": "Tfl.Api.Presentation.Entities.StopPoint, Tfl.Api.Presentation.Entities",
            "additionalProperties": [],
            "commonName": "Tower Bridge / City Hall",
            "icsCode": "1013744",
            "lat": 51.50354961675,
            "lon": -0.07662917924,
            "placeType": "StopPoint",
            "platformName": ""
           },
           "arrivalTime": "2021-08-21T06:44:00",
           "departurePoint": {
            "$type": "Tfl.Api.Presentation.Entities.StopPoint, Tfl.Api.Presentation.Entities",
            "additionalProperties": [],
            "commonName": "London Bridge Underground Station",
            "icsCode": "1000139",
            "lat": 51.50583751486,
            "lon": -0.08785894256,
            "naptanId": "940GZZLULNB",
            "placeType": "StopPoint",
            "platformName": ""
           },
           "departureTime": "2021-08-21T06:27:00",
           "disruptions": [],
           "distance": 832,
           "duration": 17,
           "hasFixedLocations": true,
           "instruction": {
            "$type": "Tfl.Api.Presentation.Entities.Instruction, Tfl.Api.Presentation.Entities",
            "detailed": "Walk to Tower Bridge / City Hall",
            "steps": [
             {
              "$type": "Tfl.Api.Presentation.Entities.InstructionStep, Tfl.Api.Presentation.Entities",
              "cumulativeDistance": 88,
              "cumulativeTravelTime": 86,
              "description": "Tower Bridge Road for 88 metres",
              "descriptionHeading": "Continue along ",
              "distance": 88,
              "latitude": 51.5034971153,
              "longitude": -0.0767178444,
              "pathAttribute": {
               "$type": "Tfl.Api.Presentation.Entities.PathAttribute, Tfl.Api.Presentation.Entities"
              },
              "skyDirection": 201,
              "skyDirectionDescription": "South",
              "streetName": "Tower Bridge Road",
              "trackType": "None",
              "turnDirection": "STRAIGHT"
             },
             {
              "$type": "Tfl.Api.Presentation.Entities.InstructionStep, Tfl.Api.Presentation.Entities",
              "cumulativeDistance": 180,
              "cumulativeTravelTime": 169,
              "description": "on to Queen Elizabeth Street, continue for 92 metres",
              "descriptionHeading": "Turn right",
              "distance": 92,
              "latitude": 51.50277653706,
              "longitude": -0.07719485829,
              "pathAttribute": {
               "$type": "Tfl.Api.Presentation.Entities.PathAttribute, Tfl.Api.Presentation.Entities"
              },
              "skyDirection": 291,
              "skyDirectionDescription": "North",
              "streetName": "Queen Elizabeth Street",
              "trackType": "None",
              "turnDirection": "RIGHT"
             },
             {
              "$type": "Tfl.Api.Presentation.Entities.InstructionStep, Tfl.Api.Presentation.Entities",
              "cumulativeDistance": 796,
              "cumulativeTravelTime": 723,
              "description": "on to Tooley Street, continue for 616 metres",
              "descriptionHeading": "Continue along ",
              "distance": 616,
              "latitude": 51.503003992459995,
              "longitude": -0.07845326866,
              "pathAttribute": {
               "$type": "Tfl.Api.Presentation.Entities.PathAttribute, Tfl.Api.Presentation.Entities"
              },
              "skyDirection": 295,
              "skyDirectionDescription": "North",
              "streetName": "Tooley Street",
              "trackType": "None",
              "turnDirection": "STRAIGHT"
             },
             {
              "$type": "Tfl.Api.Presentation.Entities.InstructionStep, Tfl.Api.Presentation.Entities",
              "cumulativeDistance": 825,
              "cumulativeTravelTime": 749,
              "description": "on to Duke Street Hill, continue for 29 metres",
              "descriptionHeading": "Continue along ",
              "distance": 29,
              "latitude": 51.50573626196,
              "longitude": -0.08606196091,
              "pathAttribute": {
               "$type": "Tfl.Api.Presentation.Entities.PathAttribute, Tfl.Api.Presentation.Entities"
              },
              "skyDirection": 288,
              "skyDirectionDescription": "North",
              "streetName": "Duke Street Hill",
              "trackType": "None",
              "turnDirection": "STRAIGHT"
             },
             {
              "$type": "Tfl.Api.Presentation.Entities.InstructionStep, Tfl.Api.Presentation.Entities",
              "cumulativeDistance": 832,
              "cumulativeTravelTime": 762,
              "description": "for 7 metres",
              "descriptionHeading": "Take a slight left",
              "distance": 7,
              "latitude": 51.50582371923,
              "longitude": -0.08646177031,
              "pathAttribute": {
               "$type": "Tfl.Api.Presentation.Entities.PathAttribute, Tfl.Api.Presentation.Entities"
              },
              "skyDirection": 223,
              "skyDirectionDescription": "North",
              "streetName": "",
              "trackType": "None",
              "turnDirection": "SLIGHT_LEFT"
             }
            ],
            "summary": "Walk to Tower Bridge / City Hall"
           },
           "isDisrupted": false,
           "mode": {
            "$type": "Tfl.Api.Presentation.Entities.Identifier, Tfl.Api.Presentation.Entities",
            "id": "walking",
            "name": "walking",
            "routeType": "Unknown",
            "status": "Unknown",
            "type": "Mode"
           },
           "obstacles": [
            {
             "$type": "Tfl.Api.Presentation.Entities.JourneyPlanner.Obstacle, Tfl.Api.Presentation.Entities",
             "incline": "UP",
             "position": "BEFORE",
             "stopId": 1000139,
             "type": "ESCALATOR"
            },
            {
             "$type": "Tfl.Api.Presentation.Entities.JourneyPlanner.Obstacle, Tfl.Api.Presentation.Entities",
             "incline": "LEVEL",
             "position": "BEFORE",
             "stopId": 1000139,
             "type": "WALKWAY"
            }
           ],
           "path": {
            "$type": "Tfl.Api.Presentation.Entities.JourneyPlanner.Path, Tfl.Api.Presentation.Entities",
            "elevation": [],
            "lineString": "[[51.50583751486, -0.08785894256],[51.50586018302, -0.08814618959],[51.50572698292, -0.08659551096],[51.5034971153, -0.0767178444],[51.50346140588, -0.07673375702],[51.50317691104, -0.07693305225],[51.50289241583, -0.07713234495],[51.50277653706, -0.07719485829],[51.5028725385, -0.07756544806],[51.50297846911, -0.07799325721],[51.50300399246, -0.07845326866],[51.50312742092, -0.07885152722],[51.5032127799, -0.07912170785],[51.50329790245, -0.07937749042],[51.50336387271, -0.07956203396],[51.50345774497, -0.0798030413],[51.50351567111, -0.08004556052],[51.50361307774, -0.08050255769],[51.50370859758, -0.08084436295],[51.50383060448, -0.08115623862],[51.50398051203, -0.08152458092],[51.50408289568, -0.08173641951],[51.50422334406, -0.08207634429],[51.50439286966, -0.08254473456],[51.50450682725, -0.08291459471],[51.504741843, -0.08353874691],[51.50492910045, -0.08399199446],[51.50506907198, -0.0843031332],[51.50510666415, -0.08440242352],[51.50528422644, -0.08481285579],[51.50533080462, -0.08491177021],[51.50550742478, -0.08526460714],[51.50564833323, -0.0856333533],[51.50573626196, -0.08606196091],[51.5057556448, -0.08614760733],[51.50578401402, -0.08623287728],[51.50582371923, -0.08646177031],[51.50577996179, -0.08653565244],[51.50354961675, -0.07662917924]]",
            "stopPoints": []
           },
           "plannedWorks": [],
           "routeOptions": [
            {
             "$type": "Tfl.Api.Presentation.Entities.JourneyPlanner.RouteOption, Tfl.Api.Presentation.Entities",
             "directions": [
              ""
             ],
             "name": ""
            }
           ]
          }
         ],
         "startDateTime": "2021-08-21T05:15:00"
        }
       ],
       "lines": [
        {
         "$type": "Tfl.Api.Presentation.Entities.Line, Tfl.Api.Presentation.Entities",
         "created": "2021-08-19T09:48:47.347Z",
         "crowding": {
          "$type": "Tfl.Api.Presentation.Entities.Crowding, Tfl.Api.Presentation.Entities"
         },
         "disruptions": [],
         "id": "central",
         "lineStatuses": [
          {
           "$type": "Tfl.Api.Presentation.Entities.LineStatus, Tfl.Api.Presentation.Entities",
           "created": "0001-01-01T00:00:00",
           "disruption": {
            "$type": "Tfl.Api.Presentation.Entities.Disruption, Tfl.Api.Presentation.Entities",
            "affectedRoutes": [],
            "affectedStops": [],
            "category": "RealTime",
            "categoryDescription": "RealTime",
            "closureText": "serviceClosed",
            "description": "Central Line: Service will resume later this morning "
           },
           "id": 0,
           "lineId": "central",
           "reason": "Central Line: Service will resume later this morning ",
           "statusSeverity": 20,
           "statusSeverityDescription": "Service Closed",
           "validityPeriods": [
            {
             "$type": "Tfl.Api.Presentation.Entities.ValidityPeriod, Tfl.Api.Presentation.Entities",
             "fromDate": "2021-08-21T01:11:41Z",
             "isNow": true,
             "toDate": "2021-08-21T04:11:41Z"
            }
           ]
          }
         ],
         "modeName": "tube",
         "modified": "2021-08-19T09:48:47.347Z",
         "name": "Central",
         "routeSections": [],
         "serviceTypes": [
          {
           "$type": "Tfl.Api.Presentation.Entities.LineServiceTypeInfo, Tfl.Api.Presentation.Entities",
           "name": "Regular",
           "uri": "/Line/Route?ids=Central&serviceTypes=Regular"
          },
          {
           "$type": "Tfl.Api.Presentation.Entities.LineServiceTypeInfo, Tfl.Api.Presentation.Entities",
           "name": "Night",
           "uri": "/Line/Route?ids=Central&serviceTypes=Night"
          }
         ]
        },
        {
         "$type": "Tfl.Api.Presentation.Entities.Line, Tfl.Api.Presentation.Entities",
         "created": "2021-08-19T09:48:47.363Z",
         "crowding": {
          "$type": "Tfl.Api.Presentation.Entities.Crowding, Tfl.Api.Presentation.Entities"
         },
         "disruptions": [],
         "id": "circle",
         "lineStatuses": [
          {
           "$type": "Tfl.Api.Presentation.Entities.LineStatus, Tfl.Api.Presentation.Entities",
           "created": "0001-01-01T00:00:00",
           "disruption": {
            "$type": "Tfl.Api.Presentation.Entities.Disruption, Tfl.Api.Presentation.Entities",
            "affectedRoutes": [],
            "affectedStops": [],
            "category": "RealTime",
            "categoryDescription": "RealTime",
            "closureText": "serviceClosed",
            "description": "Circle Line: Service will resume later this morning "
           },
           "id": 0,
           "lineId": "circle",
           "reason": "Circle Line: Service will resume later this morning ",
           "statusSeverity": 20,
           "statusSeverityDescription": "Service Closed",
           "validityPeriods": [
            {
             "$type": "Tfl.Api.Presentation.Entities.ValidityPeriod, Tfl.Api.Presentation.Entities",
             "fromDate": "2021-08-21T01:11:59Z",
             "isNow": true,
             "toDate": "2021-08-21T04:11:59Z"
            }
           ]
          }
         ],
         "modeName": "tube",
         "modified": "2021-08-19T09:48:47.363Z",
         "name": "Circle",
         "routeSections": [],
         "serviceTypes": [
          {
           "$type": "Tfl.Api.Presentation.Entities.LineServiceTypeInfo, Tfl.Api.Presentation.Entities",
           "name": "Regular",
           "uri": "/Line/Route?ids=Circle&serviceTypes=Regular"
          }
         ]
        },
        {
         "$type": "Tfl.Api.Presentation.Entities.Line, Tfl.Api.Presentation.Entities",
         "created": "2021-08-19T09:48:47.347Z",
         "crowding": {
          "$type": "Tfl.Api.Presentation.Entities.Crowding, Tfl.Api.Presentation.Entities"
         },
         "disruptions": [],
         "id": "district",
         "lineStatuses": [
          {
           "$type": "Tfl.Api.Presentation.Entities.LineStatus, Tfl.Api.Presentation.Entities",
           "created": "0001-01-01T00:00:00",
           "disruption": {
            "$type": "Tfl.Api.Presentation.Entities.Disruption, Tfl.Api.Presentation.Entities",
            "additionalInfo": "Replacement buses operate Service DL6: Tower Hill - Aldgate & Aldgate East - Whitechapel - Stepney Green - Mile End - Bow Road - Bromley-by-Bow - Canning Town (for Jubilee line and DLR connections to West Ham) - Stratford",
            "affectedRoutes": [],
            "affectedStops": [],
            "category": "PlannedWork",
            "categoryDescription": "PlannedWork",
            "closureText": "partClosure",
            "created": "2021-06-23T11:46:00Z",
            "description": "DISTRICT LINE: Saturday 21 and Sunday 22 August, no service between Tower Hill and West Ham. Replacement buses operate."
           },
           "id": 0,
           "lineId": "district",
           "reason": "DISTRICT LINE: Saturday 21 and Sunday 22 August, no service between Tower Hill and West Ham. Replacement buses operate.",
           "statusSeverity": 5,
           "statusSeverityDescription": "Part Closure",
           "validityPeriods": [
            {
             "$type": "Tfl.Api.Presentation.Entities.ValidityPeriod, Tfl.Api.Presentation.Entities",
             "fromDate": "2021-08-21T04:30:00Z",
             "isNow": false,
             "toDate": "2021-08-23T01:29:00Z"
            }
           ]
          }
         ],
         "modeName": "tube",
         "modified": "2021-08-19T09:48:47.347Z",
         "name": "District",
         "routeSections": [],
         "serviceTypes": [
          {
           "$type": "Tfl.Api.Presentation.Entities.LineServiceTypeInfo, Tfl.Api.Presentation.Entities",
           "name": "Regular",
           "uri": "/Line/Route?ids=District&serviceTypes=Regular"
          }
         ]
        },
        {
         "$type": "Tfl.Api.Presentation.Entities.Line, Tfl.Api.Presentation.Entities",
         "created": "2021-08-19T09:48:47.363Z",
         "crowding": {
          "$type": "Tfl.Api.Presentation.Entities.Crowding, Tfl.Api.Presentation.Entities"
         },
         "disruptions": [],
         "id": "jubilee",
         "lineStatuses": [
          {
           "$type": "Tfl.Api.Presentation.Entities.LineStatus, Tfl.Api.Presentation.Entities",
           "created": "0001-01-01T00:00:00",
           "disruption": {
            "$type": "Tfl.Api.Presentation.Entities.Disruption, Tfl.Api.Presentation.Entities",
            "affectedRoutes": [],
            "affectedStops": [],
            "category": "RealTime",
            "categoryDescription": "RealTime",
            "closureText": "serviceClosed",
            "description": "Jubilee Line: Service will resume later this morning "
           },
           "id": 0,
           "lineId": "jubilee",
           "reason": "Jubilee Line: Service will resume later this morning ",
           "statusSeverity": 20,
           "statusSeverityDescription": "Service Closed",
           "validityPeriods": [
            {
             "$type": "Tfl.Api.Presentation.Entities.ValidityPeriod, Tfl.Api.Presentation.Entities",
             "fromDate": "2021-08-21T01:13:58Z",
             "isNow": true,
             "toDate": "2021-08-21T04:13:58Z"
            }
           ]
          }
         ],
         "modeName": "tube",
         "modified": "2021-08-19T09:48:47.363Z",
         "name": "Jubilee",
         "routeSections": [],
         "serviceTypes": [
          {
           "$type": "Tfl.Api.Presentation.Entities.LineServiceTypeInfo, Tfl.Api.Presentation.Entities",
           "name": "Regular",
           "uri": "/Line/Route?ids=Jubilee&serviceTypes=Regular"
          },
          {
           "$type": "Tfl.Api.Presentation.Entities.LineServiceTypeInfo, Tfl.Api.Presentation.Entities",
           "name": "Night",
           "uri": "/Line/Route?ids=Jubilee&serviceTypes=Night"
          }
         ]
        },
        {
         "$type": "Tfl.Api.Presentation.Entities.Line, Tfl.Api.Presentation.Entities",
         "created": "2021-08-19T09:48:47.363Z",
         "crowding": {
          "$type": "Tfl.Api.Presentation.Entities.Crowding, Tfl.Api.Presentation.Entities"
         },
         "disruptions": [],
         "id": "piccadilly",
         "lineStatuses": [
          {
           "$type": "Tfl.Api.Presentation.Entities.LineStatus, Tfl.Api.Presentation.Entities",
           "created": "0001-01-01T00:00:00",
           "disruption": {
            "$type": "Tfl.Api.Presentation.Entities.Disruption, Tfl.Api.Presentation.Entities",
            "affectedRoutes": [],
            "affectedStops": [],
            "category": "RealTime",
            "categoryDescription": "RealTime",
            "closureText": "serviceClosed",
            "description": "Piccadilly Line: Service will resume later this morning "
           },
           "id": 0,
           "lineId": "piccadilly",
           "reason": "Piccadilly Line: Service will resume later this morning ",
           "statusSeverity": 20,
           "statusSeverityDescription": "Service Closed",
           "validityPeriods": [
            {
             "$type": "Tfl.Api.Presentation.Entities.ValidityPeriod, Tfl.Api.Presentation.Entities",
             "fromDate": "2021-08-21T01:17:14Z",
             "isNow": true,
             "toDate": "2021-08-21T04:17:14Z"
            }
           ]
          }
         ],
         "modeName": "tube",
         "modified": "2021-08-19T09:48:47.363Z",
         "name": "Piccadilly",
         "routeSections": [],
         "serviceTypes": [
          {
           "$type": "Tfl.Api.Presentation.Entities.LineServiceTypeInfo, Tfl.Api.Presentation.Entities",
           "name": "Regular",
           "uri": "/Line/Route?ids=Piccadilly&serviceTypes=Regular"
          },
          {
           "$type": "Tfl.Api.Presentation.Entities.LineServiceTypeInfo, Tfl.Api.Presentation.Entities",
           "name": "Night",
           "uri": "/Line/Route?ids=Piccadilly&serviceTypes=Night"
          }
         ]
        }
       ],
       "recommendedMaxAgeMinutes": 5,
       "searchCriteria": {
        "$type": "Tfl.Api.Presentation.Entities.JourneyPlanner.SearchCriteria, Tfl.Api.Presentation.Entities",
        "dateTime": "2021-08-21T01:43:00",
        "dateTimeType": "Departing",
        "timeAdjustments": {
         "$type": "Tfl.Api.Presentation.Entities.JourneyPlanner.TimeAdjustments, Tfl.Api.Presentation.Entities",
         "earlier": {
          "$type": "Tfl.Api.Presentation.Entities.JourneyPlanner.TimeAdjustment, Tfl.Api.Presentation.Entities",
          "date": "20210821",
          "time": "0009",
          "timeIs": "departing",
          "uri": "/journey/journeyresults/hillingdon,%20heathrow%20airport%20terminal%203%20arrivals/to/city%20of%20london,%20tower%20bridge?mode=tube&time=0009&date=20210821&timeIs=departing"
         },
         "earliest": {
          "$type": "Tfl.Api.Presentation.Entities.JourneyPlanner.TimeAdjustment, Tfl.Api.Presentation.Entities",
          "date": "20210821",
          "time": "0300",
          "timeIs": "departing",
          "uri": "/journey/journeyresults/hillingdon,%20heathrow%20airport%20terminal%203%20arrivals/to/city%20of%20london,%20tower%20bridge?mode=tube&time=0300&date=20210821&timeIs=departing"
         },
         "later": {
          "$type": "Tfl.Api.Presentation.Entities.JourneyPlanner.TimeAdjustment, Tfl.Api.Presentation.Entities",
          "date": "20210821",
          "time": "0515",
          "timeIs": "departing",
          "uri": "/journey/journeyresults/hillingdon,%20heathrow%20airport%20terminal%203%20arrivals/to/city%20of%20london,%20tower%20bridge?mode=tube&time=0515&date=20210821&timeIs=departing"
         },
         "latest": {
          "$type": "Tfl.Api.Presentation.Entities.JourneyPlanner.TimeAdjustment, Tfl.Api.Presentation.Entities",
          "date": "20210822",
          "time": "0300",
          "timeIs": "departing",
          "uri": "/journey/journeyresults/hillingdon,%20heathrow%20airport%20terminal%203%20arrivals/to/city%20of%20london,%20tower%20bridge?mode=tube&time=0300&date=20210822&timeIs=departing"
         }
        }
       },
       "stopMessages": []
      },
      "text/plain": [
       "<IPython.core.display.JSON object>"
      ]
     },
     "execution_count": 29,
     "metadata": {
      "application/json": {
       "expanded": false,
       "root": "root"
      }
     },
     "output_type": "execute_result"
    }
   ],
   "source": [
    "JSON(plan_tube)"
   ]
  },
  {
   "cell_type": "code",
   "execution_count": 30,
   "metadata": {},
   "outputs": [
    {
     "data": {
      "application/json": {
       "$type": "Tfl.Api.Presentation.Entities.JourneyPlanner.ItineraryResult, Tfl.Api.Presentation.Entities",
       "journeyVector": {
        "$type": "Tfl.Api.Presentation.Entities.JourneyPlanner.JourneyVector, Tfl.Api.Presentation.Entities",
        "from": "Hillingdon, Heathrow Airport Terminal 3 Arrivals",
        "to": "City of London, Tower Bridge",
        "uri": "/journey/journeyresults/hillingdon,%20heathrow%20airport%20terminal%203%20arrivals/to/city%20of%20london,%20tower%20bridge?mode=bus",
        "via": ""
       },
       "journeys": [
        {
         "$type": "Tfl.Api.Presentation.Entities.JourneyPlanner.Journey, Tfl.Api.Presentation.Entities",
         "arrivalDateTime": "2021-08-21T00:44:00",
         "duration": 161,
         "legs": [
          {
           "$type": "Tfl.Api.Presentation.Entities.JourneyPlanner.Leg, Tfl.Api.Presentation.Entities",
           "arrivalPoint": {
            "$type": "Tfl.Api.Presentation.Entities.StopPoint, Tfl.Api.Presentation.Entities",
            "additionalProperties": [],
            "commonName": "Heathrow Central Bus Stn (Rail-Air)",
            "icsCode": "1008016",
            "lat": 51.47136544841,
            "lon": -0.45345569183,
            "naptanId": "910GHTRWCBS",
            "placeType": "StopPoint",
            "platformName": "19"
           },
           "arrivalTime": "2021-08-20T22:26:00",
           "departurePoint": {
            "$type": "Tfl.Api.Presentation.Entities.StopPoint, Tfl.Api.Presentation.Entities",
            "additionalProperties": [],
            "commonName": "Hillingdon, Heathrow Airport Terminal 3 Arrivals",
            "icsCode": "99999997",
            "lat": 51.471544550269996,
            "lon": -0.45886341771,
            "placeType": "StopPoint",
            "platformName": ""
           },
           "departureTime": "2021-08-20T22:03:00",
           "disruptions": [],
           "distance": 1486,
           "duration": 23,
           "hasFixedLocations": true,
           "instruction": {
            "$type": "Tfl.Api.Presentation.Entities.Instruction, Tfl.Api.Presentation.Entities",
            "detailed": "Walk to Heathrow Central Bus Station",
            "steps": [
             {
              "$type": "Tfl.Api.Presentation.Entities.InstructionStep, Tfl.Api.Presentation.Entities",
              "cumulativeDistance": 1098,
              "cumulativeTravelTime": 989,
              "description": " for 1098 metres",
              "descriptionHeading": "Continue along ",
              "distance": 1098,
              "latitude": 51.47155334938,
              "longitude": -0.45884872287,
              "pathAttribute": {
               "$type": "Tfl.Api.Presentation.Entities.PathAttribute, Tfl.Api.Presentation.Entities"
              },
              "skyDirection": 498,
              "skyDirectionDescription": "North",
              "streetName": "",
              "trackType": "None",
              "turnDirection": "STRAIGHT"
             },
             {
              "$type": "Tfl.Api.Presentation.Entities.InstructionStep, Tfl.Api.Presentation.Entities",
              "cumulativeDistance": 1349,
              "cumulativeTravelTime": 1215,
              "description": "on to Contrail Way, continue for 251 metres",
              "descriptionHeading": "Take a slight right",
              "distance": 251,
              "latitude": 51.46853877779,
              "longitude": -0.45322012153,
              "pathAttribute": {
               "$type": "Tfl.Api.Presentation.Entities.PathAttribute, Tfl.Api.Presentation.Entities"
              },
              "skyDirection": 318,
              "skyDirectionDescription": "North",
              "streetName": "Contrail Way",
              "trackType": "None",
              "turnDirection": "SLIGHT_RIGHT"
             },
             {
              "$type": "Tfl.Api.Presentation.Entities.InstructionStep, Tfl.Api.Presentation.Entities",
              "cumulativeDistance": 1418,
              "cumulativeTravelTime": 1277,
              "description": "on to Inner Ring West, continue for 69 metres",
              "descriptionHeading": "Continue along ",
              "distance": 69,
              "latitude": 51.47062030437,
              "longitude": -0.45422958635,
              "pathAttribute": {
               "$type": "Tfl.Api.Presentation.Entities.PathAttribute, Tfl.Api.Presentation.Entities"
              },
              "skyDirection": 346,
              "skyDirectionDescription": "North",
              "streetName": "Inner Ring West",
              "trackType": "None",
              "turnDirection": "STRAIGHT"
             },
             {
              "$type": "Tfl.Api.Presentation.Entities.InstructionStep, Tfl.Api.Presentation.Entities",
              "cumulativeDistance": 1486,
              "cumulativeTravelTime": 1338,
              "description": "on to Control Tower Road, continue for 68 metres",
              "descriptionHeading": "Take a sharp right",
              "distance": 68,
              "latitude": 51.47123340134,
              "longitude": -0.45435284892,
              "pathAttribute": {
               "$type": "Tfl.Api.Presentation.Entities.PathAttribute, Tfl.Api.Presentation.Entities"
              },
              "skyDirection": 485,
              "skyDirectionDescription": "North",
              "streetName": "Control Tower Road",
              "trackType": "None",
              "turnDirection": "SHARP_RIGHT"
             }
            ],
            "summary": "Walk to Heathrow Central Bus Station"
           },
           "isDisrupted": false,
           "mode": {
            "$type": "Tfl.Api.Presentation.Entities.Identifier, Tfl.Api.Presentation.Entities",
            "id": "walking",
            "name": "walking",
            "routeType": "Unknown",
            "status": "Unknown",
            "type": "Mode"
           },
           "obstacles": [],
           "path": {
            "$type": "Tfl.Api.Presentation.Entities.JourneyPlanner.Path, Tfl.Api.Presentation.Entities",
            "elevation": [],
            "lineString": "[[51.47154455027, -0.45886341771],[51.47155334938, -0.45884872287],[51.47077496803, -0.45778069358],[51.4718988572, -0.4529913028],[51.4693995474, -0.45098816812],[51.46990315369, -0.45235330669],[51.46991214191, -0.45235300257],[51.46988479735, -0.4523251321],[51.46981289153, -0.45232756509],[51.46968724628, -0.45234621415],[51.46867138648, -0.45236618747],[51.46854688075, -0.45247118184],[51.46849693931, -0.45277521685],[51.46853877779, -0.45322012153],[51.46884108363, -0.45364182433],[51.46895982838, -0.45378178552],[51.46917649481, -0.45384644959],[51.46965363027, -0.45388791242],[51.47004968183, -0.45391771884],[51.47031147908, -0.45399525753],[51.47062030437, -0.45422958635],[51.47094558814, -0.45434817678],[51.47123340134, -0.45435284892],[51.47102977877, -0.45391338582],[51.47101509723, -0.4534819363]]",
            "stopPoints": []
           },
           "plannedWorks": [],
           "routeOptions": [
            {
             "$type": "Tfl.Api.Presentation.Entities.JourneyPlanner.RouteOption, Tfl.Api.Presentation.Entities",
             "directions": [
              ""
             ],
             "name": ""
            }
           ]
          },
          {
           "$type": "Tfl.Api.Presentation.Entities.JourneyPlanner.Leg, Tfl.Api.Presentation.Entities",
           "arrivalPoint": {
            "$type": "Tfl.Api.Presentation.Entities.StopPoint, Tfl.Api.Presentation.Entities",
            "additionalProperties": [],
            "commonName": "Harlington Corner",
            "icsCode": "1007811",
            "lat": 51.48130192465,
            "lon": -0.43448413909,
            "naptanId": "490G00007811",
            "placeType": "StopPoint",
            "platformName": "",
            "stopLetter": "N"
           },
           "arrivalTime": "2021-08-20T22:32:00",
           "departurePoint": {
            "$type": "Tfl.Api.Presentation.Entities.StopPoint, Tfl.Api.Presentation.Entities",
            "additionalProperties": [],
            "commonName": "Heathrow Central Bus Stn (Rail-Air)",
            "icsCode": "1008016",
            "lat": 51.47136544841,
            "lon": -0.45345569183,
            "naptanId": "910GHTRWCBS",
            "placeType": "StopPoint",
            "platformName": "19"
           },
           "departureTime": "2021-08-20T22:26:00",
           "disruptions": [],
           "duration": 6,
           "hasFixedLocations": true,
           "instruction": {
            "$type": "Tfl.Api.Presentation.Entities.Instruction, Tfl.Api.Presentation.Entities",
            "detailed": "X140 bus towards Harrow, Limited Stop",
            "steps": [],
            "summary": "X140 bus to Harlington Corner"
           },
           "isDisrupted": false,
           "mode": {
            "$type": "Tfl.Api.Presentation.Entities.Identifier, Tfl.Api.Presentation.Entities",
            "id": "bus",
            "name": "bus",
            "routeType": "Unknown",
            "status": "Unknown",
            "type": "Mode"
           },
           "obstacles": [],
           "path": {
            "$type": "Tfl.Api.Presentation.Entities.JourneyPlanner.Path, Tfl.Api.Presentation.Entities",
            "elevation": [],
            "lineString": "[[51.47101407422, -0.45348903241],[51.47102977877, -0.45391338582],[51.47123340134, -0.45435284892],[51.47164382467, -0.45410860501],[51.47176814204, -0.45398921576],[51.4718389094, -0.45390043298],[51.47213077657, -0.45353060308],[51.47256683384, -0.45318468913],[51.47283610095, -0.45314678483],[51.47322221498, -0.45310492796],[51.47408413526, -0.45300377882],[51.47417420737, -0.45301513121],[51.47983083553, -0.45305417444],[51.48027239733, -0.45312564199],[51.48032689622, -0.45316700162],[51.48049096238, -0.45333426536],[51.48090783727, -0.45357938727],[51.48107899301, -0.45360240117],[51.4813390818, -0.45355040017],[51.48179653161, -0.4534629197],[51.48194724295, -0.45329940378],[51.48204769582, -0.45273434041],[51.4819630031, -0.45244917367],[51.48188995765, -0.45236523637],[51.48162935737, -0.45169718516],[51.4815074304, -0.45063560289],[51.48142753568, -0.45003344818],[51.48137113303, -0.44984814123],[51.48135277608, -0.4498199607],[51.48124865507, -0.44806651712],[51.48118141416, -0.44638383501],[51.48115790672, -0.44596699318],[51.48105679557, -0.44376702021],[51.48103806298, -0.44303318812],[51.48101148482, -0.44238603203],[51.48094665055, -0.44089050135],[51.48091833743, -0.44011379483],[51.48085402792, -0.43798459424],[51.48083621828, -0.43732274234],[51.48077896367, -0.43572615539],[51.48076859265, -0.43494884035],[51.48075211113, -0.43438775421],[51.48080603994, -0.43438590759],[51.48100397106, -0.43439353142],[51.4812870691, -0.43432552374]]",
            "stopPoints": [
             {
              "$type": "Tfl.Api.Presentation.Entities.Identifier, Tfl.Api.Presentation.Entities",
              "id": "490G00007811",
              "name": "Harlington Corner",
              "routeType": "Unknown",
              "status": "Unknown",
              "type": "StopPoint",
              "uri": "/StopPoint/490G00007811"
             }
            ]
           },
           "plannedWorks": [],
           "routeOptions": [
            {
             "$type": "Tfl.Api.Presentation.Entities.JourneyPlanner.RouteOption, Tfl.Api.Presentation.Entities",
             "directions": [
              "Harrow, Limited Stop"
             ],
             "lineIdentifier": {
              "$type": "Tfl.Api.Presentation.Entities.Identifier, Tfl.Api.Presentation.Entities",
              "crowding": {
               "$type": "Tfl.Api.Presentation.Entities.Crowding, Tfl.Api.Presentation.Entities"
              },
              "id": "x140",
              "name": "X140",
              "routeType": "Unknown",
              "status": "Unknown",
              "type": "Line",
              "uri": "/Line/x140"
             },
             "name": "X140"
            }
           ]
          },
          {
           "$type": "Tfl.Api.Presentation.Entities.JourneyPlanner.Leg, Tfl.Api.Presentation.Entities",
           "arrivalPoint": {
            "$type": "Tfl.Api.Presentation.Entities.StopPoint, Tfl.Api.Presentation.Entities",
            "additionalProperties": [],
            "commonName": "Hounslow West Station",
            "icsCode": "1000118",
            "lat": 51.4729425193,
            "lon": -0.3856557626,
            "naptanId": "490G00118B",
            "placeType": "StopPoint",
            "platformName": "A",
            "stopLetter": "A"
           },
           "arrivalTime": "2021-08-20T22:49:00",
           "departurePoint": {
            "$type": "Tfl.Api.Presentation.Entities.StopPoint, Tfl.Api.Presentation.Entities",
            "additionalProperties": [],
            "commonName": "Harlington Corner",
            "icsCode": "1007811",
            "lat": 51.4807437966,
            "lon": -0.43309192296,
            "naptanId": "490G00007811",
            "placeType": "StopPoint",
            "platformName": "",
            "stopLetter": "E"
           },
           "departureTime": "2021-08-20T22:40:00",
           "disruptions": [],
           "duration": 9,
           "hasFixedLocations": true,
           "instruction": {
            "$type": "Tfl.Api.Presentation.Entities.Instruction, Tfl.Api.Presentation.Entities",
            "detailed": "H98 bus towards Hounslow Bus Station or 81 bus towards Hounslow Bus Station or 222 bus towards Hounslow Bus Station",
            "steps": [],
            "summary": "H98 bus or 81 bus or 222 bus to Hounslow West Station"
           },
           "isDisrupted": false,
           "mode": {
            "$type": "Tfl.Api.Presentation.Entities.Identifier, Tfl.Api.Presentation.Entities",
            "id": "bus",
            "name": "bus",
            "routeType": "Unknown",
            "status": "Unknown",
            "type": "Mode"
           },
           "obstacles": [],
           "path": {
            "$type": "Tfl.Api.Presentation.Entities.JourneyPlanner.Path, Tfl.Api.Presentation.Entities",
            "elevation": [],
            "lineString": "[[51.48069032907, -0.43309839139],[51.48065213014, -0.43228859374],[51.48063170332, -0.42874658466],[51.4807350556, -0.42651532735],[51.4807350556, -0.42651532735],[51.48074327993, -0.4263377336],[51.48078145873, -0.42583237365],[51.4809098962, -0.42401338102],[51.48093105628, -0.42358061078],[51.48099590984, -0.42261420937],[51.48099590984, -0.42261420937],[51.48104341969, -0.42190617429],[51.48126090105, -0.4200264766],[51.48127716756, -0.41973193202],[51.48127716756, -0.41973193202],[51.48136208978, -0.41819398861],[51.48134882974, -0.4178776143],[51.48121586028, -0.41668689413],[51.48051086688, -0.41375905236],[51.48027370119, -0.41284560526],[51.48005720113, -0.41204923993],[51.48005720113, -0.41204923993],[51.48003711323, -0.41197535075],[51.47975323824, -0.41093393623],[51.4797155306, -0.41080563771],[51.4796399198, -0.41053464712],[51.47948868509, -0.40999430559],[51.47948868509, -0.40999430559],[51.47917686339, -0.40888024733],[51.4790260231, -0.40836706795],[51.47893106288, -0.40799595373],[51.47879917213, -0.40755412356],[51.47871397939, -0.40724027535],[51.47852561539, -0.40661320888],[51.47829953507, -0.40585785727],[51.47815119939, -0.40534555443],[51.47815119939, -0.40534555443],[51.47796929568, -0.40471733364],[51.47792942717, -0.40443071562],[51.47794681565, -0.40438690751],[51.47798120085, -0.40427050394],[51.47788603189, -0.40388501336],[51.47778559649, -0.40377331589],[51.47762809778, -0.40343320534],[51.4769693816, -0.40118133713],[51.4769693816, -0.40118133713],[51.47683584143, -0.40072484635],[51.47649381445, -0.39938320797],[51.47601886104, -0.39752785119],[51.47587210777, -0.39698325082],[51.47587210777, -0.39698325082],[51.4757536223, -0.39654356138],[51.47570061199, -0.39595503005],[51.47575001122, -0.3956221025],[51.47572166884, -0.3955222985],[51.47569450799, -0.39550885171],[51.47551238525, -0.39534244527],[51.47535092223, -0.39471452635],[51.47526589255, -0.39441511906],[51.47509721084, -0.3939170564],[51.47497228372, -0.39333106303],[51.47485752523, -0.39283111243],[51.47467649426, -0.39208870357],[51.47440862073, -0.39108603012],[51.47440862073, -0.39108603012],[51.47430681304, -0.3907049667],[51.47408882888, -0.38989187964],[51.47392812772, -0.38932156904],[51.47352226457, -0.38792475294],[51.47348433416, -0.38778209924],[51.47316587878, -0.38685739222],[51.47295923305, -0.38621673013],[51.47303735141, -0.38601238855],[51.47292604584, -0.38566947249]]",
            "stopPoints": [
             {
              "$type": "Tfl.Api.Presentation.Entities.Identifier, Tfl.Api.Presentation.Entities",
              "id": "490G00015397",
              "name": "Nobel Drive",
              "routeType": "Unknown",
              "status": "Unknown",
              "type": "StopPoint",
              "uri": "/StopPoint/490G00015397"
             },
             {
              "$type": "Tfl.Api.Presentation.Entities.Identifier, Tfl.Api.Presentation.Entities",
              "id": "490G00010677",
              "name": "Oxford Avenue",
              "routeType": "Unknown",
              "status": "Unknown",
              "type": "StopPoint",
              "uri": "/StopPoint/490G00010677"
             },
             {
              "$type": "Tfl.Api.Presentation.Entities.Identifier, Tfl.Api.Presentation.Entities",
              "id": "490G00013596",
              "name": "Craneswater",
              "routeType": "Unknown",
              "status": "Unknown",
              "type": "StopPoint",
              "uri": "/StopPoint/490G00013596"
             },
             {
              "$type": "Tfl.Api.Presentation.Entities.Identifier, Tfl.Api.Presentation.Entities",
              "id": "490G00005704",
              "name": "Waye Avenue",
              "routeType": "Unknown",
              "status": "Unknown",
              "type": "StopPoint",
              "uri": "/StopPoint/490G00005704"
             },
             {
              "$type": "Tfl.Api.Presentation.Entities.Identifier, Tfl.Api.Presentation.Entities",
              "id": "490G00013235",
              "name": "The Avenue",
              "routeType": "Unknown",
              "status": "Unknown",
              "type": "StopPoint",
              "uri": "/StopPoint/490G00013235"
             },
             {
              "$type": "Tfl.Api.Presentation.Entities.Identifier, Tfl.Api.Presentation.Entities",
              "id": "490G00013495",
              "name": "The Parkway",
              "routeType": "Unknown",
              "status": "Unknown",
              "type": "StopPoint",
              "uri": "/StopPoint/490G00013495"
             },
             {
              "$type": "Tfl.Api.Presentation.Entities.Identifier, Tfl.Api.Presentation.Entities",
              "id": "490G00011470",
              "name": "Rectory Road",
              "routeType": "Unknown",
              "status": "Unknown",
              "type": "StopPoint",
              "uri": "/StopPoint/490G00011470"
             },
             {
              "$type": "Tfl.Api.Presentation.Entities.Identifier, Tfl.Api.Presentation.Entities",
              "id": "490G00015462",
              "name": "Henlys Roundabout",
              "routeType": "Unknown",
              "status": "Unknown",
              "type": "StopPoint",
              "uri": "/StopPoint/490G00015462"
             },
             {
              "$type": "Tfl.Api.Presentation.Entities.Identifier, Tfl.Api.Presentation.Entities",
              "id": "490G000040",
              "name": "Great West Road / Renfrew Road",
              "routeType": "Unknown",
              "status": "Unknown",
              "type": "StopPoint",
              "uri": "/StopPoint/490G000040"
             },
             {
              "$type": "Tfl.Api.Presentation.Entities.Identifier, Tfl.Api.Presentation.Entities",
              "id": "490G00118B",
              "name": "Hounslow West Station",
              "routeType": "Unknown",
              "status": "Unknown",
              "type": "StopPoint",
              "uri": "/StopPoint/490G00118B"
             }
            ]
           },
           "plannedWorks": [],
           "routeOptions": [
            {
             "$type": "Tfl.Api.Presentation.Entities.JourneyPlanner.RouteOption, Tfl.Api.Presentation.Entities",
             "directions": [
              "Hounslow Bus Station"
             ],
             "lineIdentifier": {
              "$type": "Tfl.Api.Presentation.Entities.Identifier, Tfl.Api.Presentation.Entities",
              "crowding": {
               "$type": "Tfl.Api.Presentation.Entities.Crowding, Tfl.Api.Presentation.Entities"
              },
              "id": "h98",
              "name": "H98",
              "routeType": "Unknown",
              "status": "Unknown",
              "type": "Line",
              "uri": "/Line/h98"
             },
             "name": "H98"
            },
            {
             "$type": "Tfl.Api.Presentation.Entities.JourneyPlanner.RouteOption, Tfl.Api.Presentation.Entities",
             "directions": [
              "Hounslow Bus Station"
             ],
             "lineIdentifier": {
              "$type": "Tfl.Api.Presentation.Entities.Identifier, Tfl.Api.Presentation.Entities",
              "crowding": {
               "$type": "Tfl.Api.Presentation.Entities.Crowding, Tfl.Api.Presentation.Entities"
              },
              "id": "81",
              "name": "81",
              "routeType": "Unknown",
              "status": "Unknown",
              "type": "Line",
              "uri": "/Line/81"
             },
             "name": "81"
            },
            {
             "$type": "Tfl.Api.Presentation.Entities.JourneyPlanner.RouteOption, Tfl.Api.Presentation.Entities",
             "directions": [
              "Hounslow Bus Station"
             ],
             "lineIdentifier": {
              "$type": "Tfl.Api.Presentation.Entities.Identifier, Tfl.Api.Presentation.Entities",
              "crowding": {
               "$type": "Tfl.Api.Presentation.Entities.Crowding, Tfl.Api.Presentation.Entities"
              },
              "id": "222",
              "name": "222",
              "routeType": "Unknown",
              "status": "Unknown",
              "type": "Line",
              "uri": "/Line/222"
             },
             "name": "222"
            }
           ]
          },
          {
           "$type": "Tfl.Api.Presentation.Entities.JourneyPlanner.Leg, Tfl.Api.Presentation.Entities",
           "arrivalPoint": {
            "$type": "Tfl.Api.Presentation.Entities.StopPoint, Tfl.Api.Presentation.Entities",
            "additionalProperties": [],
            "commonName": "Hammersmith Bus Station",
            "icsCode": "1007705",
            "lat": 51.49259065112,
            "lon": -0.22450195684,
            "naptanId": "490G000565",
            "placeType": "StopPoint",
            "platformName": "",
            "stopLetter": "Z1"
           },
           "arrivalTime": "2021-08-20T23:23:00",
           "departurePoint": {
            "$type": "Tfl.Api.Presentation.Entities.StopPoint, Tfl.Api.Presentation.Entities",
            "additionalProperties": [],
            "commonName": "Hounslow West Station",
            "icsCode": "1000118",
            "lat": 51.47289460746,
            "lon": -0.38544147045000005,
            "naptanId": "490G00118B",
            "placeType": "StopPoint",
            "platformName": "B",
            "stopLetter": "B"
           },
           "departureTime": "2021-08-20T22:52:00",
           "disruptions": [
            {
             "$type": "Tfl.Api.Presentation.Entities.Disruption, Tfl.Api.Presentation.Entities",
             "additionalInfo": "",
             "category": "PlannedWork",
             "categoryDescription": "PlannedWork",
             "created": "2021-07-12T15:11:00",
             "description": "A4 Great West Road, W4: ROUTE H91 is on diversion missing stops on A4 Great West Road in both directions between M4 Gunnersbury Roundabout and Ealing Road due to M4 and A4 maintenance works.",
             "lastUpdate": "2021-07-12T15:56:00",
             "summary": "CE21/18468 - A4 Great West Road, W4 - ROUTE H91",
             "type": "lineInfo"
            }
           ],
           "duration": 31,
           "hasFixedLocations": true,
           "instruction": {
            "$type": "Tfl.Api.Presentation.Entities.Instruction, Tfl.Api.Presentation.Entities",
            "detailed": "H91 bus towards Hammersmith",
            "steps": [],
            "summary": "H91 bus to Hammersmith Bus Station"
           },
           "isDisrupted": true,
           "mode": {
            "$type": "Tfl.Api.Presentation.Entities.Identifier, Tfl.Api.Presentation.Entities",
            "id": "bus",
            "name": "bus",
            "routeType": "Unknown",
            "status": "Unknown",
            "type": "Mode"
           },
           "obstacles": [],
           "path": {
            "$type": "Tfl.Api.Presentation.Entities.JourneyPlanner.Path, Tfl.Api.Presentation.Entities",
            "elevation": [],
            "lineString": "[[51.47286109253, -0.3854693631],[51.47303735141, -0.38601238855],[51.47295923305, -0.38621673013],[51.47316587878, -0.38685739222],[51.47365917403, -0.3865560776],[51.47365917403, -0.3865560776],[51.47406653169, -0.38630725001],[51.47477645381, -0.38561982335],[51.47504311938, -0.3853944161],[51.47578898748, -0.38470569046],[51.47629614385, -0.384313377],[51.47642098321, -0.38423696615],[51.47646552619, -0.38420659225],[51.47650590397, -0.38387396481],[51.47657965311, -0.38335295642],[51.47659167836, -0.38325388829],[51.47659167836, -0.38325388829],[51.47666040286, -0.38268769792],[51.47671636943, -0.38218171502],[51.47687924285, -0.38095193974],[51.47693559945, -0.38047473872],[51.47719811746, -0.37849840611],[51.47719811746, -0.37849840611],[51.47727768035, -0.37789937311],[51.47731823927, -0.37758112782],[51.47752221678, -0.37607625287],[51.47774775786, -0.37420580337],[51.47774775786, -0.37420580337],[51.47778031002, -0.37393582087],[51.47796107214, -0.37270534975],[51.47805813825, -0.37192426627],[51.47859989341, -0.36779044431],[51.47859989341, -0.36779044431],[51.47865161717, -0.36739570657],[51.47883849029, -0.36596335567],[51.47897583469, -0.36484958285],[51.47901615723, -0.36451692125],[51.47905748271, -0.36425622751],[51.4791150904, -0.36382072361],[51.4791150904, -0.36382072361],[51.47912255795, -0.36376426932],[51.47920420044, -0.36317091026],[51.47924411628, -0.36280945816],[51.47932575391, -0.36221609593],[51.47987670707, -0.35801693758],[51.47987670707, -0.35801693758],[51.47999208419, -0.35713741796],[51.48007369293, -0.35654403651],[51.48022013695, -0.35544427795],[51.4803430409, -0.35459018136],[51.48062336583, -0.35277992098],[51.48077768107, -0.35186608333],[51.48077768107, -0.35186608333],[51.48085580753, -0.35140340863],[51.48131259654, -0.34935631203],[51.48178671631, -0.34726534217],[51.48185415476, -0.34694606522],[51.48198862305, -0.34627871961],[51.48213414154, -0.34525716848],[51.48213414154, -0.34525716848],[51.48224226175, -0.34449811128],[51.48237147178, -0.34252790987],[51.48237147178, -0.34252790987],[51.48244201382, -0.34145206297],[51.48246409047, -0.34110561463],[51.48249189488, -0.34052852628],[51.48263374719, -0.33773653638],[51.48263374719, -0.33773653638],[51.48268174605, -0.33679150412],[51.48270401309, -0.33645944666],[51.48294217649, -0.3315457228],[51.48294217649, -0.3315457228],[51.4829543537, -0.33129436998],[51.48310172155, -0.32901344393],[51.48316674535, -0.32856720605],[51.48316674535, -0.32856720605],[51.48338021164, -0.32710216284],[51.48348739784, -0.32642133135],[51.48378244146, -0.32504230052],[51.48395175054, -0.32445867902],[51.48395175054, -0.32445867902],[51.48407383051, -0.32403785097],[51.48417674424, -0.32368841693],[51.48466193711, -0.32240318758],[51.48486144401, -0.32189176933],[51.48532192147, -0.32076584123],[51.48534880116, -0.32070108339],[51.48534880116, -0.32070108339],[51.48570438691, -0.31984440033],[51.48625203723, -0.31852798238],[51.48633902344, -0.31832313731],[51.48679089139, -0.31722625972],[51.48744222778, -0.31561788645],[51.4876584386, -0.31501936909],[51.48786730036, -0.31445161829],[51.48786730036, -0.31445161829],[51.48812576626, -0.31374901046],[51.48829951419, -0.31332488855],[51.4884561138, -0.31295901199],[51.4889167108, -0.31184730288],[51.48943039293, -0.3106759922],[51.48956168073, -0.31042626717],[51.48979613177, -0.30971192352],[51.48979613177, -0.30971192352],[51.48994931489, -0.30924518208],[51.49000911425, -0.3090269038],[51.49005218372, -0.30889567052],[51.49088948981, -0.30647351062],[51.49115147056, -0.30530875879],[51.49115147056, -0.30530875879],[51.49137956201, -0.30429462381],[51.49142262609, -0.30416338224],[51.49139212408, -0.30391963155],[51.4914073922, -0.30373180177],[51.49148125364, -0.3020004744],[51.49149906178, -0.30074658724],[51.49150556662, -0.30018133399],[51.49150556662, -0.30018133399],[51.491518954, -0.29901725964],[51.49155303064, -0.29826693589],[51.49151227523, -0.29793714071],[51.4915032601, -0.2948404228],[51.49147167493, -0.29390528313],[51.49146038345, -0.29374725084],[51.49147246948, -0.29272405198],[51.49151884798, -0.29220374259],[51.49157714752, -0.29188465555],[51.4916872839, -0.29157060302],[51.49172595014, -0.29160539941],[51.49245109816, -0.28953275197],[51.49241371045, -0.28949910786],[51.49287215763, -0.28819170067],[51.49300355497, -0.28733686088],[51.49299850833, -0.2869913207],[51.49277096891, -0.28557372336],[51.49266368676, -0.28500153662],[51.49256583788, -0.28465487506],[51.49256583788, -0.28465487506],[51.49239813887, -0.28406075847],[51.4922937994, -0.28369014171],[51.49216333942, -0.28337812832],[51.49178157459, -0.28248495241],[51.49184237806, -0.28233861702],[51.49188913219, -0.2818470882],[51.49187866823, -0.28174664629],[51.49180065085, -0.28133183399],[51.49185955372, -0.28105592311],[51.49195145067, -0.28057709936],[51.49200655137, -0.28004203808],[51.49210923691, -0.27907303044],[51.49213990434, -0.27871174734],[51.49217078201, -0.27836486095],[51.49221209707, -0.27794497883],[51.49221209707, -0.27794497883],[51.49223337999, -0.27772867563],[51.49233932118, -0.2763705946],[51.49239877902, -0.275766214],[51.49239877902, -0.275766214],[51.49243320055, -0.27541630875],[51.49250307544, -0.27466459877],[51.49257811835, -0.27365339623],[51.49262292789, -0.27303227592],[51.49281741517, -0.27158439074],[51.49285039388, -0.27138146829],[51.49288927685, -0.27081196001],[51.49288927685, -0.27081196001],[51.49293913599, -0.27008162581],[51.49294302589, -0.26973574897],[51.49291995266, -0.26939089314],[51.49289730342, -0.26907483236],[51.49268332138, -0.26676368051],[51.49262970516, -0.26557007351],[51.49257967723, -0.2648892199],[51.49257967723, -0.2648892199],[51.49256215017, -0.26465069901],[51.49253373446, -0.26394591932],[51.49245976884, -0.26259463485],[51.49245784915, -0.2624650605],[51.49244867533, -0.26184598325],[51.49244376706, -0.26151484904],[51.49244376706, -0.26151484904],[51.49243949823, -0.26122690633],[51.49244378904, -0.26090982741],[51.49245772438, -0.26003057609],[51.49247206748, -0.25978514044],[51.49250075213, -0.2592942687],[51.49252558682, -0.25854424784],[51.49254014061, -0.25831320857],[51.49255335695, -0.258081421],[51.49255335695, -0.258081421],[51.49260434335, -0.25718714724],[51.49261140499, -0.25705723009],[51.49265933384, -0.25604702882],[51.49270404994, -0.2554258924],[51.49274383456, -0.25447361971],[51.49278105551, -0.25395360451],[51.49280651648, -0.25337688302],[51.49280651648, -0.25337688302],[51.49284156966, -0.25258277979],[51.49285182034, -0.2520637934],[51.49286099545, -0.25147282087],[51.49294632862, -0.25056201359],[51.4929781968, -0.25028709017],[51.49304236096, -0.24976603672],[51.49310624109, -0.24927125674],[51.49310624109, -0.24927125674],[51.49317132725, -0.24876711738],[51.49321217847, -0.248491847],[51.49326842274, -0.24804311957],[51.49332999501, -0.24734929217],[51.49333683054, -0.24720497438],[51.49335582219, -0.24674964397],[51.49335582219, -0.24674964397],[51.4933765482, -0.24625268296],[51.49340259157, -0.24558902656],[51.49343078572, -0.2450693427],[51.49344229608, -0.24463673267],[51.49349098008, -0.24368409191],[51.49353217917, -0.24283257626],[51.49353771467, -0.24260187327],[51.49355928213, -0.24224090282],[51.49355604504, -0.24202494273],[51.49356257862, -0.24126119228],[51.49355890785, -0.24101643763],[51.49353169517, -0.24026828273],[51.49353169517, -0.24026828273],[51.49349768155, -0.23933333615],[51.49348350624, -0.23898814736],[51.49346142383, -0.23871529162],[51.49339733599, -0.23804069864],[51.49332793545, -0.23761120722],[51.49322386253, -0.23714848127],[51.49322386253, -0.23714848127],[51.49316411615, -0.23688284326],[51.49309730929, -0.2366261217],[51.49304804327, -0.23633991294],[51.49294842621, -0.23569551183],[51.4929243376, -0.2352406338],[51.4929243376, -0.2352406338],[51.49292330323, -0.23522110183],[51.49290186215, -0.2349914427],[51.49282919933, -0.23434600505],[51.49322333561, -0.23424434337],[51.49371611418, -0.23412446236],[51.4938862206, -0.23407467163],[51.49406574779, -0.23405332807],[51.49444147566, -0.23392356043],[51.49446419537, -0.23304391988],[51.49447635226, -0.23261636543],[51.49447635226, -0.23261636543],[51.49448182757, -0.23242378229],[51.49447727018, -0.23212143366],[51.49449402903, -0.23144370544],[51.49447613842, -0.23085375392],[51.49447860901, -0.23042147972],[51.49447404646, -0.23011913145],[51.49447404646, -0.23011913145],[51.49446970044, -0.22983118078],[51.49442310102, -0.22912709509],[51.49439033907, -0.22814876168],[51.49439721735, -0.22741379251],[51.49380064483, -0.2266158063],[51.49361282209, -0.22613708873],[51.49361282209, -0.22613708873],[51.49356682039, -0.22601984219],[51.49310749593, -0.22478439212],[51.49302247048, -0.22451399052],[51.49305580336, -0.22433982929],[51.49307884074, -0.22407963476],[51.49310868408, -0.22367512011],[51.49292654222, -0.2235237399],[51.49289669938, -0.22392825301],[51.49283025256, -0.22429097155],[51.49263842032, -0.22468737086],[51.49255235611, -0.22458296959]]",
            "stopPoints": [
             {
              "$type": "Tfl.Api.Presentation.Entities.Identifier, Tfl.Api.Presentation.Entities",
              "id": "490G000053",
              "name": "Hounslow West Stn  / Vicarage Farm Rd",
              "routeType": "Unknown",
              "status": "Unknown",
              "type": "StopPoint",
              "uri": "/StopPoint/490G000053"
             },
             {
              "$type": "Tfl.Api.Presentation.Entities.Identifier, Tfl.Api.Presentation.Entities",
              "id": "490G00014037",
              "name": "Vicarage Farm Road",
              "routeType": "Unknown",
              "status": "Unknown",
              "type": "StopPoint",
              "uri": "/StopPoint/490G00014037"
             },
             {
              "$type": "Tfl.Api.Presentation.Entities.Identifier, Tfl.Api.Presentation.Entities",
              "id": "490G00007436",
              "name": "Greencroft Road",
              "routeType": "Unknown",
              "status": "Unknown",
              "type": "StopPoint",
              "uri": "/StopPoint/490G00007436"
             },
             {
              "$type": "Tfl.Api.Presentation.Entities.Identifier, Tfl.Api.Presentation.Entities",
              "id": "490G00013078",
              "name": "Sutton Lane",
              "routeType": "Unknown",
              "status": "Unknown",
              "type": "StopPoint",
              "uri": "/StopPoint/490G00013078"
             },
             {
              "$type": "Tfl.Api.Presentation.Entities.Identifier, Tfl.Api.Presentation.Entities",
              "id": "490G000347",
              "name": "Lampton School",
              "routeType": "Unknown",
              "status": "Unknown",
              "type": "StopPoint",
              "uri": "/StopPoint/490G000347"
             },
             {
              "$type": "Tfl.Api.Presentation.Entities.Identifier, Tfl.Api.Presentation.Entities",
              "id": "490G00008925",
              "name": "Lampton Road",
              "routeType": "Unknown",
              "status": "Unknown",
              "type": "StopPoint",
              "uri": "/StopPoint/490G00008925"
             },
             {
              "$type": "Tfl.Api.Presentation.Entities.Identifier, Tfl.Api.Presentation.Entities",
              "id": "490G00007524",
              "name": "Gresham Road",
              "routeType": "Unknown",
              "status": "Unknown",
              "type": "StopPoint",
              "uri": "/StopPoint/490G00007524"
             },
             {
              "$type": "Tfl.Api.Presentation.Entities.Identifier, Tfl.Api.Presentation.Entities",
              "id": "490G00171A",
              "name": "Osterley Station",
              "routeType": "Unknown",
              "status": "Unknown",
              "type": "StopPoint",
              "uri": "/StopPoint/490G00171A"
             },
             {
              "$type": "Tfl.Api.Presentation.Entities.Identifier, Tfl.Api.Presentation.Entities",
              "id": "490G00010658",
              "name": "Osterley Library",
              "routeType": "Unknown",
              "status": "Unknown",
              "type": "StopPoint",
              "uri": "/StopPoint/490G00010658"
             },
             {
              "$type": "Tfl.Api.Presentation.Entities.Identifier, Tfl.Api.Presentation.Entities",
              "id": "490G00011577",
              "name": "Ridgeway Road",
              "routeType": "Unknown",
              "status": "Unknown",
              "type": "StopPoint",
              "uri": "/StopPoint/490G00011577"
             },
             {
              "$type": "Tfl.Api.Presentation.Entities.Identifier, Tfl.Api.Presentation.Entities",
              "id": "490G00014873",
              "name": "Wood Lane",
              "routeType": "Unknown",
              "status": "Unknown",
              "type": "StopPoint",
              "uri": "/StopPoint/490G00014873"
             },
             {
              "$type": "Tfl.Api.Presentation.Entities.Identifier, Tfl.Api.Presentation.Entities",
              "id": "490G00012686",
              "name": "St Francis Of Assisi Church",
              "routeType": "Unknown",
              "status": "Unknown",
              "type": "StopPoint",
              "uri": "/StopPoint/490G00012686"
             },
             {
              "$type": "Tfl.Api.Presentation.Entities.Identifier, Tfl.Api.Presentation.Entities",
              "id": "490G00007179",
              "name": "Gillette Corner",
              "routeType": "Unknown",
              "status": "Unknown",
              "type": "StopPoint",
              "uri": "/StopPoint/490G00007179"
             },
             {
              "$type": "Tfl.Api.Presentation.Entities.Identifier, Tfl.Api.Presentation.Entities",
              "id": "490G00014416",
              "name": "West Cross Centre",
              "routeType": "Unknown",
              "status": "Unknown",
              "type": "StopPoint",
              "uri": "/StopPoint/490G00014416"
             },
             {
              "$type": "Tfl.Api.Presentation.Entities.Identifier, Tfl.Api.Presentation.Entities",
              "id": "490G00014417",
              "name": "West Cross Way",
              "routeType": "Unknown",
              "status": "Unknown",
              "type": "StopPoint",
              "uri": "/StopPoint/490G00014417"
             },
             {
              "$type": "Tfl.Api.Presentation.Entities.Identifier, Tfl.Api.Presentation.Entities",
              "id": "490G00007421",
              "name": "Boston Manor Road",
              "routeType": "Unknown",
              "status": "Unknown",
              "type": "StopPoint",
              "uri": "/StopPoint/490G00007421"
             },
             {
              "$type": "Tfl.Api.Presentation.Entities.Identifier, Tfl.Api.Presentation.Entities",
              "id": "490G00014772",
              "name": "Windmill Road",
              "routeType": "Unknown",
              "status": "Unknown",
              "type": "StopPoint",
              "uri": "/StopPoint/490G00014772"
             },
             {
              "$type": "Tfl.Api.Presentation.Entities.Identifier, Tfl.Api.Presentation.Entities",
              "id": "490G00006300",
              "name": "Ealing Road",
              "routeType": "Unknown",
              "status": "Unknown",
              "type": "StopPoint",
              "uri": "/StopPoint/490G00006300"
             },
             {
              "$type": "Tfl.Api.Presentation.Entities.Identifier, Tfl.Api.Presentation.Entities",
              "id": "490G00005378",
              "name": "Clayponds Avenue",
              "routeType": "Unknown",
              "status": "Unknown",
              "type": "StopPoint",
              "uri": "/StopPoint/490G00005378"
             },
             {
              "$type": "Tfl.Api.Presentation.Entities.Identifier, Tfl.Api.Presentation.Entities",
              "id": "490G00009200",
              "name": "Lionel Road",
              "routeType": "Unknown",
              "status": "Unknown",
              "type": "StopPoint",
              "uri": "/StopPoint/490G00009200"
             },
             {
              "$type": "Tfl.Api.Presentation.Entities.Identifier, Tfl.Api.Presentation.Entities",
              "id": "490G00014010",
              "name": "Vantage West",
              "routeType": "Unknown",
              "status": "Unknown",
              "type": "StopPoint",
              "uri": "/StopPoint/490G00014010"
             },
             {
              "$type": "Tfl.Api.Presentation.Entities.Identifier, Tfl.Api.Presentation.Entities",
              "id": "490G00007605",
              "name": "Chiswick Roundabout / Gunnersbury",
              "routeType": "Unknown",
              "status": "Unknown",
              "type": "StopPoint",
              "uri": "/StopPoint/490G00007605"
             },
             {
              "$type": "Tfl.Api.Presentation.Entities.Identifier, Tfl.Api.Presentation.Entities",
              "id": "490G000750",
              "name": "Thorney Hedge Road",
              "routeType": "Unknown",
              "status": "Unknown",
              "type": "StopPoint",
              "uri": "/StopPoint/490G000750"
             },
             {
              "$type": "Tfl.Api.Presentation.Entities.Identifier, Tfl.Api.Presentation.Entities",
              "id": "490G00094B",
              "name": "Gunnersbury Station",
              "routeType": "Unknown",
              "status": "Unknown",
              "type": "StopPoint",
              "uri": "/StopPoint/490G00094B"
             },
             {
              "$type": "Tfl.Api.Presentation.Entities.Identifier, Tfl.Api.Presentation.Entities",
              "id": "490G00005211",
              "name": "Chiswick Road",
              "routeType": "Unknown",
              "status": "Unknown",
              "type": "StopPoint",
              "uri": "/StopPoint/490G00005211"
             },
             {
              "$type": "Tfl.Api.Presentation.Entities.Identifier, Tfl.Api.Presentation.Entities",
              "id": "490G000807",
              "name": "Turnham Green Church",
              "routeType": "Unknown",
              "status": "Unknown",
              "type": "StopPoint",
              "uri": "/StopPoint/490G000807"
             },
             {
              "$type": "Tfl.Api.Presentation.Entities.Identifier, Tfl.Api.Presentation.Entities",
              "id": "490G00005423",
              "name": "Clifton Gardens",
              "routeType": "Unknown",
              "status": "Unknown",
              "type": "StopPoint",
              "uri": "/StopPoint/490G00005423"
             },
             {
              "$type": "Tfl.Api.Presentation.Entities.Identifier, Tfl.Api.Presentation.Entities",
              "id": "490G00005210",
              "name": "Chiswick Police Station",
              "routeType": "Unknown",
              "status": "Unknown",
              "type": "StopPoint",
              "uri": "/StopPoint/490G00005210"
             },
             {
              "$type": "Tfl.Api.Presentation.Entities.Identifier, Tfl.Api.Presentation.Entities",
              "id": "490G00013850",
              "name": "Chiswick Lane",
              "routeType": "Unknown",
              "status": "Unknown",
              "type": "StopPoint",
              "uri": "/StopPoint/490G00013850"
             },
             {
              "$type": "Tfl.Api.Presentation.Entities.Identifier, Tfl.Api.Presentation.Entities",
              "id": "490G00012521",
              "name": "Stamford Brook Bus Garage",
              "routeType": "Unknown",
              "status": "Unknown",
              "type": "StopPoint",
              "uri": "/StopPoint/490G00012521"
             },
             {
              "$type": "Tfl.Api.Presentation.Entities.Identifier, Tfl.Api.Presentation.Entities",
              "id": "490G000535",
              "name": "Goldhawk Road / Young's Corner",
              "routeType": "Unknown",
              "status": "Unknown",
              "type": "StopPoint",
              "uri": "/StopPoint/490G000535"
             },
             {
              "$type": "Tfl.Api.Presentation.Entities.Identifier, Tfl.Api.Presentation.Entities",
              "id": "490G00012533",
              "name": "Ravenscourt Park",
              "routeType": "Unknown",
              "status": "Unknown",
              "type": "StopPoint",
              "uri": "/StopPoint/490G00012533"
             },
             {
              "$type": "Tfl.Api.Presentation.Entities.Identifier, Tfl.Api.Presentation.Entities",
              "id": "490G00188A",
              "name": "Ravenscourt Park Station",
              "routeType": "Unknown",
              "status": "Unknown",
              "type": "StopPoint",
              "uri": "/StopPoint/490G00188A"
             },
             {
              "$type": "Tfl.Api.Presentation.Entities.Identifier, Tfl.Api.Presentation.Entities",
              "id": "490G00005937",
              "name": "Dalling Road",
              "routeType": "Unknown",
              "status": "Unknown",
              "type": "StopPoint",
              "uri": "/StopPoint/490G00005937"
             },
             {
              "$type": "Tfl.Api.Presentation.Entities.Identifier, Tfl.Api.Presentation.Entities",
              "id": "490G00015588",
              "name": "Lamington Street",
              "routeType": "Unknown",
              "status": "Unknown",
              "type": "StopPoint",
              "uri": "/StopPoint/490G00015588"
             },
             {
              "$type": "Tfl.Api.Presentation.Entities.Identifier, Tfl.Api.Presentation.Entities",
              "id": "490G00007239",
              "name": "Iffley Road",
              "routeType": "Unknown",
              "status": "Unknown",
              "type": "StopPoint",
              "uri": "/StopPoint/490G00007239"
             },
             {
              "$type": "Tfl.Api.Presentation.Entities.Identifier, Tfl.Api.Presentation.Entities",
              "id": "490G00097T",
              "name": "Hammersmith Stn / H&C and Circle Lines",
              "routeType": "Unknown",
              "status": "Unknown",
              "type": "StopPoint",
              "uri": "/StopPoint/490G00097T"
             },
             {
              "$type": "Tfl.Api.Presentation.Entities.Identifier, Tfl.Api.Presentation.Entities",
              "id": "490G000565",
              "name": "Hammersmith Bus Station",
              "routeType": "Unknown",
              "status": "Unknown",
              "type": "StopPoint",
              "uri": "/StopPoint/490G000565"
             }
            ]
           },
           "plannedWorks": [],
           "routeOptions": [
            {
             "$type": "Tfl.Api.Presentation.Entities.JourneyPlanner.RouteOption, Tfl.Api.Presentation.Entities",
             "directions": [
              "Hammersmith"
             ],
             "lineIdentifier": {
              "$type": "Tfl.Api.Presentation.Entities.Identifier, Tfl.Api.Presentation.Entities",
              "crowding": {
               "$type": "Tfl.Api.Presentation.Entities.Crowding, Tfl.Api.Presentation.Entities"
              },
              "id": "h91",
              "name": "H91",
              "routeType": "Unknown",
              "status": "Unknown",
              "type": "Line",
              "uri": "/Line/h91"
             },
             "name": "H91"
            }
           ]
          },
          {
           "$type": "Tfl.Api.Presentation.Entities.JourneyPlanner.Leg, Tfl.Api.Presentation.Entities",
           "arrivalPoint": {
            "$type": "Tfl.Api.Presentation.Entities.StopPoint, Tfl.Api.Presentation.Entities",
            "additionalProperties": [],
            "commonName": "Waterloo Station   / Upper Taxi Road",
            "icsCode": "1003722",
            "lat": 51.50359661965,
            "lon": -0.11217438842,
            "naptanId": "490G000404",
            "placeType": "StopPoint",
            "platformName": "",
            "stopLetter": "->W"
           },
           "arrivalTime": "2021-08-21T00:06:00",
           "departurePoint": {
            "$type": "Tfl.Api.Presentation.Entities.StopPoint, Tfl.Api.Presentation.Entities",
            "additionalProperties": [],
            "commonName": "Hammersmith Bus Station",
            "icsCode": "1007705",
            "lat": 51.49195876485,
            "lon": -0.22374862747000002,
            "naptanId": "490G000565",
            "placeType": "StopPoint",
            "platformName": "",
            "stopLetter": "C"
           },
           "departureTime": "2021-08-20T23:30:00",
           "disruptions": [],
           "duration": 36,
           "hasFixedLocations": true,
           "instruction": {
            "$type": "Tfl.Api.Presentation.Entities.Instruction, Tfl.Api.Presentation.Entities",
            "detailed": "211 bus towards Waterloo",
            "steps": [],
            "summary": "211 bus to Waterloo Station/Upper Taxi Rd"
           },
           "isDisrupted": false,
           "mode": {
            "$type": "Tfl.Api.Presentation.Entities.Identifier, Tfl.Api.Presentation.Entities",
            "id": "bus",
            "name": "bus",
            "routeType": "Unknown",
            "status": "Unknown",
            "type": "Mode"
           },
           "obstacles": [],
           "path": {
            "$type": "Tfl.Api.Presentation.Entities.JourneyPlanner.Path, Tfl.Api.Presentation.Entities",
            "elevation": [],
            "lineString": "[[51.49192442759, -0.22382126815],[51.4916948664, -0.22354280825],[51.49165232943, -0.22370291754],[51.49135553533, -0.22370004836],[51.4912023176, -0.22367719374],[51.49076875353, -0.22354999748],[51.49096149224, -0.22352316834],[51.49096149224, -0.22352316834],[51.49076875353, -0.22354999748],[51.49059799762, -0.22355663481],[51.49048971562, -0.22353203431],[51.49013681767, -0.22338730094],[51.48968266151, -0.22308805725],[51.48924010964, -0.22296121991],[51.48898737862, -0.22289902516],[51.4886257109, -0.22276904627],[51.48813669559, -0.22254319374],[51.4877437015, -0.22212636139],[51.48735947483, -0.22169479128],[51.48711111183, -0.22140220856],[51.48711111183, -0.22140220856],[51.48687420442, -0.22112312476],[51.48674685577, -0.22102725621],[51.48630146251, -0.22071331277],[51.48592927627, -0.22048294482],[51.48567325726, -0.22030488735],[51.48567325726, -0.22030488735],[51.48555665265, -0.22022379126],[51.4852219435, -0.22009279287],[51.4849689925, -0.22001622448],[51.48478837561, -0.21996564596],[51.48445366617, -0.21983465152],[51.48431820345, -0.21979671853],[51.48399160681, -0.21960779997],[51.48384628267, -0.21951264161],[51.48352034131, -0.21936690897],[51.48356923658, -0.21903374618],[51.48350076646, -0.21842512018],[51.48350076646, -0.21842512018],[51.48347566992, -0.2182020463],[51.48337092203, -0.21722676104],[51.48328720547, -0.21645229375],[51.48315218919, -0.21585266043],[51.48303908717, -0.21551141771],[51.48281309931, -0.21484333114],[51.48257329765, -0.21385894174],[51.48221030483, -0.21364269035],[51.48210114377, -0.21356054338],[51.48210114377, -0.21356054338],[51.48184643442, -0.21336886862],[51.48173727318, -0.21328672294],[51.48154700244, -0.21182308204],[51.48154700244, -0.21182308204],[51.48141127938, -0.21077913736],[51.48124421978, -0.20984955763],[51.48122426793, -0.20972072261],[51.48113349365, -0.20907619718],[51.48112296773, -0.20897579707],[51.48105346213, -0.20854646733],[51.48085568338, -0.20737327827],[51.48081577413, -0.20711561282],[51.48076335546, -0.20662801176],[51.48073744637, -0.20641183548],[51.48073744637, -0.20641183548],[51.4806396569, -0.20559594665],[51.48058767256, -0.20513713529],[51.48052647899, -0.204664285],[51.48036879931, -0.20376317942],[51.4803490613, -0.20364874256],[51.48024623589, -0.20323703344],[51.48024623589, -0.20323703344],[51.48007123282, -0.20253634514],[51.48004906649, -0.20226358905],[51.48016804411, -0.2018124645],[51.48050220166, -0.20073360335],[51.48057566376, -0.2003767321],[51.48057566376, -0.2003767321],[51.48062773031, -0.20012379432],[51.48071966387, -0.19908325492],[51.48034854215, -0.19892505538],[51.48005896692, -0.19880684994],[51.47993071623, -0.19865348701],[51.48017192138, -0.19835187463],[51.48017192138, -0.19835187463],[51.48020422886, -0.19831147578],[51.48043958031, -0.19782694874],[51.48047198898, -0.19759524573],[51.48035573639, -0.19705256973],[51.4801941034, -0.19648288358],[51.48014695444, -0.1963407286],[51.48003091756, -0.19581245249],[51.4800303806, -0.19519321101],[51.4800791637, -0.19444233488],[51.4800791637, -0.19444233488],[51.48008853879, -0.19429802356],[51.48020982102, -0.19341474086],[51.48025731178, -0.19299521978],[51.48026631664, -0.19252745646],[51.48026631664, -0.19252745646],[51.48027229324, -0.19221694455],[51.48019152004, -0.19164407787],[51.4801177327, -0.19094132333],[51.48017642661, -0.19001569151],[51.48017642661, -0.19001569151],[51.48019005541, -0.18980074172],[51.48028269046, -0.18939383055],[51.48043801078, -0.18897003297],[51.48050812838, -0.18885204244],[51.48062251388, -0.18868909275],[51.48074566379, -0.18851139326],[51.48087846752, -0.18837651546],[51.48167261666, -0.18739451403],[51.48210674866, -0.18697404125],[51.48222996603, -0.18684529772],[51.48222996603, -0.18684529772],[51.48270851522, -0.186345278],[51.48308671719, -0.18579738297],[51.48333256205, -0.18541316082],[51.48369256272, -0.1848515705],[51.48373441914, -0.18479009862],[51.48373441914, -0.18479009862],[51.48410581377, -0.18424464778],[51.4843514304, -0.18384601473],[51.48448266776, -0.18361035443],[51.48461390463, -0.18337469279],[51.4846923343, -0.18321314344],[51.48477952767, -0.1830368422],[51.48487548468, -0.18284578889],[51.48498042833, -0.18265437749],[51.48510049152, -0.18242459651],[51.48510049152, -0.18242459651],[51.48517256387, -0.18228666103],[51.48523368751, -0.1821690054],[51.48533840685, -0.18196319667],[51.48553952711, -0.18159511692],[51.48572378853, -0.1812997211],[51.48582872957, -0.1811083026],[51.48596063114, -0.18091581026],[51.4861880388, -0.18050346411],[51.48625814754, -0.18038544573],[51.4863896011, -0.1801641603],[51.48660846596, -0.17978095377],[51.48679272264, -0.17948554373],[51.48707427026, -0.17908542958],[51.48741738353, -0.17859643427],[51.48750498744, -0.17845762639],[51.48750498744, -0.17845762639],[51.48771578364, -0.17812361774],[51.48852356476, -0.17686706392],[51.4888835229, -0.17630534248],[51.48905183888, -0.1760579503],[51.48905183888, -0.1760579503],[51.48936705559, -0.17559463518],[51.48977216598, -0.17504549465],[51.48983373018, -0.1749566088],[51.49014986474, -0.1744686298],[51.49033410749, -0.17417317541],[51.49062372633, -0.1737150548],[51.4906692144, -0.1736410142],[51.4906692144, -0.1736410142],[51.4908868311, -0.17328679797],[51.49107084646, -0.17297693805],[51.49135978741, -0.17247561417],[51.49158806187, -0.17212076203],[51.49013355391, -0.17053680264],[51.48990523993, -0.1703837119],[51.48990523993, -0.1703837119],[51.48960647449, -0.17018338401],[51.48927957686, -0.16998040575],[51.48919779624, -0.16992606279],[51.48895245422, -0.16976303503],[51.48877990587, -0.16965471073],[51.48798883299, -0.16909582624],[51.48787619326, -0.16900969301],[51.48787619326, -0.16900969301],[51.48745186328, -0.16868522101],[51.48757340812, -0.16840667725],[51.48772872135, -0.16802367966],[51.48772872135, -0.16802367966],[51.48778122294, -0.1678942111],[51.48781604594, -0.16782079541],[51.48814562463, -0.16704416809],[51.48845857488, -0.16635462158],[51.48852776864, -0.16617899528],[51.48864908222, -0.16588604318],[51.48872636143, -0.16565247391],[51.48891281596, -0.16518408962],[51.48891281596, -0.16518408962],[51.48901189216, -0.16493520111],[51.48908916944, -0.16470162841],[51.48919250552, -0.16440939073],[51.48925316014, -0.16426291043],[51.48931381457, -0.16411642974],[51.48934795901, -0.16399982255],[51.48958316557, -0.16351502429],[51.48967010323, -0.16332427162],[51.48995855145, -0.16279411219],[51.49011602934, -0.16251409236],[51.49016006131, -0.16245470316],[51.49037864137, -0.1620569855],[51.49043098305, -0.16195404692],[51.49064978704, -0.1615707203],[51.49081602303, -0.16127593461],[51.49083114387, -0.16124751343],[51.49083114387, -0.16124751343],[51.49104313425, -0.16084905215],[51.49117387263, -0.1605845001],[51.49121722613, -0.1604819198],[51.49147892644, -0.15996720613],[51.49168783314, -0.15952663877],[51.49175769428, -0.15939417821],[51.49179273778, -0.15933514585],[51.4919648628, -0.15894498604],[51.4919648628, -0.15894498604],[51.49212271087, -0.15858718288],[51.49226757388, -0.15807715721],[51.49260099091, -0.15812134018],[51.49266276809, -0.15804682265],[51.49269374023, -0.15772865285],[51.49278687773, -0.1567885374],[51.49244402091, -0.15671593388],[51.49231335339, -0.15755671768],[51.49171728254, -0.15739348185],[51.49165622129, -0.15737521094],[51.49165622129, -0.15737521094],[51.49074150259, -0.15710151201],[51.49041639326, -0.15701378851],[51.49026135475, -0.1568759932],[51.48960676893, -0.15585086012],[51.48988528988, -0.15540080801],[51.48988528988, -0.15540080801],[51.49003648088, -0.15515650031],[51.49007152224, -0.15509746701],[51.49021115933, -0.1542563551],[51.49037375058, -0.15373121593],[51.49055272603, -0.15310457691],[51.49067346773, -0.1522065942],[51.49083767169, -0.15109754241],[51.49083767169, -0.15109754241],[51.49094166367, -0.15039512811],[51.49078742857, -0.14973874359],[51.49116704534, -0.14929122238],[51.49152015446, -0.14887357771],[51.49218301928, -0.14820890323],[51.49218301928, -0.14820890323],[51.49253817674, -0.14785276651],[51.49276933161, -0.14768493641],[51.49317862966, -0.147409043],[51.49335654556, -0.14728658404],[51.49346324953, -0.14721022888],[51.49346995883, -0.14720548168],[51.49346995883, -0.14720548168],[51.49376561508, -0.14699628675],[51.49413066005, -0.14676539368],[51.49533875025, -0.14582320046],[51.4956498721, -0.14559447815],[51.49586350524, -0.14545614899],[51.49617394315, -0.1451842293],[51.4964098646, -0.14501323776],[51.4964098646, -0.14501323776],[51.49657402016, -0.14489425965],[51.49674385744, -0.1448297367],[51.49683964611, -0.14520042545],[51.49694305434, -0.14548436519],[51.49716898032, -0.14612350782],[51.49722563196, -0.14629409278],[51.49804445233, -0.146894789],[51.49819006052, -0.14700414131],[51.49824011339, -0.1467571874],[51.49826592865, -0.14554592731],[51.49822439353, -0.14462554691],[51.49816432211, -0.14423899016],[51.49807797284, -0.1438967237],[51.49800015347, -0.14352529749],[51.49794838128, -0.14309518511],[51.49772846076, -0.1422685095],[51.497409135, -0.14197894565],[51.49686764962, -0.141856897],[51.49680451433, -0.14184505776],[51.49664421074, -0.14137615286],[51.49678192125, -0.14041969964],[51.49680733749, -0.14024918747],[51.49680733749, -0.14024918747],[51.49695260121, -0.13927460834],[51.49725333916, -0.13725978878],[51.49730245656, -0.13695523908],[51.49735148958, -0.13660739912],[51.49735148958, -0.13660739912],[51.49748832926, -0.13563661649],[51.49752061361, -0.1354047858],[51.49763818521, -0.13488133132],[51.49768911017, -0.134668412],[51.49768911017, -0.134668412],[51.49785740986, -0.13396472907],[51.49838336717, -0.13254573352],[51.49861591795, -0.13190230099],[51.49896883022, -0.13093201299],[51.49896883022, -0.13093201299],[51.49940849874, -0.12972314723],[51.49952096231, -0.12944479645],[51.49977215824, -0.12884379142],[51.49986733564, -0.12860936781],[51.49999593142, -0.12821508748],[51.50013282292, -0.12777724119],[51.50033606793, -0.12755279206],[51.50076696772, -0.12750631438],[51.50093748431, -0.12748491695],[51.50108588901, -0.12720507773],[51.50103913346, -0.12652980875],[51.50102646629, -0.12629979696],[51.50102347553, -0.12611261298],[51.50098662095, -0.12549457244],[51.50097498441, -0.12525450222],[51.50097498441, -0.12525450222],[51.50093294794, -0.12438734513],[51.50091866436, -0.12405654356],[51.50092396562, -0.12382579505],[51.50092166203, -0.12368180789],[51.50091958864, -0.12355221947],[51.50084630493, -0.12178302663],[51.50080087769, -0.12007032528],[51.50079741533, -0.1198543456],[51.50077457529, -0.11899079735],[51.50083078348, -0.11857064643],[51.50081475486, -0.11802435092],[51.50081475486, -0.11802435092],[51.50081093815, -0.11789428063],[51.50074294776, -0.11758010289],[51.50053001507, -0.11719985919],[51.5004276948, -0.11698795571],[51.50037007595, -0.11675980243],[51.50046499764, -0.11651095266],[51.5006458528, -0.11601362065],[51.50069792186, -0.11589620836],[51.5007423922, -0.11586555801],[51.50072164296, -0.11569351624],[51.50069213824, -0.11553624393],[51.50057851438, -0.11518072888],[51.500558227, -0.11503748513],[51.50049041861, -0.11417579957],[51.50068372409, -0.11389406559],[51.50084177731, -0.11365700937],[51.50146430348, -0.11266594294],[51.50151729606, -0.11260612003],[51.5020200285, -0.1119945985],[51.5027317099, -0.11095657005],[51.50359406987, -0.11201599435],[51.50362244503, -0.11216145406]]",
            "stopPoints": [
             {
              "$type": "Tfl.Api.Presentation.Entities.Identifier, Tfl.Api.Presentation.Entities",
              "id": "490G000563",
              "name": "Hammersmith Broadway",
              "routeType": "Unknown",
              "status": "Unknown",
              "type": "StopPoint",
              "uri": "/StopPoint/490G000563"
             },
             {
              "$type": "Tfl.Api.Presentation.Entities.Identifier, Tfl.Api.Presentation.Entities",
              "id": "490G00004991",
              "name": "Charing Cross Hospital",
              "routeType": "Unknown",
              "status": "Unknown",
              "type": "StopPoint",
              "uri": "/StopPoint/490G00004991"
             },
             {
              "$type": "Tfl.Api.Presentation.Entities.Identifier, Tfl.Api.Presentation.Entities",
              "id": "490G00007530",
              "name": "Greyhound Road",
              "routeType": "Unknown",
              "status": "Unknown",
              "type": "StopPoint",
              "uri": "/StopPoint/490G00007530"
             },
             {
              "$type": "Tfl.Api.Presentation.Entities.Identifier, Tfl.Api.Presentation.Entities",
              "id": "490G00004174",
              "name": "Bothwell Street",
              "routeType": "Unknown",
              "status": "Unknown",
              "type": "StopPoint",
              "uri": "/StopPoint/490G00004174"
             },
             {
              "$type": "Tfl.Api.Presentation.Entities.Identifier, Tfl.Api.Presentation.Entities",
              "id": "490G00007052",
              "name": "Munster Road / Fulham Cross",
              "routeType": "Unknown",
              "status": "Unknown",
              "type": "StopPoint",
              "uri": "/StopPoint/490G00007052"
             },
             {
              "$type": "Tfl.Api.Presentation.Entities.Identifier, Tfl.Api.Presentation.Entities",
              "id": "490G00007754",
              "name": "Hannell Road",
              "routeType": "Unknown",
              "status": "Unknown",
              "type": "StopPoint",
              "uri": "/StopPoint/490G00007754"
             },
             {
              "$type": "Tfl.Api.Presentation.Entities.Identifier, Tfl.Api.Presentation.Entities",
              "id": "490G00013556",
              "name": "Sherbrooke Road",
              "routeType": "Unknown",
              "status": "Unknown",
              "type": "StopPoint",
              "uri": "/StopPoint/490G00013556"
             },
             {
              "$type": "Tfl.Api.Presentation.Entities.Identifier, Tfl.Api.Presentation.Entities",
              "id": "490G00012117",
              "name": "Shorrolds Road",
              "routeType": "Unknown",
              "status": "Unknown",
              "type": "StopPoint",
              "uri": "/StopPoint/490G00012117"
             },
             {
              "$type": "Tfl.Api.Presentation.Entities.Identifier, Tfl.Api.Presentation.Entities",
              "id": "490G00007875",
              "name": "North End Road",
              "routeType": "Unknown",
              "status": "Unknown",
              "type": "StopPoint",
              "uri": "/StopPoint/490G00007875"
             },
             {
              "$type": "Tfl.Api.Presentation.Entities.Identifier, Tfl.Api.Presentation.Entities",
              "id": "490G00000352",
              "name": "Fulham Broadway",
              "routeType": "Unknown",
              "status": "Unknown",
              "type": "StopPoint",
              "uri": "/StopPoint/490G00000352"
             },
             {
              "$type": "Tfl.Api.Presentation.Entities.Identifier, Tfl.Api.Presentation.Entities",
              "id": "490G00084L",
              "name": "Fulham Broadway Station",
              "routeType": "Unknown",
              "status": "Unknown",
              "type": "StopPoint",
              "uri": "/StopPoint/490G00084L"
             },
             {
              "$type": "Tfl.Api.Presentation.Entities.Identifier, Tfl.Api.Presentation.Entities",
              "id": "490G00005075",
              "name": "Chelsea Village",
              "routeType": "Unknown",
              "status": "Unknown",
              "type": "StopPoint",
              "uri": "/StopPoint/490G00005075"
             },
             {
              "$type": "Tfl.Api.Presentation.Entities.Identifier, Tfl.Api.Presentation.Entities",
              "id": "490G00005069",
              "name": "Chelsea Football Club",
              "routeType": "Unknown",
              "status": "Unknown",
              "type": "StopPoint",
              "uri": "/StopPoint/490G00005069"
             },
             {
              "$type": "Tfl.Api.Presentation.Entities.Identifier, Tfl.Api.Presentation.Entities",
              "id": "490G00008380",
              "name": "Hortensia Road",
              "routeType": "Unknown",
              "status": "Unknown",
              "type": "StopPoint",
              "uri": "/StopPoint/490G00008380"
             },
             {
              "$type": "Tfl.Api.Presentation.Entities.Identifier, Tfl.Api.Presentation.Entities",
              "id": "490G00006437",
              "name": "Edith Grove",
              "routeType": "Unknown",
              "status": "Unknown",
              "type": "StopPoint",
              "uri": "/StopPoint/490G00006437"
             },
             {
              "$type": "Tfl.Api.Presentation.Entities.Identifier, Tfl.Api.Presentation.Entities",
              "id": "490G00005062",
              "name": "Chelsea and Westminster Hospital",
              "routeType": "Unknown",
              "status": "Unknown",
              "type": "StopPoint",
              "uri": "/StopPoint/490G00005062"
             },
             {
              "$type": "Tfl.Api.Presentation.Entities.Identifier, Tfl.Api.Presentation.Entities",
              "id": "490G00003726",
              "name": "Fulham Road / Beaufort Street",
              "routeType": "Unknown",
              "status": "Unknown",
              "type": "StopPoint",
              "uri": "/StopPoint/490G00003726"
             },
             {
              "$type": "Tfl.Api.Presentation.Entities.Identifier, Tfl.Api.Presentation.Entities",
              "id": "490G00006514",
              "name": "Old Church Street",
              "routeType": "Unknown",
              "status": "Unknown",
              "type": "StopPoint",
              "uri": "/StopPoint/490G00006514"
             },
             {
              "$type": "Tfl.Api.Presentation.Entities.Identifier, Tfl.Api.Presentation.Entities",
              "id": "490G00015421",
              "name": "Royal Brompton Hosp / Royal Marsden Hosp",
              "routeType": "Unknown",
              "status": "Unknown",
              "type": "StopPoint",
              "uri": "/StopPoint/490G00015421"
             },
             {
              "$type": "Tfl.Api.Presentation.Entities.Identifier, Tfl.Api.Presentation.Entities",
              "id": "490G00011754",
              "name": "Cale Street / Royal Brompton Hospital",
              "routeType": "Unknown",
              "status": "Unknown",
              "type": "StopPoint",
              "uri": "/StopPoint/490G00011754"
             },
             {
              "$type": "Tfl.Api.Presentation.Entities.Identifier, Tfl.Api.Presentation.Entities",
              "id": "490G00005077",
              "name": "Sydney Street / Chelsea Old Town Hall",
              "routeType": "Unknown",
              "status": "Unknown",
              "type": "StopPoint",
              "uri": "/StopPoint/490G00005077"
             },
             {
              "$type": "Tfl.Api.Presentation.Entities.Identifier, Tfl.Api.Presentation.Entities",
              "id": "490G00005073",
              "name": "Chelsea Old Town Hall",
              "routeType": "Unknown",
              "status": "Unknown",
              "type": "StopPoint",
              "uri": "/StopPoint/490G00005073"
             },
             {
              "$type": "Tfl.Api.Presentation.Entities.Identifier, Tfl.Api.Presentation.Entities",
              "id": "490G00009666",
              "name": "Markham Street",
              "routeType": "Unknown",
              "status": "Unknown",
              "type": "StopPoint",
              "uri": "/StopPoint/490G00009666"
             },
             {
              "$type": "Tfl.Api.Presentation.Entities.Identifier, Tfl.Api.Presentation.Entities",
              "id": "490G00006224",
              "name": "Duke Of York Square",
              "routeType": "Unknown",
              "status": "Unknown",
              "type": "StopPoint",
              "uri": "/StopPoint/490G00006224"
             },
             {
              "$type": "Tfl.Api.Presentation.Entities.Identifier, Tfl.Api.Presentation.Entities",
              "id": "490G00006228",
              "name": "Cadogan Gardens / Sloane Square",
              "routeType": "Unknown",
              "status": "Unknown",
              "type": "StopPoint",
              "uri": "/StopPoint/490G00006228"
             },
             {
              "$type": "Tfl.Api.Presentation.Entities.Identifier, Tfl.Api.Presentation.Entities",
              "id": "490G00011763",
              "name": "Sloane Square Stn  / Lower Sloane St",
              "routeType": "Unknown",
              "status": "Unknown",
              "type": "StopPoint",
              "uri": "/StopPoint/490G00011763"
             },
             {
              "$type": "Tfl.Api.Presentation.Entities.Identifier, Tfl.Api.Presentation.Entities",
              "id": "490G00005065",
              "name": "Chelsea Bridge Road",
              "routeType": "Unknown",
              "status": "Unknown",
              "type": "StopPoint",
              "uri": "/StopPoint/490G00005065"
             },
             {
              "$type": "Tfl.Api.Presentation.Entities.Identifier, Tfl.Api.Presentation.Entities",
              "id": "490G00006399",
              "name": "Ebury Bridge Road",
              "routeType": "Unknown",
              "status": "Unknown",
              "type": "StopPoint",
              "uri": "/StopPoint/490G00006399"
             },
             {
              "$type": "Tfl.Api.Presentation.Entities.Identifier, Tfl.Api.Presentation.Entities",
              "id": "490G000813",
              "name": "Victoria Coach Station",
              "routeType": "Unknown",
              "status": "Unknown",
              "type": "StopPoint",
              "uri": "/StopPoint/490G000813"
             },
             {
              "$type": "Tfl.Api.Presentation.Entities.Identifier, Tfl.Api.Presentation.Entities",
              "id": "490G00006404",
              "name": "Eccleston Bridge",
              "routeType": "Unknown",
              "status": "Unknown",
              "type": "StopPoint",
              "uri": "/StopPoint/490G00006404"
             },
             {
              "$type": "Tfl.Api.Presentation.Entities.Identifier, Tfl.Api.Presentation.Entities",
              "id": "490G000552",
              "name": "Victoria Station  / Grosvenor Gardens",
              "routeType": "Unknown",
              "status": "Unknown",
              "type": "StopPoint",
              "uri": "/StopPoint/490G000552"
             },
             {
              "$type": "Tfl.Api.Presentation.Entities.Identifier, Tfl.Api.Presentation.Entities",
              "id": "490G00014496",
              "name": "Westminster Cathedral",
              "routeType": "Unknown",
              "status": "Unknown",
              "type": "StopPoint",
              "uri": "/StopPoint/490G00014496"
             },
             {
              "$type": "Tfl.Api.Presentation.Entities.Identifier, Tfl.Api.Presentation.Entities",
              "id": "490G000394",
              "name": "Westminster City Hall",
              "routeType": "Unknown",
              "status": "Unknown",
              "type": "StopPoint",
              "uri": "/StopPoint/490G000394"
             },
             {
              "$type": "Tfl.Api.Presentation.Entities.Identifier, Tfl.Api.Presentation.Entities",
              "id": "490G00221V",
              "name": "St James's Park Station",
              "routeType": "Unknown",
              "status": "Unknown",
              "type": "StopPoint",
              "uri": "/StopPoint/490G00221V"
             },
             {
              "$type": "Tfl.Api.Presentation.Entities.Identifier, Tfl.Api.Presentation.Entities",
              "id": "490G000828",
              "name": "Westminster Abbey",
              "routeType": "Unknown",
              "status": "Unknown",
              "type": "StopPoint",
              "uri": "/StopPoint/490G000828"
             },
             {
              "$type": "Tfl.Api.Presentation.Entities.Identifier, Tfl.Api.Presentation.Entities",
              "id": "490G000829",
              "name": "Westminster Stn  / Westmr Pier",
              "routeType": "Unknown",
              "status": "Unknown",
              "type": "StopPoint",
              "uri": "/StopPoint/490G000829"
             },
             {
              "$type": "Tfl.Api.Presentation.Entities.Identifier, Tfl.Api.Presentation.Entities",
              "id": "490G00018956",
              "name": "St Thomas' Hospital / County Hall",
              "routeType": "Unknown",
              "status": "Unknown",
              "type": "StopPoint",
              "uri": "/StopPoint/490G00018956"
             },
             {
              "$type": "Tfl.Api.Presentation.Entities.Identifier, Tfl.Api.Presentation.Entities",
              "id": "490G000404",
              "name": "Waterloo Station   / Upper Taxi Road",
              "routeType": "Unknown",
              "status": "Unknown",
              "type": "StopPoint",
              "uri": "/StopPoint/490G000404"
             }
            ]
           },
           "plannedWorks": [],
           "routeOptions": [
            {
             "$type": "Tfl.Api.Presentation.Entities.JourneyPlanner.RouteOption, Tfl.Api.Presentation.Entities",
             "directions": [
              "Waterloo"
             ],
             "lineIdentifier": {
              "$type": "Tfl.Api.Presentation.Entities.Identifier, Tfl.Api.Presentation.Entities",
              "crowding": {
               "$type": "Tfl.Api.Presentation.Entities.Crowding, Tfl.Api.Presentation.Entities"
              },
              "id": "211",
              "name": "211",
              "routeType": "Unknown",
              "status": "Unknown",
              "type": "Line",
              "uri": "/Line/211"
             },
             "name": "211"
            }
           ]
          },
          {
           "$type": "Tfl.Api.Presentation.Entities.JourneyPlanner.Leg, Tfl.Api.Presentation.Entities",
           "arrivalPoint": {
            "$type": "Tfl.Api.Presentation.Entities.StopPoint, Tfl.Api.Presentation.Entities",
            "additionalProperties": [],
            "commonName": "Waterloo Station",
            "icsCode": "1000254",
            "lat": 51.503648958839996,
            "lon": -0.11542867182000001,
            "naptanId": "490G00254J",
            "placeType": "StopPoint",
            "platformName": "",
            "stopLetter": "V"
           },
           "arrivalTime": "2021-08-21T00:17:00",
           "departurePoint": {
            "$type": "Tfl.Api.Presentation.Entities.StopPoint, Tfl.Api.Presentation.Entities",
            "additionalProperties": [],
            "commonName": "Waterloo Station   / Upper Taxi Road",
            "icsCode": "1003722",
            "lat": 51.50359661965,
            "lon": -0.11217438842,
            "naptanId": "490G000404",
            "placeType": "StopPoint",
            "platformName": "",
            "stopLetter": "->W"
           },
           "departureTime": "2021-08-21T00:06:00",
           "disruptions": [],
           "duration": 11,
           "hasFixedLocations": true,
           "instruction": {
            "$type": "Tfl.Api.Presentation.Entities.Instruction, Tfl.Api.Presentation.Entities",
            "detailed": "Walk to Waterloo Station",
            "steps": [
             {
              "$type": "Tfl.Api.Presentation.Entities.InstructionStep, Tfl.Api.Presentation.Entities",
              "cumulativeDistance": 111,
              "cumulativeTravelTime": 100,
              "description": "Station Approach Road for 111 metres",
              "descriptionHeading": "Continue along ",
              "distance": 111,
              "latitude": 51.50359661965,
              "longitude": -0.11217438842,
              "pathAttribute": {
               "$type": "Tfl.Api.Presentation.Entities.PathAttribute, Tfl.Api.Presentation.Entities"
              },
              "skyDirection": 286,
              "skyDirectionDescription": "West",
              "streetName": "Station Approach Road",
              "trackType": "None",
              "turnDirection": "STRAIGHT"
             },
             {
              "$type": "Tfl.Api.Presentation.Entities.InstructionStep, Tfl.Api.Presentation.Entities",
              "cumulativeDistance": 181,
              "cumulativeTravelTime": 164,
              "description": "on to Station Approach Road, continue for 70 metres",
              "descriptionHeading": "Continue along ",
              "distance": 70,
              "latitude": 51.50391750495,
              "longitude": -0.11367408644,
              "pathAttribute": {
               "$type": "Tfl.Api.Presentation.Entities.PathAttribute, Tfl.Api.Presentation.Entities"
              },
              "skyDirection": 286,
              "skyDirectionDescription": "North",
              "streetName": "Station Approach Road",
              "trackType": "None",
              "turnDirection": "STRAIGHT"
             },
             {
              "$type": "Tfl.Api.Presentation.Entities.InstructionStep, Tfl.Api.Presentation.Entities",
              "cumulativeDistance": 230,
              "cumulativeTravelTime": 207,
              "description": "on to York Square, continue for 49 metres",
              "descriptionHeading": "Turn right",
              "distance": 49,
              "latitude": 51.50427149932,
              "longitude": -0.11443756724000001,
              "pathAttribute": {
               "$type": "Tfl.Api.Presentation.Entities.PathAttribute, Tfl.Api.Presentation.Entities"
              },
              "skyDirection": 405,
              "skyDirectionDescription": "North",
              "streetName": "York Square",
              "trackType": "None",
              "turnDirection": "RIGHT"
             },
             {
              "$type": "Tfl.Api.Presentation.Entities.InstructionStep, Tfl.Api.Presentation.Entities",
              "cumulativeDistance": 257,
              "cumulativeTravelTime": 231,
              "description": "for 27 metres",
              "descriptionHeading": "Turn left",
              "distance": 27,
              "latitude": 51.50454151615,
              "longitude": -0.1138932754,
              "pathAttribute": {
               "$type": "Tfl.Api.Presentation.Entities.PathAttribute, Tfl.Api.Presentation.Entities"
              },
              "skyDirection": 321,
              "skyDirectionDescription": "North",
              "streetName": "",
              "trackType": "None",
              "turnDirection": "LEFT"
             },
             {
              "$type": "Tfl.Api.Presentation.Entities.InstructionStep, Tfl.Api.Presentation.Entities",
              "cumulativeDistance": 411,
              "cumulativeTravelTime": 369,
              "description": "on to York Road, continue for 154 metres",
              "descriptionHeading": "Take a sharp left",
              "distance": 154,
              "latitude": 51.50473417101,
              "longitude": -0.11413027995,
              "pathAttribute": {
               "$type": "Tfl.Api.Presentation.Entities.PathAttribute, Tfl.Api.Presentation.Entities"
              },
              "skyDirection": 189,
              "skyDirectionDescription": "North",
              "streetName": "York Road",
              "trackType": "None",
              "turnDirection": "SHARP_LEFT"
             }
            ],
            "summary": "Walk to Waterloo Station"
           },
           "isDisrupted": false,
           "mode": {
            "$type": "Tfl.Api.Presentation.Entities.Identifier, Tfl.Api.Presentation.Entities",
            "id": "walking",
            "name": "walking",
            "routeType": "Unknown",
            "status": "Unknown",
            "type": "Mode"
           },
           "obstacles": [
            {
             "$type": "Tfl.Api.Presentation.Entities.JourneyPlanner.Obstacle, Tfl.Api.Presentation.Entities",
             "incline": "LEVEL",
             "position": "IDEST",
             "stopId": 1003722,
             "type": "WALKWAY"
            },
            {
             "$type": "Tfl.Api.Presentation.Entities.JourneyPlanner.Obstacle, Tfl.Api.Presentation.Entities",
             "incline": "LEVEL",
             "position": "IDEST",
             "stopId": 1000254,
             "type": "WALKWAY"
            },
            {
             "$type": "Tfl.Api.Presentation.Entities.JourneyPlanner.Obstacle, Tfl.Api.Presentation.Entities",
             "incline": "UP",
             "position": "IDEST",
             "stopId": 1000254,
             "type": "ESCALATOR"
            },
            {
             "$type": "Tfl.Api.Presentation.Entities.JourneyPlanner.Obstacle, Tfl.Api.Presentation.Entities",
             "incline": "LEVEL",
             "position": "IDEST",
             "stopId": 1000254,
             "type": "WALKWAY"
            }
           ],
           "path": {
            "$type": "Tfl.Api.Presentation.Entities.JourneyPlanner.Path, Tfl.Api.Presentation.Entities",
            "elevation": [],
            "lineString": "[[51.50359661965, -0.11217438842],[51.50362102368, -0.11215416777],[51.50391750495, -0.11367408644],[51.5039663749, -0.11391702394],[51.50404313029, -0.11421644739],[51.50409728133, -0.11422862098],[51.50427149932, -0.11443756724],[51.50436780499, -0.11427508963],[51.50447217078, -0.11405464129],[51.50454151615, -0.1138932754],[51.50473417101, -0.11413027995],[51.50462679512, -0.11416353194],[51.50455606017, -0.11423849904],[51.50440583506, -0.11440320325],[51.5042576931, -0.11469750359],[51.50411761118, -0.11493383257],[51.50402037883, -0.11503870942],[51.50362054635, -0.11539424523],[51.50364895884, -0.11542867182]]",
            "stopPoints": [
             {
              "$type": "Tfl.Api.Presentation.Entities.Identifier, Tfl.Api.Presentation.Entities",
              "name": "Waterloo Station",
              "routeType": "Unknown",
              "status": "Unknown",
              "type": "StopPoint",
              "uri": "/StopPoint/"
             }
            ]
           },
           "plannedWorks": [],
           "routeOptions": [
            {
             "$type": "Tfl.Api.Presentation.Entities.JourneyPlanner.RouteOption, Tfl.Api.Presentation.Entities",
             "directions": [
              ""
             ],
             "name": ""
            }
           ]
          },
          {
           "$type": "Tfl.Api.Presentation.Entities.JourneyPlanner.Leg, Tfl.Api.Presentation.Entities",
           "arrivalPoint": {
            "$type": "Tfl.Api.Presentation.Entities.StopPoint, Tfl.Api.Presentation.Entities",
            "additionalProperties": [],
            "commonName": "London Bridge Station",
            "icsCode": "1000139",
            "lat": 51.50597354919,
            "lon": -0.08737772283,
            "naptanId": "490G00139R",
            "placeType": "StopPoint",
            "platformName": "R",
            "stopLetter": "R"
           },
           "arrivalTime": "2021-08-21T00:35:00",
           "departurePoint": {
            "$type": "Tfl.Api.Presentation.Entities.StopPoint, Tfl.Api.Presentation.Entities",
            "additionalProperties": [],
            "commonName": "Waterloo Station",
            "icsCode": "1000254",
            "lat": 51.503648958839996,
            "lon": -0.11542867182000001,
            "naptanId": "490G00254J",
            "placeType": "StopPoint",
            "platformName": "",
            "stopLetter": "V"
           },
           "departureTime": "2021-08-21T00:25:00",
           "disruptions": [],
           "duration": 10,
           "hasFixedLocations": true,
           "instruction": {
            "$type": "Tfl.Api.Presentation.Entities.Instruction, Tfl.Api.Presentation.Entities",
            "detailed": "381 bus towards Peckham",
            "steps": [],
            "summary": "381 bus to London Bridge Station"
           },
           "isDisrupted": false,
           "mode": {
            "$type": "Tfl.Api.Presentation.Entities.Identifier, Tfl.Api.Presentation.Entities",
            "id": "bus",
            "name": "bus",
            "routeType": "Unknown",
            "status": "Unknown",
            "type": "Mode"
           },
           "obstacles": [],
           "path": {
            "$type": "Tfl.Api.Presentation.Entities.JourneyPlanner.Path, Tfl.Api.Presentation.Entities",
            "elevation": [],
            "lineString": "[[51.50363315327, -0.11538303512],[51.50402037883, -0.11503870942],[51.50411761118, -0.11493383257],[51.5042576931, -0.11469750359],[51.50440583506, -0.11440320325],[51.50455606017, -0.11423849904],[51.50462679512, -0.11416353194],[51.50473417101, -0.11413027995],[51.50502197319, -0.11413280672],[51.5051019262, -0.11407186758],[51.50517794225, -0.11376612863],[51.50517724745, -0.11372292871],[51.50510947733, -0.11342312755],[51.50504332815, -0.11322412679],[51.50506889786, -0.11313661354],[51.50543428184, -0.11215718329],[51.50543428184, -0.11215718329],[51.50572406319, -0.11138038274],[51.50619814258, -0.11010712137],[51.50646093348, -0.10939788042],[51.50646093348, -0.10939788042],[51.50668072998, -0.10880466088],[51.50692236656, -0.10817502112],[51.50708862162, -0.10733234576],[51.50713970687, -0.10665029033],[51.50713970687, -0.10665029033],[51.50717739778, -0.10614703192],[51.50717576995, -0.10604622814],[51.50715012169, -0.10557175594],[51.50715282708, -0.10518256894],[51.50714072645, -0.10443374189],[51.50698167059, -0.10405126985],[51.50679334002, -0.10357885883],[51.50679334002, -0.10357885883],[51.50659738891, -0.10308734149],[51.50636084503, -0.10236225907],[51.50588587854, -0.10079691631],[51.50558630236, -0.09951250067],[51.50550857604, -0.09915549304],[51.50536210668, -0.09844110738],[51.50531250422, -0.09815498025],[51.50527550027, -0.09794727319],[51.50527550027, -0.09794727319],[51.50514431796, -0.09721095242],[51.50500378487, -0.0963090074],[51.50492137284, -0.09566401513],[51.50483040208, -0.09472875875],[51.50483040208, -0.09472875875],[51.50475944068, -0.09399927124],[51.50471249372, -0.09332398712],[51.50469929304, -0.0930651685],[51.50468773094, -0.09290714756],[51.50472251479, -0.0916055891],[51.50472251479, -0.0916055891],[51.50474362413, -0.0908154448],[51.50478433668, -0.09055437286],[51.50479855822, -0.09032322695],[51.50481348281, -0.09013527989],[51.50490928521, -0.08994395059],[51.5050400949, -0.08969351825],[51.50520708444, -0.08945598067],[51.50558669818, -0.08902222002],[51.50568390662, -0.08891728471],[51.50572790025, -0.08885780492],[51.50586957144, -0.08872218876],[51.50610845048, -0.08848163452],[51.50617940321, -0.08842102543],[51.50613993654, -0.08820652889],[51.50611016021, -0.08803485669],[51.50598317284, -0.0873729817]]",
            "stopPoints": [
             {
              "$type": "Tfl.Api.Presentation.Entities.Identifier, Tfl.Api.Presentation.Entities",
              "id": "490G00014275",
              "name": "Waterloo Road",
              "routeType": "Unknown",
              "status": "Unknown",
              "type": "StopPoint",
              "uri": "/StopPoint/490G00014275"
             },
             {
              "$type": "Tfl.Api.Presentation.Entities.Identifier, Tfl.Api.Presentation.Entities",
              "id": "490G00005457",
              "name": "Coin Street",
              "routeType": "Unknown",
              "status": "Unknown",
              "type": "StopPoint",
              "uri": "/StopPoint/490G00005457"
             },
             {
              "$type": "Tfl.Api.Presentation.Entities.Identifier, Tfl.Api.Presentation.Entities",
              "id": "490G000626",
              "name": "Kings Reach Building",
              "routeType": "Unknown",
              "status": "Unknown",
              "type": "StopPoint",
              "uri": "/StopPoint/490G000626"
             },
             {
              "$type": "Tfl.Api.Presentation.Entities.Identifier, Tfl.Api.Presentation.Entities",
              "id": "490G00004063",
              "name": "Blackfriars Road",
              "routeType": "Unknown",
              "status": "Unknown",
              "type": "StopPoint",
              "uri": "/StopPoint/490G00004063"
             },
             {
              "$type": "Tfl.Api.Presentation.Entities.Identifier, Tfl.Api.Presentation.Entities",
              "id": "490G00009011",
              "name": "Lavington Street",
              "routeType": "Unknown",
              "status": "Unknown",
              "type": "StopPoint",
              "uri": "/StopPoint/490G00009011"
             },
             {
              "$type": "Tfl.Api.Presentation.Entities.Identifier, Tfl.Api.Presentation.Entities",
              "id": "490G000754",
              "name": "Southwark Street / Southwark Bridge Road",
              "routeType": "Unknown",
              "status": "Unknown",
              "type": "StopPoint",
              "uri": "/StopPoint/490G000754"
             },
             {
              "$type": "Tfl.Api.Presentation.Entities.Identifier, Tfl.Api.Presentation.Entities",
              "id": "490G00013424",
              "name": "The Hop Exchange",
              "routeType": "Unknown",
              "status": "Unknown",
              "type": "StopPoint",
              "uri": "/StopPoint/490G00013424"
             },
             {
              "$type": "Tfl.Api.Presentation.Entities.Identifier, Tfl.Api.Presentation.Entities",
              "id": "490G00139R",
              "name": "London Bridge Station",
              "routeType": "Unknown",
              "status": "Unknown",
              "type": "StopPoint",
              "uri": "/StopPoint/490G00139R"
             }
            ]
           },
           "plannedWorks": [],
           "routeOptions": [
            {
             "$type": "Tfl.Api.Presentation.Entities.JourneyPlanner.RouteOption, Tfl.Api.Presentation.Entities",
             "directions": [
              "Peckham"
             ],
             "lineIdentifier": {
              "$type": "Tfl.Api.Presentation.Entities.Identifier, Tfl.Api.Presentation.Entities",
              "crowding": {
               "$type": "Tfl.Api.Presentation.Entities.Crowding, Tfl.Api.Presentation.Entities"
              },
              "id": "381",
              "name": "381",
              "routeType": "Unknown",
              "status": "Unknown",
              "type": "Line",
              "uri": "/Line/381"
             },
             "name": "381"
            }
           ]
          },
          {
           "$type": "Tfl.Api.Presentation.Entities.JourneyPlanner.Leg, Tfl.Api.Presentation.Entities",
           "arrivalPoint": {
            "$type": "Tfl.Api.Presentation.Entities.StopPoint, Tfl.Api.Presentation.Entities",
            "additionalProperties": [],
            "commonName": "Tower Bridge / City Hall",
            "icsCode": "1013744",
            "lat": 51.50365934258,
            "lon": -0.07673983198,
            "naptanId": "490G00013744",
            "placeType": "StopPoint",
            "platformName": "L",
            "stopLetter": "L"
           },
           "arrivalTime": "2021-08-21T00:44:00",
           "departurePoint": {
            "$type": "Tfl.Api.Presentation.Entities.StopPoint, Tfl.Api.Presentation.Entities",
            "additionalProperties": [],
            "commonName": "London Bridge Station",
            "icsCode": "1000139",
            "lat": 51.50597354919,
            "lon": -0.08737772283,
            "naptanId": "490G00139R",
            "placeType": "StopPoint",
            "platformName": "R",
            "stopLetter": "R"
           },
           "departureTime": "2021-08-21T00:41:00",
           "disruptions": [],
           "duration": 3,
           "hasFixedLocations": true,
           "instruction": {
            "$type": "Tfl.Api.Presentation.Entities.Instruction, Tfl.Api.Presentation.Entities",
            "detailed": "343 bus towards Aldgate",
            "steps": [],
            "summary": "343 bus to Tower Bridge / City Hall"
           },
           "isDisrupted": false,
           "mode": {
            "$type": "Tfl.Api.Presentation.Entities.Identifier, Tfl.Api.Presentation.Entities",
            "id": "bus",
            "name": "bus",
            "routeType": "Unknown",
            "status": "Unknown",
            "type": "Mode"
           },
           "obstacles": [],
           "path": {
            "$type": "Tfl.Api.Presentation.Entities.JourneyPlanner.Path, Tfl.Api.Presentation.Entities",
            "elevation": [],
            "lineString": "[[51.50598317284, -0.0873729817],[51.50587428977, -0.08680548705],[51.50582371923, -0.08646177031],[51.50578401402, -0.08623287728],[51.5057556448, -0.08614760733],[51.50573626196, -0.08606196091],[51.50564833323, -0.0856333533],[51.50550742478, -0.08526460714],[51.50533080462, -0.08491177021],[51.50528422644, -0.08481285579],[51.50510666415, -0.08440242352],[51.50506907198, -0.0843031332],[51.50503491821, -0.08422721342],[51.50503491821, -0.08422721342],[51.50492910045, -0.08399199446],[51.504741843, -0.08353874691],[51.50450682725, -0.08291459471],[51.50439286966, -0.08254473456],[51.50422334406, -0.08207634429],[51.50415390903, -0.08190829133],[51.50415390903, -0.08190829133],[51.50408289568, -0.08173641951],[51.50398051203, -0.08152458092],[51.50383060448, -0.08115623862],[51.50370859758, -0.08084436295],[51.50361307774, -0.08050255769],[51.50351567111, -0.08004556052],[51.50350693766, -0.08000899604],[51.50350693766, -0.08000899604],[51.50345774497, -0.0798030413],[51.50336387271, -0.07956203396],[51.50329790245, -0.07937749042],[51.5032127799, -0.07912170785],[51.50312742092, -0.07885152722],[51.50300399246, -0.07845326866],[51.50297846911, -0.07799325721],[51.5028725385, -0.07756544806],[51.50277653706, -0.07719485829],[51.50289241583, -0.07713234495],[51.50317691104, -0.07693305225],[51.50346140588, -0.07673375702],[51.50362972284, -0.07662361621]]",
            "stopPoints": [
             {
              "$type": "Tfl.Api.Presentation.Entities.Identifier, Tfl.Api.Presentation.Entities",
              "id": "490G00007964",
              "name": "Hay's Galleria",
              "routeType": "Unknown",
              "status": "Unknown",
              "type": "StopPoint",
              "uri": "/StopPoint/490G00007964"
             },
             {
              "$type": "Tfl.Api.Presentation.Entities.Identifier, Tfl.Api.Presentation.Entities",
              "id": "490G00018666",
              "name": "Abbots Lane",
              "routeType": "Unknown",
              "status": "Unknown",
              "type": "StopPoint",
              "uri": "/StopPoint/490G00018666"
             },
             {
              "$type": "Tfl.Api.Presentation.Entities.Identifier, Tfl.Api.Presentation.Entities",
              "id": "490G00016580",
              "name": "City Hall",
              "routeType": "Unknown",
              "status": "Unknown",
              "type": "StopPoint",
              "uri": "/StopPoint/490G00016580"
             },
             {
              "$type": "Tfl.Api.Presentation.Entities.Identifier, Tfl.Api.Presentation.Entities",
              "id": "490G00013744",
              "name": "Tower Bridge / City Hall",
              "routeType": "Unknown",
              "status": "Unknown",
              "type": "StopPoint",
              "uri": "/StopPoint/490G00013744"
             }
            ]
           },
           "plannedWorks": [],
           "routeOptions": [
            {
             "$type": "Tfl.Api.Presentation.Entities.JourneyPlanner.RouteOption, Tfl.Api.Presentation.Entities",
             "directions": [
              "Aldgate"
             ],
             "lineIdentifier": {
              "$type": "Tfl.Api.Presentation.Entities.Identifier, Tfl.Api.Presentation.Entities",
              "crowding": {
               "$type": "Tfl.Api.Presentation.Entities.Crowding, Tfl.Api.Presentation.Entities"
              },
              "id": "343",
              "name": "343",
              "routeType": "Unknown",
              "status": "Unknown",
              "type": "Line",
              "uri": "/Line/343"
             },
             "name": "343"
            }
           ]
          }
         ],
         "startDateTime": "2021-08-20T22:03:00"
        },
        {
         "$type": "Tfl.Api.Presentation.Entities.JourneyPlanner.Journey, Tfl.Api.Presentation.Entities",
         "arrivalDateTime": "2021-08-21T04:40:00",
         "duration": 130,
         "legs": [
          {
           "$type": "Tfl.Api.Presentation.Entities.JourneyPlanner.Leg, Tfl.Api.Presentation.Entities",
           "arrivalPoint": {
            "$type": "Tfl.Api.Presentation.Entities.StopPoint, Tfl.Api.Presentation.Entities",
            "additionalProperties": [],
            "commonName": "Heathrow Central Bus Stn (Rail-Air)",
            "icsCode": "1008016",
            "lat": 51.47136544841,
            "lon": -0.45345569183,
            "naptanId": "910GHTRWCBS",
            "placeType": "StopPoint",
            "platformName": "19"
           },
           "arrivalTime": "2021-08-21T02:53:00",
           "departurePoint": {
            "$type": "Tfl.Api.Presentation.Entities.StopPoint, Tfl.Api.Presentation.Entities",
            "additionalProperties": [],
            "commonName": "Hillingdon, Heathrow Airport Terminal 3 Arrivals",
            "icsCode": "99999997",
            "lat": 51.471544550269996,
            "lon": -0.45886341771,
            "placeType": "StopPoint",
            "platformName": ""
           },
           "departureTime": "2021-08-21T02:30:00",
           "disruptions": [],
           "distance": 1486,
           "duration": 23,
           "hasFixedLocations": true,
           "instruction": {
            "$type": "Tfl.Api.Presentation.Entities.Instruction, Tfl.Api.Presentation.Entities",
            "detailed": "Walk to Heathrow Central Bus Station",
            "steps": [
             {
              "$type": "Tfl.Api.Presentation.Entities.InstructionStep, Tfl.Api.Presentation.Entities",
              "cumulativeDistance": 1098,
              "cumulativeTravelTime": 989,
              "description": " for 1098 metres",
              "descriptionHeading": "Continue along ",
              "distance": 1098,
              "latitude": 51.47155334938,
              "longitude": -0.45884872287,
              "pathAttribute": {
               "$type": "Tfl.Api.Presentation.Entities.PathAttribute, Tfl.Api.Presentation.Entities"
              },
              "skyDirection": 498,
              "skyDirectionDescription": "North",
              "streetName": "",
              "trackType": "None",
              "turnDirection": "STRAIGHT"
             },
             {
              "$type": "Tfl.Api.Presentation.Entities.InstructionStep, Tfl.Api.Presentation.Entities",
              "cumulativeDistance": 1349,
              "cumulativeTravelTime": 1215,
              "description": "on to Contrail Way, continue for 251 metres",
              "descriptionHeading": "Take a slight right",
              "distance": 251,
              "latitude": 51.46853877779,
              "longitude": -0.45322012153,
              "pathAttribute": {
               "$type": "Tfl.Api.Presentation.Entities.PathAttribute, Tfl.Api.Presentation.Entities"
              },
              "skyDirection": 318,
              "skyDirectionDescription": "North",
              "streetName": "Contrail Way",
              "trackType": "None",
              "turnDirection": "SLIGHT_RIGHT"
             },
             {
              "$type": "Tfl.Api.Presentation.Entities.InstructionStep, Tfl.Api.Presentation.Entities",
              "cumulativeDistance": 1418,
              "cumulativeTravelTime": 1277,
              "description": "on to Inner Ring West, continue for 69 metres",
              "descriptionHeading": "Continue along ",
              "distance": 69,
              "latitude": 51.47062030437,
              "longitude": -0.45422958635,
              "pathAttribute": {
               "$type": "Tfl.Api.Presentation.Entities.PathAttribute, Tfl.Api.Presentation.Entities"
              },
              "skyDirection": 346,
              "skyDirectionDescription": "North",
              "streetName": "Inner Ring West",
              "trackType": "None",
              "turnDirection": "STRAIGHT"
             },
             {
              "$type": "Tfl.Api.Presentation.Entities.InstructionStep, Tfl.Api.Presentation.Entities",
              "cumulativeDistance": 1486,
              "cumulativeTravelTime": 1338,
              "description": "on to Control Tower Road, continue for 68 metres",
              "descriptionHeading": "Take a sharp right",
              "distance": 68,
              "latitude": 51.47123340134,
              "longitude": -0.45435284892,
              "pathAttribute": {
               "$type": "Tfl.Api.Presentation.Entities.PathAttribute, Tfl.Api.Presentation.Entities"
              },
              "skyDirection": 485,
              "skyDirectionDescription": "North",
              "streetName": "Control Tower Road",
              "trackType": "None",
              "turnDirection": "SHARP_RIGHT"
             }
            ],
            "summary": "Walk to Heathrow Central Bus Station"
           },
           "isDisrupted": false,
           "mode": {
            "$type": "Tfl.Api.Presentation.Entities.Identifier, Tfl.Api.Presentation.Entities",
            "id": "walking",
            "name": "walking",
            "routeType": "Unknown",
            "status": "Unknown",
            "type": "Mode"
           },
           "obstacles": [],
           "path": {
            "$type": "Tfl.Api.Presentation.Entities.JourneyPlanner.Path, Tfl.Api.Presentation.Entities",
            "elevation": [],
            "lineString": "[[51.47154455027, -0.45886341771],[51.47155334938, -0.45884872287],[51.47077496803, -0.45778069358],[51.4718988572, -0.4529913028],[51.4693995474, -0.45098816812],[51.46990315369, -0.45235330669],[51.46991214191, -0.45235300257],[51.46988479735, -0.4523251321],[51.46981289153, -0.45232756509],[51.46968724628, -0.45234621415],[51.46867138648, -0.45236618747],[51.46854688075, -0.45247118184],[51.46849693931, -0.45277521685],[51.46853877779, -0.45322012153],[51.46884108363, -0.45364182433],[51.46895982838, -0.45378178552],[51.46917649481, -0.45384644959],[51.46965363027, -0.45388791242],[51.47004968183, -0.45391771884],[51.47031147908, -0.45399525753],[51.47062030437, -0.45422958635],[51.47094558814, -0.45434817678],[51.47123340134, -0.45435284892],[51.47102977877, -0.45391338582],[51.47101509723, -0.4534819363]]",
            "stopPoints": []
           },
           "plannedWorks": [],
           "routeOptions": [
            {
             "$type": "Tfl.Api.Presentation.Entities.JourneyPlanner.RouteOption, Tfl.Api.Presentation.Entities",
             "directions": [
              ""
             ],
             "name": ""
            }
           ]
          },
          {
           "$type": "Tfl.Api.Presentation.Entities.JourneyPlanner.Leg, Tfl.Api.Presentation.Entities",
           "arrivalPoint": {
            "$type": "Tfl.Api.Presentation.Entities.StopPoint, Tfl.Api.Presentation.Entities",
            "additionalProperties": [],
            "commonName": "Northumberland Avenue / Trafalgar Square",
            "icsCode": "1013767",
            "lat": 51.50764280917,
            "lon": -0.12954448446,
            "naptanId": "490G000804",
            "placeType": "StopPoint",
            "platformName": "",
            "stopLetter": "B"
           },
           "arrivalTime": "2021-08-21T03:56:00",
           "departurePoint": {
            "$type": "Tfl.Api.Presentation.Entities.StopPoint, Tfl.Api.Presentation.Entities",
            "additionalProperties": [],
            "commonName": "Heathrow Central Bus Stn (Rail-Air)",
            "icsCode": "1008016",
            "lat": 51.47136544841,
            "lon": -0.45345569183,
            "naptanId": "910GHTRWCBS",
            "placeType": "StopPoint",
            "platformName": "19"
           },
           "departureTime": "2021-08-21T02:53:00",
           "disruptions": [
            {
             "$type": "Tfl.Api.Presentation.Entities.Disruption, Tfl.Api.Presentation.Entities",
             "additionalInfo": "",
             "category": "PlannedWork",
             "categoryDescription": "PlannedWork",
             "created": "2021-08-16T06:50:00",
             "description": "KENSINGTON HIGH STREET: From 21:00 - 05:00 nightly, starting on Thursday 19 August and ending on Saturday 21 August, routes 9 23 and N9 are on diversion from Kensington Olympia to Kensington Palace due to roadworks. Buses towards Hyde Park Corner will miss stops from Holland Road to High Street Kensington Station. Buses towards Hammersmith will miss stops from High Street Kensington Station to Warwick Gardens. Buses are diverted via Holland Road, Holland Park Avenue, Notting Hill Gate and Kensington Church Street.",
             "lastUpdate": "2021-08-16T08:05:00",
             "summary": "CE21/19598 KENSINGTON HIGH STREET,W8 BUS ROUTES 9,23 AND N9",
             "type": "lineInfo"
            },
            {
             "$type": "Tfl.Api.Presentation.Entities.Disruption, Tfl.Api.Presentation.Entities",
             "additionalInfo": "",
             "category": "PlannedWork",
             "categoryDescription": "PlannedWork",
             "created": "2021-08-20T02:47:00",
             "description": "ALDWYCH, WC1: From 19:00 on Thursday 19 August until 15:00 on Sunday 22 August, Routes 6, 9 and N9 are terminating at Trafalgar Square due to Westminster Council works. There is no service between Charing Cross Station / Trafalgar Square (E) and, or between Aldwych / Somerset House (R) and Charing Cross Station (H).",
             "lastUpdate": "2021-08-20T02:48:00",
             "summary": "NMCC CE21/18501/G / ALDWYCH, WC1 / ROUTES 6, 9 and N9",
             "type": "lineInfo"
            }
           ],
           "duration": 63,
           "hasFixedLocations": true,
           "instruction": {
            "$type": "Tfl.Api.Presentation.Entities.Instruction, Tfl.Api.Presentation.Entities",
            "detailed": "N9 bus towards Trafalgar Square",
            "steps": [],
            "summary": "N9 bus to Trafalgar Square"
           },
           "isDisrupted": true,
           "mode": {
            "$type": "Tfl.Api.Presentation.Entities.Identifier, Tfl.Api.Presentation.Entities",
            "id": "bus",
            "name": "bus",
            "routeType": "Unknown",
            "status": "Unknown",
            "type": "Mode"
           },
           "obstacles": [],
           "path": {
            "$type": "Tfl.Api.Presentation.Entities.JourneyPlanner.Path, Tfl.Api.Presentation.Entities",
            "elevation": [],
            "lineString": "[[51.47101407422, -0.45348903241],[51.47102977877, -0.45391338582],[51.47123340134, -0.45435284892],[51.47164382467, -0.45410860501],[51.47176814204, -0.45398921576],[51.4718389094, -0.45390043298],[51.47213077657, -0.45353060308],[51.47256683384, -0.45318468913],[51.47283610095, -0.45314678483],[51.47322221498, -0.45310492796],[51.47408413526, -0.45300377882],[51.47417420737, -0.45301513121],[51.47983083553, -0.45305417444],[51.48027239733, -0.45312564199],[51.48032689622, -0.45316700162],[51.48049096238, -0.45333426536],[51.48090783727, -0.45357938727],[51.48107899301, -0.45360240117],[51.4813390818, -0.45355040017],[51.48179653161, -0.4534629197],[51.48194724295, -0.45329940378],[51.48204769582, -0.45273434041],[51.4819630031, -0.45244917367],[51.48188995765, -0.45236523637],[51.48162935737, -0.45169718516],[51.4815074304, -0.45063560289],[51.48142753568, -0.45003344818],[51.48137113303, -0.44984814123],[51.48135277608, -0.4498199607],[51.4812593432, -0.44824648928],[51.4812593432, -0.44824648928],[51.48124865507, -0.44806651712],[51.48118141416, -0.44638383501],[51.48115790672, -0.44596699318],[51.48110660893, -0.44485074433],[51.48110660893, -0.44485074433],[51.48105679557, -0.44376702021],[51.48103806298, -0.44303318812],[51.48101148482, -0.44238603203],[51.48094665055, -0.44089050135],[51.48091833743, -0.44011379483],[51.48089063509, -0.43919645045],[51.48089063509, -0.43919645045],[51.48085402792, -0.43798459424],[51.48083621828, -0.43732274234],[51.48077896367, -0.43572615539],[51.48076859265, -0.43494884035],[51.48075211113, -0.43438775421],[51.48074139338, -0.43425850962],[51.48074004802, -0.43415774669],[51.48072740776, -0.4338845552],[51.48069032907, -0.43309839139],[51.48069032907, -0.43309839139],[51.48065213014, -0.43228859374],[51.48063170332, -0.42874658466],[51.4807350556, -0.42651532735],[51.4807350556, -0.42651532735],[51.48074327993, -0.4263377336],[51.48078145873, -0.42583237365],[51.4809098962, -0.42401338102],[51.48093105628, -0.42358061078],[51.48099590984, -0.42261420937],[51.48099590984, -0.42261420937],[51.48104341969, -0.42190617429],[51.48126090105, -0.4200264766],[51.48127716756, -0.41973193202],[51.48127716756, -0.41973193202],[51.48136208978, -0.41819398861],[51.48134882974, -0.4178776143],[51.48121586028, -0.41668689413],[51.48051086688, -0.41375905236],[51.48027370119, -0.41284560526],[51.48005720113, -0.41204923993],[51.48005720113, -0.41204923993],[51.48003711323, -0.41197535075],[51.47975323824, -0.41093393623],[51.4797155306, -0.41080563771],[51.4796399198, -0.41053464712],[51.47948868509, -0.40999430559],[51.47948868509, -0.40999430559],[51.47917686339, -0.40888024733],[51.4790260231, -0.40836706795],[51.47893106288, -0.40799595373],[51.47879917213, -0.40755412356],[51.47871397939, -0.40724027535],[51.47852561539, -0.40661320888],[51.47829953507, -0.40585785727],[51.47815119939, -0.40534555443],[51.47815119939, -0.40534555443],[51.47796929568, -0.40471733364],[51.47792942717, -0.40443071562],[51.47794681565, -0.40438690751],[51.47798120085, -0.40427050394],[51.47788603189, -0.40388501336],[51.47778559649, -0.40377331589],[51.47762809778, -0.40343320534],[51.4769693816, -0.40118133713],[51.4769693816, -0.40118133713],[51.47683584143, -0.40072484635],[51.47649381445, -0.39938320797],[51.47601886104, -0.39752785119],[51.47587210777, -0.39698325082],[51.47587210777, -0.39698325082],[51.4757536223, -0.39654356138],[51.47570061199, -0.39595503005],[51.47575001122, -0.3956221025],[51.47572166884, -0.3955222985],[51.47569450799, -0.39550885171],[51.47551238525, -0.39534244527],[51.47535092223, -0.39471452635],[51.47526589255, -0.39441511906],[51.47509721084, -0.3939170564],[51.47497228372, -0.39333106303],[51.47485752523, -0.39283111243],[51.47467649426, -0.39208870357],[51.47440862073, -0.39108603012],[51.47440862073, -0.39108603012],[51.47430681304, -0.3907049667],[51.47408882888, -0.38989187964],[51.47392812772, -0.38932156904],[51.47352226457, -0.38792475294],[51.47348433416, -0.38778209924],[51.47316587878, -0.38685739222],[51.47295923305, -0.38621673013],[51.47303735141, -0.38601238855],[51.47292604584, -0.38566947249],[51.47292604584, -0.38566947249],[51.47274624244, -0.38511553473],[51.4726301921, -0.38517722767],[51.47252716247, -0.38487849118],[51.47228316618, -0.38413837542],[51.47221767242, -0.38395350652],[51.47214259535, -0.38372578083],[51.47193692493, -0.3831571054],[51.4715064086, -0.38193405731],[51.47136602876, -0.38153586801],[51.47121646098, -0.38112360797],[51.47116973318, -0.38099567673],[51.47114506465, -0.38092250924],[51.47114506465, -0.38092250924],[51.47096345338, -0.38038385211],[51.47051433592, -0.37911832032],[51.47037394664, -0.37872014846],[51.47007339654, -0.37779493103],[51.46986710026, -0.37718313579],[51.4697046736, -0.37659103413],[51.4697046736, -0.37659103413],[51.46932728898, -0.375215394],[51.46918309671, -0.37454382229],[51.4691541381, -0.37440087408],[51.46896595997, -0.37312604754],[51.46896595997, -0.37312604754],[51.46879683322, -0.37198037478],[51.46873391321, -0.37133472215],[51.46867398882, -0.37090492831],[51.46846562336, -0.36885350391],[51.46791796402, -0.3689162253],[51.46733853655, -0.36863454575],[51.46742240824, -0.36819963875],[51.46751566678, -0.36779318963],[51.46764387352, -0.36731350516],[51.46771136785, -0.36699435577],[51.46761808208, -0.36675293267],[51.4673640167, -0.36658923788],[51.46709257679, -0.36646935663],[51.46706349489, -0.36644735983],[51.46706349489, -0.36644735983],[51.46678358141, -0.36623564201],[51.46671846082, -0.36607960107],[51.46683105275, -0.3651253766],[51.46688955331, -0.3648065511],[51.46708282464, -0.36383503696],[51.46720880565, -0.3631970569],[51.46730922624, -0.36266076841],[51.46750968673, -0.36211328399],[51.46750968673, -0.36211328399],[51.46762971668, -0.36178546044],[51.46772677337, -0.36165240875],[51.4681503465, -0.36107573758],[51.4687927059, -0.35942578824],[51.468870576, -0.35920703031],[51.46926951262, -0.35815607859],[51.46938721893, -0.3579267322],[51.46938721893, -0.3579267322],[51.46964591155, -0.35742267192],[51.46992908616, -0.35709574649],[51.47002593569, -0.35694828738],[51.47052998694, -0.35505841518],[51.47059865903, -0.35482557394],[51.47078669688, -0.35412769296],[51.47094062382, -0.35356465205],[51.47094062382, -0.35356465205],[51.47106894789, -0.35309525195],[51.4710657137, -0.35286499454],[51.47116729962, -0.35241498571],[51.4713528953, -0.35154439239],[51.47148880822, -0.35097795212],[51.47176204336, -0.34994580061],[51.47194828574, -0.34933718931],[51.47194828574, -0.34933718931],[51.47237241418, -0.34795114569],[51.47243289532, -0.34777617529],[51.47287686931, -0.34673781069],[51.47289963995, -0.34668491049],[51.47289963995, -0.34668491049],[51.47328610106, -0.34578707689],[51.47339989627, -0.34556697407],[51.47360133458, -0.34518530817],[51.4738035842, -0.34486120646],[51.47397961837, -0.34457845069],[51.47397961837, -0.34457845069],[51.47465649554, -0.34349118249],[51.47470838879, -0.34334530746],[51.47486060964, -0.34266301285],[51.47490721203, -0.34214293854],[51.47490721203, -0.34214293854],[51.47498836783, -0.34088722939],[51.47500206663, -0.34058434024],[51.47505173848, -0.339646561],[51.47511917435, -0.33869373461],[51.47516903505, -0.33777034352],[51.47519408895, -0.33730630818],[51.47519408895, -0.33730630818],[51.47521888846, -0.33684695059],[51.47523441421, -0.33667358946],[51.47524626434, -0.33624116713],[51.47526587502, -0.33572206383],[51.47534555457, -0.33493649595],[51.47534555457, -0.33493649595],[51.4754315233, -0.33408886107],[51.47549055198, -0.33381311463],[51.4755412059, -0.33358087207],[51.4759237133, -0.33231020098],[51.4759237133, -0.33231020098],[51.47596195965, -0.33218314475],[51.47608266915, -0.33181874265],[51.47680567179, -0.32954593374],[51.47701990483, -0.3288036932],[51.47713389394, -0.32839851153],[51.47713389394, -0.32839851153],[51.47720819612, -0.32813439585],[51.47743957422, -0.32733391317],[51.47760274241, -0.32679512707],[51.47768810047, -0.32647519271],[51.47783370029, -0.32596584483],[51.47785922492, -0.3258641065],[51.4779703102, -0.3254568229],[51.47803561824, -0.32522689602],[51.47803561824, -0.32522689602],[51.47809017611, -0.32503481502],[51.47822760451, -0.32458336006],[51.47827926824, -0.32442305948],[51.47839974751, -0.32404422566],[51.47857168221, -0.323490694],[51.47889818611, -0.32242745785],[51.47916561322, -0.32160099233],[51.47916561322, -0.32160099233],[51.47949237417, -0.32059112176],[51.47963753562, -0.32005294841],[51.47967183645, -0.31993647906],[51.47974002528, -0.31967475268],[51.47993986637, -0.31905984828],[51.47993986637, -0.31905984828],[51.4804031796, -0.3176341896],[51.48080173702, -0.31658261642],[51.48101031638, -0.31607021305],[51.48101031638, -0.31607021305],[51.48112311779, -0.31579309689],[51.48141877124, -0.31509092446],[51.48149697089, -0.31490082022],[51.48162744087, -0.31459357447],[51.4818269138, -0.3140821572],[51.48203269489, -0.31355831884],[51.48203269489, -0.31355831884],[51.48221727937, -0.31308842961],[51.48237160052, -0.31256426357],[51.48238729718, -0.31240526221],[51.48240009309, -0.31204473976],[51.48242692525, -0.31141006047],[51.48247276584, -0.31084668819],[51.48270111974, -0.30984450588],[51.4828305387, -0.30946526548],[51.48300157313, -0.30885404847],[51.48308605098, -0.30847646555],[51.48332154573, -0.30729081354],[51.48332154573, -0.30729081354],[51.48336269968, -0.30708360706],[51.48346935342, -0.30637394233],[51.48360904117, -0.30546141634],[51.48393181515, -0.30424783529],[51.48393181515, -0.30424783529],[51.48398430855, -0.30405046198],[51.48407085293, -0.30381681058],[51.48418394299, -0.30355336803],[51.4845405596, -0.30271918035],[51.48492434118, -0.30189837321],[51.4850786116, -0.30137413931],[51.48516410782, -0.3010685016],[51.48522284922, -0.30077826018],[51.48568835207, -0.2993926655],[51.48602089972, -0.29876095743],[51.48611869517, -0.2984666894],[51.48611869517, -0.2984666894],[51.48617599145, -0.29829428237],[51.48632167588, -0.29779914788],[51.4863697496, -0.29739406584],[51.48638667959, -0.29732141881],[51.48660906563, -0.2965353538],[51.48672945331, -0.29615637905],[51.4869080458, -0.29556748428],[51.4869080458, -0.29556748428],[51.48717566958, -0.29468498874],[51.4872699262, -0.29436459369],[51.48751674078, -0.29340474295],[51.48765278808, -0.2928667268],[51.48771297605, -0.29267723062],[51.48805968744, -0.29178564676],[51.48842379284, -0.29041875942],[51.48842379284, -0.29041875942],[51.48848598405, -0.29018527932],[51.48851962502, -0.2900255772],[51.48861949673, -0.28947448871],[51.48864435925, -0.28932951814],[51.488784333, -0.28844563189],[51.48888755979, -0.2881248764],[51.48905911196, -0.28755668944],[51.48929546606, -0.28711570741],[51.48933715561, -0.2870490605],[51.48933715561, -0.2870490605],[51.48947999688, -0.28682070622],[51.48957612474, -0.28662984701],[51.48961123323, -0.28657091359],[51.48968959612, -0.2863951237],[51.48980411895, -0.2862323817],[51.49009186725, -0.28561660416],[51.49016187266, -0.28548433776],[51.49026656473, -0.28526434245],[51.49071108466, -0.28429164022],[51.49071108466, -0.28429164022],[51.49116404786, -0.28330042435],[51.49135270775, -0.2826739281],[51.49153266728, -0.28268157073],[51.49162190915, -0.28263500243],[51.49170195273, -0.28257437461],[51.49178157459, -0.28248495241],[51.49184237806, -0.28233861702],[51.49188913219, -0.2818470882],[51.49187866823, -0.28174664629],[51.49180065085, -0.28133183399],[51.49185955372, -0.28105592311],[51.49195145067, -0.28057709936],[51.49200655137, -0.28004203808],[51.49210923691, -0.27907303044],[51.49213990434, -0.27871174734],[51.49217078201, -0.27836486095],[51.49221209707, -0.27794497883],[51.49221209707, -0.27794497883],[51.49223337999, -0.27772867563],[51.49233932118, -0.2763705946],[51.49239877902, -0.275766214],[51.49239877902, -0.275766214],[51.49243320055, -0.27541630875],[51.49250307544, -0.27466459877],[51.49257811835, -0.27365339623],[51.49262292789, -0.27303227592],[51.49281741517, -0.27158439074],[51.49285039388, -0.27138146829],[51.49288927685, -0.27081196001],[51.49288927685, -0.27081196001],[51.49293913599, -0.27008162581],[51.49294302589, -0.26973574897],[51.49291995266, -0.26939089314],[51.49289730342, -0.26907483236],[51.49268332138, -0.26676368051],[51.49262970516, -0.26557007351],[51.49257967723, -0.2648892199],[51.49257967723, -0.2648892199],[51.49256215017, -0.26465069901],[51.49253373446, -0.26394591932],[51.49245976884, -0.26259463485],[51.49245784915, -0.2624650605],[51.49244867533, -0.26184598325],[51.49244376706, -0.26151484904],[51.49244376706, -0.26151484904],[51.49243949823, -0.26122690633],[51.49244378904, -0.26090982741],[51.49245772438, -0.26003057609],[51.49247206748, -0.25978514044],[51.49250075213, -0.2592942687],[51.49252558682, -0.25854424784],[51.49254014061, -0.25831320857],[51.49255335695, -0.258081421],[51.49255335695, -0.258081421],[51.49260434335, -0.25718714724],[51.49261140499, -0.25705723009],[51.49265933384, -0.25604702882],[51.49270404994, -0.2554258924],[51.49274383456, -0.25447361971],[51.49278105551, -0.25395360451],[51.49280651648, -0.25337688302],[51.49280651648, -0.25337688302],[51.49284156966, -0.25258277979],[51.49285182034, -0.2520637934],[51.49286099545, -0.25147282087],[51.49294632862, -0.25056201359],[51.4929781968, -0.25028709017],[51.49304236096, -0.24976603672],[51.49310624109, -0.24927125674],[51.49310624109, -0.24927125674],[51.49317132725, -0.24876711738],[51.49321217847, -0.248491847],[51.49326842274, -0.24804311957],[51.49332999501, -0.24734929217],[51.49333683054, -0.24720497438],[51.49335582219, -0.24674964397],[51.49335582219, -0.24674964397],[51.4933765482, -0.24625268296],[51.49340259157, -0.24558902656],[51.49343078572, -0.2450693427],[51.49344229608, -0.24463673267],[51.49349098008, -0.24368409191],[51.49353217917, -0.24283257626],[51.49353771467, -0.24260187327],[51.49355928213, -0.24224090282],[51.49355604504, -0.24202494273],[51.49356257862, -0.24126119228],[51.49355890785, -0.24101643763],[51.49353169517, -0.24026828273],[51.49353169517, -0.24026828273],[51.49349768155, -0.23933333615],[51.49348350624, -0.23898814736],[51.49346142383, -0.23871529162],[51.49339733599, -0.23804069864],[51.49332793545, -0.23761120722],[51.49322386253, -0.23714848127],[51.49322386253, -0.23714848127],[51.49316411615, -0.23688284326],[51.49309730929, -0.2366261217],[51.49304804327, -0.23633991294],[51.49294842621, -0.23569551183],[51.4929243376, -0.2352406338],[51.4929243376, -0.2352406338],[51.49292330323, -0.23522110183],[51.49290186215, -0.2349914427],[51.49282919933, -0.23434600505],[51.49322333561, -0.23424434337],[51.49371611418, -0.23412446236],[51.4938862206, -0.23407467163],[51.49406574779, -0.23405332807],[51.49444147566, -0.23392356043],[51.49446419537, -0.23304391988],[51.49447635226, -0.23261636543],[51.49447635226, -0.23261636543],[51.49448182757, -0.23242378229],[51.49447727018, -0.23212143366],[51.49449402903, -0.23144370544],[51.49447613842, -0.23085375392],[51.49447860901, -0.23042147972],[51.49447404646, -0.23011913145],[51.49447404646, -0.23011913145],[51.49446970044, -0.22983118078],[51.49442310102, -0.22912709509],[51.49439033907, -0.22814876168],[51.49439721735, -0.22741379251],[51.49380064483, -0.2266158063],[51.49361282209, -0.22613708873],[51.49361282209, -0.22613708873],[51.49356682039, -0.22601984219],[51.49310749593, -0.22478439212],[51.49302247048, -0.22451399052],[51.49305580336, -0.22433982929],[51.49307884074, -0.22407963476],[51.49310868408, -0.22367512011],[51.49292654222, -0.2235237399],[51.49289669938, -0.22392825301],[51.49283025256, -0.22429097155],[51.49263842032, -0.22468737086],[51.4916948664, -0.22354280825],[51.49187814394, -0.22317555527],[51.49254577137, -0.22395768944],[51.49254577137, -0.22395768944],[51.49283025256, -0.22429097155],[51.49289669938, -0.22392825301],[51.49292654222, -0.2235237399],[51.49307779709, -0.22341702133],[51.49303377754, -0.22288572883],[51.49305288382, -0.22236638725],[51.49307005802, -0.22112684423],[51.49319659439, -0.21998387896],[51.4932033962, -0.21983955834],[51.49323366205, -0.2194638343],[51.49324595244, -0.21908881028],[51.4932496023, -0.21903172639],[51.4932496023, -0.21903172639],[51.4934130545, -0.21647487756],[51.49356715802, -0.21596466389],[51.4936210824, -0.21578876975],[51.4936210824, -0.21578876975],[51.49377277194, -0.21529397184],[51.49386637118, -0.21494457742],[51.49410551597, -0.21411410145],[51.49426793821, -0.21356032892],[51.49441326111, -0.21306484495],[51.49451671837, -0.21277267933],[51.49470204183, -0.21230745853],[51.49470204183, -0.21230745853],[51.49481985472, -0.2120117063],[51.49489744572, -0.2117925785],[51.49505416355, -0.2114551037],[51.49561000721, -0.21016558868],[51.49582369513, -0.20943689778],[51.49591419828, -0.20888590647],[51.4959689705, -0.20835072043],[51.4960086263, -0.20800341014],[51.49606647525, -0.20766979207],[51.49615983134, -0.20730596705],[51.49625230572, -0.2068845489],[51.49664152944, -0.2058752137],[51.49681422114, -0.20540741736],[51.4969127914, -0.20514215643],[51.4969127914, -0.20514215643],[51.49715105266, -0.20450096369],[51.49729743909, -0.20407741145],[51.4974038288, -0.20376137524],[51.4974038288, -0.20376137524],[51.4975038661, -0.20346420553],[51.49782314955, -0.20258722794],[51.49790072261, -0.20236807005],[51.498012919, -0.20206110629],[51.49822832229, -0.20144752806],[51.4983236464, -0.20121326016],[51.49848212303, -0.2007539867],[51.49848212303, -0.2007539867],[51.49853027906, -0.20061442637],[51.49863348374, -0.20030780815],[51.49880983497, -0.19949404872],[51.49891148898, -0.19908663532],[51.49903943913, -0.19863496097],[51.49909969419, -0.19845969565],[51.49927191323, -0.19796304902],[51.49943580703, -0.19750994979],[51.49951447703, -0.19736277003],[51.49960014175, -0.19708564511],[51.49977247803, -0.19659149835],[51.49977247803, -0.19659149835],[51.49996187539, -0.19604842041],[51.50021230837, -0.19537577199],[51.50039327946, -0.19486434765],[51.50054795236, -0.19439718239],[51.50063147985, -0.19416718771],[51.50063147985, -0.19416718771],[51.50089301862, -0.19344702169],[51.50097933941, -0.19321307912],[51.50124861741, -0.19259728681],[51.50136977469, -0.19228992137],[51.5016388257, -0.19165971894],[51.50188291116, -0.19116017279],[51.50199574398, -0.19089635402],[51.5021189959, -0.19014223454],[51.50219254462, -0.18966384158],[51.50234452831, -0.18902384436],[51.50237647355, -0.18876322465],[51.50237091341, -0.18840323221],[51.50235551997, -0.18825436033],[51.50235551997, -0.18825436033],[51.5022863365, -0.1875853023],[51.50225425702, -0.18725517997],[51.50222195401, -0.18691065849],[51.50212949332, -0.18616508913],[51.50207000352, -0.18580724055],[51.50195933913, -0.18504799062],[51.5018632176, -0.18456367735],[51.5018632176, -0.18456367735],[51.50180328927, -0.18426173149],[51.50174624636, -0.18406228217],[51.50167776326, -0.18370479679],[51.50150624696, -0.18250132279],[51.50149547477, -0.18238648535],[51.50145104555, -0.18184074006],[51.50144568752, -0.18149515564],[51.5014483204, -0.18130343707],[51.5014483204, -0.18130343707],[51.50145835521, -0.18057252394],[51.50146421456, -0.18037057516],[51.5014720844, -0.18029822046],[51.50147119071, -0.18024062308],[51.50153235954, -0.17954658966],[51.50157380261, -0.17816174314],[51.50156354629, -0.17692304002],[51.50160617336, -0.1763667839],[51.50160617336, -0.1763667839],[51.5017429474, -0.17458172945],[51.50180049507, -0.17365729478],[51.50180746376, -0.1735273409],[51.5019000637, -0.17196753186],[51.50192526656, -0.17103788626],[51.50192526656, -0.17103788626],[51.50192860897, -0.17091457589],[51.50190884056, -0.1702237641],[51.50185379079, -0.16900125621],[51.50185199227, -0.1688860612],[51.50183693457, -0.16849763843],[51.50182637358, -0.16839720318],[51.50181962633, -0.16796522235],[51.50182186435, -0.16753288121],[51.50182091398, -0.16712782869],[51.50182091398, -0.16712782869],[51.50182027482, -0.16685575109],[51.5017189044, -0.165548659],[51.50167349575, -0.16494533227],[51.50167393338, -0.16316910258],[51.50167393338, -0.16316910258],[51.50167404841, -0.16268320064],[51.50166592629, -0.16216482706],[51.50167152822, -0.16194847655],[51.50172694399, -0.1608944365],[51.50186328072, -0.16041347039],[51.5020534849, -0.15935399288],[51.50223717984, -0.15845326262],[51.50234302614, -0.15660469962],[51.50235760458, -0.15638798279],[51.50245933388, -0.15599484493],[51.50268166805, -0.15526543629],[51.5028538517, -0.15420664572],[51.50292061999, -0.15348398613],[51.50292061999, -0.15348398613],[51.50297678308, -0.15287607161],[51.50299807311, -0.15251499127],[51.50303892369, -0.15225398086],[51.50306384215, -0.15212329372],[51.50311435937, -0.15190511792],[51.50313927744, -0.15177443038],[51.50325601381, -0.1511933527],[51.50327979599, -0.15099066598],[51.50330289665, -0.15074477999],[51.50330279988, -0.15016842877],[51.50376092273, -0.14899715453],[51.50383031675, -0.14883584301],[51.50403040989, -0.14835058751],[51.50403040989, -0.14835058751],[51.50409014443, -0.14820572062],[51.5042284752, -0.14785429249],[51.50442925725, -0.14747151096],[51.50491818178, -0.14654388977],[51.50499655908, -0.14638220579],[51.50504035482, -0.14630838133],[51.50551959994, -0.14533789922],[51.50566781968, -0.14504368807],[51.50583401214, -0.14474874497],[51.50589372996, -0.14454458344],[51.50615604076, -0.14407281429],[51.50642596865, -0.1435142708],[51.50665255626, -0.14305835242],[51.50672216991, -0.14291142246],[51.50694875511, -0.14245549816],[51.50694875511, -0.14245549816],[51.50714098851, -0.14210183746],[51.50752431093, -0.14132250244],[51.50774837857, -0.14070815122],[51.507791714, -0.14060551486],[51.50803397962, -0.14000482571],[51.50816329846, -0.13965370876],[51.50819764623, -0.13955143656],[51.50826898363, -0.13933902458],[51.50826898363, -0.13933902458],[51.50840373098, -0.13893780016],[51.50843762106, -0.13880672447],[51.50861719896, -0.13822298313],[51.50873661104, -0.13781461798],[51.50879654522, -0.13762483593],[51.50897680338, -0.13708428955],[51.50906232377, -0.1368069974],[51.50908768233, -0.13670508774],[51.50925572211, -0.13619348546],[51.50925572211, -0.13619348546],[51.50937074103, -0.1358433007],[51.5094140721, -0.13574065615],[51.50945648737, -0.13558040539],[51.50967245365, -0.1350239738],[51.50974045379, -0.13477621091],[51.50984943911, -0.13484381454],[51.50995636316, -0.1347818036],[51.51011422956, -0.13453036792],[51.51002395632, -0.13394320319],[51.5100961279, -0.13339263412],[51.50993877003, -0.13311084572],[51.50974661115, -0.1329025368],[51.50968232884, -0.13281869933],[51.50965733006, -0.13279420354],[51.50965733006, -0.13279420354],[51.50952703333, -0.13266652896],[51.50924363106, -0.13237549018],[51.50883395601, -0.13206079821],[51.50846875468, -0.13171547141],[51.50808626736, -0.13141408857],[51.50769433368, -0.13108427662],[51.5076344804, -0.13015005748],[51.50761421105, -0.13000678455],[51.50757229389, -0.12963383392],[51.50756518671, -0.12956509332]]",
            "stopPoints": [
             {
              "$type": "Tfl.Api.Presentation.Entities.Identifier, Tfl.Api.Presentation.Entities",
              "id": "490G00012176",
              "name": "Nene Road",
              "routeType": "Unknown",
              "status": "Unknown",
              "type": "StopPoint",
              "uri": "/StopPoint/490G00012176"
             },
             {
              "$type": "Tfl.Api.Presentation.Entities.Identifier, Tfl.Api.Presentation.Entities",
              "id": "490G00004139",
              "name": "Bolton's Lane",
              "routeType": "Unknown",
              "status": "Unknown",
              "type": "StopPoint",
              "uri": "/StopPoint/490G00004139"
             },
             {
              "$type": "Tfl.Api.Presentation.Entities.Identifier, Tfl.Api.Presentation.Entities",
              "id": "490G00010251",
              "name": "New Road",
              "routeType": "Unknown",
              "status": "Unknown",
              "type": "StopPoint",
              "uri": "/StopPoint/490G00010251"
             },
             {
              "$type": "Tfl.Api.Presentation.Entities.Identifier, Tfl.Api.Presentation.Entities",
              "id": "490G00007811",
              "name": "Harlington Corner",
              "routeType": "Unknown",
              "status": "Unknown",
              "type": "StopPoint",
              "uri": "/StopPoint/490G00007811"
             },
             {
              "$type": "Tfl.Api.Presentation.Entities.Identifier, Tfl.Api.Presentation.Entities",
              "id": "490G00015397",
              "name": "Nobel Drive",
              "routeType": "Unknown",
              "status": "Unknown",
              "type": "StopPoint",
              "uri": "/StopPoint/490G00015397"
             },
             {
              "$type": "Tfl.Api.Presentation.Entities.Identifier, Tfl.Api.Presentation.Entities",
              "id": "490G00010677",
              "name": "Oxford Avenue",
              "routeType": "Unknown",
              "status": "Unknown",
              "type": "StopPoint",
              "uri": "/StopPoint/490G00010677"
             },
             {
              "$type": "Tfl.Api.Presentation.Entities.Identifier, Tfl.Api.Presentation.Entities",
              "id": "490G00013596",
              "name": "Craneswater",
              "routeType": "Unknown",
              "status": "Unknown",
              "type": "StopPoint",
              "uri": "/StopPoint/490G00013596"
             },
             {
              "$type": "Tfl.Api.Presentation.Entities.Identifier, Tfl.Api.Presentation.Entities",
              "id": "490G00005704",
              "name": "Waye Avenue",
              "routeType": "Unknown",
              "status": "Unknown",
              "type": "StopPoint",
              "uri": "/StopPoint/490G00005704"
             },
             {
              "$type": "Tfl.Api.Presentation.Entities.Identifier, Tfl.Api.Presentation.Entities",
              "id": "490G00013235",
              "name": "The Avenue",
              "routeType": "Unknown",
              "status": "Unknown",
              "type": "StopPoint",
              "uri": "/StopPoint/490G00013235"
             },
             {
              "$type": "Tfl.Api.Presentation.Entities.Identifier, Tfl.Api.Presentation.Entities",
              "id": "490G00013495",
              "name": "The Parkway",
              "routeType": "Unknown",
              "status": "Unknown",
              "type": "StopPoint",
              "uri": "/StopPoint/490G00013495"
             },
             {
              "$type": "Tfl.Api.Presentation.Entities.Identifier, Tfl.Api.Presentation.Entities",
              "id": "490G00011470",
              "name": "Rectory Road",
              "routeType": "Unknown",
              "status": "Unknown",
              "type": "StopPoint",
              "uri": "/StopPoint/490G00011470"
             },
             {
              "$type": "Tfl.Api.Presentation.Entities.Identifier, Tfl.Api.Presentation.Entities",
              "id": "490G00015462",
              "name": "Henlys Roundabout",
              "routeType": "Unknown",
              "status": "Unknown",
              "type": "StopPoint",
              "uri": "/StopPoint/490G00015462"
             },
             {
              "$type": "Tfl.Api.Presentation.Entities.Identifier, Tfl.Api.Presentation.Entities",
              "id": "490G000040",
              "name": "Great West Road / Renfrew Road",
              "routeType": "Unknown",
              "status": "Unknown",
              "type": "StopPoint",
              "uri": "/StopPoint/490G000040"
             },
             {
              "$type": "Tfl.Api.Presentation.Entities.Identifier, Tfl.Api.Presentation.Entities",
              "id": "490G00118B",
              "name": "Hounslow West Station",
              "routeType": "Unknown",
              "status": "Unknown",
              "type": "StopPoint",
              "uri": "/StopPoint/490G00118B"
             },
             {
              "$type": "Tfl.Api.Presentation.Entities.Identifier, Tfl.Api.Presentation.Entities",
              "id": "490G00012458",
              "name": "St Paul's Church",
              "routeType": "Unknown",
              "status": "Unknown",
              "type": "StopPoint",
              "uri": "/StopPoint/490G00012458"
             },
             {
              "$type": "Tfl.Api.Presentation.Entities.Identifier, Tfl.Api.Presentation.Entities",
              "id": "490G00006406",
              "name": "Wellington Road North",
              "routeType": "Unknown",
              "status": "Unknown",
              "type": "StopPoint",
              "uri": "/StopPoint/490G00006406"
             },
             {
              "$type": "Tfl.Api.Presentation.Entities.Identifier, Tfl.Api.Presentation.Entities",
              "id": "490G00012454",
              "name": "St Michael & St Martin Church",
              "routeType": "Unknown",
              "status": "Unknown",
              "type": "StopPoint",
              "uri": "/StopPoint/490G00012454"
             },
             {
              "$type": "Tfl.Api.Presentation.Entities.Identifier, Tfl.Api.Presentation.Entities",
              "id": "490G00013259",
              "name": "The Bell",
              "routeType": "Unknown",
              "status": "Unknown",
              "type": "StopPoint",
              "uri": "/StopPoint/490G00013259"
             },
             {
              "$type": "Tfl.Api.Presentation.Entities.Identifier, Tfl.Api.Presentation.Entities",
              "id": "490G00013777",
              "name": "Treaty Centre",
              "routeType": "Unknown",
              "status": "Unknown",
              "type": "StopPoint",
              "uri": "/StopPoint/490G00013777"
             },
             {
              "$type": "Tfl.Api.Presentation.Entities.Identifier, Tfl.Api.Presentation.Entities",
              "id": "490G00008399",
              "name": "Hounslow High Street",
              "routeType": "Unknown",
              "status": "Unknown",
              "type": "StopPoint",
              "uri": "/StopPoint/490G00008399"
             },
             {
              "$type": "Tfl.Api.Presentation.Entities.Identifier, Tfl.Api.Presentation.Entities",
              "id": "490G000601",
              "name": "Hounslow Bus Station",
              "routeType": "Unknown",
              "status": "Unknown",
              "type": "StopPoint",
              "uri": "/StopPoint/490G000601"
             },
             {
              "$type": "Tfl.Api.Presentation.Entities.Identifier, Tfl.Api.Presentation.Entities",
              "id": "490G00004327",
              "name": "Bridge Road",
              "routeType": "Unknown",
              "status": "Unknown",
              "type": "StopPoint",
              "uri": "/StopPoint/490G00004327"
             },
             {
              "$type": "Tfl.Api.Presentation.Entities.Identifier, Tfl.Api.Presentation.Entities",
              "id": "490G00012599",
              "name": "Star Road",
              "routeType": "Unknown",
              "status": "Unknown",
              "type": "StopPoint",
              "uri": "/StopPoint/490G00012599"
             },
             {
              "$type": "Tfl.Api.Presentation.Entities.Identifier, Tfl.Api.Presentation.Entities",
              "id": "490G00013620",
              "name": "Thornbury Road",
              "routeType": "Unknown",
              "status": "Unknown",
              "type": "StopPoint",
              "uri": "/StopPoint/490G00013620"
             },
             {
              "$type": "Tfl.Api.Presentation.Entities.Identifier, Tfl.Api.Presentation.Entities",
              "id": "490G00008510",
              "name": "West Thames College",
              "routeType": "Unknown",
              "status": "Unknown",
              "type": "StopPoint",
              "uri": "/StopPoint/490G00008510"
             },
             {
              "$type": "Tfl.Api.Presentation.Entities.Identifier, Tfl.Api.Presentation.Entities",
              "id": "490G01158B",
              "name": "Isleworth Station",
              "routeType": "Unknown",
              "status": "Unknown",
              "type": "StopPoint",
              "uri": "/StopPoint/490G01158B"
             },
             {
              "$type": "Tfl.Api.Presentation.Entities.Identifier, Tfl.Api.Presentation.Entities",
              "id": "490G00009185",
              "name": "Linkfield Road",
              "routeType": "Unknown",
              "status": "Unknown",
              "type": "StopPoint",
              "uri": "/StopPoint/490G00009185"
             },
             {
              "$type": "Tfl.Api.Presentation.Entities.Identifier, Tfl.Api.Presentation.Entities",
              "id": "490G00014874",
              "name": "Wood Lane",
              "routeType": "Unknown",
              "status": "Unknown",
              "type": "StopPoint",
              "uri": "/StopPoint/490G00014874"
             },
             {
              "$type": "Tfl.Api.Presentation.Entities.Identifier, Tfl.Api.Presentation.Entities",
              "id": "490G00007873",
              "name": "Turnpike Way",
              "routeType": "Unknown",
              "status": "Unknown",
              "type": "StopPoint",
              "uri": "/StopPoint/490G00007873"
             },
             {
              "$type": "Tfl.Api.Presentation.Entities.Identifier, Tfl.Api.Presentation.Entities",
              "id": "490G00004635",
              "name": "The Green School",
              "routeType": "Unknown",
              "status": "Unknown",
              "type": "StopPoint",
              "uri": "/StopPoint/490G00004635"
             },
             {
              "$type": "Tfl.Api.Presentation.Entities.Identifier, Tfl.Api.Presentation.Entities",
              "id": "490G00015029",
              "name": "Busch Corner",
              "routeType": "Unknown",
              "status": "Unknown",
              "type": "StopPoint",
              "uri": "/StopPoint/490G00015029"
             },
             {
              "$type": "Tfl.Api.Presentation.Entities.Identifier, Tfl.Api.Presentation.Entities",
              "id": "490G00013141",
              "name": "Syon Lane",
              "routeType": "Unknown",
              "status": "Unknown",
              "type": "StopPoint",
              "uri": "/StopPoint/490G00013141"
             },
             {
              "$type": "Tfl.Api.Presentation.Entities.Identifier, Tfl.Api.Presentation.Entities",
              "id": "490G00003804",
              "name": "Beech Avenue",
              "routeType": "Unknown",
              "status": "Unknown",
              "type": "StopPoint",
              "uri": "/StopPoint/490G00003804"
             },
             {
              "$type": "Tfl.Api.Presentation.Entities.Identifier, Tfl.Api.Presentation.Entities",
              "id": "490G00004296",
              "name": "Brent Lea",
              "routeType": "Unknown",
              "status": "Unknown",
              "type": "StopPoint",
              "uri": "/StopPoint/490G00004296"
             },
             {
              "$type": "Tfl.Api.Presentation.Entities.Identifier, Tfl.Api.Presentation.Entities",
              "id": "490G00004292",
              "name": "Market Place",
              "routeType": "Unknown",
              "status": "Unknown",
              "type": "StopPoint",
              "uri": "/StopPoint/490G00004292"
             },
             {
              "$type": "Tfl.Api.Presentation.Entities.Identifier, Tfl.Api.Presentation.Entities",
              "id": "490G00004289",
              "name": "Brentford County Court",
              "routeType": "Unknown",
              "status": "Unknown",
              "type": "StopPoint",
              "uri": "/StopPoint/490G00004289"
             },
             {
              "$type": "Tfl.Api.Presentation.Entities.Identifier, Tfl.Api.Presentation.Entities",
              "id": "490G00006297",
              "name": "Watermans Centre",
              "routeType": "Unknown",
              "status": "Unknown",
              "type": "StopPoint",
              "uri": "/StopPoint/490G00006297"
             },
             {
              "$type": "Tfl.Api.Presentation.Entities.Identifier, Tfl.Api.Presentation.Entities",
              "id": "490G00004293",
              "name": "The Musical Museum",
              "routeType": "Unknown",
              "status": "Unknown",
              "type": "StopPoint",
              "uri": "/StopPoint/490G00004293"
             },
             {
              "$type": "Tfl.Api.Presentation.Entities.Identifier, Tfl.Api.Presentation.Entities",
              "id": "490G00008690",
              "name": "London Museum Of Water and Steam",
              "routeType": "Unknown",
              "status": "Unknown",
              "type": "StopPoint",
              "uri": "/StopPoint/490G00008690"
             },
             {
              "$type": "Tfl.Api.Presentation.Entities.Identifier, Tfl.Api.Presentation.Entities",
              "id": "490G01167S",
              "name": "Kew Bridge Station",
              "routeType": "Unknown",
              "status": "Unknown",
              "type": "StopPoint",
              "uri": "/StopPoint/490G01167S"
             },
             {
              "$type": "Tfl.Api.Presentation.Entities.Identifier, Tfl.Api.Presentation.Entities",
              "id": "490G00004290",
              "name": "Brentford Fountain Leisure Centre",
              "routeType": "Unknown",
              "status": "Unknown",
              "type": "StopPoint",
              "uri": "/StopPoint/490G00004290"
             },
             {
              "$type": "Tfl.Api.Presentation.Entities.Identifier, Tfl.Api.Presentation.Entities",
              "id": "490G000750",
              "name": "Thorney Hedge Road",
              "routeType": "Unknown",
              "status": "Unknown",
              "type": "StopPoint",
              "uri": "/StopPoint/490G000750"
             },
             {
              "$type": "Tfl.Api.Presentation.Entities.Identifier, Tfl.Api.Presentation.Entities",
              "id": "490G00094B",
              "name": "Gunnersbury Station",
              "routeType": "Unknown",
              "status": "Unknown",
              "type": "StopPoint",
              "uri": "/StopPoint/490G00094B"
             },
             {
              "$type": "Tfl.Api.Presentation.Entities.Identifier, Tfl.Api.Presentation.Entities",
              "id": "490G00005211",
              "name": "Chiswick Road",
              "routeType": "Unknown",
              "status": "Unknown",
              "type": "StopPoint",
              "uri": "/StopPoint/490G00005211"
             },
             {
              "$type": "Tfl.Api.Presentation.Entities.Identifier, Tfl.Api.Presentation.Entities",
              "id": "490G000807",
              "name": "Turnham Green Church",
              "routeType": "Unknown",
              "status": "Unknown",
              "type": "StopPoint",
              "uri": "/StopPoint/490G000807"
             },
             {
              "$type": "Tfl.Api.Presentation.Entities.Identifier, Tfl.Api.Presentation.Entities",
              "id": "490G00005423",
              "name": "Clifton Gardens",
              "routeType": "Unknown",
              "status": "Unknown",
              "type": "StopPoint",
              "uri": "/StopPoint/490G00005423"
             },
             {
              "$type": "Tfl.Api.Presentation.Entities.Identifier, Tfl.Api.Presentation.Entities",
              "id": "490G00005210",
              "name": "Chiswick Police Station",
              "routeType": "Unknown",
              "status": "Unknown",
              "type": "StopPoint",
              "uri": "/StopPoint/490G00005210"
             },
             {
              "$type": "Tfl.Api.Presentation.Entities.Identifier, Tfl.Api.Presentation.Entities",
              "id": "490G00013850",
              "name": "Chiswick Lane",
              "routeType": "Unknown",
              "status": "Unknown",
              "type": "StopPoint",
              "uri": "/StopPoint/490G00013850"
             },
             {
              "$type": "Tfl.Api.Presentation.Entities.Identifier, Tfl.Api.Presentation.Entities",
              "id": "490G00012521",
              "name": "Stamford Brook Bus Garage",
              "routeType": "Unknown",
              "status": "Unknown",
              "type": "StopPoint",
              "uri": "/StopPoint/490G00012521"
             },
             {
              "$type": "Tfl.Api.Presentation.Entities.Identifier, Tfl.Api.Presentation.Entities",
              "id": "490G000535",
              "name": "Goldhawk Road / Young's Corner",
              "routeType": "Unknown",
              "status": "Unknown",
              "type": "StopPoint",
              "uri": "/StopPoint/490G000535"
             },
             {
              "$type": "Tfl.Api.Presentation.Entities.Identifier, Tfl.Api.Presentation.Entities",
              "id": "490G00012533",
              "name": "Ravenscourt Park",
              "routeType": "Unknown",
              "status": "Unknown",
              "type": "StopPoint",
              "uri": "/StopPoint/490G00012533"
             },
             {
              "$type": "Tfl.Api.Presentation.Entities.Identifier, Tfl.Api.Presentation.Entities",
              "id": "490G00188A",
              "name": "Ravenscourt Park Station",
              "routeType": "Unknown",
              "status": "Unknown",
              "type": "StopPoint",
              "uri": "/StopPoint/490G00188A"
             },
             {
              "$type": "Tfl.Api.Presentation.Entities.Identifier, Tfl.Api.Presentation.Entities",
              "id": "490G00005937",
              "name": "Dalling Road",
              "routeType": "Unknown",
              "status": "Unknown",
              "type": "StopPoint",
              "uri": "/StopPoint/490G00005937"
             },
             {
              "$type": "Tfl.Api.Presentation.Entities.Identifier, Tfl.Api.Presentation.Entities",
              "id": "490G00015588",
              "name": "Lamington Street",
              "routeType": "Unknown",
              "status": "Unknown",
              "type": "StopPoint",
              "uri": "/StopPoint/490G00015588"
             },
             {
              "$type": "Tfl.Api.Presentation.Entities.Identifier, Tfl.Api.Presentation.Entities",
              "id": "490G00007239",
              "name": "Iffley Road",
              "routeType": "Unknown",
              "status": "Unknown",
              "type": "StopPoint",
              "uri": "/StopPoint/490G00007239"
             },
             {
              "$type": "Tfl.Api.Presentation.Entities.Identifier, Tfl.Api.Presentation.Entities",
              "id": "490G00097T",
              "name": "Hammersmith Stn / H&C and Circle Lines",
              "routeType": "Unknown",
              "status": "Unknown",
              "type": "StopPoint",
              "uri": "/StopPoint/490G00097T"
             },
             {
              "$type": "Tfl.Api.Presentation.Entities.Identifier, Tfl.Api.Presentation.Entities",
              "id": "490G000565",
              "name": "Hammersmith Bus Station",
              "routeType": "Unknown",
              "status": "Unknown",
              "type": "StopPoint",
              "uri": "/StopPoint/490G000565"
             },
             {
              "$type": "Tfl.Api.Presentation.Entities.Identifier, Tfl.Api.Presentation.Entities",
              "id": "490G00008997",
              "name": "Latymer Court",
              "routeType": "Unknown",
              "status": "Unknown",
              "type": "StopPoint",
              "uri": "/StopPoint/490G00008997"
             },
             {
              "$type": "Tfl.Api.Presentation.Entities.Identifier, Tfl.Api.Presentation.Entities",
              "id": "490G00004455",
              "name": "Brook Green",
              "routeType": "Unknown",
              "status": "Unknown",
              "type": "StopPoint",
              "uri": "/StopPoint/490G00004455"
             },
             {
              "$type": "Tfl.Api.Presentation.Entities.Identifier, Tfl.Api.Presentation.Entities",
              "id": "490G00010357",
              "name": "North End Road",
              "routeType": "Unknown",
              "status": "Unknown",
              "type": "StopPoint",
              "uri": "/StopPoint/490G00010357"
             },
             {
              "$type": "Tfl.Api.Presentation.Entities.Identifier, Tfl.Api.Presentation.Entities",
              "id": "490G00008287",
              "name": "Holland Road",
              "routeType": "Unknown",
              "status": "Unknown",
              "type": "StopPoint",
              "uri": "/StopPoint/490G00008287"
             },
             {
              "$type": "Tfl.Api.Presentation.Entities.Identifier, Tfl.Api.Presentation.Entities",
              "id": "490G00003106",
              "name": "Warwick Gardens",
              "routeType": "Unknown",
              "status": "Unknown",
              "type": "StopPoint",
              "uri": "/StopPoint/490G00003106"
             },
             {
              "$type": "Tfl.Api.Presentation.Entities.Identifier, Tfl.Api.Presentation.Entities",
              "id": "490G00005528",
              "name": "The Design Museum",
              "routeType": "Unknown",
              "status": "Unknown",
              "type": "StopPoint",
              "uri": "/StopPoint/490G00005528"
             },
             {
              "$type": "Tfl.Api.Presentation.Entities.Identifier, Tfl.Api.Presentation.Entities",
              "id": "490G00010984",
              "name": "Phillimore Gardens",
              "routeType": "Unknown",
              "status": "Unknown",
              "type": "StopPoint",
              "uri": "/StopPoint/490G00010984"
             },
             {
              "$type": "Tfl.Api.Presentation.Entities.Identifier, Tfl.Api.Presentation.Entities",
              "id": "490G00110R",
              "name": "High Street Kensington Station",
              "routeType": "Unknown",
              "status": "Unknown",
              "type": "StopPoint",
              "uri": "/StopPoint/490G00110R"
             },
             {
              "$type": "Tfl.Api.Presentation.Entities.Identifier, Tfl.Api.Presentation.Entities",
              "id": "490G00011761",
              "name": "Kensington Palace",
              "routeType": "Unknown",
              "status": "Unknown",
              "type": "StopPoint",
              "uri": "/StopPoint/490G00011761"
             },
             {
              "$type": "Tfl.Api.Presentation.Entities.Identifier, Tfl.Api.Presentation.Entities",
              "id": "490G00010728",
              "name": "Palace Gate",
              "routeType": "Unknown",
              "status": "Unknown",
              "type": "StopPoint",
              "uri": "/StopPoint/490G00010728"
             },
             {
              "$type": "Tfl.Api.Presentation.Entities.Identifier, Tfl.Api.Presentation.Entities",
              "id": "490G00019923",
              "name": "Queen's Gate",
              "routeType": "Unknown",
              "status": "Unknown",
              "type": "StopPoint",
              "uri": "/StopPoint/490G00019923"
             },
             {
              "$type": "Tfl.Api.Presentation.Entities.Identifier, Tfl.Api.Presentation.Entities",
              "id": "490G00011750",
              "name": "Royal Albert Hall",
              "routeType": "Unknown",
              "status": "Unknown",
              "type": "StopPoint",
              "uri": "/StopPoint/490G00011750"
             },
             {
              "$type": "Tfl.Api.Presentation.Entities.Identifier, Tfl.Api.Presentation.Entities",
              "id": "490G00011198",
              "name": "Prince Of Wales Gate",
              "routeType": "Unknown",
              "status": "Unknown",
              "type": "StopPoint",
              "uri": "/StopPoint/490G00011198"
             },
             {
              "$type": "Tfl.Api.Presentation.Entities.Identifier, Tfl.Api.Presentation.Entities",
              "id": "490G00011822",
              "name": "Rutland Gardens",
              "routeType": "Unknown",
              "status": "Unknown",
              "type": "StopPoint",
              "uri": "/StopPoint/490G00011822"
             },
             {
              "$type": "Tfl.Api.Presentation.Entities.Identifier, Tfl.Api.Presentation.Entities",
              "id": "490G000575",
              "name": "Knightsbridge Station  / Harrods",
              "routeType": "Unknown",
              "status": "Unknown",
              "type": "StopPoint",
              "uri": "/StopPoint/490G000575"
             },
             {
              "$type": "Tfl.Api.Presentation.Entities.Identifier, Tfl.Api.Presentation.Entities",
              "id": "490G00119A",
              "name": "Hyde Park Corner Station",
              "routeType": "Unknown",
              "status": "Unknown",
              "type": "StopPoint",
              "uri": "/StopPoint/490G00119A"
             },
             {
              "$type": "Tfl.Api.Presentation.Entities.Identifier, Tfl.Api.Presentation.Entities",
              "id": "490G00010574",
              "name": "Old Park Lane / Hard Rock Cafe",
              "routeType": "Unknown",
              "status": "Unknown",
              "type": "StopPoint",
              "uri": "/StopPoint/490G00010574"
             },
             {
              "$type": "Tfl.Api.Presentation.Entities.Identifier, Tfl.Api.Presentation.Entities",
              "id": "490G00093PE",
              "name": "Green Park Station",
              "routeType": "Unknown",
              "status": "Unknown",
              "type": "StopPoint",
              "uri": "/StopPoint/490G00093PE"
             },
             {
              "$type": "Tfl.Api.Presentation.Entities.Identifier, Tfl.Api.Presentation.Entities",
              "id": "490G00010526",
              "name": "Old Bond Street / Royal Academy",
              "routeType": "Unknown",
              "status": "Unknown",
              "type": "StopPoint",
              "uri": "/StopPoint/490G00010526"
             },
             {
              "$type": "Tfl.Api.Presentation.Entities.Identifier, Tfl.Api.Presentation.Entities",
              "id": "490G00179B",
              "name": "Piccadilly Circus",
              "routeType": "Unknown",
              "status": "Unknown",
              "type": "StopPoint",
              "uri": "/StopPoint/490G00179B"
             },
             {
              "$type": "Tfl.Api.Presentation.Entities.Identifier, Tfl.Api.Presentation.Entities",
              "id": "490G00020307",
              "name": "Haymarket / Jermyn Street",
              "routeType": "Unknown",
              "status": "Unknown",
              "type": "StopPoint",
              "uri": "/StopPoint/490G00020307"
             },
             {
              "$type": "Tfl.Api.Presentation.Entities.Identifier, Tfl.Api.Presentation.Entities",
              "id": "490G000804",
              "name": "Northumberland Avenue / Trafalgar Square",
              "routeType": "Unknown",
              "status": "Unknown",
              "type": "StopPoint",
              "uri": "/StopPoint/490G000804"
             }
            ]
           },
           "plannedWorks": [],
           "routeOptions": [
            {
             "$type": "Tfl.Api.Presentation.Entities.JourneyPlanner.RouteOption, Tfl.Api.Presentation.Entities",
             "directions": [
              "Trafalgar Square"
             ],
             "lineIdentifier": {
              "$type": "Tfl.Api.Presentation.Entities.Identifier, Tfl.Api.Presentation.Entities",
              "crowding": {
               "$type": "Tfl.Api.Presentation.Entities.Crowding, Tfl.Api.Presentation.Entities"
              },
              "id": "n9",
              "name": "N9",
              "routeType": "Unknown",
              "status": "Unknown",
              "type": "Line",
              "uri": "/Line/n9"
             },
             "name": "N9"
            }
           ]
          },
          {
           "$type": "Tfl.Api.Presentation.Entities.JourneyPlanner.Leg, Tfl.Api.Presentation.Entities",
           "arrivalPoint": {
            "$type": "Tfl.Api.Presentation.Entities.StopPoint, Tfl.Api.Presentation.Entities",
            "additionalProperties": [],
            "commonName": "Aldgate Station",
            "icsCode": "1000003",
            "lat": 51.51407906627,
            "lon": -0.07493179600000001,
            "naptanId": "490G00003N",
            "placeType": "StopPoint",
            "platformName": "R",
            "stopLetter": "R"
           },
           "arrivalTime": "2021-08-21T04:29:00",
           "departurePoint": {
            "$type": "Tfl.Api.Presentation.Entities.StopPoint, Tfl.Api.Presentation.Entities",
            "additionalProperties": [],
            "commonName": "Northumberland Avenue / Trafalgar Square",
            "icsCode": "1013767",
            "lat": 51.50764280917,
            "lon": -0.12954448446,
            "naptanId": "490G000804",
            "placeType": "StopPoint",
            "platformName": "",
            "stopLetter": "B"
           },
           "departureTime": "2021-08-21T04:05:00",
           "disruptions": [
            {
             "$type": "Tfl.Api.Presentation.Entities.Disruption, Tfl.Api.Presentation.Entities",
             "additionalInfo": "",
             "category": "PlannedWork",
             "categoryDescription": "PlannedWork",
             "created": "2021-08-20T02:48:00",
             "description": "ALDWYCH, WC1: From 19:00 on Thursday 19 August until 15:00 on Sunday 22 August, Routes 11, N11, N21, N550, N551 are diverted due to Westminster Council works. Buses towards Liverpool Street, Bexleyheath, Canning Town or Gallions Reach will not serve stops between Charing Cross Station / Trafalgar Square (F) and Ludgate Circus (E).",
             "lastUpdate": "2021-08-20T02:48:00",
             "summary": "NMCC CE21/18501/G / ALDWYCH, WC1 / ROUTES 11, N11, N21, N550, N551",
             "type": "lineInfo"
            }
           ],
           "duration": 24,
           "hasFixedLocations": true,
           "instruction": {
            "$type": "Tfl.Api.Presentation.Entities.Instruction, Tfl.Api.Presentation.Entities",
            "detailed": "N551 bus towards Gallions Reach, Shopping Park",
            "steps": [],
            "summary": "N551 bus to Aldgate Station"
           },
           "isDisrupted": true,
           "mode": {
            "$type": "Tfl.Api.Presentation.Entities.Identifier, Tfl.Api.Presentation.Entities",
            "id": "bus",
            "name": "bus",
            "routeType": "Unknown",
            "status": "Unknown",
            "type": "Mode"
           },
           "obstacles": [],
           "path": {
            "$type": "Tfl.Api.Presentation.Entities.JourneyPlanner.Path, Tfl.Api.Presentation.Entities",
            "elevation": [],
            "lineString": "[[51.50756518671, -0.12956509332],[51.50750849702, -0.12901680599],[51.50748730727, -0.12881593069],[51.50750252335, -0.12864238436],[51.5075039263, -0.12816678878],[51.50751592321, -0.12779163061],[51.50753274706, -0.12771888968],[51.50754058422, -0.12764651712],[51.50755671824, -0.12753057359],[51.50772125611, -0.12713474931],[51.50789131245, -0.12708454469],[51.50815307498, -0.12714586245],[51.50856807034, -0.1272297185],[51.50880195303, -0.12723453848],[51.50911717542, -0.12726484454],[51.50917132523, -0.12727703483],[51.50954345666, -0.12749234934],[51.50970220715, -0.12786052472],[51.50978561557, -0.12801562611],[51.51044830616, -0.12840638557],[51.51055021394, -0.12841475529],[51.51055021394, -0.12841475529],[51.51068241862, -0.12842561336],[51.51091630125, -0.12843043942],[51.51123083387, -0.12841754875],[51.51132968697, -0.12841349735],[51.51169836926, -0.12841279861],[51.51186934534, -0.12842020279],[51.51210391738, -0.12846823562],[51.51251592233, -0.12869469217],[51.51251592233, -0.12869469217],[51.51281153971, -0.12885717945],[51.51311177515, -0.12907546894],[51.51326592658, -0.12915562536],[51.51344749734, -0.12926348319],[51.51388253176, -0.12947625631],[51.51420834797, -0.12960703284],[51.51435778458, -0.12966263667],[51.51435778458, -0.12966263667],[51.51445259519, -0.12969791491],[51.5145975299, -0.12976404068],[51.51488739919, -0.12989629345],[51.51505929373, -0.12996131629],[51.51536736573, -0.13010723884],[51.51541161009, -0.13006218868],[51.51562384496, -0.12983730465],[51.51610154402, -0.12934211055],[51.51619164017, -0.12935283221],[51.51650686183, -0.12938315648],[51.51657186265, -0.12894810013],[51.51665522244, -0.12843650544],[51.51665522244, -0.12843650544],[51.51680119229, -0.12754062349],[51.51689914261, -0.12691683819],[51.51693993508, -0.12665572656],[51.51699616917, -0.12623543507],[51.51704387543, -0.12584431911],[51.51709135017, -0.12543879854],[51.51728306992, -0.12505618007],[51.51757455616, -0.124334957],[51.51757455616, -0.124334957],[51.51782803592, -0.12370775664],[51.51806191719, -0.12315042841],[51.51822666944, -0.12276890081],[51.51837390837, -0.12241691807],[51.51844303413, -0.12224111067],[51.51864280715, -0.12180048072],[51.51893820092, -0.12115411789],[51.51906976939, -0.12094690847],[51.51929765124, -0.12057717936],[51.51937576076, -0.12040099565],[51.51937091296, -0.12009850107],[51.51923149644, -0.11981596269],[51.51914047603, -0.11974764162],[51.5189222578, -0.11959807648],[51.51874897233, -0.11944666189],[51.51834088056, -0.11923285273],[51.51832276599, -0.11922723326],[51.51832276599, -0.11922723326],[51.51780766916, -0.11906744274],[51.51777768224, -0.11831917576],[51.51787994625, -0.11740690782],[51.51799118969, -0.11649426523],[51.51806948797, -0.11577035477],[51.51811692767, -0.11536481549],[51.51814752572, -0.1149854552],[51.51814752572, -0.1149854552],[51.51816941688, -0.114714035],[51.51823825431, -0.113961682],[51.51826220284, -0.11377331495],[51.5182829076, -0.11338329025],[51.51829416104, -0.11296482846],[51.51828123468, -0.11272033023],[51.51826125322, -0.11243554965],[51.51826125322, -0.11243554965],[51.51819954978, -0.11155620104],[51.51816795156, -0.11126923517],[51.51814696302, -0.11108272617],[51.51808561984, -0.11062402836],[51.51805401935, -0.11033706392],[51.51799290538, -0.1098927721],[51.5179622317, -0.10966342467],[51.51794100845, -0.10946251335],[51.51794100845, -0.10946251335],[51.51790917294, -0.10916114673],[51.51787873007, -0.10894620419],[51.51775873794, -0.1076395439],[51.51781195993, -0.10759409728],[51.5178101007, -0.10747886603],[51.5180095852, -0.10702377515],[51.51815586159, -0.10654765985],[51.51815586159, -0.10654765985],[51.51836841597, -0.10585579945],[51.51853953844, -0.1053153901],[51.51808164324, -0.10526997474],[51.51808164324, -0.10526997474],[51.51771990403, -0.10523409697],[51.51747587195, -0.10515774403],[51.51709657666, -0.10505817923],[51.5169610808, -0.10502056309],[51.5165820181, -0.10493540393],[51.51639237037, -0.10488562314],[51.51596860772, -0.10481673443],[51.51579693296, -0.10476620869],[51.51529159332, -0.10465746985],[51.51511991849, -0.10460694539],[51.51501161477, -0.10458261591],[51.51460559216, -0.10449858279],[51.51434428486, -0.10446619307],[51.51416362342, -0.10441604335],[51.51414928261, -0.10408515377],[51.51412269419, -0.10355299966],[51.51400940059, -0.10266413961],[51.5139897966, -0.10256406782],[51.51393075109, -0.10224945033],[51.51388069125, -0.10193446012],[51.51387788763, -0.10191056102],[51.51387788763, -0.10191056102],[51.51382853244, -0.10148984722],[51.5138275999, -0.10143223682],[51.5137934122, -0.10098687758],[51.51376178845, -0.10069994733],[51.51370437081, -0.1004861518],[51.51363773301, -0.10025832817],[51.51349873619, -0.10000469164],[51.51328633106, -0.09910556591],[51.51326356947, -0.09825619843],[51.51321490036, -0.09802763172],[51.51313362803, -0.09765709072],[51.51313362803, -0.09765709072],[51.51302068685, -0.09714217448],[51.51289404716, -0.09654214755],[51.51288365823, -0.09645610859],[51.51273623613, -0.09568400843],[51.51264670451, -0.09515450079],[51.51260659161, -0.0949056658],[51.51260659161, -0.0949056658],[51.5125867035, -0.09478229401],[51.51254584423, -0.09448134888],[51.51248724529, -0.09419555655],[51.51239840925, -0.09370926112],[51.51253189123, -0.09306956519],[51.51264903641, -0.09253143148],[51.51269850447, -0.09225553796],[51.51286759094, -0.09169781041],[51.51286759094, -0.09169781041],[51.51293747234, -0.09146730455],[51.51305367234, -0.09087155305],[51.51306172104, -0.09081356826],[51.5131121229, -0.09059527961],[51.51332294725, -0.0897361467],[51.51339061614, -0.08947389659],[51.51336607358, -0.08907138273],[51.51337341738, -0.08897019019],[51.51432986354, -0.08957379767],[51.51432986354, -0.08957379767],[51.51457276632, -0.08972709642],[51.51477875069, -0.08967524077],[51.51534184652, -0.08946431505],[51.51561390804, -0.08938374903],[51.51561390804, -0.08938374903],[51.51568192341, -0.08936360737],[51.51595862584, -0.08923672432],[51.5162715085, -0.08912273852],[51.51654867996, -0.08902465898],[51.51732604041, -0.08871826658],[51.51746888443, -0.08865463278],[51.51794140939, -0.08840423248],[51.51813723271, -0.08828072368],[51.51833352545, -0.08818602162],[51.5185921377, -0.08804117208],[51.5185921377, -0.08804117208],[51.5192513783, -0.08767192121],[51.51904357702, -0.08706082521],[51.51899606068, -0.08690426277],[51.51877832897, -0.08623593432],[51.51850150234, -0.08525298667],[51.51839578387, -0.08489238681],[51.51839578387, -0.08489238681],[51.51819676731, -0.08421356706],[51.51806860487, -0.08407480852],[51.51787419774, -0.08428475743],[51.5177422246, -0.08446325789],[51.51759274878, -0.08467131863],[51.51709844639, -0.08523976301],[51.51698350407, -0.08535989013],[51.51679855111, -0.08559825851],[51.51675056267, -0.08541289851],[51.51658036062, -0.08486612741],[51.51658036062, -0.08486612741],[51.51655126601, -0.08477266268],[51.51636974815, -0.08356957433],[51.51629672202, -0.08295287599],[51.51619178867, -0.08218246769],[51.51619178867, -0.08218246769],[51.51612299418, -0.08167740871],[51.51602606226, -0.08124909064],[51.51595703066, -0.0808772536],[51.51595325971, -0.08064680407],[51.51611053611, -0.08036634443],[51.51615169608, -0.08013400482],[51.51602093527, -0.07983682971],[51.51576224176, -0.0794153209],[51.51555012995, -0.07909274709],[51.51542929662, -0.07885281243],[51.51479248201, -0.07785630947],[51.51433845653, -0.07703949763],[51.51429896879, -0.07682497333],[51.51440917836, -0.07641678072],[51.51451229017, -0.07612418565],[51.51470077514, -0.07555415174],[51.51484645291, -0.07511563182],[51.51487335493, -0.07505178309],[51.51487335493, -0.07505178309],[51.51493300711, -0.07491020521],[51.51488121897, -0.07449442112],[51.51469770836, -0.07427155808],[51.51444727266, -0.07435418306],[51.51426257875, -0.07460698442],[51.51417626146, -0.07482681102],[51.51412396194, -0.07497304109]]",
            "stopPoints": [
             {
              "$type": "Tfl.Api.Presentation.Entities.Identifier, Tfl.Api.Presentation.Entities",
              "name": "Leicester Square Station",
              "routeType": "Unknown",
              "status": "Unknown",
              "type": "StopPoint",
              "uri": "/StopPoint/"
             },
             {
              "$type": "Tfl.Api.Presentation.Entities.Identifier, Tfl.Api.Presentation.Entities",
              "name": "Cambridge Circus",
              "routeType": "Unknown",
              "status": "Unknown",
              "type": "StopPoint",
              "uri": "/StopPoint/"
             },
             {
              "$type": "Tfl.Api.Presentation.Entities.Identifier, Tfl.Api.Presentation.Entities",
              "name": "Denmark Street",
              "routeType": "Unknown",
              "status": "Unknown",
              "type": "StopPoint",
              "uri": "/StopPoint/"
             },
             {
              "$type": "Tfl.Api.Presentation.Entities.Identifier, Tfl.Api.Presentation.Entities",
              "name": "New Oxford Street",
              "routeType": "Unknown",
              "status": "Unknown",
              "type": "StopPoint",
              "uri": "/StopPoint/"
             },
             {
              "$type": "Tfl.Api.Presentation.Entities.Identifier, Tfl.Api.Presentation.Entities",
              "name": "Museum Street",
              "routeType": "Unknown",
              "status": "Unknown",
              "type": "StopPoint",
              "uri": "/StopPoint/"
             },
             {
              "$type": "Tfl.Api.Presentation.Entities.Identifier, Tfl.Api.Presentation.Entities",
              "name": "Procter Street",
              "routeType": "Unknown",
              "status": "Unknown",
              "type": "StopPoint",
              "uri": "/StopPoint/"
             },
             {
              "$type": "Tfl.Api.Presentation.Entities.Identifier, Tfl.Api.Presentation.Entities",
              "name": "Brownlow Street",
              "routeType": "Unknown",
              "status": "Unknown",
              "type": "StopPoint",
              "uri": "/StopPoint/"
             },
             {
              "$type": "Tfl.Api.Presentation.Entities.Identifier, Tfl.Api.Presentation.Entities",
              "name": "Chancery Lane Station",
              "routeType": "Unknown",
              "status": "Unknown",
              "type": "StopPoint",
              "uri": "/StopPoint/"
             },
             {
              "$type": "Tfl.Api.Presentation.Entities.Identifier, Tfl.Api.Presentation.Entities",
              "name": "Holborn Circus / Fetter Lane",
              "routeType": "Unknown",
              "status": "Unknown",
              "type": "StopPoint",
              "uri": "/StopPoint/"
             },
             {
              "$type": "Tfl.Api.Presentation.Entities.Identifier, Tfl.Api.Presentation.Entities",
              "name": "Charterhouse Street",
              "routeType": "Unknown",
              "status": "Unknown",
              "type": "StopPoint",
              "uri": "/StopPoint/"
             },
             {
              "$type": "Tfl.Api.Presentation.Entities.Identifier, Tfl.Api.Presentation.Entities",
              "name": "Snow Hill",
              "routeType": "Unknown",
              "status": "Unknown",
              "type": "StopPoint",
              "uri": "/StopPoint/"
             },
             {
              "$type": "Tfl.Api.Presentation.Entities.Identifier, Tfl.Api.Presentation.Entities",
              "id": "490G00009443",
              "name": "Ludgate Hill / Old Bailey",
              "routeType": "Unknown",
              "status": "Unknown",
              "type": "StopPoint",
              "uri": "/StopPoint/490G00009443"
             },
             {
              "$type": "Tfl.Api.Presentation.Entities.Identifier, Tfl.Api.Presentation.Entities",
              "id": "490G00012873",
              "name": "St Paul's Cathedral",
              "routeType": "Unknown",
              "status": "Unknown",
              "type": "StopPoint",
              "uri": "/StopPoint/490G00012873"
             },
             {
              "$type": "Tfl.Api.Presentation.Entities.Identifier, Tfl.Api.Presentation.Entities",
              "id": "490G00143E",
              "name": "Mansion House Station",
              "routeType": "Unknown",
              "status": "Unknown",
              "type": "StopPoint",
              "uri": "/StopPoint/490G00143E"
             },
             {
              "$type": "Tfl.Api.Presentation.Entities.Identifier, Tfl.Api.Presentation.Entities",
              "id": "490G000780",
              "name": "Bank Station  / Queen Victoria Street",
              "routeType": "Unknown",
              "status": "Unknown",
              "type": "StopPoint",
              "uri": "/StopPoint/490G000780"
             },
             {
              "$type": "Tfl.Api.Presentation.Entities.Identifier, Tfl.Api.Presentation.Entities",
              "id": "490G000713",
              "name": "Bank Station  / Princes Street",
              "routeType": "Unknown",
              "status": "Unknown",
              "type": "StopPoint",
              "uri": "/StopPoint/490G000713"
             },
             {
              "$type": "Tfl.Api.Presentation.Entities.Identifier, Tfl.Api.Presentation.Entities",
              "id": "490G00009290",
              "name": "London Wall",
              "routeType": "Unknown",
              "status": "Unknown",
              "type": "StopPoint",
              "uri": "/StopPoint/490G00009290"
             },
             {
              "$type": "Tfl.Api.Presentation.Entities.Identifier, Tfl.Api.Presentation.Entities",
              "id": "490G00149L",
              "name": "Moorgate Station",
              "routeType": "Unknown",
              "status": "Unknown",
              "type": "StopPoint",
              "uri": "/StopPoint/490G00149L"
             },
             {
              "$type": "Tfl.Api.Presentation.Entities.Identifier, Tfl.Api.Presentation.Entities",
              "id": "490G000863",
              "name": "Eldon Street",
              "routeType": "Unknown",
              "status": "Unknown",
              "type": "StopPoint",
              "uri": "/StopPoint/490G000863"
             },
             {
              "$type": "Tfl.Api.Presentation.Entities.Identifier, Tfl.Api.Presentation.Entities",
              "id": "490G00003172",
              "name": "All Hallows Church",
              "routeType": "Unknown",
              "status": "Unknown",
              "type": "StopPoint",
              "uri": "/StopPoint/490G00003172"
             },
             {
              "$type": "Tfl.Api.Presentation.Entities.Identifier, Tfl.Api.Presentation.Entities",
              "id": "490G00004043",
              "name": "Wormwood Street",
              "routeType": "Unknown",
              "status": "Unknown",
              "type": "StopPoint",
              "uri": "/StopPoint/490G00004043"
             },
             {
              "$type": "Tfl.Api.Presentation.Entities.Identifier, Tfl.Api.Presentation.Entities",
              "id": "490G00019038",
              "name": "St Botolph Street",
              "routeType": "Unknown",
              "status": "Unknown",
              "type": "StopPoint",
              "uri": "/StopPoint/490G00019038"
             },
             {
              "$type": "Tfl.Api.Presentation.Entities.Identifier, Tfl.Api.Presentation.Entities",
              "id": "490G00003N",
              "name": "Aldgate Station",
              "routeType": "Unknown",
              "status": "Unknown",
              "type": "StopPoint",
              "uri": "/StopPoint/490G00003N"
             }
            ]
           },
           "plannedWorks": [],
           "routeOptions": [
            {
             "$type": "Tfl.Api.Presentation.Entities.JourneyPlanner.RouteOption, Tfl.Api.Presentation.Entities",
             "directions": [
              "Gallions Reach, Shopping Park"
             ],
             "lineIdentifier": {
              "$type": "Tfl.Api.Presentation.Entities.Identifier, Tfl.Api.Presentation.Entities",
              "crowding": {
               "$type": "Tfl.Api.Presentation.Entities.Crowding, Tfl.Api.Presentation.Entities"
              },
              "id": "n551",
              "name": "N551",
              "routeType": "Unknown",
              "status": "Unknown",
              "type": "Line",
              "uri": "/Line/n551"
             },
             "name": "N551"
            }
           ]
          },
          {
           "$type": "Tfl.Api.Presentation.Entities.JourneyPlanner.Leg, Tfl.Api.Presentation.Entities",
           "arrivalPoint": {
            "$type": "Tfl.Api.Presentation.Entities.StopPoint, Tfl.Api.Presentation.Entities",
            "additionalProperties": [],
            "commonName": "Tower Bridge / City Hall",
            "icsCode": "1013744",
            "lat": 51.503273636239996,
            "lon": -0.07679929902999999,
            "naptanId": "490G00013744",
            "placeType": "StopPoint",
            "platformName": "P",
            "stopLetter": "P"
           },
           "arrivalTime": "2021-08-21T04:40:00",
           "departurePoint": {
            "$type": "Tfl.Api.Presentation.Entities.StopPoint, Tfl.Api.Presentation.Entities",
            "additionalProperties": [],
            "commonName": "Aldgate Station",
            "icsCode": "1000003",
            "lat": 51.51407906627,
            "lon": -0.07493179600000001,
            "naptanId": "490G00003N",
            "placeType": "StopPoint",
            "platformName": "R",
            "stopLetter": "R"
           },
           "departureTime": "2021-08-21T04:35:00",
           "disruptions": [
            {
             "$type": "Tfl.Api.Presentation.Entities.Disruption, Tfl.Api.Presentation.Entities",
             "additionalInfo": "Replacement buses operate&nbsp;<br /><br />Service DL6:&nbsp;Tower Hill - Aldgate and Aldgate East - Whitechapel - Stepney Green - Mile End - Bow Road - Bromley-by-Bow - Canning Town (for Jubilee line and DLR connections to/from West Ham) - Barking.<br /><br />Service DL7: Canning Town (for Jubilee line and DLR connections to/from West Ham) - Plaistow - Upton Park - East Ham - Barking - Upney - Becontree - Dagenham Heathway - Dagenham East<br /><br />",
             "category": "PlannedWork",
             "categoryDescription": "PlannedWork",
             "created": "2021-06-23T11:46:00",
             "description": "HAMMERSMITH & CITY LINE: Saturday 21 and Sunday 22 August, no service on the whole line. Replacement buses operate between Tower Hill and Barking.",
             "lastUpdate": "2021-06-23T11:46:00",
             "summary": "",
             "type": "routeBlocking"
            }
           ],
           "duration": 5,
           "hasFixedLocations": true,
           "instruction": {
            "$type": "Tfl.Api.Presentation.Entities.Instruction, Tfl.Api.Presentation.Entities",
            "detailed": "343 bus towards New Cross Gate",
            "steps": [],
            "summary": "343 bus to Tower Bridge / City Hall"
           },
           "isDisrupted": true,
           "mode": {
            "$type": "Tfl.Api.Presentation.Entities.Identifier, Tfl.Api.Presentation.Entities",
            "id": "bus",
            "name": "bus",
            "routeType": "Unknown",
            "status": "Unknown",
            "type": "Mode"
           },
           "obstacles": [],
           "path": {
            "$type": "Tfl.Api.Presentation.Entities.JourneyPlanner.Path, Tfl.Api.Presentation.Entities",
            "elevation": [],
            "lineString": "[[51.51412396194, -0.07497304109],[51.51405588926, -0.07516337178],[51.51390122485, -0.07560226264],[51.51382389201, -0.07582170696],[51.51378108665, -0.07595322173],[51.51357392762, -0.07593312636],[51.51296711518, -0.07567045429],[51.51274464258, -0.07562062377],[51.51274464258, -0.07562062377],[51.5126963426, -0.07560980536],[51.51257881087, -0.07557152271],[51.51209165641, -0.07547675883],[51.51195638823, -0.07545363626],[51.51161254289, -0.07532401136],[51.51138693829, -0.07527587384],[51.51114738359, -0.07492568336],[51.51117694599, -0.07453532647],[51.51118948028, -0.07420333323],[51.5111970464, -0.07356890756],[51.51115116421, -0.07296556013],[51.51108565671, -0.07280979821],[51.51070728314, -0.07276812091],[51.51044644213, -0.07276471778],[51.51009928704, -0.07298112481],[51.50987009331, -0.0731965713],[51.50987009331, -0.0731965713],[51.50958564902, -0.07346395079],[51.5093096738, -0.07363411306],[51.50915761522, -0.07368375973],[51.50906822463, -0.07371635194],[51.50889890283, -0.07380995856],[51.50857823169, -0.0739964117],[51.50844390916, -0.07403089771],[51.50782550511, -0.07415784955],[51.50715365551, -0.07431587169],[51.50694815118, -0.07439658728],[51.50688571945, -0.07442803979],[51.50651207448, -0.07467435327],[51.50548951361, -0.07538030437],[51.50495576545, -0.07573421435],[51.50430637416, -0.07616503347],[51.50427090104, -0.0761953462],[51.50419096839, -0.07625634998],[51.50346140588, -0.07673375702],[51.50328875357, -0.0768547043]]",
            "stopPoints": [
             {
              "$type": "Tfl.Api.Presentation.Entities.Identifier, Tfl.Api.Presentation.Entities",
              "id": "490G000477",
              "name": "Minories",
              "routeType": "Unknown",
              "status": "Unknown",
              "type": "StopPoint",
              "uri": "/StopPoint/490G000477"
             },
             {
              "$type": "Tfl.Api.Presentation.Entities.Identifier, Tfl.Api.Presentation.Entities",
              "id": "490G000857",
              "name": "Tower Hill / Tower Gateway Station",
              "routeType": "Unknown",
              "status": "Unknown",
              "type": "StopPoint",
              "uri": "/StopPoint/490G000857"
             },
             {
              "$type": "Tfl.Api.Presentation.Entities.Identifier, Tfl.Api.Presentation.Entities",
              "id": "490G00013744",
              "name": "Tower Bridge / City Hall",
              "routeType": "Unknown",
              "status": "Unknown",
              "type": "StopPoint",
              "uri": "/StopPoint/490G00013744"
             }
            ]
           },
           "plannedWorks": [],
           "routeOptions": [
            {
             "$type": "Tfl.Api.Presentation.Entities.JourneyPlanner.RouteOption, Tfl.Api.Presentation.Entities",
             "directions": [
              "New Cross Gate"
             ],
             "lineIdentifier": {
              "$type": "Tfl.Api.Presentation.Entities.Identifier, Tfl.Api.Presentation.Entities",
              "crowding": {
               "$type": "Tfl.Api.Presentation.Entities.Crowding, Tfl.Api.Presentation.Entities"
              },
              "id": "343",
              "name": "343",
              "routeType": "Unknown",
              "status": "Unknown",
              "type": "Line",
              "uri": "/Line/343"
             },
             "name": "343"
            }
           ]
          }
         ],
         "startDateTime": "2021-08-21T02:30:00"
        },
        {
         "$type": "Tfl.Api.Presentation.Entities.JourneyPlanner.Journey, Tfl.Api.Presentation.Entities",
         "arrivalDateTime": "2021-08-21T05:00:00",
         "duration": 130,
         "legs": [
          {
           "$type": "Tfl.Api.Presentation.Entities.JourneyPlanner.Leg, Tfl.Api.Presentation.Entities",
           "arrivalPoint": {
            "$type": "Tfl.Api.Presentation.Entities.StopPoint, Tfl.Api.Presentation.Entities",
            "additionalProperties": [],
            "commonName": "Heathrow Central Bus Stn (Rail-Air)",
            "icsCode": "1008016",
            "lat": 51.47136544841,
            "lon": -0.45345569183,
            "naptanId": "910GHTRWCBS",
            "placeType": "StopPoint",
            "platformName": "19"
           },
           "arrivalTime": "2021-08-21T03:13:00",
           "departurePoint": {
            "$type": "Tfl.Api.Presentation.Entities.StopPoint, Tfl.Api.Presentation.Entities",
            "additionalProperties": [],
            "commonName": "Hillingdon, Heathrow Airport Terminal 3 Arrivals",
            "icsCode": "99999997",
            "lat": 51.471544550269996,
            "lon": -0.45886341771,
            "placeType": "StopPoint",
            "platformName": ""
           },
           "departureTime": "2021-08-21T02:50:00",
           "disruptions": [],
           "distance": 1486,
           "duration": 23,
           "hasFixedLocations": true,
           "instruction": {
            "$type": "Tfl.Api.Presentation.Entities.Instruction, Tfl.Api.Presentation.Entities",
            "detailed": "Walk to Heathrow Central Bus Station",
            "steps": [
             {
              "$type": "Tfl.Api.Presentation.Entities.InstructionStep, Tfl.Api.Presentation.Entities",
              "cumulativeDistance": 1098,
              "cumulativeTravelTime": 989,
              "description": " for 1098 metres",
              "descriptionHeading": "Continue along ",
              "distance": 1098,
              "latitude": 51.47155334938,
              "longitude": -0.45884872287,
              "pathAttribute": {
               "$type": "Tfl.Api.Presentation.Entities.PathAttribute, Tfl.Api.Presentation.Entities"
              },
              "skyDirection": 498,
              "skyDirectionDescription": "North",
              "streetName": "",
              "trackType": "None",
              "turnDirection": "STRAIGHT"
             },
             {
              "$type": "Tfl.Api.Presentation.Entities.InstructionStep, Tfl.Api.Presentation.Entities",
              "cumulativeDistance": 1349,
              "cumulativeTravelTime": 1215,
              "description": "on to Contrail Way, continue for 251 metres",
              "descriptionHeading": "Take a slight right",
              "distance": 251,
              "latitude": 51.46853877779,
              "longitude": -0.45322012153,
              "pathAttribute": {
               "$type": "Tfl.Api.Presentation.Entities.PathAttribute, Tfl.Api.Presentation.Entities"
              },
              "skyDirection": 318,
              "skyDirectionDescription": "North",
              "streetName": "Contrail Way",
              "trackType": "None",
              "turnDirection": "SLIGHT_RIGHT"
             },
             {
              "$type": "Tfl.Api.Presentation.Entities.InstructionStep, Tfl.Api.Presentation.Entities",
              "cumulativeDistance": 1418,
              "cumulativeTravelTime": 1277,
              "description": "on to Inner Ring West, continue for 69 metres",
              "descriptionHeading": "Continue along ",
              "distance": 69,
              "latitude": 51.47062030437,
              "longitude": -0.45422958635,
              "pathAttribute": {
               "$type": "Tfl.Api.Presentation.Entities.PathAttribute, Tfl.Api.Presentation.Entities"
              },
              "skyDirection": 346,
              "skyDirectionDescription": "North",
              "streetName": "Inner Ring West",
              "trackType": "None",
              "turnDirection": "STRAIGHT"
             },
             {
              "$type": "Tfl.Api.Presentation.Entities.InstructionStep, Tfl.Api.Presentation.Entities",
              "cumulativeDistance": 1486,
              "cumulativeTravelTime": 1338,
              "description": "on to Control Tower Road, continue for 68 metres",
              "descriptionHeading": "Take a sharp right",
              "distance": 68,
              "latitude": 51.47123340134,
              "longitude": -0.45435284892,
              "pathAttribute": {
               "$type": "Tfl.Api.Presentation.Entities.PathAttribute, Tfl.Api.Presentation.Entities"
              },
              "skyDirection": 485,
              "skyDirectionDescription": "North",
              "streetName": "Control Tower Road",
              "trackType": "None",
              "turnDirection": "SHARP_RIGHT"
             }
            ],
            "summary": "Walk to Heathrow Central Bus Station"
           },
           "isDisrupted": false,
           "mode": {
            "$type": "Tfl.Api.Presentation.Entities.Identifier, Tfl.Api.Presentation.Entities",
            "id": "walking",
            "name": "walking",
            "routeType": "Unknown",
            "status": "Unknown",
            "type": "Mode"
           },
           "obstacles": [],
           "path": {
            "$type": "Tfl.Api.Presentation.Entities.JourneyPlanner.Path, Tfl.Api.Presentation.Entities",
            "elevation": [],
            "lineString": "[[51.47154455027, -0.45886341771],[51.47155334938, -0.45884872287],[51.47077496803, -0.45778069358],[51.4718988572, -0.4529913028],[51.4693995474, -0.45098816812],[51.46990315369, -0.45235330669],[51.46991214191, -0.45235300257],[51.46988479735, -0.4523251321],[51.46981289153, -0.45232756509],[51.46968724628, -0.45234621415],[51.46867138648, -0.45236618747],[51.46854688075, -0.45247118184],[51.46849693931, -0.45277521685],[51.46853877779, -0.45322012153],[51.46884108363, -0.45364182433],[51.46895982838, -0.45378178552],[51.46917649481, -0.45384644959],[51.46965363027, -0.45388791242],[51.47004968183, -0.45391771884],[51.47031147908, -0.45399525753],[51.47062030437, -0.45422958635],[51.47094558814, -0.45434817678],[51.47123340134, -0.45435284892],[51.47102977877, -0.45391338582],[51.47101509723, -0.4534819363]]",
            "stopPoints": []
           },
           "plannedWorks": [],
           "routeOptions": [
            {
             "$type": "Tfl.Api.Presentation.Entities.JourneyPlanner.RouteOption, Tfl.Api.Presentation.Entities",
             "directions": [
              ""
             ],
             "name": ""
            }
           ]
          },
          {
           "$type": "Tfl.Api.Presentation.Entities.JourneyPlanner.Leg, Tfl.Api.Presentation.Entities",
           "arrivalPoint": {
            "$type": "Tfl.Api.Presentation.Entities.StopPoint, Tfl.Api.Presentation.Entities",
            "additionalProperties": [],
            "commonName": "Northumberland Avenue / Trafalgar Square",
            "icsCode": "1013767",
            "lat": 51.50764280917,
            "lon": -0.12954448446,
            "naptanId": "490G000804",
            "placeType": "StopPoint",
            "platformName": "",
            "stopLetter": "B"
           },
           "arrivalTime": "2021-08-21T04:15:00",
           "departurePoint": {
            "$type": "Tfl.Api.Presentation.Entities.StopPoint, Tfl.Api.Presentation.Entities",
            "additionalProperties": [],
            "commonName": "Heathrow Central Bus Stn (Rail-Air)",
            "icsCode": "1008016",
            "lat": 51.47136544841,
            "lon": -0.45345569183,
            "naptanId": "910GHTRWCBS",
            "placeType": "StopPoint",
            "platformName": "19"
           },
           "departureTime": "2021-08-21T03:13:00",
           "disruptions": [
            {
             "$type": "Tfl.Api.Presentation.Entities.Disruption, Tfl.Api.Presentation.Entities",
             "additionalInfo": "",
             "category": "PlannedWork",
             "categoryDescription": "PlannedWork",
             "created": "2021-08-16T06:50:00",
             "description": "KENSINGTON HIGH STREET: From 21:00 - 05:00 nightly, starting on Thursday 19 August and ending on Saturday 21 August, routes 9 23 and N9 are on diversion from Kensington Olympia to Kensington Palace due to roadworks. Buses towards Hyde Park Corner will miss stops from Holland Road to High Street Kensington Station. Buses towards Hammersmith will miss stops from High Street Kensington Station to Warwick Gardens. Buses are diverted via Holland Road, Holland Park Avenue, Notting Hill Gate and Kensington Church Street.",
             "lastUpdate": "2021-08-16T08:05:00",
             "summary": "CE21/19598 KENSINGTON HIGH STREET,W8 BUS ROUTES 9,23 AND N9",
             "type": "lineInfo"
            },
            {
             "$type": "Tfl.Api.Presentation.Entities.Disruption, Tfl.Api.Presentation.Entities",
             "additionalInfo": "",
             "category": "PlannedWork",
             "categoryDescription": "PlannedWork",
             "created": "2021-08-20T02:47:00",
             "description": "ALDWYCH, WC1: From 19:00 on Thursday 19 August until 15:00 on Sunday 22 August, Routes 6, 9 and N9 are terminating at Trafalgar Square due to Westminster Council works. There is no service between Charing Cross Station / Trafalgar Square (E) and, or between Aldwych / Somerset House (R) and Charing Cross Station (H).",
             "lastUpdate": "2021-08-20T02:48:00",
             "summary": "NMCC CE21/18501/G / ALDWYCH, WC1 / ROUTES 6, 9 and N9",
             "type": "lineInfo"
            }
           ],
           "duration": 62,
           "hasFixedLocations": true,
           "instruction": {
            "$type": "Tfl.Api.Presentation.Entities.Instruction, Tfl.Api.Presentation.Entities",
            "detailed": "N9 bus towards Trafalgar Square",
            "steps": [],
            "summary": "N9 bus to Trafalgar Square"
           },
           "isDisrupted": true,
           "mode": {
            "$type": "Tfl.Api.Presentation.Entities.Identifier, Tfl.Api.Presentation.Entities",
            "id": "bus",
            "name": "bus",
            "routeType": "Unknown",
            "status": "Unknown",
            "type": "Mode"
           },
           "obstacles": [],
           "path": {
            "$type": "Tfl.Api.Presentation.Entities.JourneyPlanner.Path, Tfl.Api.Presentation.Entities",
            "elevation": [],
            "lineString": "[[51.47101407422, -0.45348903241],[51.47102977877, -0.45391338582],[51.47123340134, -0.45435284892],[51.47164382467, -0.45410860501],[51.47176814204, -0.45398921576],[51.4718389094, -0.45390043298],[51.47213077657, -0.45353060308],[51.47256683384, -0.45318468913],[51.47283610095, -0.45314678483],[51.47322221498, -0.45310492796],[51.47408413526, -0.45300377882],[51.47417420737, -0.45301513121],[51.47983083553, -0.45305417444],[51.48027239733, -0.45312564199],[51.48032689622, -0.45316700162],[51.48049096238, -0.45333426536],[51.48090783727, -0.45357938727],[51.48107899301, -0.45360240117],[51.4813390818, -0.45355040017],[51.48179653161, -0.4534629197],[51.48194724295, -0.45329940378],[51.48204769582, -0.45273434041],[51.4819630031, -0.45244917367],[51.48188995765, -0.45236523637],[51.48162935737, -0.45169718516],[51.4815074304, -0.45063560289],[51.48142753568, -0.45003344818],[51.48137113303, -0.44984814123],[51.48135277608, -0.4498199607],[51.4812593432, -0.44824648928],[51.4812593432, -0.44824648928],[51.48124865507, -0.44806651712],[51.48118141416, -0.44638383501],[51.48115790672, -0.44596699318],[51.48110660893, -0.44485074433],[51.48110660893, -0.44485074433],[51.48105679557, -0.44376702021],[51.48103806298, -0.44303318812],[51.48101148482, -0.44238603203],[51.48094665055, -0.44089050135],[51.48091833743, -0.44011379483],[51.48089063509, -0.43919645045],[51.48089063509, -0.43919645045],[51.48085402792, -0.43798459424],[51.48083621828, -0.43732274234],[51.48077896367, -0.43572615539],[51.48076859265, -0.43494884035],[51.48075211113, -0.43438775421],[51.48074139338, -0.43425850962],[51.48074004802, -0.43415774669],[51.48072740776, -0.4338845552],[51.48069032907, -0.43309839139],[51.48069032907, -0.43309839139],[51.48065213014, -0.43228859374],[51.48063170332, -0.42874658466],[51.4807350556, -0.42651532735],[51.4807350556, -0.42651532735],[51.48074327993, -0.4263377336],[51.48078145873, -0.42583237365],[51.4809098962, -0.42401338102],[51.48093105628, -0.42358061078],[51.48099590984, -0.42261420937],[51.48099590984, -0.42261420937],[51.48104341969, -0.42190617429],[51.48126090105, -0.4200264766],[51.48127716756, -0.41973193202],[51.48127716756, -0.41973193202],[51.48136208978, -0.41819398861],[51.48134882974, -0.4178776143],[51.48121586028, -0.41668689413],[51.48051086688, -0.41375905236],[51.48027370119, -0.41284560526],[51.48005720113, -0.41204923993],[51.48005720113, -0.41204923993],[51.48003711323, -0.41197535075],[51.47975323824, -0.41093393623],[51.4797155306, -0.41080563771],[51.4796399198, -0.41053464712],[51.47948868509, -0.40999430559],[51.47948868509, -0.40999430559],[51.47917686339, -0.40888024733],[51.4790260231, -0.40836706795],[51.47893106288, -0.40799595373],[51.47879917213, -0.40755412356],[51.47871397939, -0.40724027535],[51.47852561539, -0.40661320888],[51.47829953507, -0.40585785727],[51.47815119939, -0.40534555443],[51.47815119939, -0.40534555443],[51.47796929568, -0.40471733364],[51.47792942717, -0.40443071562],[51.47794681565, -0.40438690751],[51.47798120085, -0.40427050394],[51.47788603189, -0.40388501336],[51.47778559649, -0.40377331589],[51.47762809778, -0.40343320534],[51.4769693816, -0.40118133713],[51.4769693816, -0.40118133713],[51.47683584143, -0.40072484635],[51.47649381445, -0.39938320797],[51.47601886104, -0.39752785119],[51.47587210777, -0.39698325082],[51.47587210777, -0.39698325082],[51.4757536223, -0.39654356138],[51.47570061199, -0.39595503005],[51.47575001122, -0.3956221025],[51.47572166884, -0.3955222985],[51.47569450799, -0.39550885171],[51.47551238525, -0.39534244527],[51.47535092223, -0.39471452635],[51.47526589255, -0.39441511906],[51.47509721084, -0.3939170564],[51.47497228372, -0.39333106303],[51.47485752523, -0.39283111243],[51.47467649426, -0.39208870357],[51.47440862073, -0.39108603012],[51.47440862073, -0.39108603012],[51.47430681304, -0.3907049667],[51.47408882888, -0.38989187964],[51.47392812772, -0.38932156904],[51.47352226457, -0.38792475294],[51.47348433416, -0.38778209924],[51.47316587878, -0.38685739222],[51.47295923305, -0.38621673013],[51.47303735141, -0.38601238855],[51.47292604584, -0.38566947249],[51.47292604584, -0.38566947249],[51.47274624244, -0.38511553473],[51.4726301921, -0.38517722767],[51.47252716247, -0.38487849118],[51.47228316618, -0.38413837542],[51.47221767242, -0.38395350652],[51.47214259535, -0.38372578083],[51.47193692493, -0.3831571054],[51.4715064086, -0.38193405731],[51.47136602876, -0.38153586801],[51.47121646098, -0.38112360797],[51.47116973318, -0.38099567673],[51.47114506465, -0.38092250924],[51.47114506465, -0.38092250924],[51.47096345338, -0.38038385211],[51.47051433592, -0.37911832032],[51.47037394664, -0.37872014846],[51.47007339654, -0.37779493103],[51.46986710026, -0.37718313579],[51.4697046736, -0.37659103413],[51.4697046736, -0.37659103413],[51.46932728898, -0.375215394],[51.46918309671, -0.37454382229],[51.4691541381, -0.37440087408],[51.46896595997, -0.37312604754],[51.46896595997, -0.37312604754],[51.46879683322, -0.37198037478],[51.46873391321, -0.37133472215],[51.46867398882, -0.37090492831],[51.46846562336, -0.36885350391],[51.46791796402, -0.3689162253],[51.46733853655, -0.36863454575],[51.46742240824, -0.36819963875],[51.46751566678, -0.36779318963],[51.46764387352, -0.36731350516],[51.46771136785, -0.36699435577],[51.46761808208, -0.36675293267],[51.4673640167, -0.36658923788],[51.46709257679, -0.36646935663],[51.46706349489, -0.36644735983],[51.46706349489, -0.36644735983],[51.46678358141, -0.36623564201],[51.46671846082, -0.36607960107],[51.46683105275, -0.3651253766],[51.46688955331, -0.3648065511],[51.46708282464, -0.36383503696],[51.46720880565, -0.3631970569],[51.46730922624, -0.36266076841],[51.46750968673, -0.36211328399],[51.46750968673, -0.36211328399],[51.46762971668, -0.36178546044],[51.46772677337, -0.36165240875],[51.4681503465, -0.36107573758],[51.4687927059, -0.35942578824],[51.468870576, -0.35920703031],[51.46926951262, -0.35815607859],[51.46938721893, -0.3579267322],[51.46938721893, -0.3579267322],[51.46964591155, -0.35742267192],[51.46992908616, -0.35709574649],[51.47002593569, -0.35694828738],[51.47052998694, -0.35505841518],[51.47059865903, -0.35482557394],[51.47078669688, -0.35412769296],[51.47094062382, -0.35356465205],[51.47094062382, -0.35356465205],[51.47106894789, -0.35309525195],[51.4710657137, -0.35286499454],[51.47116729962, -0.35241498571],[51.4713528953, -0.35154439239],[51.47148880822, -0.35097795212],[51.47176204336, -0.34994580061],[51.47194828574, -0.34933718931],[51.47194828574, -0.34933718931],[51.47237241418, -0.34795114569],[51.47243289532, -0.34777617529],[51.47287686931, -0.34673781069],[51.47289963995, -0.34668491049],[51.47289963995, -0.34668491049],[51.47328610106, -0.34578707689],[51.47339989627, -0.34556697407],[51.47360133458, -0.34518530817],[51.4738035842, -0.34486120646],[51.47397961837, -0.34457845069],[51.47397961837, -0.34457845069],[51.47465649554, -0.34349118249],[51.47470838879, -0.34334530746],[51.47486060964, -0.34266301285],[51.47490721203, -0.34214293854],[51.47490721203, -0.34214293854],[51.47498836783, -0.34088722939],[51.47500206663, -0.34058434024],[51.47505173848, -0.339646561],[51.47511917435, -0.33869373461],[51.47516903505, -0.33777034352],[51.47519408895, -0.33730630818],[51.47519408895, -0.33730630818],[51.47521888846, -0.33684695059],[51.47523441421, -0.33667358946],[51.47524626434, -0.33624116713],[51.47526587502, -0.33572206383],[51.47534555457, -0.33493649595],[51.47534555457, -0.33493649595],[51.4754315233, -0.33408886107],[51.47549055198, -0.33381311463],[51.4755412059, -0.33358087207],[51.4759237133, -0.33231020098],[51.4759237133, -0.33231020098],[51.47596195965, -0.33218314475],[51.47608266915, -0.33181874265],[51.47680567179, -0.32954593374],[51.47701990483, -0.3288036932],[51.47713389394, -0.32839851153],[51.47713389394, -0.32839851153],[51.47720819612, -0.32813439585],[51.47743957422, -0.32733391317],[51.47760274241, -0.32679512707],[51.47768810047, -0.32647519271],[51.47783370029, -0.32596584483],[51.47785922492, -0.3258641065],[51.4779703102, -0.3254568229],[51.47803561824, -0.32522689602],[51.47803561824, -0.32522689602],[51.47809017611, -0.32503481502],[51.47822760451, -0.32458336006],[51.47827926824, -0.32442305948],[51.47839974751, -0.32404422566],[51.47857168221, -0.323490694],[51.47889818611, -0.32242745785],[51.47916561322, -0.32160099233],[51.47916561322, -0.32160099233],[51.47949237417, -0.32059112176],[51.47963753562, -0.32005294841],[51.47967183645, -0.31993647906],[51.47974002528, -0.31967475268],[51.47993986637, -0.31905984828],[51.47993986637, -0.31905984828],[51.4804031796, -0.3176341896],[51.48080173702, -0.31658261642],[51.48101031638, -0.31607021305],[51.48101031638, -0.31607021305],[51.48112311779, -0.31579309689],[51.48141877124, -0.31509092446],[51.48149697089, -0.31490082022],[51.48162744087, -0.31459357447],[51.4818269138, -0.3140821572],[51.48203269489, -0.31355831884],[51.48203269489, -0.31355831884],[51.48221727937, -0.31308842961],[51.48237160052, -0.31256426357],[51.48238729718, -0.31240526221],[51.48240009309, -0.31204473976],[51.48242692525, -0.31141006047],[51.48247276584, -0.31084668819],[51.48270111974, -0.30984450588],[51.4828305387, -0.30946526548],[51.48300157313, -0.30885404847],[51.48308605098, -0.30847646555],[51.48332154573, -0.30729081354],[51.48332154573, -0.30729081354],[51.48336269968, -0.30708360706],[51.48346935342, -0.30637394233],[51.48360904117, -0.30546141634],[51.48393181515, -0.30424783529],[51.48393181515, -0.30424783529],[51.48398430855, -0.30405046198],[51.48407085293, -0.30381681058],[51.48418394299, -0.30355336803],[51.4845405596, -0.30271918035],[51.48492434118, -0.30189837321],[51.4850786116, -0.30137413931],[51.48516410782, -0.3010685016],[51.48522284922, -0.30077826018],[51.48568835207, -0.2993926655],[51.48602089972, -0.29876095743],[51.48611869517, -0.2984666894],[51.48611869517, -0.2984666894],[51.48617599145, -0.29829428237],[51.48632167588, -0.29779914788],[51.4863697496, -0.29739406584],[51.48638667959, -0.29732141881],[51.48660906563, -0.2965353538],[51.48672945331, -0.29615637905],[51.4869080458, -0.29556748428],[51.4869080458, -0.29556748428],[51.48717566958, -0.29468498874],[51.4872699262, -0.29436459369],[51.48751674078, -0.29340474295],[51.48765278808, -0.2928667268],[51.48771297605, -0.29267723062],[51.48805968744, -0.29178564676],[51.48842379284, -0.29041875942],[51.48842379284, -0.29041875942],[51.48848598405, -0.29018527932],[51.48851962502, -0.2900255772],[51.48861949673, -0.28947448871],[51.48864435925, -0.28932951814],[51.488784333, -0.28844563189],[51.48888755979, -0.2881248764],[51.48905911196, -0.28755668944],[51.48929546606, -0.28711570741],[51.48933715561, -0.2870490605],[51.48933715561, -0.2870490605],[51.48947999688, -0.28682070622],[51.48957612474, -0.28662984701],[51.48961123323, -0.28657091359],[51.48968959612, -0.2863951237],[51.48980411895, -0.2862323817],[51.49009186725, -0.28561660416],[51.49016187266, -0.28548433776],[51.49026656473, -0.28526434245],[51.49071108466, -0.28429164022],[51.49071108466, -0.28429164022],[51.49116404786, -0.28330042435],[51.49135270775, -0.2826739281],[51.49153266728, -0.28268157073],[51.49162190915, -0.28263500243],[51.49170195273, -0.28257437461],[51.49178157459, -0.28248495241],[51.49184237806, -0.28233861702],[51.49188913219, -0.2818470882],[51.49187866823, -0.28174664629],[51.49180065085, -0.28133183399],[51.49185955372, -0.28105592311],[51.49195145067, -0.28057709936],[51.49200655137, -0.28004203808],[51.49210923691, -0.27907303044],[51.49213990434, -0.27871174734],[51.49217078201, -0.27836486095],[51.49221209707, -0.27794497883],[51.49221209707, -0.27794497883],[51.49223337999, -0.27772867563],[51.49233932118, -0.2763705946],[51.49239877902, -0.275766214],[51.49239877902, -0.275766214],[51.49243320055, -0.27541630875],[51.49250307544, -0.27466459877],[51.49257811835, -0.27365339623],[51.49262292789, -0.27303227592],[51.49281741517, -0.27158439074],[51.49285039388, -0.27138146829],[51.49288927685, -0.27081196001],[51.49288927685, -0.27081196001],[51.49293913599, -0.27008162581],[51.49294302589, -0.26973574897],[51.49291995266, -0.26939089314],[51.49289730342, -0.26907483236],[51.49268332138, -0.26676368051],[51.49262970516, -0.26557007351],[51.49257967723, -0.2648892199],[51.49257967723, -0.2648892199],[51.49256215017, -0.26465069901],[51.49253373446, -0.26394591932],[51.49245976884, -0.26259463485],[51.49245784915, -0.2624650605],[51.49244867533, -0.26184598325],[51.49244376706, -0.26151484904],[51.49244376706, -0.26151484904],[51.49243949823, -0.26122690633],[51.49244378904, -0.26090982741],[51.49245772438, -0.26003057609],[51.49247206748, -0.25978514044],[51.49250075213, -0.2592942687],[51.49252558682, -0.25854424784],[51.49254014061, -0.25831320857],[51.49255335695, -0.258081421],[51.49255335695, -0.258081421],[51.49260434335, -0.25718714724],[51.49261140499, -0.25705723009],[51.49265933384, -0.25604702882],[51.49270404994, -0.2554258924],[51.49274383456, -0.25447361971],[51.49278105551, -0.25395360451],[51.49280651648, -0.25337688302],[51.49280651648, -0.25337688302],[51.49284156966, -0.25258277979],[51.49285182034, -0.2520637934],[51.49286099545, -0.25147282087],[51.49294632862, -0.25056201359],[51.4929781968, -0.25028709017],[51.49304236096, -0.24976603672],[51.49310624109, -0.24927125674],[51.49310624109, -0.24927125674],[51.49317132725, -0.24876711738],[51.49321217847, -0.248491847],[51.49326842274, -0.24804311957],[51.49332999501, -0.24734929217],[51.49333683054, -0.24720497438],[51.49335582219, -0.24674964397],[51.49335582219, -0.24674964397],[51.4933765482, -0.24625268296],[51.49340259157, -0.24558902656],[51.49343078572, -0.2450693427],[51.49344229608, -0.24463673267],[51.49349098008, -0.24368409191],[51.49353217917, -0.24283257626],[51.49353771467, -0.24260187327],[51.49355928213, -0.24224090282],[51.49355604504, -0.24202494273],[51.49356257862, -0.24126119228],[51.49355890785, -0.24101643763],[51.49353169517, -0.24026828273],[51.49353169517, -0.24026828273],[51.49349768155, -0.23933333615],[51.49348350624, -0.23898814736],[51.49346142383, -0.23871529162],[51.49339733599, -0.23804069864],[51.49332793545, -0.23761120722],[51.49322386253, -0.23714848127],[51.49322386253, -0.23714848127],[51.49316411615, -0.23688284326],[51.49309730929, -0.2366261217],[51.49304804327, -0.23633991294],[51.49294842621, -0.23569551183],[51.4929243376, -0.2352406338],[51.4929243376, -0.2352406338],[51.49292330323, -0.23522110183],[51.49290186215, -0.2349914427],[51.49282919933, -0.23434600505],[51.49322333561, -0.23424434337],[51.49371611418, -0.23412446236],[51.4938862206, -0.23407467163],[51.49406574779, -0.23405332807],[51.49444147566, -0.23392356043],[51.49446419537, -0.23304391988],[51.49447635226, -0.23261636543],[51.49447635226, -0.23261636543],[51.49448182757, -0.23242378229],[51.49447727018, -0.23212143366],[51.49449402903, -0.23144370544],[51.49447613842, -0.23085375392],[51.49447860901, -0.23042147972],[51.49447404646, -0.23011913145],[51.49447404646, -0.23011913145],[51.49446970044, -0.22983118078],[51.49442310102, -0.22912709509],[51.49439033907, -0.22814876168],[51.49439721735, -0.22741379251],[51.49380064483, -0.2266158063],[51.49361282209, -0.22613708873],[51.49361282209, -0.22613708873],[51.49356682039, -0.22601984219],[51.49310749593, -0.22478439212],[51.49302247048, -0.22451399052],[51.49305580336, -0.22433982929],[51.49307884074, -0.22407963476],[51.49310868408, -0.22367512011],[51.49292654222, -0.2235237399],[51.49289669938, -0.22392825301],[51.49283025256, -0.22429097155],[51.49263842032, -0.22468737086],[51.4916948664, -0.22354280825],[51.49187814394, -0.22317555527],[51.49254577137, -0.22395768944],[51.49254577137, -0.22395768944],[51.49283025256, -0.22429097155],[51.49289669938, -0.22392825301],[51.49292654222, -0.2235237399],[51.49307779709, -0.22341702133],[51.49303377754, -0.22288572883],[51.49305288382, -0.22236638725],[51.49307005802, -0.22112684423],[51.49319659439, -0.21998387896],[51.4932033962, -0.21983955834],[51.49323366205, -0.2194638343],[51.49324595244, -0.21908881028],[51.4932496023, -0.21903172639],[51.4932496023, -0.21903172639],[51.4934130545, -0.21647487756],[51.49356715802, -0.21596466389],[51.4936210824, -0.21578876975],[51.4936210824, -0.21578876975],[51.49377277194, -0.21529397184],[51.49386637118, -0.21494457742],[51.49410551597, -0.21411410145],[51.49426793821, -0.21356032892],[51.49441326111, -0.21306484495],[51.49451671837, -0.21277267933],[51.49470204183, -0.21230745853],[51.49470204183, -0.21230745853],[51.49481985472, -0.2120117063],[51.49489744572, -0.2117925785],[51.49505416355, -0.2114551037],[51.49561000721, -0.21016558868],[51.49582369513, -0.20943689778],[51.49591419828, -0.20888590647],[51.4959689705, -0.20835072043],[51.4960086263, -0.20800341014],[51.49606647525, -0.20766979207],[51.49615983134, -0.20730596705],[51.49625230572, -0.2068845489],[51.49664152944, -0.2058752137],[51.49681422114, -0.20540741736],[51.4969127914, -0.20514215643],[51.4969127914, -0.20514215643],[51.49715105266, -0.20450096369],[51.49729743909, -0.20407741145],[51.4974038288, -0.20376137524],[51.4974038288, -0.20376137524],[51.4975038661, -0.20346420553],[51.49782314955, -0.20258722794],[51.49790072261, -0.20236807005],[51.498012919, -0.20206110629],[51.49822832229, -0.20144752806],[51.4983236464, -0.20121326016],[51.49848212303, -0.2007539867],[51.49848212303, -0.2007539867],[51.49853027906, -0.20061442637],[51.49863348374, -0.20030780815],[51.49880983497, -0.19949404872],[51.49891148898, -0.19908663532],[51.49903943913, -0.19863496097],[51.49909969419, -0.19845969565],[51.49927191323, -0.19796304902],[51.49943580703, -0.19750994979],[51.49951447703, -0.19736277003],[51.49960014175, -0.19708564511],[51.49977247803, -0.19659149835],[51.49977247803, -0.19659149835],[51.49996187539, -0.19604842041],[51.50021230837, -0.19537577199],[51.50039327946, -0.19486434765],[51.50054795236, -0.19439718239],[51.50063147985, -0.19416718771],[51.50063147985, -0.19416718771],[51.50089301862, -0.19344702169],[51.50097933941, -0.19321307912],[51.50124861741, -0.19259728681],[51.50136977469, -0.19228992137],[51.5016388257, -0.19165971894],[51.50188291116, -0.19116017279],[51.50199574398, -0.19089635402],[51.5021189959, -0.19014223454],[51.50219254462, -0.18966384158],[51.50234452831, -0.18902384436],[51.50237647355, -0.18876322465],[51.50237091341, -0.18840323221],[51.50235551997, -0.18825436033],[51.50235551997, -0.18825436033],[51.5022863365, -0.1875853023],[51.50225425702, -0.18725517997],[51.50222195401, -0.18691065849],[51.50212949332, -0.18616508913],[51.50207000352, -0.18580724055],[51.50195933913, -0.18504799062],[51.5018632176, -0.18456367735],[51.5018632176, -0.18456367735],[51.50180328927, -0.18426173149],[51.50174624636, -0.18406228217],[51.50167776326, -0.18370479679],[51.50150624696, -0.18250132279],[51.50149547477, -0.18238648535],[51.50145104555, -0.18184074006],[51.50144568752, -0.18149515564],[51.5014483204, -0.18130343707],[51.5014483204, -0.18130343707],[51.50145835521, -0.18057252394],[51.50146421456, -0.18037057516],[51.5014720844, -0.18029822046],[51.50147119071, -0.18024062308],[51.50153235954, -0.17954658966],[51.50157380261, -0.17816174314],[51.50156354629, -0.17692304002],[51.50160617336, -0.1763667839],[51.50160617336, -0.1763667839],[51.5017429474, -0.17458172945],[51.50180049507, -0.17365729478],[51.50180746376, -0.1735273409],[51.5019000637, -0.17196753186],[51.50192526656, -0.17103788626],[51.50192526656, -0.17103788626],[51.50192860897, -0.17091457589],[51.50190884056, -0.1702237641],[51.50185379079, -0.16900125621],[51.50185199227, -0.1688860612],[51.50183693457, -0.16849763843],[51.50182637358, -0.16839720318],[51.50181962633, -0.16796522235],[51.50182186435, -0.16753288121],[51.50182091398, -0.16712782869],[51.50182091398, -0.16712782869],[51.50182027482, -0.16685575109],[51.5017189044, -0.165548659],[51.50167349575, -0.16494533227],[51.50167393338, -0.16316910258],[51.50167393338, -0.16316910258],[51.50167404841, -0.16268320064],[51.50166592629, -0.16216482706],[51.50167152822, -0.16194847655],[51.50172694399, -0.1608944365],[51.50186328072, -0.16041347039],[51.5020534849, -0.15935399288],[51.50223717984, -0.15845326262],[51.50234302614, -0.15660469962],[51.50235760458, -0.15638798279],[51.50245933388, -0.15599484493],[51.50268166805, -0.15526543629],[51.5028538517, -0.15420664572],[51.50292061999, -0.15348398613],[51.50292061999, -0.15348398613],[51.50297678308, -0.15287607161],[51.50299807311, -0.15251499127],[51.50303892369, -0.15225398086],[51.50306384215, -0.15212329372],[51.50311435937, -0.15190511792],[51.50313927744, -0.15177443038],[51.50325601381, -0.1511933527],[51.50327979599, -0.15099066598],[51.50330289665, -0.15074477999],[51.50330279988, -0.15016842877],[51.50376092273, -0.14899715453],[51.50383031675, -0.14883584301],[51.50403040989, -0.14835058751],[51.50403040989, -0.14835058751],[51.50409014443, -0.14820572062],[51.5042284752, -0.14785429249],[51.50442925725, -0.14747151096],[51.50491818178, -0.14654388977],[51.50499655908, -0.14638220579],[51.50504035482, -0.14630838133],[51.50551959994, -0.14533789922],[51.50566781968, -0.14504368807],[51.50583401214, -0.14474874497],[51.50589372996, -0.14454458344],[51.50615604076, -0.14407281429],[51.50642596865, -0.1435142708],[51.50665255626, -0.14305835242],[51.50672216991, -0.14291142246],[51.50694875511, -0.14245549816],[51.50694875511, -0.14245549816],[51.50714098851, -0.14210183746],[51.50752431093, -0.14132250244],[51.50774837857, -0.14070815122],[51.507791714, -0.14060551486],[51.50803397962, -0.14000482571],[51.50816329846, -0.13965370876],[51.50819764623, -0.13955143656],[51.50826898363, -0.13933902458],[51.50826898363, -0.13933902458],[51.50840373098, -0.13893780016],[51.50843762106, -0.13880672447],[51.50861719896, -0.13822298313],[51.50873661104, -0.13781461798],[51.50879654522, -0.13762483593],[51.50897680338, -0.13708428955],[51.50906232377, -0.1368069974],[51.50908768233, -0.13670508774],[51.50925572211, -0.13619348546],[51.50925572211, -0.13619348546],[51.50937074103, -0.1358433007],[51.5094140721, -0.13574065615],[51.50945648737, -0.13558040539],[51.50967245365, -0.1350239738],[51.50974045379, -0.13477621091],[51.50984943911, -0.13484381454],[51.50995636316, -0.1347818036],[51.51011422956, -0.13453036792],[51.51002395632, -0.13394320319],[51.5100961279, -0.13339263412],[51.50993877003, -0.13311084572],[51.50974661115, -0.1329025368],[51.50968232884, -0.13281869933],[51.50965733006, -0.13279420354],[51.50965733006, -0.13279420354],[51.50952703333, -0.13266652896],[51.50924363106, -0.13237549018],[51.50883395601, -0.13206079821],[51.50846875468, -0.13171547141],[51.50808626736, -0.13141408857],[51.50769433368, -0.13108427662],[51.5076344804, -0.13015005748],[51.50761421105, -0.13000678455],[51.50757229389, -0.12963383392],[51.50756518671, -0.12956509332]]",
            "stopPoints": [
             {
              "$type": "Tfl.Api.Presentation.Entities.Identifier, Tfl.Api.Presentation.Entities",
              "id": "490G00012176",
              "name": "Nene Road",
              "routeType": "Unknown",
              "status": "Unknown",
              "type": "StopPoint",
              "uri": "/StopPoint/490G00012176"
             },
             {
              "$type": "Tfl.Api.Presentation.Entities.Identifier, Tfl.Api.Presentation.Entities",
              "id": "490G00004139",
              "name": "Bolton's Lane",
              "routeType": "Unknown",
              "status": "Unknown",
              "type": "StopPoint",
              "uri": "/StopPoint/490G00004139"
             },
             {
              "$type": "Tfl.Api.Presentation.Entities.Identifier, Tfl.Api.Presentation.Entities",
              "id": "490G00010251",
              "name": "New Road",
              "routeType": "Unknown",
              "status": "Unknown",
              "type": "StopPoint",
              "uri": "/StopPoint/490G00010251"
             },
             {
              "$type": "Tfl.Api.Presentation.Entities.Identifier, Tfl.Api.Presentation.Entities",
              "id": "490G00007811",
              "name": "Harlington Corner",
              "routeType": "Unknown",
              "status": "Unknown",
              "type": "StopPoint",
              "uri": "/StopPoint/490G00007811"
             },
             {
              "$type": "Tfl.Api.Presentation.Entities.Identifier, Tfl.Api.Presentation.Entities",
              "id": "490G00015397",
              "name": "Nobel Drive",
              "routeType": "Unknown",
              "status": "Unknown",
              "type": "StopPoint",
              "uri": "/StopPoint/490G00015397"
             },
             {
              "$type": "Tfl.Api.Presentation.Entities.Identifier, Tfl.Api.Presentation.Entities",
              "id": "490G00010677",
              "name": "Oxford Avenue",
              "routeType": "Unknown",
              "status": "Unknown",
              "type": "StopPoint",
              "uri": "/StopPoint/490G00010677"
             },
             {
              "$type": "Tfl.Api.Presentation.Entities.Identifier, Tfl.Api.Presentation.Entities",
              "id": "490G00013596",
              "name": "Craneswater",
              "routeType": "Unknown",
              "status": "Unknown",
              "type": "StopPoint",
              "uri": "/StopPoint/490G00013596"
             },
             {
              "$type": "Tfl.Api.Presentation.Entities.Identifier, Tfl.Api.Presentation.Entities",
              "id": "490G00005704",
              "name": "Waye Avenue",
              "routeType": "Unknown",
              "status": "Unknown",
              "type": "StopPoint",
              "uri": "/StopPoint/490G00005704"
             },
             {
              "$type": "Tfl.Api.Presentation.Entities.Identifier, Tfl.Api.Presentation.Entities",
              "id": "490G00013235",
              "name": "The Avenue",
              "routeType": "Unknown",
              "status": "Unknown",
              "type": "StopPoint",
              "uri": "/StopPoint/490G00013235"
             },
             {
              "$type": "Tfl.Api.Presentation.Entities.Identifier, Tfl.Api.Presentation.Entities",
              "id": "490G00013495",
              "name": "The Parkway",
              "routeType": "Unknown",
              "status": "Unknown",
              "type": "StopPoint",
              "uri": "/StopPoint/490G00013495"
             },
             {
              "$type": "Tfl.Api.Presentation.Entities.Identifier, Tfl.Api.Presentation.Entities",
              "id": "490G00011470",
              "name": "Rectory Road",
              "routeType": "Unknown",
              "status": "Unknown",
              "type": "StopPoint",
              "uri": "/StopPoint/490G00011470"
             },
             {
              "$type": "Tfl.Api.Presentation.Entities.Identifier, Tfl.Api.Presentation.Entities",
              "id": "490G00015462",
              "name": "Henlys Roundabout",
              "routeType": "Unknown",
              "status": "Unknown",
              "type": "StopPoint",
              "uri": "/StopPoint/490G00015462"
             },
             {
              "$type": "Tfl.Api.Presentation.Entities.Identifier, Tfl.Api.Presentation.Entities",
              "id": "490G000040",
              "name": "Great West Road / Renfrew Road",
              "routeType": "Unknown",
              "status": "Unknown",
              "type": "StopPoint",
              "uri": "/StopPoint/490G000040"
             },
             {
              "$type": "Tfl.Api.Presentation.Entities.Identifier, Tfl.Api.Presentation.Entities",
              "id": "490G00118B",
              "name": "Hounslow West Station",
              "routeType": "Unknown",
              "status": "Unknown",
              "type": "StopPoint",
              "uri": "/StopPoint/490G00118B"
             },
             {
              "$type": "Tfl.Api.Presentation.Entities.Identifier, Tfl.Api.Presentation.Entities",
              "id": "490G00012458",
              "name": "St Paul's Church",
              "routeType": "Unknown",
              "status": "Unknown",
              "type": "StopPoint",
              "uri": "/StopPoint/490G00012458"
             },
             {
              "$type": "Tfl.Api.Presentation.Entities.Identifier, Tfl.Api.Presentation.Entities",
              "id": "490G00006406",
              "name": "Wellington Road North",
              "routeType": "Unknown",
              "status": "Unknown",
              "type": "StopPoint",
              "uri": "/StopPoint/490G00006406"
             },
             {
              "$type": "Tfl.Api.Presentation.Entities.Identifier, Tfl.Api.Presentation.Entities",
              "id": "490G00012454",
              "name": "St Michael & St Martin Church",
              "routeType": "Unknown",
              "status": "Unknown",
              "type": "StopPoint",
              "uri": "/StopPoint/490G00012454"
             },
             {
              "$type": "Tfl.Api.Presentation.Entities.Identifier, Tfl.Api.Presentation.Entities",
              "id": "490G00013259",
              "name": "The Bell",
              "routeType": "Unknown",
              "status": "Unknown",
              "type": "StopPoint",
              "uri": "/StopPoint/490G00013259"
             },
             {
              "$type": "Tfl.Api.Presentation.Entities.Identifier, Tfl.Api.Presentation.Entities",
              "id": "490G00013777",
              "name": "Treaty Centre",
              "routeType": "Unknown",
              "status": "Unknown",
              "type": "StopPoint",
              "uri": "/StopPoint/490G00013777"
             },
             {
              "$type": "Tfl.Api.Presentation.Entities.Identifier, Tfl.Api.Presentation.Entities",
              "id": "490G00008399",
              "name": "Hounslow High Street",
              "routeType": "Unknown",
              "status": "Unknown",
              "type": "StopPoint",
              "uri": "/StopPoint/490G00008399"
             },
             {
              "$type": "Tfl.Api.Presentation.Entities.Identifier, Tfl.Api.Presentation.Entities",
              "id": "490G000601",
              "name": "Hounslow Bus Station",
              "routeType": "Unknown",
              "status": "Unknown",
              "type": "StopPoint",
              "uri": "/StopPoint/490G000601"
             },
             {
              "$type": "Tfl.Api.Presentation.Entities.Identifier, Tfl.Api.Presentation.Entities",
              "id": "490G00004327",
              "name": "Bridge Road",
              "routeType": "Unknown",
              "status": "Unknown",
              "type": "StopPoint",
              "uri": "/StopPoint/490G00004327"
             },
             {
              "$type": "Tfl.Api.Presentation.Entities.Identifier, Tfl.Api.Presentation.Entities",
              "id": "490G00012599",
              "name": "Star Road",
              "routeType": "Unknown",
              "status": "Unknown",
              "type": "StopPoint",
              "uri": "/StopPoint/490G00012599"
             },
             {
              "$type": "Tfl.Api.Presentation.Entities.Identifier, Tfl.Api.Presentation.Entities",
              "id": "490G00013620",
              "name": "Thornbury Road",
              "routeType": "Unknown",
              "status": "Unknown",
              "type": "StopPoint",
              "uri": "/StopPoint/490G00013620"
             },
             {
              "$type": "Tfl.Api.Presentation.Entities.Identifier, Tfl.Api.Presentation.Entities",
              "id": "490G00008510",
              "name": "West Thames College",
              "routeType": "Unknown",
              "status": "Unknown",
              "type": "StopPoint",
              "uri": "/StopPoint/490G00008510"
             },
             {
              "$type": "Tfl.Api.Presentation.Entities.Identifier, Tfl.Api.Presentation.Entities",
              "id": "490G01158B",
              "name": "Isleworth Station",
              "routeType": "Unknown",
              "status": "Unknown",
              "type": "StopPoint",
              "uri": "/StopPoint/490G01158B"
             },
             {
              "$type": "Tfl.Api.Presentation.Entities.Identifier, Tfl.Api.Presentation.Entities",
              "id": "490G00009185",
              "name": "Linkfield Road",
              "routeType": "Unknown",
              "status": "Unknown",
              "type": "StopPoint",
              "uri": "/StopPoint/490G00009185"
             },
             {
              "$type": "Tfl.Api.Presentation.Entities.Identifier, Tfl.Api.Presentation.Entities",
              "id": "490G00014874",
              "name": "Wood Lane",
              "routeType": "Unknown",
              "status": "Unknown",
              "type": "StopPoint",
              "uri": "/StopPoint/490G00014874"
             },
             {
              "$type": "Tfl.Api.Presentation.Entities.Identifier, Tfl.Api.Presentation.Entities",
              "id": "490G00007873",
              "name": "Turnpike Way",
              "routeType": "Unknown",
              "status": "Unknown",
              "type": "StopPoint",
              "uri": "/StopPoint/490G00007873"
             },
             {
              "$type": "Tfl.Api.Presentation.Entities.Identifier, Tfl.Api.Presentation.Entities",
              "id": "490G00004635",
              "name": "The Green School",
              "routeType": "Unknown",
              "status": "Unknown",
              "type": "StopPoint",
              "uri": "/StopPoint/490G00004635"
             },
             {
              "$type": "Tfl.Api.Presentation.Entities.Identifier, Tfl.Api.Presentation.Entities",
              "id": "490G00015029",
              "name": "Busch Corner",
              "routeType": "Unknown",
              "status": "Unknown",
              "type": "StopPoint",
              "uri": "/StopPoint/490G00015029"
             },
             {
              "$type": "Tfl.Api.Presentation.Entities.Identifier, Tfl.Api.Presentation.Entities",
              "id": "490G00013141",
              "name": "Syon Lane",
              "routeType": "Unknown",
              "status": "Unknown",
              "type": "StopPoint",
              "uri": "/StopPoint/490G00013141"
             },
             {
              "$type": "Tfl.Api.Presentation.Entities.Identifier, Tfl.Api.Presentation.Entities",
              "id": "490G00003804",
              "name": "Beech Avenue",
              "routeType": "Unknown",
              "status": "Unknown",
              "type": "StopPoint",
              "uri": "/StopPoint/490G00003804"
             },
             {
              "$type": "Tfl.Api.Presentation.Entities.Identifier, Tfl.Api.Presentation.Entities",
              "id": "490G00004296",
              "name": "Brent Lea",
              "routeType": "Unknown",
              "status": "Unknown",
              "type": "StopPoint",
              "uri": "/StopPoint/490G00004296"
             },
             {
              "$type": "Tfl.Api.Presentation.Entities.Identifier, Tfl.Api.Presentation.Entities",
              "id": "490G00004292",
              "name": "Market Place",
              "routeType": "Unknown",
              "status": "Unknown",
              "type": "StopPoint",
              "uri": "/StopPoint/490G00004292"
             },
             {
              "$type": "Tfl.Api.Presentation.Entities.Identifier, Tfl.Api.Presentation.Entities",
              "id": "490G00004289",
              "name": "Brentford County Court",
              "routeType": "Unknown",
              "status": "Unknown",
              "type": "StopPoint",
              "uri": "/StopPoint/490G00004289"
             },
             {
              "$type": "Tfl.Api.Presentation.Entities.Identifier, Tfl.Api.Presentation.Entities",
              "id": "490G00006297",
              "name": "Watermans Centre",
              "routeType": "Unknown",
              "status": "Unknown",
              "type": "StopPoint",
              "uri": "/StopPoint/490G00006297"
             },
             {
              "$type": "Tfl.Api.Presentation.Entities.Identifier, Tfl.Api.Presentation.Entities",
              "id": "490G00004293",
              "name": "The Musical Museum",
              "routeType": "Unknown",
              "status": "Unknown",
              "type": "StopPoint",
              "uri": "/StopPoint/490G00004293"
             },
             {
              "$type": "Tfl.Api.Presentation.Entities.Identifier, Tfl.Api.Presentation.Entities",
              "id": "490G00008690",
              "name": "London Museum Of Water and Steam",
              "routeType": "Unknown",
              "status": "Unknown",
              "type": "StopPoint",
              "uri": "/StopPoint/490G00008690"
             },
             {
              "$type": "Tfl.Api.Presentation.Entities.Identifier, Tfl.Api.Presentation.Entities",
              "id": "490G01167S",
              "name": "Kew Bridge Station",
              "routeType": "Unknown",
              "status": "Unknown",
              "type": "StopPoint",
              "uri": "/StopPoint/490G01167S"
             },
             {
              "$type": "Tfl.Api.Presentation.Entities.Identifier, Tfl.Api.Presentation.Entities",
              "id": "490G00004290",
              "name": "Brentford Fountain Leisure Centre",
              "routeType": "Unknown",
              "status": "Unknown",
              "type": "StopPoint",
              "uri": "/StopPoint/490G00004290"
             },
             {
              "$type": "Tfl.Api.Presentation.Entities.Identifier, Tfl.Api.Presentation.Entities",
              "id": "490G000750",
              "name": "Thorney Hedge Road",
              "routeType": "Unknown",
              "status": "Unknown",
              "type": "StopPoint",
              "uri": "/StopPoint/490G000750"
             },
             {
              "$type": "Tfl.Api.Presentation.Entities.Identifier, Tfl.Api.Presentation.Entities",
              "id": "490G00094B",
              "name": "Gunnersbury Station",
              "routeType": "Unknown",
              "status": "Unknown",
              "type": "StopPoint",
              "uri": "/StopPoint/490G00094B"
             },
             {
              "$type": "Tfl.Api.Presentation.Entities.Identifier, Tfl.Api.Presentation.Entities",
              "id": "490G00005211",
              "name": "Chiswick Road",
              "routeType": "Unknown",
              "status": "Unknown",
              "type": "StopPoint",
              "uri": "/StopPoint/490G00005211"
             },
             {
              "$type": "Tfl.Api.Presentation.Entities.Identifier, Tfl.Api.Presentation.Entities",
              "id": "490G000807",
              "name": "Turnham Green Church",
              "routeType": "Unknown",
              "status": "Unknown",
              "type": "StopPoint",
              "uri": "/StopPoint/490G000807"
             },
             {
              "$type": "Tfl.Api.Presentation.Entities.Identifier, Tfl.Api.Presentation.Entities",
              "id": "490G00005423",
              "name": "Clifton Gardens",
              "routeType": "Unknown",
              "status": "Unknown",
              "type": "StopPoint",
              "uri": "/StopPoint/490G00005423"
             },
             {
              "$type": "Tfl.Api.Presentation.Entities.Identifier, Tfl.Api.Presentation.Entities",
              "id": "490G00005210",
              "name": "Chiswick Police Station",
              "routeType": "Unknown",
              "status": "Unknown",
              "type": "StopPoint",
              "uri": "/StopPoint/490G00005210"
             },
             {
              "$type": "Tfl.Api.Presentation.Entities.Identifier, Tfl.Api.Presentation.Entities",
              "id": "490G00013850",
              "name": "Chiswick Lane",
              "routeType": "Unknown",
              "status": "Unknown",
              "type": "StopPoint",
              "uri": "/StopPoint/490G00013850"
             },
             {
              "$type": "Tfl.Api.Presentation.Entities.Identifier, Tfl.Api.Presentation.Entities",
              "id": "490G00012521",
              "name": "Stamford Brook Bus Garage",
              "routeType": "Unknown",
              "status": "Unknown",
              "type": "StopPoint",
              "uri": "/StopPoint/490G00012521"
             },
             {
              "$type": "Tfl.Api.Presentation.Entities.Identifier, Tfl.Api.Presentation.Entities",
              "id": "490G000535",
              "name": "Goldhawk Road / Young's Corner",
              "routeType": "Unknown",
              "status": "Unknown",
              "type": "StopPoint",
              "uri": "/StopPoint/490G000535"
             },
             {
              "$type": "Tfl.Api.Presentation.Entities.Identifier, Tfl.Api.Presentation.Entities",
              "id": "490G00012533",
              "name": "Ravenscourt Park",
              "routeType": "Unknown",
              "status": "Unknown",
              "type": "StopPoint",
              "uri": "/StopPoint/490G00012533"
             },
             {
              "$type": "Tfl.Api.Presentation.Entities.Identifier, Tfl.Api.Presentation.Entities",
              "id": "490G00188A",
              "name": "Ravenscourt Park Station",
              "routeType": "Unknown",
              "status": "Unknown",
              "type": "StopPoint",
              "uri": "/StopPoint/490G00188A"
             },
             {
              "$type": "Tfl.Api.Presentation.Entities.Identifier, Tfl.Api.Presentation.Entities",
              "id": "490G00005937",
              "name": "Dalling Road",
              "routeType": "Unknown",
              "status": "Unknown",
              "type": "StopPoint",
              "uri": "/StopPoint/490G00005937"
             },
             {
              "$type": "Tfl.Api.Presentation.Entities.Identifier, Tfl.Api.Presentation.Entities",
              "id": "490G00015588",
              "name": "Lamington Street",
              "routeType": "Unknown",
              "status": "Unknown",
              "type": "StopPoint",
              "uri": "/StopPoint/490G00015588"
             },
             {
              "$type": "Tfl.Api.Presentation.Entities.Identifier, Tfl.Api.Presentation.Entities",
              "id": "490G00007239",
              "name": "Iffley Road",
              "routeType": "Unknown",
              "status": "Unknown",
              "type": "StopPoint",
              "uri": "/StopPoint/490G00007239"
             },
             {
              "$type": "Tfl.Api.Presentation.Entities.Identifier, Tfl.Api.Presentation.Entities",
              "id": "490G00097T",
              "name": "Hammersmith Stn / H&C and Circle Lines",
              "routeType": "Unknown",
              "status": "Unknown",
              "type": "StopPoint",
              "uri": "/StopPoint/490G00097T"
             },
             {
              "$type": "Tfl.Api.Presentation.Entities.Identifier, Tfl.Api.Presentation.Entities",
              "id": "490G000565",
              "name": "Hammersmith Bus Station",
              "routeType": "Unknown",
              "status": "Unknown",
              "type": "StopPoint",
              "uri": "/StopPoint/490G000565"
             },
             {
              "$type": "Tfl.Api.Presentation.Entities.Identifier, Tfl.Api.Presentation.Entities",
              "id": "490G00008997",
              "name": "Latymer Court",
              "routeType": "Unknown",
              "status": "Unknown",
              "type": "StopPoint",
              "uri": "/StopPoint/490G00008997"
             },
             {
              "$type": "Tfl.Api.Presentation.Entities.Identifier, Tfl.Api.Presentation.Entities",
              "id": "490G00004455",
              "name": "Brook Green",
              "routeType": "Unknown",
              "status": "Unknown",
              "type": "StopPoint",
              "uri": "/StopPoint/490G00004455"
             },
             {
              "$type": "Tfl.Api.Presentation.Entities.Identifier, Tfl.Api.Presentation.Entities",
              "id": "490G00010357",
              "name": "North End Road",
              "routeType": "Unknown",
              "status": "Unknown",
              "type": "StopPoint",
              "uri": "/StopPoint/490G00010357"
             },
             {
              "$type": "Tfl.Api.Presentation.Entities.Identifier, Tfl.Api.Presentation.Entities",
              "id": "490G00008287",
              "name": "Holland Road",
              "routeType": "Unknown",
              "status": "Unknown",
              "type": "StopPoint",
              "uri": "/StopPoint/490G00008287"
             },
             {
              "$type": "Tfl.Api.Presentation.Entities.Identifier, Tfl.Api.Presentation.Entities",
              "id": "490G00003106",
              "name": "Warwick Gardens",
              "routeType": "Unknown",
              "status": "Unknown",
              "type": "StopPoint",
              "uri": "/StopPoint/490G00003106"
             },
             {
              "$type": "Tfl.Api.Presentation.Entities.Identifier, Tfl.Api.Presentation.Entities",
              "id": "490G00005528",
              "name": "The Design Museum",
              "routeType": "Unknown",
              "status": "Unknown",
              "type": "StopPoint",
              "uri": "/StopPoint/490G00005528"
             },
             {
              "$type": "Tfl.Api.Presentation.Entities.Identifier, Tfl.Api.Presentation.Entities",
              "id": "490G00010984",
              "name": "Phillimore Gardens",
              "routeType": "Unknown",
              "status": "Unknown",
              "type": "StopPoint",
              "uri": "/StopPoint/490G00010984"
             },
             {
              "$type": "Tfl.Api.Presentation.Entities.Identifier, Tfl.Api.Presentation.Entities",
              "id": "490G00110R",
              "name": "High Street Kensington Station",
              "routeType": "Unknown",
              "status": "Unknown",
              "type": "StopPoint",
              "uri": "/StopPoint/490G00110R"
             },
             {
              "$type": "Tfl.Api.Presentation.Entities.Identifier, Tfl.Api.Presentation.Entities",
              "id": "490G00011761",
              "name": "Kensington Palace",
              "routeType": "Unknown",
              "status": "Unknown",
              "type": "StopPoint",
              "uri": "/StopPoint/490G00011761"
             },
             {
              "$type": "Tfl.Api.Presentation.Entities.Identifier, Tfl.Api.Presentation.Entities",
              "id": "490G00010728",
              "name": "Palace Gate",
              "routeType": "Unknown",
              "status": "Unknown",
              "type": "StopPoint",
              "uri": "/StopPoint/490G00010728"
             },
             {
              "$type": "Tfl.Api.Presentation.Entities.Identifier, Tfl.Api.Presentation.Entities",
              "id": "490G00019923",
              "name": "Queen's Gate",
              "routeType": "Unknown",
              "status": "Unknown",
              "type": "StopPoint",
              "uri": "/StopPoint/490G00019923"
             },
             {
              "$type": "Tfl.Api.Presentation.Entities.Identifier, Tfl.Api.Presentation.Entities",
              "id": "490G00011750",
              "name": "Royal Albert Hall",
              "routeType": "Unknown",
              "status": "Unknown",
              "type": "StopPoint",
              "uri": "/StopPoint/490G00011750"
             },
             {
              "$type": "Tfl.Api.Presentation.Entities.Identifier, Tfl.Api.Presentation.Entities",
              "id": "490G00011198",
              "name": "Prince Of Wales Gate",
              "routeType": "Unknown",
              "status": "Unknown",
              "type": "StopPoint",
              "uri": "/StopPoint/490G00011198"
             },
             {
              "$type": "Tfl.Api.Presentation.Entities.Identifier, Tfl.Api.Presentation.Entities",
              "id": "490G00011822",
              "name": "Rutland Gardens",
              "routeType": "Unknown",
              "status": "Unknown",
              "type": "StopPoint",
              "uri": "/StopPoint/490G00011822"
             },
             {
              "$type": "Tfl.Api.Presentation.Entities.Identifier, Tfl.Api.Presentation.Entities",
              "id": "490G000575",
              "name": "Knightsbridge Station  / Harrods",
              "routeType": "Unknown",
              "status": "Unknown",
              "type": "StopPoint",
              "uri": "/StopPoint/490G000575"
             },
             {
              "$type": "Tfl.Api.Presentation.Entities.Identifier, Tfl.Api.Presentation.Entities",
              "id": "490G00119A",
              "name": "Hyde Park Corner Station",
              "routeType": "Unknown",
              "status": "Unknown",
              "type": "StopPoint",
              "uri": "/StopPoint/490G00119A"
             },
             {
              "$type": "Tfl.Api.Presentation.Entities.Identifier, Tfl.Api.Presentation.Entities",
              "id": "490G00010574",
              "name": "Old Park Lane / Hard Rock Cafe",
              "routeType": "Unknown",
              "status": "Unknown",
              "type": "StopPoint",
              "uri": "/StopPoint/490G00010574"
             },
             {
              "$type": "Tfl.Api.Presentation.Entities.Identifier, Tfl.Api.Presentation.Entities",
              "id": "490G00093PE",
              "name": "Green Park Station",
              "routeType": "Unknown",
              "status": "Unknown",
              "type": "StopPoint",
              "uri": "/StopPoint/490G00093PE"
             },
             {
              "$type": "Tfl.Api.Presentation.Entities.Identifier, Tfl.Api.Presentation.Entities",
              "id": "490G00010526",
              "name": "Old Bond Street / Royal Academy",
              "routeType": "Unknown",
              "status": "Unknown",
              "type": "StopPoint",
              "uri": "/StopPoint/490G00010526"
             },
             {
              "$type": "Tfl.Api.Presentation.Entities.Identifier, Tfl.Api.Presentation.Entities",
              "id": "490G00179B",
              "name": "Piccadilly Circus",
              "routeType": "Unknown",
              "status": "Unknown",
              "type": "StopPoint",
              "uri": "/StopPoint/490G00179B"
             },
             {
              "$type": "Tfl.Api.Presentation.Entities.Identifier, Tfl.Api.Presentation.Entities",
              "id": "490G00020307",
              "name": "Haymarket / Jermyn Street",
              "routeType": "Unknown",
              "status": "Unknown",
              "type": "StopPoint",
              "uri": "/StopPoint/490G00020307"
             },
             {
              "$type": "Tfl.Api.Presentation.Entities.Identifier, Tfl.Api.Presentation.Entities",
              "id": "490G000804",
              "name": "Northumberland Avenue / Trafalgar Square",
              "routeType": "Unknown",
              "status": "Unknown",
              "type": "StopPoint",
              "uri": "/StopPoint/490G000804"
             }
            ]
           },
           "plannedWorks": [],
           "routeOptions": [
            {
             "$type": "Tfl.Api.Presentation.Entities.JourneyPlanner.RouteOption, Tfl.Api.Presentation.Entities",
             "directions": [
              "Trafalgar Square"
             ],
             "lineIdentifier": {
              "$type": "Tfl.Api.Presentation.Entities.Identifier, Tfl.Api.Presentation.Entities",
              "crowding": {
               "$type": "Tfl.Api.Presentation.Entities.Crowding, Tfl.Api.Presentation.Entities"
              },
              "id": "n9",
              "name": "N9",
              "routeType": "Unknown",
              "status": "Unknown",
              "type": "Line",
              "uri": "/Line/n9"
             },
             "name": "N9"
            }
           ]
          },
          {
           "$type": "Tfl.Api.Presentation.Entities.JourneyPlanner.Leg, Tfl.Api.Presentation.Entities",
           "arrivalPoint": {
            "$type": "Tfl.Api.Presentation.Entities.StopPoint, Tfl.Api.Presentation.Entities",
            "additionalProperties": [],
            "commonName": "Aldgate Station",
            "icsCode": "1000003",
            "lat": 51.51429166568,
            "lon": -0.07473547029,
            "naptanId": "490G00003N",
            "placeType": "StopPoint",
            "platformName": "",
            "stopLetter": "D"
           },
           "arrivalTime": "2021-08-21T04:41:00",
           "departurePoint": {
            "$type": "Tfl.Api.Presentation.Entities.StopPoint, Tfl.Api.Presentation.Entities",
            "additionalProperties": [],
            "commonName": "Northumberland Avenue / Trafalgar Square",
            "icsCode": "1013767",
            "lat": 51.50764280917,
            "lon": -0.12954448446,
            "naptanId": "490G000804",
            "placeType": "StopPoint",
            "platformName": "",
            "stopLetter": "B"
           },
           "departureTime": "2021-08-21T04:20:00",
           "disruptions": [
            {
             "$type": "Tfl.Api.Presentation.Entities.Disruption, Tfl.Api.Presentation.Entities",
             "additionalInfo": "",
             "category": "PlannedWork",
             "categoryDescription": "PlannedWork",
             "created": "2021-08-20T02:48:00",
             "description": "ALDWYCH, WC1: From 19:00 on Thursday 19 August until 15:00 on Sunday 22 August, Routes 11, N11, N21, N550, N551 are diverted due to Westminster Council works. Buses towards Liverpool Street, Bexleyheath, Canning Town or Gallions Reach will not serve stops between Charing Cross Station / Trafalgar Square (F) and Ludgate Circus (E).",
             "lastUpdate": "2021-08-20T02:48:00",
             "summary": "NMCC CE21/18501/G / ALDWYCH, WC1 / ROUTES 11, N11, N21, N550, N551",
             "type": "lineInfo"
            },
            {
             "$type": "Tfl.Api.Presentation.Entities.Disruption, Tfl.Api.Presentation.Entities",
             "additionalInfo": "Replacement buses operate&nbsp;<br /><br />Service DL6:&nbsp;Tower Hill - Aldgate and Aldgate East - Whitechapel - Stepney Green - Mile End - Bow Road - Bromley-by-Bow - Canning Town (for Jubilee line and DLR connections to/from West Ham) - Barking.<br /><br />Service DL7: Canning Town (for Jubilee line and DLR connections to/from West Ham) - Plaistow - Upton Park - East Ham - Barking - Upney - Becontree - Dagenham Heathway - Dagenham East<br /><br />",
             "category": "PlannedWork",
             "categoryDescription": "PlannedWork",
             "created": "2021-06-23T11:46:00",
             "description": "HAMMERSMITH & CITY LINE: Saturday 21 and Sunday 22 August, no service on the whole line. Replacement buses operate between Tower Hill and Barking.",
             "lastUpdate": "2021-06-23T11:46:00",
             "summary": "",
             "type": "routeBlocking"
            }
           ],
           "duration": 21,
           "hasFixedLocations": true,
           "instruction": {
            "$type": "Tfl.Api.Presentation.Entities.Instruction, Tfl.Api.Presentation.Entities",
            "detailed": "N550 bus towards Canning Town",
            "steps": [],
            "summary": "N550 bus to Aldgate Station"
           },
           "isDisrupted": true,
           "mode": {
            "$type": "Tfl.Api.Presentation.Entities.Identifier, Tfl.Api.Presentation.Entities",
            "id": "bus",
            "name": "bus",
            "routeType": "Unknown",
            "status": "Unknown",
            "type": "Mode"
           },
           "obstacles": [],
           "path": {
            "$type": "Tfl.Api.Presentation.Entities.JourneyPlanner.Path, Tfl.Api.Presentation.Entities",
            "elevation": [],
            "lineString": "[[51.50756518671, -0.12956509332],[51.50750849702, -0.12901680599],[51.50748730727, -0.12881593069],[51.50750252335, -0.12864238436],[51.5075039263, -0.12816678878],[51.50751592321, -0.12779163061],[51.50753274706, -0.12771888968],[51.50754058422, -0.12764651712],[51.50755671824, -0.12753057359],[51.50772125611, -0.12713474931],[51.50789131245, -0.12708454469],[51.50815307498, -0.12714586245],[51.50856807034, -0.1272297185],[51.50880195303, -0.12723453848],[51.50911717542, -0.12726484454],[51.50917132523, -0.12727703483],[51.50954345666, -0.12749234934],[51.50970220715, -0.12786052472],[51.50978561557, -0.12801562611],[51.51044830616, -0.12840638557],[51.51055021394, -0.12841475529],[51.51055021394, -0.12841475529],[51.51068241862, -0.12842561336],[51.51091630125, -0.12843043942],[51.51123083387, -0.12841754875],[51.51132968697, -0.12841349735],[51.51169836926, -0.12841279861],[51.51186934534, -0.12842020279],[51.51210391738, -0.12846823562],[51.51251592233, -0.12869469217],[51.51251592233, -0.12869469217],[51.51281153971, -0.12885717945],[51.51311177515, -0.12907546894],[51.51326592658, -0.12915562536],[51.51344749734, -0.12926348319],[51.51388253176, -0.12947625631],[51.51420834797, -0.12960703284],[51.51435778458, -0.12966263667],[51.51435778458, -0.12966263667],[51.51445259519, -0.12969791491],[51.5145975299, -0.12976404068],[51.51488739919, -0.12989629345],[51.51505929373, -0.12996131629],[51.51536736573, -0.13010723884],[51.51541161009, -0.13006218868],[51.51562384496, -0.12983730465],[51.51610154402, -0.12934211055],[51.51619164017, -0.12935283221],[51.51650686183, -0.12938315648],[51.51657186265, -0.12894810013],[51.51665522244, -0.12843650544],[51.51665522244, -0.12843650544],[51.51680119229, -0.12754062349],[51.51689914261, -0.12691683819],[51.51693993508, -0.12665572656],[51.51699616917, -0.12623543507],[51.51704387543, -0.12584431911],[51.51709135017, -0.12543879854],[51.51728306992, -0.12505618007],[51.51757455616, -0.124334957],[51.51757455616, -0.124334957],[51.51782803592, -0.12370775664],[51.51806191719, -0.12315042841],[51.51822666944, -0.12276890081],[51.51837390837, -0.12241691807],[51.51844303413, -0.12224111067],[51.51864280715, -0.12180048072],[51.51893820092, -0.12115411789],[51.51906976939, -0.12094690847],[51.51929765124, -0.12057717936],[51.51937576076, -0.12040099565],[51.51937091296, -0.12009850107],[51.51923149644, -0.11981596269],[51.51914047603, -0.11974764162],[51.5189222578, -0.11959807648],[51.51874897233, -0.11944666189],[51.51834088056, -0.11923285273],[51.51832276599, -0.11922723326],[51.51832276599, -0.11922723326],[51.51780766916, -0.11906744274],[51.51777768224, -0.11831917576],[51.51787994625, -0.11740690782],[51.51799118969, -0.11649426523],[51.51806948797, -0.11577035477],[51.51811692767, -0.11536481549],[51.51814752572, -0.1149854552],[51.51814752572, -0.1149854552],[51.51816941688, -0.114714035],[51.51823825431, -0.113961682],[51.51826220284, -0.11377331495],[51.5182829076, -0.11338329025],[51.51829416104, -0.11296482846],[51.51828123468, -0.11272033023],[51.51826125322, -0.11243554965],[51.51826125322, -0.11243554965],[51.51819954978, -0.11155620104],[51.51816795156, -0.11126923517],[51.51814696302, -0.11108272617],[51.51808561984, -0.11062402836],[51.51805401935, -0.11033706392],[51.51799290538, -0.1098927721],[51.5179622317, -0.10966342467],[51.51794100845, -0.10946251335],[51.51794100845, -0.10946251335],[51.51790917294, -0.10916114673],[51.51787873007, -0.10894620419],[51.51775873794, -0.1076395439],[51.51781195993, -0.10759409728],[51.5178101007, -0.10747886603],[51.5180095852, -0.10702377515],[51.51815586159, -0.10654765985],[51.51815586159, -0.10654765985],[51.51836841597, -0.10585579945],[51.51853953844, -0.1053153901],[51.51808164324, -0.10526997474],[51.51808164324, -0.10526997474],[51.51771990403, -0.10523409697],[51.51747587195, -0.10515774403],[51.51709657666, -0.10505817923],[51.5169610808, -0.10502056309],[51.5165820181, -0.10493540393],[51.51639237037, -0.10488562314],[51.51596860772, -0.10481673443],[51.51579693296, -0.10476620869],[51.51529159332, -0.10465746985],[51.51511991849, -0.10460694539],[51.51501161477, -0.10458261591],[51.51460559216, -0.10449858279],[51.51434428486, -0.10446619307],[51.51416362342, -0.10441604335],[51.51414928261, -0.10408515377],[51.51412269419, -0.10355299966],[51.51400940059, -0.10266413961],[51.5139897966, -0.10256406782],[51.51393075109, -0.10224945033],[51.51388069125, -0.10193446012],[51.51387788763, -0.10191056102],[51.51387788763, -0.10191056102],[51.51382853244, -0.10148984722],[51.5138275999, -0.10143223682],[51.5137934122, -0.10098687758],[51.51376178845, -0.10069994733],[51.51370437081, -0.1004861518],[51.51363773301, -0.10025832817],[51.51349873619, -0.10000469164],[51.51328633106, -0.09910556591],[51.51326356947, -0.09825619843],[51.51321490036, -0.09802763172],[51.51313362803, -0.09765709072],[51.51313362803, -0.09765709072],[51.51302068685, -0.09714217448],[51.51289404716, -0.09654214755],[51.51288365823, -0.09645610859],[51.51273623613, -0.09568400843],[51.51264670451, -0.09515450079],[51.51260659161, -0.0949056658],[51.51260659161, -0.0949056658],[51.5125867035, -0.09478229401],[51.51254584423, -0.09448134888],[51.51248724529, -0.09419555655],[51.51239840925, -0.09370926112],[51.51253189123, -0.09306956519],[51.51264903641, -0.09253143148],[51.51269850447, -0.09225553796],[51.51286759094, -0.09169781041],[51.51286759094, -0.09169781041],[51.51293747234, -0.09146730455],[51.51305367234, -0.09087155305],[51.51306172104, -0.09081356826],[51.5131121229, -0.09059527961],[51.51332294725, -0.0897361467],[51.51339061614, -0.08947389659],[51.51336607358, -0.08907138273],[51.51337341738, -0.08897019019],[51.51333049651, -0.08799195965],[51.51333072342, -0.0875863688],[51.51333072342, -0.0875863688],[51.51333079455, -0.08745869721],[51.51333156, -0.08695423947],[51.5133597525, -0.08647745664],[51.51335881259, -0.08641984734],[51.51336356905, -0.08616022887],[51.51337067531, -0.08604463361],[51.51336832494, -0.08590061036],[51.5133818316, -0.08562621274],[51.51339181071, -0.08513578008],[51.51339810469, -0.08496946503],[51.51339810469, -0.08496946503],[51.51340437487, -0.08480377284],[51.5134084221, -0.08450094706],[51.51339308417, -0.08411246143],[51.51341679362, -0.08336203244],[51.51347075361, -0.08281210335],[51.51347221925, -0.08275002847],[51.51347221925, -0.08275002847],[51.51349731707, -0.08168683455],[51.51352949342, -0.081454887],[51.51344016363, -0.08039213691],[51.51336759281, -0.0798042881],[51.51333568158, -0.07950297431],[51.51332362924, -0.07931612295],[51.51330642942, -0.07887166645],[51.51330642942, -0.07887166645],[51.51326125701, -0.07770458499],[51.5133125786, -0.07754389051],[51.51344218025, -0.07722136524],[51.51364201888, -0.076794994],[51.51372929477, -0.0760851149],[51.51378108665, -0.07595322173],[51.51382389201, -0.07582170696],[51.51390122485, -0.07560226264],[51.51405588926, -0.07516337178],[51.51417626146, -0.07482681102],[51.51423469167, -0.07467800541]]",
            "stopPoints": [
             {
              "$type": "Tfl.Api.Presentation.Entities.Identifier, Tfl.Api.Presentation.Entities",
              "name": "Leicester Square Station",
              "routeType": "Unknown",
              "status": "Unknown",
              "type": "StopPoint",
              "uri": "/StopPoint/"
             },
             {
              "$type": "Tfl.Api.Presentation.Entities.Identifier, Tfl.Api.Presentation.Entities",
              "name": "Cambridge Circus",
              "routeType": "Unknown",
              "status": "Unknown",
              "type": "StopPoint",
              "uri": "/StopPoint/"
             },
             {
              "$type": "Tfl.Api.Presentation.Entities.Identifier, Tfl.Api.Presentation.Entities",
              "name": "Denmark Street",
              "routeType": "Unknown",
              "status": "Unknown",
              "type": "StopPoint",
              "uri": "/StopPoint/"
             },
             {
              "$type": "Tfl.Api.Presentation.Entities.Identifier, Tfl.Api.Presentation.Entities",
              "name": "New Oxford Street",
              "routeType": "Unknown",
              "status": "Unknown",
              "type": "StopPoint",
              "uri": "/StopPoint/"
             },
             {
              "$type": "Tfl.Api.Presentation.Entities.Identifier, Tfl.Api.Presentation.Entities",
              "name": "Museum Street",
              "routeType": "Unknown",
              "status": "Unknown",
              "type": "StopPoint",
              "uri": "/StopPoint/"
             },
             {
              "$type": "Tfl.Api.Presentation.Entities.Identifier, Tfl.Api.Presentation.Entities",
              "name": "Procter Street",
              "routeType": "Unknown",
              "status": "Unknown",
              "type": "StopPoint",
              "uri": "/StopPoint/"
             },
             {
              "$type": "Tfl.Api.Presentation.Entities.Identifier, Tfl.Api.Presentation.Entities",
              "name": "Brownlow Street",
              "routeType": "Unknown",
              "status": "Unknown",
              "type": "StopPoint",
              "uri": "/StopPoint/"
             },
             {
              "$type": "Tfl.Api.Presentation.Entities.Identifier, Tfl.Api.Presentation.Entities",
              "name": "Chancery Lane Station",
              "routeType": "Unknown",
              "status": "Unknown",
              "type": "StopPoint",
              "uri": "/StopPoint/"
             },
             {
              "$type": "Tfl.Api.Presentation.Entities.Identifier, Tfl.Api.Presentation.Entities",
              "name": "Holborn Circus / Fetter Lane",
              "routeType": "Unknown",
              "status": "Unknown",
              "type": "StopPoint",
              "uri": "/StopPoint/"
             },
             {
              "$type": "Tfl.Api.Presentation.Entities.Identifier, Tfl.Api.Presentation.Entities",
              "name": "Charterhouse Street",
              "routeType": "Unknown",
              "status": "Unknown",
              "type": "StopPoint",
              "uri": "/StopPoint/"
             },
             {
              "$type": "Tfl.Api.Presentation.Entities.Identifier, Tfl.Api.Presentation.Entities",
              "name": "Snow Hill",
              "routeType": "Unknown",
              "status": "Unknown",
              "type": "StopPoint",
              "uri": "/StopPoint/"
             },
             {
              "$type": "Tfl.Api.Presentation.Entities.Identifier, Tfl.Api.Presentation.Entities",
              "id": "490G00009443",
              "name": "Ludgate Hill / Old Bailey",
              "routeType": "Unknown",
              "status": "Unknown",
              "type": "StopPoint",
              "uri": "/StopPoint/490G00009443"
             },
             {
              "$type": "Tfl.Api.Presentation.Entities.Identifier, Tfl.Api.Presentation.Entities",
              "id": "490G00012873",
              "name": "St Paul's Cathedral",
              "routeType": "Unknown",
              "status": "Unknown",
              "type": "StopPoint",
              "uri": "/StopPoint/490G00012873"
             },
             {
              "$type": "Tfl.Api.Presentation.Entities.Identifier, Tfl.Api.Presentation.Entities",
              "id": "490G00143E",
              "name": "Mansion House Station",
              "routeType": "Unknown",
              "status": "Unknown",
              "type": "StopPoint",
              "uri": "/StopPoint/490G00143E"
             },
             {
              "$type": "Tfl.Api.Presentation.Entities.Identifier, Tfl.Api.Presentation.Entities",
              "id": "490G000780",
              "name": "Bank Station  / Queen Victoria Street",
              "routeType": "Unknown",
              "status": "Unknown",
              "type": "StopPoint",
              "uri": "/StopPoint/490G000780"
             },
             {
              "$type": "Tfl.Api.Presentation.Entities.Identifier, Tfl.Api.Presentation.Entities",
              "id": "490G000556",
              "name": "Bank Station  / Cornhill",
              "routeType": "Unknown",
              "status": "Unknown",
              "type": "StopPoint",
              "uri": "/StopPoint/490G000556"
             },
             {
              "$type": "Tfl.Api.Presentation.Entities.Identifier, Tfl.Api.Presentation.Entities",
              "id": "490G00015079",
              "name": "Bishopsgate",
              "routeType": "Unknown",
              "status": "Unknown",
              "type": "StopPoint",
              "uri": "/StopPoint/490G00015079"
             },
             {
              "$type": "Tfl.Api.Presentation.Entities.Identifier, Tfl.Api.Presentation.Entities",
              "id": "490G00012783",
              "name": "St Mary Axe",
              "routeType": "Unknown",
              "status": "Unknown",
              "type": "StopPoint",
              "uri": "/StopPoint/490G00012783"
             },
             {
              "$type": "Tfl.Api.Presentation.Entities.Identifier, Tfl.Api.Presentation.Entities",
              "id": "490G000767",
              "name": "St Katharine Cree",
              "routeType": "Unknown",
              "status": "Unknown",
              "type": "StopPoint",
              "uri": "/StopPoint/490G000767"
             },
             {
              "$type": "Tfl.Api.Presentation.Entities.Identifier, Tfl.Api.Presentation.Entities",
              "id": "490G00003N",
              "name": "Aldgate Station",
              "routeType": "Unknown",
              "status": "Unknown",
              "type": "StopPoint",
              "uri": "/StopPoint/490G00003N"
             }
            ]
           },
           "plannedWorks": [],
           "routeOptions": [
            {
             "$type": "Tfl.Api.Presentation.Entities.JourneyPlanner.RouteOption, Tfl.Api.Presentation.Entities",
             "directions": [
              "Canning Town"
             ],
             "lineIdentifier": {
              "$type": "Tfl.Api.Presentation.Entities.Identifier, Tfl.Api.Presentation.Entities",
              "crowding": {
               "$type": "Tfl.Api.Presentation.Entities.Crowding, Tfl.Api.Presentation.Entities"
              },
              "id": "n550",
              "name": "N550",
              "routeType": "Unknown",
              "status": "Unknown",
              "type": "Line",
              "uri": "/Line/n550"
             },
             "name": "N550"
            }
           ]
          },
          {
           "$type": "Tfl.Api.Presentation.Entities.JourneyPlanner.Leg, Tfl.Api.Presentation.Entities",
           "arrivalPoint": {
            "$type": "Tfl.Api.Presentation.Entities.StopPoint, Tfl.Api.Presentation.Entities",
            "additionalProperties": [],
            "commonName": "Tower Bridge / City Hall",
            "icsCode": "1013744",
            "lat": 51.503273636239996,
            "lon": -0.07679929902999999,
            "naptanId": "490G00013744",
            "placeType": "StopPoint",
            "platformName": "P",
            "stopLetter": "P"
           },
           "arrivalTime": "2021-08-21T05:00:00",
           "departurePoint": {
            "$type": "Tfl.Api.Presentation.Entities.StopPoint, Tfl.Api.Presentation.Entities",
            "additionalProperties": [],
            "commonName": "Aldgate Station",
            "icsCode": "1000003",
            "lat": 51.51407906627,
            "lon": -0.07493179600000001,
            "naptanId": "490G00003N",
            "placeType": "StopPoint",
            "platformName": "R",
            "stopLetter": "R"
           },
           "departureTime": "2021-08-21T04:55:00",
           "disruptions": [
            {
             "$type": "Tfl.Api.Presentation.Entities.Disruption, Tfl.Api.Presentation.Entities",
             "additionalInfo": "Replacement buses operate&nbsp;<br /><br />Service DL6:&nbsp;Tower Hill - Aldgate and Aldgate East - Whitechapel - Stepney Green - Mile End - Bow Road - Bromley-by-Bow - Canning Town (for Jubilee line and DLR connections to/from West Ham) - Barking.<br /><br />Service DL7: Canning Town (for Jubilee line and DLR connections to/from West Ham) - Plaistow - Upton Park - East Ham - Barking - Upney - Becontree - Dagenham Heathway - Dagenham East<br /><br />",
             "category": "PlannedWork",
             "categoryDescription": "PlannedWork",
             "created": "2021-06-23T11:46:00",
             "description": "HAMMERSMITH & CITY LINE: Saturday 21 and Sunday 22 August, no service on the whole line. Replacement buses operate between Tower Hill and Barking.",
             "lastUpdate": "2021-06-23T11:46:00",
             "summary": "",
             "type": "routeBlocking"
            }
           ],
           "duration": 5,
           "hasFixedLocations": true,
           "instruction": {
            "$type": "Tfl.Api.Presentation.Entities.Instruction, Tfl.Api.Presentation.Entities",
            "detailed": "343 bus towards New Cross Gate or 42 bus towards East Dulwich, Sainsbury's",
            "steps": [],
            "summary": "343 bus or 42 bus to Tower Bridge / City Hall"
           },
           "isDisrupted": true,
           "mode": {
            "$type": "Tfl.Api.Presentation.Entities.Identifier, Tfl.Api.Presentation.Entities",
            "id": "bus",
            "name": "bus",
            "routeType": "Unknown",
            "status": "Unknown",
            "type": "Mode"
           },
           "obstacles": [],
           "path": {
            "$type": "Tfl.Api.Presentation.Entities.JourneyPlanner.Path, Tfl.Api.Presentation.Entities",
            "elevation": [],
            "lineString": "[[51.51412396194, -0.07497304109],[51.51405588926, -0.07516337178],[51.51390122485, -0.07560226264],[51.51382389201, -0.07582170696],[51.51378108665, -0.07595322173],[51.51357392762, -0.07593312636],[51.51296711518, -0.07567045429],[51.51274464258, -0.07562062377],[51.51274464258, -0.07562062377],[51.5126963426, -0.07560980536],[51.51257881087, -0.07557152271],[51.51209165641, -0.07547675883],[51.51195638823, -0.07545363626],[51.51161254289, -0.07532401136],[51.51138693829, -0.07527587384],[51.51114738359, -0.07492568336],[51.51117694599, -0.07453532647],[51.51118948028, -0.07420333323],[51.5111970464, -0.07356890756],[51.51115116421, -0.07296556013],[51.51108565671, -0.07280979821],[51.51070728314, -0.07276812091],[51.51044644213, -0.07276471778],[51.51009928704, -0.07298112481],[51.50987009331, -0.0731965713],[51.50987009331, -0.0731965713],[51.50958564902, -0.07346395079],[51.5093096738, -0.07363411306],[51.50915761522, -0.07368375973],[51.50906822463, -0.07371635194],[51.50889890283, -0.07380995856],[51.50857823169, -0.0739964117],[51.50844390916, -0.07403089771],[51.50782550511, -0.07415784955],[51.50715365551, -0.07431587169],[51.50694815118, -0.07439658728],[51.50688571945, -0.07442803979],[51.50651207448, -0.07467435327],[51.50548951361, -0.07538030437],[51.50495576545, -0.07573421435],[51.50430637416, -0.07616503347],[51.50427090104, -0.0761953462],[51.50419096839, -0.07625634998],[51.50346140588, -0.07673375702],[51.50328875357, -0.0768547043]]",
            "stopPoints": [
             {
              "$type": "Tfl.Api.Presentation.Entities.Identifier, Tfl.Api.Presentation.Entities",
              "id": "490G000477",
              "name": "Minories",
              "routeType": "Unknown",
              "status": "Unknown",
              "type": "StopPoint",
              "uri": "/StopPoint/490G000477"
             },
             {
              "$type": "Tfl.Api.Presentation.Entities.Identifier, Tfl.Api.Presentation.Entities",
              "id": "490G000857",
              "name": "Tower Hill / Tower Gateway Station",
              "routeType": "Unknown",
              "status": "Unknown",
              "type": "StopPoint",
              "uri": "/StopPoint/490G000857"
             },
             {
              "$type": "Tfl.Api.Presentation.Entities.Identifier, Tfl.Api.Presentation.Entities",
              "id": "490G00013744",
              "name": "Tower Bridge / City Hall",
              "routeType": "Unknown",
              "status": "Unknown",
              "type": "StopPoint",
              "uri": "/StopPoint/490G00013744"
             }
            ]
           },
           "plannedWorks": [],
           "routeOptions": [
            {
             "$type": "Tfl.Api.Presentation.Entities.JourneyPlanner.RouteOption, Tfl.Api.Presentation.Entities",
             "directions": [
              "New Cross Gate"
             ],
             "lineIdentifier": {
              "$type": "Tfl.Api.Presentation.Entities.Identifier, Tfl.Api.Presentation.Entities",
              "crowding": {
               "$type": "Tfl.Api.Presentation.Entities.Crowding, Tfl.Api.Presentation.Entities"
              },
              "id": "343",
              "name": "343",
              "routeType": "Unknown",
              "status": "Unknown",
              "type": "Line",
              "uri": "/Line/343"
             },
             "name": "343"
            },
            {
             "$type": "Tfl.Api.Presentation.Entities.JourneyPlanner.RouteOption, Tfl.Api.Presentation.Entities",
             "directions": [
              "East Dulwich, Sainsbury's"
             ],
             "lineIdentifier": {
              "$type": "Tfl.Api.Presentation.Entities.Identifier, Tfl.Api.Presentation.Entities",
              "crowding": {
               "$type": "Tfl.Api.Presentation.Entities.Crowding, Tfl.Api.Presentation.Entities"
              },
              "id": "42",
              "name": "42",
              "routeType": "Unknown",
              "status": "Unknown",
              "type": "Line",
              "uri": "/Line/42"
             },
             "name": "42"
            }
           ]
          }
         ],
         "startDateTime": "2021-08-21T02:50:00"
        }
       ],
       "lines": [
        {
         "$type": "Tfl.Api.Presentation.Entities.Line, Tfl.Api.Presentation.Entities",
         "created": "2021-08-19T09:48:47.363Z",
         "crowding": {
          "$type": "Tfl.Api.Presentation.Entities.Crowding, Tfl.Api.Presentation.Entities"
         },
         "disruptions": [],
         "id": "211",
         "lineStatuses": [
          {
           "$type": "Tfl.Api.Presentation.Entities.LineStatus, Tfl.Api.Presentation.Entities",
           "created": "0001-01-01T00:00:00",
           "id": 0,
           "statusSeverity": 10,
           "statusSeverityDescription": "Good Service",
           "validityPeriods": []
          }
         ],
         "modeName": "bus",
         "modified": "2021-08-19T09:48:47.363Z",
         "name": "211",
         "routeSections": [],
         "serviceTypes": [
          {
           "$type": "Tfl.Api.Presentation.Entities.LineServiceTypeInfo, Tfl.Api.Presentation.Entities",
           "name": "Regular",
           "uri": "/Line/Route?ids=211&serviceTypes=Regular"
          }
         ]
        },
        {
         "$type": "Tfl.Api.Presentation.Entities.Line, Tfl.Api.Presentation.Entities",
         "created": "2021-08-19T09:48:47.363Z",
         "crowding": {
          "$type": "Tfl.Api.Presentation.Entities.Crowding, Tfl.Api.Presentation.Entities"
         },
         "disruptions": [],
         "id": "222",
         "lineStatuses": [
          {
           "$type": "Tfl.Api.Presentation.Entities.LineStatus, Tfl.Api.Presentation.Entities",
           "created": "0001-01-01T00:00:00",
           "id": 0,
           "statusSeverity": 10,
           "statusSeverityDescription": "Good Service",
           "validityPeriods": []
          }
         ],
         "modeName": "bus",
         "modified": "2021-08-19T09:48:47.363Z",
         "name": "222",
         "routeSections": [],
         "serviceTypes": [
          {
           "$type": "Tfl.Api.Presentation.Entities.LineServiceTypeInfo, Tfl.Api.Presentation.Entities",
           "name": "Regular",
           "uri": "/Line/Route?ids=222&serviceTypes=Regular"
          }
         ]
        },
        {
         "$type": "Tfl.Api.Presentation.Entities.Line, Tfl.Api.Presentation.Entities",
         "created": "2021-08-19T09:48:47.363Z",
         "crowding": {
          "$type": "Tfl.Api.Presentation.Entities.Crowding, Tfl.Api.Presentation.Entities"
         },
         "disruptions": [],
         "id": "343",
         "lineStatuses": [
          {
           "$type": "Tfl.Api.Presentation.Entities.LineStatus, Tfl.Api.Presentation.Entities",
           "created": "0001-01-01T00:00:00",
           "id": 0,
           "statusSeverity": 10,
           "statusSeverityDescription": "Good Service",
           "validityPeriods": []
          }
         ],
         "modeName": "bus",
         "modified": "2021-08-19T09:48:47.363Z",
         "name": "343",
         "routeSections": [],
         "serviceTypes": [
          {
           "$type": "Tfl.Api.Presentation.Entities.LineServiceTypeInfo, Tfl.Api.Presentation.Entities",
           "name": "Regular",
           "uri": "/Line/Route?ids=343&serviceTypes=Regular"
          }
         ]
        },
        {
         "$type": "Tfl.Api.Presentation.Entities.Line, Tfl.Api.Presentation.Entities",
         "created": "2021-08-19T09:48:47.347Z",
         "crowding": {
          "$type": "Tfl.Api.Presentation.Entities.Crowding, Tfl.Api.Presentation.Entities"
         },
         "disruptions": [],
         "id": "381",
         "lineStatuses": [
          {
           "$type": "Tfl.Api.Presentation.Entities.LineStatus, Tfl.Api.Presentation.Entities",
           "created": "0001-01-01T00:00:00",
           "id": 0,
           "statusSeverity": 10,
           "statusSeverityDescription": "Good Service",
           "validityPeriods": []
          }
         ],
         "modeName": "bus",
         "modified": "2021-08-19T09:48:47.347Z",
         "name": "381",
         "routeSections": [],
         "serviceTypes": [
          {
           "$type": "Tfl.Api.Presentation.Entities.LineServiceTypeInfo, Tfl.Api.Presentation.Entities",
           "name": "Regular",
           "uri": "/Line/Route?ids=381&serviceTypes=Regular"
          }
         ]
        },
        {
         "$type": "Tfl.Api.Presentation.Entities.Line, Tfl.Api.Presentation.Entities",
         "created": "2021-08-19T09:48:47.363Z",
         "crowding": {
          "$type": "Tfl.Api.Presentation.Entities.Crowding, Tfl.Api.Presentation.Entities"
         },
         "disruptions": [],
         "id": "42",
         "lineStatuses": [
          {
           "$type": "Tfl.Api.Presentation.Entities.LineStatus, Tfl.Api.Presentation.Entities",
           "created": "0001-01-01T00:00:00",
           "id": 0,
           "statusSeverity": 10,
           "statusSeverityDescription": "Good Service",
           "validityPeriods": []
          }
         ],
         "modeName": "bus",
         "modified": "2021-08-19T09:48:47.363Z",
         "name": "42",
         "routeSections": [],
         "serviceTypes": [
          {
           "$type": "Tfl.Api.Presentation.Entities.LineServiceTypeInfo, Tfl.Api.Presentation.Entities",
           "name": "Regular",
           "uri": "/Line/Route?ids=42&serviceTypes=Regular"
          }
         ]
        },
        {
         "$type": "Tfl.Api.Presentation.Entities.Line, Tfl.Api.Presentation.Entities",
         "created": "2021-08-19T09:48:47.333Z",
         "crowding": {
          "$type": "Tfl.Api.Presentation.Entities.Crowding, Tfl.Api.Presentation.Entities"
         },
         "disruptions": [],
         "id": "81",
         "lineStatuses": [
          {
           "$type": "Tfl.Api.Presentation.Entities.LineStatus, Tfl.Api.Presentation.Entities",
           "created": "0001-01-01T00:00:00",
           "disruption": {
            "$type": "Tfl.Api.Presentation.Entities.Disruption, Tfl.Api.Presentation.Entities",
            "affectedRoutes": [],
            "affectedStops": [],
            "category": "PlannedWork",
            "categoryDescription": "PlannedWork",
            "created": "2021-06-15T18:05:00Z",
            "description": "COLNBROOK BYPASS, UB7: From Saturday 19 June until Monday 1 November, Route 81 and 423 are diverted (eastbound only) due to Thames Water works. Buses are diverting via Stanwell Moor Road and Colnbrook Bypass, with no service between The Square (E) and Heathrow Park Thistle Hotel (F)."
           },
           "id": 0,
           "lineId": "81",
           "reason": "COLNBROOK BYPASS, UB7: From Saturday 19 June until Monday 1 November, Route 81 and 423 are diverted (eastbound only) due to Thames Water works. Buses are diverting via Stanwell Moor Road and Colnbrook Bypass, with no service between The Square (E) and Heathrow Park Thistle Hotel (F).",
           "statusSeverity": 0,
           "statusSeverityDescription": "Special Service",
           "validityPeriods": [
            {
             "$type": "Tfl.Api.Presentation.Entities.ValidityPeriod, Tfl.Api.Presentation.Entities",
             "fromDate": "2021-06-19T22:00:00Z",
             "isNow": false,
             "toDate": "2021-11-01T20:00:00Z"
            }
           ]
          }
         ],
         "modeName": "bus",
         "modified": "2021-08-19T09:48:47.333Z",
         "name": "81",
         "routeSections": [],
         "serviceTypes": [
          {
           "$type": "Tfl.Api.Presentation.Entities.LineServiceTypeInfo, Tfl.Api.Presentation.Entities",
           "name": "Regular",
           "uri": "/Line/Route?ids=81&serviceTypes=Regular"
          }
         ]
        },
        {
         "$type": "Tfl.Api.Presentation.Entities.Line, Tfl.Api.Presentation.Entities",
         "created": "2021-08-19T09:48:47.347Z",
         "crowding": {
          "$type": "Tfl.Api.Presentation.Entities.Crowding, Tfl.Api.Presentation.Entities"
         },
         "disruptions": [],
         "id": "h91",
         "lineStatuses": [
          {
           "$type": "Tfl.Api.Presentation.Entities.LineStatus, Tfl.Api.Presentation.Entities",
           "created": "0001-01-01T00:00:00",
           "disruption": {
            "$type": "Tfl.Api.Presentation.Entities.Disruption, Tfl.Api.Presentation.Entities",
            "affectedRoutes": [],
            "affectedStops": [],
            "category": "PlannedWork",
            "categoryDescription": "PlannedWork",
            "closureText": "busService",
            "created": "2021-07-12T15:11:00Z",
            "description": "A4 Great West Road, W4: ROUTE H91 is on diversion missing stops on A4 Great West Road in both directions between M4 Gunnersbury Roundabout and Ealing Road due to M4 and A4 maintenance works."
           },
           "id": 0,
           "lineId": "h91",
           "reason": "A4 Great West Road, W4: ROUTE H91 is on diversion missing stops on A4 Great West Road in both directions between M4 Gunnersbury Roundabout and Ealing Road due to M4 and A4 maintenance works.",
           "statusSeverity": 8,
           "statusSeverityDescription": "Bus Service",
           "validityPeriods": [
            {
             "$type": "Tfl.Api.Presentation.Entities.ValidityPeriod, Tfl.Api.Presentation.Entities",
             "fromDate": "2021-07-23T22:00:00Z",
             "isNow": false,
             "toDate": "2021-08-21T05:00:00Z"
            }
           ]
          }
         ],
         "modeName": "bus",
         "modified": "2021-08-19T09:48:47.347Z",
         "name": "H91",
         "routeSections": [],
         "serviceTypes": [
          {
           "$type": "Tfl.Api.Presentation.Entities.LineServiceTypeInfo, Tfl.Api.Presentation.Entities",
           "name": "Regular",
           "uri": "/Line/Route?ids=H91&serviceTypes=Regular"
          }
         ]
        },
        {
         "$type": "Tfl.Api.Presentation.Entities.Line, Tfl.Api.Presentation.Entities",
         "created": "2021-08-19T09:48:47.333Z",
         "crowding": {
          "$type": "Tfl.Api.Presentation.Entities.Crowding, Tfl.Api.Presentation.Entities"
         },
         "disruptions": [],
         "id": "h98",
         "lineStatuses": [
          {
           "$type": "Tfl.Api.Presentation.Entities.LineStatus, Tfl.Api.Presentation.Entities",
           "created": "0001-01-01T00:00:00",
           "id": 0,
           "statusSeverity": 10,
           "statusSeverityDescription": "Good Service",
           "validityPeriods": []
          }
         ],
         "modeName": "bus",
         "modified": "2021-08-19T09:48:47.333Z",
         "name": "H98",
         "routeSections": [],
         "serviceTypes": [
          {
           "$type": "Tfl.Api.Presentation.Entities.LineServiceTypeInfo, Tfl.Api.Presentation.Entities",
           "name": "Regular",
           "uri": "/Line/Route?ids=H98&serviceTypes=Regular"
          }
         ]
        },
        {
         "$type": "Tfl.Api.Presentation.Entities.Line, Tfl.Api.Presentation.Entities",
         "created": "2021-08-19T09:48:47.363Z",
         "crowding": {
          "$type": "Tfl.Api.Presentation.Entities.Crowding, Tfl.Api.Presentation.Entities"
         },
         "disruptions": [],
         "id": "n550",
         "lineStatuses": [
          {
           "$type": "Tfl.Api.Presentation.Entities.LineStatus, Tfl.Api.Presentation.Entities",
           "created": "0001-01-01T00:00:00",
           "disruption": {
            "$type": "Tfl.Api.Presentation.Entities.Disruption, Tfl.Api.Presentation.Entities",
            "affectedRoutes": [],
            "affectedStops": [],
            "category": "PlannedWork",
            "categoryDescription": "PlannedWork",
            "created": "2021-07-22T11:32:00Z",
            "description": "LEADENHALL STREET: From 20:00 - 05:00 on the weeknights starting on Monday 26 July and ending on Friday 17 September, routes 25 N25 and N550 are on diversion from Aldgate Station to Bank Station to facilitate delivery of building material. Buses will miss the stops St Katharine Cree, St Mary Axe and Bank Station/Cornhill."
           },
           "id": 0,
           "lineId": "n550",
           "reason": "LEADENHALL STREET: From 20:00 - 05:00 on the weeknights starting on Monday 26 July and ending on Friday 17 September, routes 25 N25 and N550 are on diversion from Aldgate Station to Bank Station to facilitate delivery of building material. Buses will miss the stops St Katharine Cree, St Mary Axe and Bank Station/Cornhill.",
           "statusSeverity": 0,
           "statusSeverityDescription": "Special Service",
           "validityPeriods": [
            {
             "$type": "Tfl.Api.Presentation.Entities.ValidityPeriod, Tfl.Api.Presentation.Entities",
             "fromDate": "2021-08-20T20:00:00Z",
             "isNow": false,
             "toDate": "2021-08-20T23:59:00Z"
            }
           ]
          }
         ],
         "modeName": "bus",
         "modified": "2021-08-19T09:48:47.363Z",
         "name": "N550",
         "routeSections": [],
         "serviceTypes": [
          {
           "$type": "Tfl.Api.Presentation.Entities.LineServiceTypeInfo, Tfl.Api.Presentation.Entities",
           "name": "Regular",
           "uri": "/Line/Route?ids=N550&serviceTypes=Regular"
          }
         ]
        },
        {
         "$type": "Tfl.Api.Presentation.Entities.Line, Tfl.Api.Presentation.Entities",
         "created": "2021-08-19T09:48:47.363Z",
         "crowding": {
          "$type": "Tfl.Api.Presentation.Entities.Crowding, Tfl.Api.Presentation.Entities"
         },
         "disruptions": [],
         "id": "n551",
         "lineStatuses": [
          {
           "$type": "Tfl.Api.Presentation.Entities.LineStatus, Tfl.Api.Presentation.Entities",
           "created": "0001-01-01T00:00:00",
           "disruption": {
            "$type": "Tfl.Api.Presentation.Entities.Disruption, Tfl.Api.Presentation.Entities",
            "affectedRoutes": [],
            "affectedStops": [],
            "category": "PlannedWork",
            "categoryDescription": "PlannedWork",
            "created": "2021-07-26T19:35:00Z",
            "description": "QUEEN VICTORIA STREET, EC4N: Until Sunday 15 August, Routes N550 and N551 towards Aldgate are on diversion due to emergency gas works. There is no service between Mansion House Station (ME) and Bank Station / Queen Victoria Street (MD)."
           },
           "id": 0,
           "lineId": "n551",
           "reason": "QUEEN VICTORIA STREET, EC4N: Until Sunday 15 August, Routes N550 and N551 towards Aldgate are on diversion due to emergency gas works. There is no service between Mansion House Station (ME) and Bank Station / Queen Victoria Street (MD).",
           "statusSeverity": 0,
           "statusSeverityDescription": "Special Service",
           "validityPeriods": [
            {
             "$type": "Tfl.Api.Presentation.Entities.ValidityPeriod, Tfl.Api.Presentation.Entities",
             "fromDate": "2021-05-25T14:00:00Z",
             "isNow": false,
             "toDate": "2021-09-10T15:00:00Z"
            }
           ]
          }
         ],
         "modeName": "bus",
         "modified": "2021-08-19T09:48:47.363Z",
         "name": "N551",
         "routeSections": [],
         "serviceTypes": [
          {
           "$type": "Tfl.Api.Presentation.Entities.LineServiceTypeInfo, Tfl.Api.Presentation.Entities",
           "name": "Regular",
           "uri": "/Line/Route?ids=N551&serviceTypes=Regular"
          }
         ]
        },
        {
         "$type": "Tfl.Api.Presentation.Entities.Line, Tfl.Api.Presentation.Entities",
         "created": "2021-08-19T09:48:47.347Z",
         "crowding": {
          "$type": "Tfl.Api.Presentation.Entities.Crowding, Tfl.Api.Presentation.Entities"
         },
         "disruptions": [],
         "id": "n9",
         "lineStatuses": [
          {
           "$type": "Tfl.Api.Presentation.Entities.LineStatus, Tfl.Api.Presentation.Entities",
           "created": "0001-01-01T00:00:00",
           "disruption": {
            "$type": "Tfl.Api.Presentation.Entities.Disruption, Tfl.Api.Presentation.Entities",
            "affectedRoutes": [],
            "affectedStops": [],
            "category": "PlannedWork",
            "categoryDescription": "PlannedWork",
            "created": "2021-08-16T06:50:00Z",
            "description": "KENSINGTON HIGH STREET: From 21:00 - 05:00 nightly, starting on Thursday 19 August and ending on Saturday 21 August, routes 9 23 and N9 are on diversion from Kensington Olympia to Kensington Palace due to roadworks. Buses towards Hyde Park Corner will miss stops from Holland Road to High Street Kensington Station. Buses towards Hammersmith will miss stops from High Street Kensington Station to Warwick Gardens. Buses are diverted via Holland Road, Holland Park Avenue, Notting Hill Gate and Kensington Church Street."
           },
           "id": 0,
           "lineId": "n9",
           "reason": "KENSINGTON HIGH STREET: From 21:00 - 05:00 nightly, starting on Thursday 19 August and ending on Saturday 21 August, routes 9 23 and N9 are on diversion from Kensington Olympia to Kensington Palace due to roadworks. Buses towards Hyde Park Corner will miss stops from Holland Road to High Street Kensington Station. Buses towards Hammersmith will miss stops from High Street Kensington Station to Warwick Gardens. Buses are diverted via Holland Road, Holland Park Avenue, Notting Hill Gate and Kensington Church Street.",
           "statusSeverity": 0,
           "statusSeverityDescription": "Special Service",
           "validityPeriods": [
            {
             "$type": "Tfl.Api.Presentation.Entities.ValidityPeriod, Tfl.Api.Presentation.Entities",
             "fromDate": "2021-08-20T21:00:00Z",
             "isNow": false,
             "toDate": "2021-08-20T23:59:00Z"
            }
           ]
          }
         ],
         "modeName": "bus",
         "modified": "2021-08-19T09:48:47.347Z",
         "name": "N9",
         "routeSections": [],
         "serviceTypes": [
          {
           "$type": "Tfl.Api.Presentation.Entities.LineServiceTypeInfo, Tfl.Api.Presentation.Entities",
           "name": "Regular",
           "uri": "/Line/Route?ids=N9&serviceTypes=Regular"
          }
         ]
        },
        {
         "$type": "Tfl.Api.Presentation.Entities.Line, Tfl.Api.Presentation.Entities",
         "created": "2021-08-19T09:48:47.347Z",
         "crowding": {
          "$type": "Tfl.Api.Presentation.Entities.Crowding, Tfl.Api.Presentation.Entities"
         },
         "disruptions": [],
         "id": "x140",
         "lineStatuses": [
          {
           "$type": "Tfl.Api.Presentation.Entities.LineStatus, Tfl.Api.Presentation.Entities",
           "created": "0001-01-01T00:00:00",
           "id": 0,
           "statusSeverity": 10,
           "statusSeverityDescription": "Good Service",
           "validityPeriods": []
          }
         ],
         "modeName": "bus",
         "modified": "2021-08-19T09:48:47.347Z",
         "name": "X140",
         "routeSections": [],
         "serviceTypes": [
          {
           "$type": "Tfl.Api.Presentation.Entities.LineServiceTypeInfo, Tfl.Api.Presentation.Entities",
           "name": "Regular",
           "uri": "/Line/Route?ids=X140&serviceTypes=Regular"
          }
         ]
        }
       ],
       "recommendedMaxAgeMinutes": 5,
       "searchCriteria": {
        "$type": "Tfl.Api.Presentation.Entities.JourneyPlanner.SearchCriteria, Tfl.Api.Presentation.Entities",
        "dateTime": "2021-08-21T01:43:00",
        "dateTimeType": "Departing",
        "timeAdjustments": {
         "$type": "Tfl.Api.Presentation.Entities.JourneyPlanner.TimeAdjustments, Tfl.Api.Presentation.Entities",
         "earlier": {
          "$type": "Tfl.Api.Presentation.Entities.JourneyPlanner.TimeAdjustment, Tfl.Api.Presentation.Entities",
          "date": "20210820",
          "time": "2203",
          "timeIs": "departing",
          "uri": "/journey/journeyresults/hillingdon,%20heathrow%20airport%20terminal%203%20arrivals/to/city%20of%20london,%20tower%20bridge?mode=bus&time=2203&date=20210820&timeIs=departing"
         },
         "earliest": {
          "$type": "Tfl.Api.Presentation.Entities.JourneyPlanner.TimeAdjustment, Tfl.Api.Presentation.Entities",
          "date": "20210821",
          "time": "0300",
          "timeIs": "departing",
          "uri": "/journey/journeyresults/hillingdon,%20heathrow%20airport%20terminal%203%20arrivals/to/city%20of%20london,%20tower%20bridge?mode=bus&time=0300&date=20210821&timeIs=departing"
         },
         "later": {
          "$type": "Tfl.Api.Presentation.Entities.JourneyPlanner.TimeAdjustment, Tfl.Api.Presentation.Entities",
          "date": "20210821",
          "time": "0250",
          "timeIs": "departing",
          "uri": "/journey/journeyresults/hillingdon,%20heathrow%20airport%20terminal%203%20arrivals/to/city%20of%20london,%20tower%20bridge?mode=bus&time=0250&date=20210821&timeIs=departing"
         },
         "latest": {
          "$type": "Tfl.Api.Presentation.Entities.JourneyPlanner.TimeAdjustment, Tfl.Api.Presentation.Entities",
          "date": "20210822",
          "time": "0300",
          "timeIs": "departing",
          "uri": "/journey/journeyresults/hillingdon,%20heathrow%20airport%20terminal%203%20arrivals/to/city%20of%20london,%20tower%20bridge?mode=bus&time=0300&date=20210822&timeIs=departing"
         }
        }
       },
       "stopMessages": []
      },
      "text/plain": [
       "<IPython.core.display.JSON object>"
      ]
     },
     "execution_count": 30,
     "metadata": {
      "application/json": {
       "expanded": false,
       "root": "root"
      }
     },
     "output_type": "execute_result"
    }
   ],
   "source": [
    "JSON(plan_bus)"
   ]
  },
  {
   "cell_type": "code",
   "execution_count": null,
   "metadata": {},
   "outputs": [],
   "source": [
    " \"940GZZLUHRC\" City of London, Tower Bridge\n",
    "commonName: \"Heathrow Terminals 2 & 3 Underground Station\"\n",
    "    Heathrow Airport, Heathrow, Terminal 2 Arrivals\n",
    "    \n",
    "    https://api.tfl.gov.uk/Journey/JourneyResults/Heathrow%20Airport%2C%20Heathrow%2C%20Terminal%202%20Arrivals/to/City%20of%20London%2C%20Tower%20Bridge?mode=bus"
   ]
  },
  {
   "cell_type": "code",
   "execution_count": 33,
   "metadata": {},
   "outputs": [
    {
     "ename": "SyntaxError",
     "evalue": "invalid syntax (<ipython-input-33-fd071f345e71>, line 1)",
     "output_type": "error",
     "traceback": [
      "\u001b[0;36m  File \u001b[0;32m\"<ipython-input-33-fd071f345e71>\"\u001b[0;36m, line \u001b[0;32m1\u001b[0m\n\u001b[0;31m    https://api.tfl.gov.uk/Journey/JourneyResults/Heathrow%20Terminals%202%20%26%203%20Underground%20Station/to/Tower%20Bridge\u001b[0m\n\u001b[0m          ^\u001b[0m\n\u001b[0;31mSyntaxError\u001b[0m\u001b[0;31m:\u001b[0m invalid syntax\n"
     ]
    }
   ],
   "source": [
    "https://api.tfl.gov.uk/Journey/JourneyResults/Heathrow%20Terminals%202%20%26%203%20Underground%20Station/to/Tower%20Bridge\n",
    "    \n",
    "    https://api.tfl.gov.uk/Journey/JourneyResults/Heathrow%20Airport%2C%20Heathrow%2C%20Terminal%202%20Arrivals/to/City%20of%20London%2C%20Tower%20Bridge?mode=bus"
   ]
  },
  {
   "cell_type": "code",
   "execution_count": 34,
   "metadata": {},
   "outputs": [
    {
     "ename": "SyntaxError",
     "evalue": "invalid syntax (<ipython-input-34-7aded8436ae7>, line 1)",
     "output_type": "error",
     "traceback": [
      "\u001b[0;36m  File \u001b[0;32m\"<ipython-input-34-7aded8436ae7>\"\u001b[0;36m, line \u001b[0;32m1\u001b[0m\n\u001b[0;31m    https://api.tfl.gov.uk/Journey/JourneyResults/Heathrow%20Terminals%202%20%26%203%20Underground%20Station/to/Tower%20Bridge?via=tube\u001b[0m\n\u001b[0m          ^\u001b[0m\n\u001b[0;31mSyntaxError\u001b[0m\u001b[0;31m:\u001b[0m invalid syntax\n"
     ]
    }
   ],
   "source": [
    "https://api.tfl.gov.uk/Journey/JourneyResults/Heathrow%20Terminals%202%20%26%203%20Underground%20Station/to/Tower%20Bridge?via=tube\n",
    "https://api.tfl.gov.uk/Journey/JourneyResults/Heathrow%20Terminals%202%20%26%203%20Underground%20Station/to/Tower%20Bridge?via=bus\n",
    "    \n",
    "    \n",
    "https://api.tfl.gov.uk/Journey/JourneyResults/Heathrow%20Terminals%202%20%26%203%20Underground%20Station/to/Tower%20Bridge?mode=bus\n",
    "https://api.tfl.gov.uk/Journey/JourneyResults/Heathrow%20Terminals%202%20%26%203%20Underground%20Station/to/Tower%20Bridge?mode=tube"
   ]
  },
  {
   "cell_type": "code",
   "execution_count": null,
   "metadata": {},
   "outputs": [],
   "source": []
  }
 ],
 "metadata": {
  "kernelspec": {
   "display_name": "Python 3",
   "language": "python",
   "name": "python3"
  },
  "language_info": {
   "codemirror_mode": {
    "name": "ipython",
    "version": 3
   },
   "file_extension": ".py",
   "mimetype": "text/x-python",
   "name": "python",
   "nbconvert_exporter": "python",
   "pygments_lexer": "ipython3",
   "version": "3.8.5"
  }
 },
 "nbformat": 4,
 "nbformat_minor": 4
}
